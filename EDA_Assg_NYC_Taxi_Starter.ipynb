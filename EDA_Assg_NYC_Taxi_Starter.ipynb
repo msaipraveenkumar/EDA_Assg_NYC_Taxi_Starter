{
  "cells": [
    {
      "cell_type": "markdown",
      "metadata": {
        "id": "view-in-github",
        "colab_type": "text"
      },
      "source": [
        "<a href=\"https://colab.research.google.com/github/msaipraveenkumar/EDA_Assg_NYC_Taxi_Starter/blob/main/EDA_Assg_NYC_Taxi_Starter.ipynb\" target=\"_parent\"><img src=\"https://colab.research.google.com/assets/colab-badge.svg\" alt=\"Open In Colab\"/></a>"
      ]
    },
    {
      "cell_type": "markdown",
      "metadata": {
        "id": "ZQl5n2IOuafL"
      },
      "source": [
        "# **New York City Yellow Taxi Data**"
      ]
    },
    {
      "cell_type": "markdown",
      "metadata": {
        "id": "DGQVIB4mEFrZ"
      },
      "source": [
        "## Objective\n",
        "In this case study you will be learning exploratory data analysis (EDA) with the help of a dataset on yellow taxi rides in New York City. This will enable you to understand why EDA is an important step in the process of data science and machine learning."
      ]
    },
    {
      "cell_type": "markdown",
      "metadata": {
        "id": "YJVMenVllLUL"
      },
      "source": [
        "## **Problem Statement**\n",
        "As an analyst at an upcoming taxi operation in NYC, you are tasked to use the 2023 taxi trip data to uncover insights that could help optimise taxi operations. The goal is to analyse patterns in the data that can inform strategic decisions to improve service efficiency, maximise revenue, and enhance passenger experience."
      ]
    },
    {
      "cell_type": "markdown",
      "metadata": {
        "id": "-OVfUMlHFkZD"
      },
      "source": [
        "## Tasks\n",
        "You need to perform the following steps for successfully completing this assignment:\n",
        "1. Data Loading\n",
        "2. Data Cleaning\n",
        "3. Exploratory Analysis: Bivariate and Multivariate\n",
        "4. Creating Visualisations to Support the Analysis\n",
        "5. Deriving Insights and Stating Conclusions"
      ]
    },
    {
      "cell_type": "markdown",
      "metadata": {
        "id": "gTxV-3GJUhWm"
      },
      "source": [
        "---"
      ]
    },
    {
      "cell_type": "markdown",
      "metadata": {
        "id": "ofebI8ITG-Li"
      },
      "source": [
        "**NOTE:** The marks given along with headings and sub-headings are cumulative marks for those particular headings/sub-headings.<br>\n",
        "\n",
        "The actual marks for each task are specified within the tasks themselves.\n",
        "\n",
        "For example, marks given with heading *2* or sub-heading *2.1* are the cumulative marks, for your reference only. <br>\n",
        "\n",
        "The marks you will receive for completing tasks are given with the tasks.\n",
        "\n",
        "Suppose the marks for two tasks are: 3 marks for 2.1.1 and 2 marks for 3.2.2, or\n",
        "* 2.1.1 [3 marks]\n",
        "* 3.2.2 [2 marks]\n",
        "\n",
        "then, you will earn 3 marks for completing task 2.1.1 and 2 marks for completing task 3.2.2.\n"
      ]
    },
    {
      "cell_type": "markdown",
      "metadata": {
        "id": "YdQjht7dUiHt"
      },
      "source": [
        "---"
      ]
    },
    {
      "cell_type": "markdown",
      "metadata": {
        "id": "0eaCZjHIvfuI"
      },
      "source": [
        "## Data Understanding\n",
        "The yellow taxi trip records include fields capturing pick-up and drop-off dates/times, pick-up and drop-off locations, trip distances, itemized fares, rate types, payment types, and driver-reported passenger counts.\n",
        "\n",
        "The data is stored in Parquet format (*.parquet*). The dataset is from 2009 to 2024. However, for this assignment, we will only be using the data from 2023.\n",
        "\n",
        "The data for each month is present in a different parquet file. You will get twelve files for each of the months in 2023.\n",
        "\n",
        "The data was collected and provided to the NYC Taxi and Limousine Commission (TLC) by technology providers like vendors and taxi hailing apps. <br>\n",
        "\n",
        "You can find the link to the TLC trip records page here: https://www.nyc.gov/site/tlc/about/tlc-trip-record-data.page"
      ]
    },
    {
      "cell_type": "markdown",
      "metadata": {
        "id": "LI6qC5IDxZU1"
      },
      "source": [
        "###  Data Description\n",
        "You can find the data description here: [Data Dictionary](https://www.nyc.gov/assets/tlc/downloads/pdf/data_dictionary_trip_records_yellow.pdf)"
      ]
    },
    {
      "cell_type": "markdown",
      "metadata": {
        "id": "FafCzrDuxHg2"
      },
      "source": [
        "**Trip Records**\n",
        "\n",
        "\n",
        "\n",
        "|Field Name       |description |\n",
        "|:----------------|:-----------|\n",
        "| VendorID | A code indicating the TPEP provider that provided the record. <br> 1= Creative Mobile Technologies, LLC; <br> 2= VeriFone Inc. |\n",
        "| tpep_pickup_datetime | The date and time when the meter was engaged.  |\n",
        "| tpep_dropoff_datetime | The date and time when the meter was disengaged.   |\n",
        "| Passenger_count | The number of passengers in the vehicle. <br> This is a driver-entered value. |\n",
        "| Trip_distance | The elapsed trip distance in miles reported by the taximeter. |\n",
        "| PULocationID | TLC Taxi Zone in which the taximeter was engaged |\n",
        "| DOLocationID | TLC Taxi Zone in which the taximeter was disengaged |\n",
        "|RateCodeID |The final rate code in effect at the end of the trip.<br> 1 = Standard rate <br> 2 = JFK <br> 3 = Newark <br>4 = Nassau or Westchester <br>5 = Negotiated fare <br>6 = Group ride |\n",
        "|Store_and_fwd_flag |This flag indicates whether the trip record was held in vehicle memory before sending to the vendor, aka “store and forward,” because the vehicle did not have a connection to the server.  <br>Y= store and forward trip <br>N= not a store and forward trip |\n",
        "|Payment_type| A numeric code signifying how the passenger paid for the trip. <br> 1 = Credit card <br>2 = Cash <br>3 = No charge <br>4 = Dispute <br>5 = Unknown <br>6 = Voided trip |\n",
        "|Fare_amount| The time-and-distance fare calculated by the meter. <br>Extra Miscellaneous extras and surcharges.  Currently, this only includes the 0.50 and 1 USD rush hour and overnight charges. |\n",
        "|MTA_tax |0.50 USD MTA tax that is automatically triggered based on the metered rate in use. |\n",
        "|Improvement_surcharge | 0.30 USD improvement surcharge assessed trips at the flag drop. The improvement surcharge began being levied in 2015. |\n",
        "|Tip_amount |Tip amount – This field is automatically populated for credit card tips. Cash tips are not included. |\n",
        "| Tolls_amount | Total amount of all tolls paid in trip.  |\n",
        "| total_amount | The total amount charged to passengers. Does not include cash tips. |\n",
        "|Congestion_Surcharge |Total amount collected in trip for NYS congestion surcharge. |\n",
        "| Airport_fee | 1.25 USD for pick up only at LaGuardia and John F. Kennedy Airports|\n",
        "\n",
        "Although the amounts of extra charges and taxes applied are specified in the data dictionary, you will see that some cases have different values of these charges in the actual data."
      ]
    },
    {
      "cell_type": "markdown",
      "metadata": {
        "id": "mL-FWYFnVEdE"
      },
      "source": [
        "**Taxi Zones**\n",
        "\n",
        "Each of the trip records contains a field corresponding to the location of the pickup or drop-off of the trip, populated by numbers ranging from 1-263.\n",
        "\n",
        "These numbers correspond to taxi zones, which may be downloaded as a table or map/shapefile and matched to the trip records using a join.\n",
        "\n",
        "This is covered in more detail in later sections."
      ]
    },
    {
      "cell_type": "markdown",
      "metadata": {
        "id": "z66W3s51U0gF"
      },
      "source": [
        "---"
      ]
    },
    {
      "cell_type": "markdown",
      "metadata": {
        "id": "Kw-WRzBfyS7j"
      },
      "source": [
        "## **1** Data Preparation\n",
        "\n",
        "<font color = red>[5 marks]</font> <br>"
      ]
    },
    {
      "cell_type": "markdown",
      "metadata": {
        "id": "nM2X-s6lycvQ"
      },
      "source": [
        "### Import Libraries"
      ]
    },
    {
      "cell_type": "code",
      "execution_count": null,
      "metadata": {
        "id": "juReqsAzEdW3"
      },
      "outputs": [],
      "source": [
        "# Import warnings\n",
        "\n",
        "import warnings\n",
        "warnings.filterwarnings('ignore')"
      ]
    },
    {
      "cell_type": "code",
      "execution_count": 4,
      "metadata": {
        "id": "3XZjOlJiy1dr"
      },
      "outputs": [],
      "source": [
        "# Import the libraries you will be using for analysis\n",
        "import numpy as np\n",
        "import pandas as pd\n",
        "import matplotlib.pyplot as plt\n",
        "import seaborn as sns\n"
      ]
    },
    {
      "cell_type": "code",
      "execution_count": null,
      "metadata": {
        "id": "NsH5LNrSgW9q",
        "colab": {
          "base_uri": "https://localhost:8080/"
        },
        "outputId": "2c298a94-1c7e-472b-8970-b677efad532b"
      },
      "outputs": [
        {
          "output_type": "stream",
          "name": "stdout",
          "text": [
            "numpy version: 2.0.2\n",
            "pandas version: 2.2.2\n",
            "matplotlib version: 3.10.0\n",
            "seaborn version: 0.13.2\n"
          ]
        }
      ],
      "source": [
        "# Recommended versions\n",
        "# numpy version: 1.26.4\n",
        "# pandas version: 2.2.2\n",
        "# matplotlib version: 3.10.0\n",
        "# seaborn version: 0.13.2\n",
        "\n",
        "# Check versions\n",
        "print(\"numpy version:\", np.__version__)\n",
        "print(\"pandas version:\", pd.__version__)\n",
        "print(\"matplotlib version:\", plt.matplotlib.__version__)\n",
        "print(\"seaborn version:\", sns.__version__)"
      ]
    },
    {
      "cell_type": "markdown",
      "metadata": {
        "id": "NgHgbPIepaYl"
      },
      "source": [
        "### **1.1** Load the dataset\n",
        "<font color = red>[5 marks]</font> <br>"
      ]
    },
    {
      "cell_type": "markdown",
      "metadata": {
        "id": "KrGluF_gpeHs"
      },
      "source": [
        "You will see twelve files, one for each month.\n",
        "\n",
        "To read parquet files with Pandas, you have to follow a similar syntax as that for CSV files.\n",
        "\n",
        "`df = pd.read_parquet('file.parquet')`"
      ]
    },
    {
      "cell_type": "code",
      "execution_count": 115,
      "metadata": {
        "id": "kIpIsuSSzCp9",
        "colab": {
          "base_uri": "https://localhost:8080/"
        },
        "outputId": "d89daba1-3206-4e0f-8206-2b870c9fd4b6"
      },
      "outputs": [
        {
          "output_type": "stream",
          "name": "stdout",
          "text": [
            "<class 'pandas.core.frame.DataFrame'>\n",
            "Index: 3041714 entries, 0 to 3066765\n",
            "Data columns (total 19 columns):\n",
            " #   Column                 Dtype         \n",
            "---  ------                 -----         \n",
            " 0   VendorID               int64         \n",
            " 1   tpep_pickup_datetime   datetime64[us]\n",
            " 2   tpep_dropoff_datetime  datetime64[us]\n",
            " 3   passenger_count        float64       \n",
            " 4   trip_distance          float64       \n",
            " 5   RatecodeID             float64       \n",
            " 6   store_and_fwd_flag     object        \n",
            " 7   PULocationID           int64         \n",
            " 8   DOLocationID           int64         \n",
            " 9   payment_type           int64         \n",
            " 10  fare_amount            float64       \n",
            " 11  extra                  float64       \n",
            " 12  mta_tax                float64       \n",
            " 13  tip_amount             float64       \n",
            " 14  tolls_amount           float64       \n",
            " 15  improvement_surcharge  float64       \n",
            " 16  total_amount           float64       \n",
            " 17  congestion_surcharge   float64       \n",
            " 18  airport_fee            float64       \n",
            "dtypes: datetime64[us](2), float64(12), int64(4), object(1)\n",
            "memory usage: 464.1+ MB\n"
          ]
        }
      ],
      "source": [
        "# Try loading one file\n",
        "\n",
        "# df = pd.read_parquet('2023-1.parquet')\n",
        "# df.info()\n",
        "df=pd.read_parquet('/content/sample_data/Trip_data/2023-1.parquet')\n",
        "df.info()"
      ]
    },
    {
      "cell_type": "markdown",
      "metadata": {
        "id": "eh-keWIyqcyr"
      },
      "source": [
        "How many rows are there? Do you think handling such a large number of rows is computationally feasible when we have to combine the data for all twelve months into one?\n",
        "\n",
        "To handle this, we need to sample a fraction of data from each of the files. How to go about that? Think of a way to select only some portion of the data from each month's file that accurately represents the trends."
      ]
    },
    {
      "cell_type": "markdown",
      "metadata": {
        "id": "zHx7lh_3QGmj"
      },
      "source": [
        "#### Sampling the Data\n",
        "> One way is to take a small percentage of entries for pickup in every hour of a date. So, for all the days in a month, we can iterate through the hours and select 5% values randomly from those. Use `tpep_pickup_datetime` for this. Separate date and hour from the datetime values and then for each date, select some fraction of trips for each of the 24 hours.\n",
        "\n",
        "To sample data, you can use the `sample()` method. Follow this syntax:\n",
        "\n",
        "```Python\n",
        "# sampled_data is an empty DF to keep appending sampled data of each hour\n",
        "# hour_data is the DF of entries for an hour 'X' on a date 'Y'\n",
        "\n",
        "sample = hour_data.sample(frac = 0.05, random_state = 42)\n",
        "# sample 0.05 of the hour_data\n",
        "# random_state is just a seed for sampling, you can define it yourself\n",
        "\n",
        "sampled_data = pd.concat([sampled_data, sample]) # adding data for this hour to the DF\n",
        "```\n",
        "\n",
        "This *sampled_data* will contain 5% values selected at random from each hour.\n",
        "\n",
        "Note that the code given above is only the part that will be used for sampling and not the complete code required for sampling and combining the data files.\n",
        "\n",
        "Keep in mind that you sample by date AND hour, not just hour. (Why?)"
      ]
    },
    {
      "cell_type": "markdown",
      "metadata": {
        "id": "3zog80nsqvKp"
      },
      "source": [
        "---"
      ]
    },
    {
      "cell_type": "markdown",
      "metadata": {
        "id": "Fp24-wpQrlC5"
      },
      "source": [
        "**1.1.1** <font color = red>[5 marks]</font> <br>\n",
        "Figure out how to sample and combine the files."
      ]
    },
    {
      "cell_type": "markdown",
      "metadata": {
        "id": "vRGOnciGOvq0"
      },
      "source": [
        "**Note:** It is not mandatory to use the method specified above. While sampling, you only need to make sure that your sampled data represents the overall data of all the months accurately."
      ]
    },
    {
      "cell_type": "code",
      "execution_count": null,
      "metadata": {
        "id": "3cpuzPFvP2iC"
      },
      "outputs": [],
      "source": [
        "# Sample the data\n",
        "# It is recommmended to not load all the files at once to avoid memory overload"
      ]
    },
    {
      "cell_type": "code",
      "execution_count": null,
      "metadata": {
        "id": "h3x5bCWmarTO",
        "colab": {
          "base_uri": "https://localhost:8080/"
        },
        "outputId": "b954ac4d-fc48-4c96-c929-7af697ae7419"
      },
      "outputs": [
        {
          "output_type": "stream",
          "name": "stdout",
          "text": [
            "Mounted at /content/drive\n"
          ]
        }
      ],
      "source": [
        "# from google.colab import drive\n",
        "# drive.mount('/content/drive')\n",
        "from google.colab import drive\n",
        "drive.mount('/content/drive')"
      ]
    },
    {
      "cell_type": "code",
      "execution_count": null,
      "metadata": {
        "id": "t1EXP0PHzPs0"
      },
      "outputs": [],
      "source": [
        "# Take a small percentage of entries from each hour of every date.\n",
        "# Iterating through the monthly data:\n",
        "#   read a month file -> day -> hour: append sampled data -> move to next hour -> move to next day after 24 hours -> move to next month file\n",
        "# Create a single dataframe for the year combining all the monthly data\n",
        "\n",
        "# Select the folder having data files\n",
        "import os\n",
        "\n",
        "# Select the folder having data files\n",
        "os.chdir('/content/sample_data/Trip_data')\n",
        "\n",
        "# Create a list of all the twelve files to read\n",
        "file_list = os.listdir()\n",
        "\n",
        "# initialise an empty dataframe\n",
        "df = pd.DataFrame()\n",
        "\n",
        "\n",
        "# iterate through the list of files and sample one by one:\n",
        "for file_name in file_list:\n",
        "  try:\n",
        "    # file path for the current file\n",
        "    file_path = os.path.join(os.getcwd(), file_name)\n",
        "\n",
        "    # Reading the current file\n",
        "    temp_data=pd.read_parquet(file_path)\n",
        "\n",
        "\n",
        "\n",
        "    # We will store the sampled data for the current date in this df by appending the sampled data from each hour to this\n",
        "    # After completing iteration through each date, we will append this data to the final dataframe.\n",
        "\n",
        "\n",
        "    # Loop through dates and then loop through every hour of each date\n",
        "    for hour in range(24):\n",
        "      # Iterate through each hour of the selected date\n",
        "      hour_data = temp_data[temp_data['tpep_pickup_datetime'].dt.hour == hour]\n",
        "\n",
        "      # Sample 5% of the hourly data randomly\n",
        "    sampled_hour = hour_data.sample(frac=0.05, random_state=42)\n",
        "\n",
        "      # Append the sampled data to the sampled_data dataframe\n",
        "    sampled_data = pd.concat([sampled_data, sampled_hour])\n",
        "\n",
        "      # add data of this hour to the dataframe\n",
        "      # Concatenate the sampled data of all the dates to a single dataframe\n",
        "    df = pd.concat([df, sampled_data])# we initialised this empty DF earlier\n",
        "\n",
        "  except Exception as e:\n",
        "    print(f\"Error reading file {file_name}: {e}\")"
      ]
    },
    {
      "cell_type": "markdown",
      "metadata": {
        "id": "Sej6pZkzw2AK"
      },
      "source": [
        "After combining the data files into one DataFrame, convert the new DataFrame to a CSV or parquet file and store it to use directly.\n",
        "\n",
        "Ideally, you can try keeping the total entries to around 250,000 to 300,000."
      ]
    },
    {
      "cell_type": "code",
      "execution_count": 8,
      "metadata": {
        "id": "okaVAsdPxJow"
      },
      "outputs": [],
      "source": [
        "# Store the df in csv/parquet\n",
        "# df.to_parquet('')\n",
        "df.to_parquet('/content/sample_data/Trip_data/NYC_Taxi_sampled_data.parquet')"
      ]
    },
    {
      "cell_type": "markdown",
      "metadata": {
        "id": "QaOS3H9izZ0N"
      },
      "source": [
        "## **2** Data Cleaning\n",
        "<font color = red>[30 marks]</font> <br>"
      ]
    },
    {
      "cell_type": "markdown",
      "metadata": {
        "id": "5y3PKWqhxRA9"
      },
      "source": [
        "Now we can load the new data directly."
      ]
    },
    {
      "cell_type": "code",
      "execution_count": 116,
      "metadata": {
        "id": "FOuOL0SDxQHd"
      },
      "outputs": [],
      "source": [
        "# Load the new data file\n",
        "df=pd.read_parquet('/content/sample_data/Trip_data/NYC_Taxi_sampled_data.parquet')\n"
      ]
    },
    {
      "cell_type": "code",
      "execution_count": 117,
      "metadata": {
        "id": "fbzmFKyn1780",
        "colab": {
          "base_uri": "https://localhost:8080/",
          "height": 226
        },
        "outputId": "0d98af41-2b32-4a17-b2cd-0ad21c858102"
      },
      "outputs": [
        {
          "output_type": "execute_result",
          "data": {
            "text/plain": [
              "         VendorID tpep_pickup_datetime tpep_dropoff_datetime  passenger_count  \\\n",
              "2373315         2  2023-11-21 23:07:22   2023-11-21 23:49:11              1.0   \n",
              "907694          2  2023-11-08 23:35:26   2023-11-08 23:59:14              1.0   \n",
              "788006          1  2023-11-07 23:53:47   2023-11-08 00:02:24              1.0   \n",
              "3226760         1  2023-11-04 23:42:25   2023-11-04 23:57:52              NaN   \n",
              "1154802         2  2023-11-10 23:55:12   2023-11-11 00:26:48              2.0   \n",
              "\n",
              "         trip_distance  RatecodeID store_and_fwd_flag  PULocationID  \\\n",
              "2373315          27.98         4.0                  N           132   \n",
              "907694            3.73         1.0                  N           114   \n",
              "788006            3.40         1.0                  N           132   \n",
              "3226760           2.00         NaN               None           161   \n",
              "1154802          15.30         1.0                  N           132   \n",
              "\n",
              "         DOLocationID  payment_type  fare_amount  extra  mta_tax  tip_amount  \\\n",
              "2373315           265             1        166.8   1.00      0.5       20.00   \n",
              "907694            143             1         23.3   1.00      0.5        4.00   \n",
              "788006            216             1         15.6   2.75      0.5        3.95   \n",
              "3226760           234             0         14.9   1.00      0.5        3.98   \n",
              "1154802           255             1         61.8   1.00      0.5       16.07   \n",
              "\n",
              "         tolls_amount  improvement_surcharge  total_amount  \\\n",
              "2373315           0.0                    1.0        191.05   \n",
              "907694            0.0                    1.0         32.30   \n",
              "788006            0.0                    1.0         23.80   \n",
              "3226760           0.0                    1.0         23.88   \n",
              "1154802           0.0                    1.0         82.12   \n",
              "\n",
              "         congestion_surcharge  Airport_fee  airport_fee  \n",
              "2373315                   0.0         1.75          NaN  \n",
              "907694                    2.5         0.00          NaN  \n",
              "788006                    0.0         1.75          NaN  \n",
              "3226760                   NaN          NaN          NaN  \n",
              "1154802                   0.0         1.75          NaN  "
            ],
            "text/html": [
              "\n",
              "  <div id=\"df-9d00b61d-3f62-4bcb-9098-dbfdf394aa16\" class=\"colab-df-container\">\n",
              "    <div>\n",
              "<style scoped>\n",
              "    .dataframe tbody tr th:only-of-type {\n",
              "        vertical-align: middle;\n",
              "    }\n",
              "\n",
              "    .dataframe tbody tr th {\n",
              "        vertical-align: top;\n",
              "    }\n",
              "\n",
              "    .dataframe thead th {\n",
              "        text-align: right;\n",
              "    }\n",
              "</style>\n",
              "<table border=\"1\" class=\"dataframe\">\n",
              "  <thead>\n",
              "    <tr style=\"text-align: right;\">\n",
              "      <th></th>\n",
              "      <th>VendorID</th>\n",
              "      <th>tpep_pickup_datetime</th>\n",
              "      <th>tpep_dropoff_datetime</th>\n",
              "      <th>passenger_count</th>\n",
              "      <th>trip_distance</th>\n",
              "      <th>RatecodeID</th>\n",
              "      <th>store_and_fwd_flag</th>\n",
              "      <th>PULocationID</th>\n",
              "      <th>DOLocationID</th>\n",
              "      <th>payment_type</th>\n",
              "      <th>fare_amount</th>\n",
              "      <th>extra</th>\n",
              "      <th>mta_tax</th>\n",
              "      <th>tip_amount</th>\n",
              "      <th>tolls_amount</th>\n",
              "      <th>improvement_surcharge</th>\n",
              "      <th>total_amount</th>\n",
              "      <th>congestion_surcharge</th>\n",
              "      <th>Airport_fee</th>\n",
              "      <th>airport_fee</th>\n",
              "    </tr>\n",
              "  </thead>\n",
              "  <tbody>\n",
              "    <tr>\n",
              "      <th>2373315</th>\n",
              "      <td>2</td>\n",
              "      <td>2023-11-21 23:07:22</td>\n",
              "      <td>2023-11-21 23:49:11</td>\n",
              "      <td>1.0</td>\n",
              "      <td>27.98</td>\n",
              "      <td>4.0</td>\n",
              "      <td>N</td>\n",
              "      <td>132</td>\n",
              "      <td>265</td>\n",
              "      <td>1</td>\n",
              "      <td>166.8</td>\n",
              "      <td>1.00</td>\n",
              "      <td>0.5</td>\n",
              "      <td>20.00</td>\n",
              "      <td>0.0</td>\n",
              "      <td>1.0</td>\n",
              "      <td>191.05</td>\n",
              "      <td>0.0</td>\n",
              "      <td>1.75</td>\n",
              "      <td>NaN</td>\n",
              "    </tr>\n",
              "    <tr>\n",
              "      <th>907694</th>\n",
              "      <td>2</td>\n",
              "      <td>2023-11-08 23:35:26</td>\n",
              "      <td>2023-11-08 23:59:14</td>\n",
              "      <td>1.0</td>\n",
              "      <td>3.73</td>\n",
              "      <td>1.0</td>\n",
              "      <td>N</td>\n",
              "      <td>114</td>\n",
              "      <td>143</td>\n",
              "      <td>1</td>\n",
              "      <td>23.3</td>\n",
              "      <td>1.00</td>\n",
              "      <td>0.5</td>\n",
              "      <td>4.00</td>\n",
              "      <td>0.0</td>\n",
              "      <td>1.0</td>\n",
              "      <td>32.30</td>\n",
              "      <td>2.5</td>\n",
              "      <td>0.00</td>\n",
              "      <td>NaN</td>\n",
              "    </tr>\n",
              "    <tr>\n",
              "      <th>788006</th>\n",
              "      <td>1</td>\n",
              "      <td>2023-11-07 23:53:47</td>\n",
              "      <td>2023-11-08 00:02:24</td>\n",
              "      <td>1.0</td>\n",
              "      <td>3.40</td>\n",
              "      <td>1.0</td>\n",
              "      <td>N</td>\n",
              "      <td>132</td>\n",
              "      <td>216</td>\n",
              "      <td>1</td>\n",
              "      <td>15.6</td>\n",
              "      <td>2.75</td>\n",
              "      <td>0.5</td>\n",
              "      <td>3.95</td>\n",
              "      <td>0.0</td>\n",
              "      <td>1.0</td>\n",
              "      <td>23.80</td>\n",
              "      <td>0.0</td>\n",
              "      <td>1.75</td>\n",
              "      <td>NaN</td>\n",
              "    </tr>\n",
              "    <tr>\n",
              "      <th>3226760</th>\n",
              "      <td>1</td>\n",
              "      <td>2023-11-04 23:42:25</td>\n",
              "      <td>2023-11-04 23:57:52</td>\n",
              "      <td>NaN</td>\n",
              "      <td>2.00</td>\n",
              "      <td>NaN</td>\n",
              "      <td>None</td>\n",
              "      <td>161</td>\n",
              "      <td>234</td>\n",
              "      <td>0</td>\n",
              "      <td>14.9</td>\n",
              "      <td>1.00</td>\n",
              "      <td>0.5</td>\n",
              "      <td>3.98</td>\n",
              "      <td>0.0</td>\n",
              "      <td>1.0</td>\n",
              "      <td>23.88</td>\n",
              "      <td>NaN</td>\n",
              "      <td>NaN</td>\n",
              "      <td>NaN</td>\n",
              "    </tr>\n",
              "    <tr>\n",
              "      <th>1154802</th>\n",
              "      <td>2</td>\n",
              "      <td>2023-11-10 23:55:12</td>\n",
              "      <td>2023-11-11 00:26:48</td>\n",
              "      <td>2.0</td>\n",
              "      <td>15.30</td>\n",
              "      <td>1.0</td>\n",
              "      <td>N</td>\n",
              "      <td>132</td>\n",
              "      <td>255</td>\n",
              "      <td>1</td>\n",
              "      <td>61.8</td>\n",
              "      <td>1.00</td>\n",
              "      <td>0.5</td>\n",
              "      <td>16.07</td>\n",
              "      <td>0.0</td>\n",
              "      <td>1.0</td>\n",
              "      <td>82.12</td>\n",
              "      <td>0.0</td>\n",
              "      <td>1.75</td>\n",
              "      <td>NaN</td>\n",
              "    </tr>\n",
              "  </tbody>\n",
              "</table>\n",
              "</div>\n",
              "    <div class=\"colab-df-buttons\">\n",
              "\n",
              "  <div class=\"colab-df-container\">\n",
              "    <button class=\"colab-df-convert\" onclick=\"convertToInteractive('df-9d00b61d-3f62-4bcb-9098-dbfdf394aa16')\"\n",
              "            title=\"Convert this dataframe to an interactive table.\"\n",
              "            style=\"display:none;\">\n",
              "\n",
              "  <svg xmlns=\"http://www.w3.org/2000/svg\" height=\"24px\" viewBox=\"0 -960 960 960\">\n",
              "    <path d=\"M120-120v-720h720v720H120Zm60-500h600v-160H180v160Zm220 220h160v-160H400v160Zm0 220h160v-160H400v160ZM180-400h160v-160H180v160Zm440 0h160v-160H620v160ZM180-180h160v-160H180v160Zm440 0h160v-160H620v160Z\"/>\n",
              "  </svg>\n",
              "    </button>\n",
              "\n",
              "  <style>\n",
              "    .colab-df-container {\n",
              "      display:flex;\n",
              "      gap: 12px;\n",
              "    }\n",
              "\n",
              "    .colab-df-convert {\n",
              "      background-color: #E8F0FE;\n",
              "      border: none;\n",
              "      border-radius: 50%;\n",
              "      cursor: pointer;\n",
              "      display: none;\n",
              "      fill: #1967D2;\n",
              "      height: 32px;\n",
              "      padding: 0 0 0 0;\n",
              "      width: 32px;\n",
              "    }\n",
              "\n",
              "    .colab-df-convert:hover {\n",
              "      background-color: #E2EBFA;\n",
              "      box-shadow: 0px 1px 2px rgba(60, 64, 67, 0.3), 0px 1px 3px 1px rgba(60, 64, 67, 0.15);\n",
              "      fill: #174EA6;\n",
              "    }\n",
              "\n",
              "    .colab-df-buttons div {\n",
              "      margin-bottom: 4px;\n",
              "    }\n",
              "\n",
              "    [theme=dark] .colab-df-convert {\n",
              "      background-color: #3B4455;\n",
              "      fill: #D2E3FC;\n",
              "    }\n",
              "\n",
              "    [theme=dark] .colab-df-convert:hover {\n",
              "      background-color: #434B5C;\n",
              "      box-shadow: 0px 1px 3px 1px rgba(0, 0, 0, 0.15);\n",
              "      filter: drop-shadow(0px 1px 2px rgba(0, 0, 0, 0.3));\n",
              "      fill: #FFFFFF;\n",
              "    }\n",
              "  </style>\n",
              "\n",
              "    <script>\n",
              "      const buttonEl =\n",
              "        document.querySelector('#df-9d00b61d-3f62-4bcb-9098-dbfdf394aa16 button.colab-df-convert');\n",
              "      buttonEl.style.display =\n",
              "        google.colab.kernel.accessAllowed ? 'block' : 'none';\n",
              "\n",
              "      async function convertToInteractive(key) {\n",
              "        const element = document.querySelector('#df-9d00b61d-3f62-4bcb-9098-dbfdf394aa16');\n",
              "        const dataTable =\n",
              "          await google.colab.kernel.invokeFunction('convertToInteractive',\n",
              "                                                    [key], {});\n",
              "        if (!dataTable) return;\n",
              "\n",
              "        const docLinkHtml = 'Like what you see? Visit the ' +\n",
              "          '<a target=\"_blank\" href=https://colab.research.google.com/notebooks/data_table.ipynb>data table notebook</a>'\n",
              "          + ' to learn more about interactive tables.';\n",
              "        element.innerHTML = '';\n",
              "        dataTable['output_type'] = 'display_data';\n",
              "        await google.colab.output.renderOutput(dataTable, element);\n",
              "        const docLink = document.createElement('div');\n",
              "        docLink.innerHTML = docLinkHtml;\n",
              "        element.appendChild(docLink);\n",
              "      }\n",
              "    </script>\n",
              "  </div>\n",
              "\n",
              "\n",
              "<div id=\"df-059d3443-dc09-45c7-8ec6-89d176916a62\">\n",
              "  <button class=\"colab-df-quickchart\" onclick=\"quickchart('df-059d3443-dc09-45c7-8ec6-89d176916a62')\"\n",
              "            title=\"Suggest charts\"\n",
              "            style=\"display:none;\">\n",
              "\n",
              "<svg xmlns=\"http://www.w3.org/2000/svg\" height=\"24px\"viewBox=\"0 0 24 24\"\n",
              "     width=\"24px\">\n",
              "    <g>\n",
              "        <path d=\"M19 3H5c-1.1 0-2 .9-2 2v14c0 1.1.9 2 2 2h14c1.1 0 2-.9 2-2V5c0-1.1-.9-2-2-2zM9 17H7v-7h2v7zm4 0h-2V7h2v10zm4 0h-2v-4h2v4z\"/>\n",
              "    </g>\n",
              "</svg>\n",
              "  </button>\n",
              "\n",
              "<style>\n",
              "  .colab-df-quickchart {\n",
              "      --bg-color: #E8F0FE;\n",
              "      --fill-color: #1967D2;\n",
              "      --hover-bg-color: #E2EBFA;\n",
              "      --hover-fill-color: #174EA6;\n",
              "      --disabled-fill-color: #AAA;\n",
              "      --disabled-bg-color: #DDD;\n",
              "  }\n",
              "\n",
              "  [theme=dark] .colab-df-quickchart {\n",
              "      --bg-color: #3B4455;\n",
              "      --fill-color: #D2E3FC;\n",
              "      --hover-bg-color: #434B5C;\n",
              "      --hover-fill-color: #FFFFFF;\n",
              "      --disabled-bg-color: #3B4455;\n",
              "      --disabled-fill-color: #666;\n",
              "  }\n",
              "\n",
              "  .colab-df-quickchart {\n",
              "    background-color: var(--bg-color);\n",
              "    border: none;\n",
              "    border-radius: 50%;\n",
              "    cursor: pointer;\n",
              "    display: none;\n",
              "    fill: var(--fill-color);\n",
              "    height: 32px;\n",
              "    padding: 0;\n",
              "    width: 32px;\n",
              "  }\n",
              "\n",
              "  .colab-df-quickchart:hover {\n",
              "    background-color: var(--hover-bg-color);\n",
              "    box-shadow: 0 1px 2px rgba(60, 64, 67, 0.3), 0 1px 3px 1px rgba(60, 64, 67, 0.15);\n",
              "    fill: var(--button-hover-fill-color);\n",
              "  }\n",
              "\n",
              "  .colab-df-quickchart-complete:disabled,\n",
              "  .colab-df-quickchart-complete:disabled:hover {\n",
              "    background-color: var(--disabled-bg-color);\n",
              "    fill: var(--disabled-fill-color);\n",
              "    box-shadow: none;\n",
              "  }\n",
              "\n",
              "  .colab-df-spinner {\n",
              "    border: 2px solid var(--fill-color);\n",
              "    border-color: transparent;\n",
              "    border-bottom-color: var(--fill-color);\n",
              "    animation:\n",
              "      spin 1s steps(1) infinite;\n",
              "  }\n",
              "\n",
              "  @keyframes spin {\n",
              "    0% {\n",
              "      border-color: transparent;\n",
              "      border-bottom-color: var(--fill-color);\n",
              "      border-left-color: var(--fill-color);\n",
              "    }\n",
              "    20% {\n",
              "      border-color: transparent;\n",
              "      border-left-color: var(--fill-color);\n",
              "      border-top-color: var(--fill-color);\n",
              "    }\n",
              "    30% {\n",
              "      border-color: transparent;\n",
              "      border-left-color: var(--fill-color);\n",
              "      border-top-color: var(--fill-color);\n",
              "      border-right-color: var(--fill-color);\n",
              "    }\n",
              "    40% {\n",
              "      border-color: transparent;\n",
              "      border-right-color: var(--fill-color);\n",
              "      border-top-color: var(--fill-color);\n",
              "    }\n",
              "    60% {\n",
              "      border-color: transparent;\n",
              "      border-right-color: var(--fill-color);\n",
              "    }\n",
              "    80% {\n",
              "      border-color: transparent;\n",
              "      border-right-color: var(--fill-color);\n",
              "      border-bottom-color: var(--fill-color);\n",
              "    }\n",
              "    90% {\n",
              "      border-color: transparent;\n",
              "      border-bottom-color: var(--fill-color);\n",
              "    }\n",
              "  }\n",
              "</style>\n",
              "\n",
              "  <script>\n",
              "    async function quickchart(key) {\n",
              "      const quickchartButtonEl =\n",
              "        document.querySelector('#' + key + ' button');\n",
              "      quickchartButtonEl.disabled = true;  // To prevent multiple clicks.\n",
              "      quickchartButtonEl.classList.add('colab-df-spinner');\n",
              "      try {\n",
              "        const charts = await google.colab.kernel.invokeFunction(\n",
              "            'suggestCharts', [key], {});\n",
              "      } catch (error) {\n",
              "        console.error('Error during call to suggestCharts:', error);\n",
              "      }\n",
              "      quickchartButtonEl.classList.remove('colab-df-spinner');\n",
              "      quickchartButtonEl.classList.add('colab-df-quickchart-complete');\n",
              "    }\n",
              "    (() => {\n",
              "      let quickchartButtonEl =\n",
              "        document.querySelector('#df-059d3443-dc09-45c7-8ec6-89d176916a62 button');\n",
              "      quickchartButtonEl.style.display =\n",
              "        google.colab.kernel.accessAllowed ? 'block' : 'none';\n",
              "    })();\n",
              "  </script>\n",
              "</div>\n",
              "\n",
              "    </div>\n",
              "  </div>\n"
            ],
            "application/vnd.google.colaboratory.intrinsic+json": {
              "type": "dataframe",
              "variable_name": "df"
            }
          },
          "metadata": {},
          "execution_count": 117
        }
      ],
      "source": [
        "# df.head()\n",
        "df.head()"
      ]
    },
    {
      "cell_type": "code",
      "execution_count": 118,
      "metadata": {
        "id": "FH83U4A49ErC",
        "colab": {
          "base_uri": "https://localhost:8080/"
        },
        "outputId": "1cc477ba-8ad7-402d-8284-508741b5f2ab"
      },
      "outputs": [
        {
          "output_type": "stream",
          "name": "stdout",
          "text": [
            "<class 'pandas.core.frame.DataFrame'>\n",
            "Index: 689383 entries, 2373315 to 1031834\n",
            "Data columns (total 20 columns):\n",
            " #   Column                 Non-Null Count   Dtype         \n",
            "---  ------                 --------------   -----         \n",
            " 0   VendorID               689383 non-null  int64         \n",
            " 1   tpep_pickup_datetime   689383 non-null  datetime64[us]\n",
            " 2   tpep_dropoff_datetime  689383 non-null  datetime64[us]\n",
            " 3   passenger_count        660713 non-null  float64       \n",
            " 4   trip_distance          689383 non-null  float64       \n",
            " 5   RatecodeID             660713 non-null  float64       \n",
            " 6   store_and_fwd_flag     660713 non-null  object        \n",
            " 7   PULocationID           689383 non-null  int64         \n",
            " 8   DOLocationID           689383 non-null  int64         \n",
            " 9   payment_type           689383 non-null  int64         \n",
            " 10  fare_amount            689383 non-null  float64       \n",
            " 11  extra                  689383 non-null  float64       \n",
            " 12  mta_tax                689383 non-null  float64       \n",
            " 13  tip_amount             689383 non-null  float64       \n",
            " 14  tolls_amount           689383 non-null  float64       \n",
            " 15  improvement_surcharge  689383 non-null  float64       \n",
            " 16  total_amount           689383 non-null  float64       \n",
            " 17  congestion_surcharge   660713 non-null  float64       \n",
            " 18  Airport_fee            621218 non-null  float64       \n",
            " 19  airport_fee            39495 non-null   float64       \n",
            "dtypes: datetime64[us](2), float64(13), int64(4), object(1)\n",
            "memory usage: 110.5+ MB\n"
          ]
        }
      ],
      "source": [
        "# df.info()\n",
        "df.info()"
      ]
    },
    {
      "cell_type": "markdown",
      "metadata": {
        "id": "HZvPSwJx0S3K"
      },
      "source": [
        "#### **2.1** Fixing Columns\n",
        "<font color = red>[10 marks]</font> <br>\n",
        "\n",
        "Fix/drop any columns as you seem necessary in the below sections"
      ]
    },
    {
      "cell_type": "markdown",
      "metadata": {
        "id": "358takCd2FiM"
      },
      "source": [
        "**2.1.1** <font color = red>[2 marks]</font> <br>\n",
        "\n",
        "Fix the index and drop unnecessary columns"
      ]
    },
    {
      "cell_type": "code",
      "execution_count": 119,
      "metadata": {
        "id": "KHHFyZxa2PEM"
      },
      "outputs": [],
      "source": [
        "# Fix the index and drop any columns that are not needed\n",
        "df.reset_index(inplace=True)\n"
      ]
    },
    {
      "cell_type": "code",
      "source": [
        "df['store_and_fwd_flag'].value_counts()"
      ],
      "metadata": {
        "colab": {
          "base_uri": "https://localhost:8080/",
          "height": 178
        },
        "id": "MChltAs-gMZh",
        "outputId": "e4a33283-3267-41a1-e20c-a6bd440389a2"
      },
      "execution_count": 120,
      "outputs": [
        {
          "output_type": "execute_result",
          "data": {
            "text/plain": [
              "store_and_fwd_flag\n",
              "N    657540\n",
              "Y      3173\n",
              "Name: count, dtype: int64"
            ],
            "text/html": [
              "<div>\n",
              "<style scoped>\n",
              "    .dataframe tbody tr th:only-of-type {\n",
              "        vertical-align: middle;\n",
              "    }\n",
              "\n",
              "    .dataframe tbody tr th {\n",
              "        vertical-align: top;\n",
              "    }\n",
              "\n",
              "    .dataframe thead th {\n",
              "        text-align: right;\n",
              "    }\n",
              "</style>\n",
              "<table border=\"1\" class=\"dataframe\">\n",
              "  <thead>\n",
              "    <tr style=\"text-align: right;\">\n",
              "      <th></th>\n",
              "      <th>count</th>\n",
              "    </tr>\n",
              "    <tr>\n",
              "      <th>store_and_fwd_flag</th>\n",
              "      <th></th>\n",
              "    </tr>\n",
              "  </thead>\n",
              "  <tbody>\n",
              "    <tr>\n",
              "      <th>N</th>\n",
              "      <td>657540</td>\n",
              "    </tr>\n",
              "    <tr>\n",
              "      <th>Y</th>\n",
              "      <td>3173</td>\n",
              "    </tr>\n",
              "  </tbody>\n",
              "</table>\n",
              "</div><br><label><b>dtype:</b> int64</label>"
            ]
          },
          "metadata": {},
          "execution_count": 120
        }
      ]
    },
    {
      "cell_type": "code",
      "source": [
        "df['tolls_amount'].describe()"
      ],
      "metadata": {
        "colab": {
          "base_uri": "https://localhost:8080/",
          "height": 335
        },
        "id": "IUNqTUtnmU37",
        "outputId": "d8ff2d7d-4586-4fb9-fb66-3e267a5db58c"
      },
      "execution_count": 121,
      "outputs": [
        {
          "output_type": "execute_result",
          "data": {
            "text/plain": [
              "count    689383.000000\n",
              "mean          0.557005\n",
              "std           2.007596\n",
              "min           0.000000\n",
              "25%           0.000000\n",
              "50%           0.000000\n",
              "75%           0.000000\n",
              "max          80.910000\n",
              "Name: tolls_amount, dtype: float64"
            ],
            "text/html": [
              "<div>\n",
              "<style scoped>\n",
              "    .dataframe tbody tr th:only-of-type {\n",
              "        vertical-align: middle;\n",
              "    }\n",
              "\n",
              "    .dataframe tbody tr th {\n",
              "        vertical-align: top;\n",
              "    }\n",
              "\n",
              "    .dataframe thead th {\n",
              "        text-align: right;\n",
              "    }\n",
              "</style>\n",
              "<table border=\"1\" class=\"dataframe\">\n",
              "  <thead>\n",
              "    <tr style=\"text-align: right;\">\n",
              "      <th></th>\n",
              "      <th>tolls_amount</th>\n",
              "    </tr>\n",
              "  </thead>\n",
              "  <tbody>\n",
              "    <tr>\n",
              "      <th>count</th>\n",
              "      <td>689383.000000</td>\n",
              "    </tr>\n",
              "    <tr>\n",
              "      <th>mean</th>\n",
              "      <td>0.557005</td>\n",
              "    </tr>\n",
              "    <tr>\n",
              "      <th>std</th>\n",
              "      <td>2.007596</td>\n",
              "    </tr>\n",
              "    <tr>\n",
              "      <th>min</th>\n",
              "      <td>0.000000</td>\n",
              "    </tr>\n",
              "    <tr>\n",
              "      <th>25%</th>\n",
              "      <td>0.000000</td>\n",
              "    </tr>\n",
              "    <tr>\n",
              "      <th>50%</th>\n",
              "      <td>0.000000</td>\n",
              "    </tr>\n",
              "    <tr>\n",
              "      <th>75%</th>\n",
              "      <td>0.000000</td>\n",
              "    </tr>\n",
              "    <tr>\n",
              "      <th>max</th>\n",
              "      <td>80.910000</td>\n",
              "    </tr>\n",
              "  </tbody>\n",
              "</table>\n",
              "</div><br><label><b>dtype:</b> float64</label>"
            ]
          },
          "metadata": {},
          "execution_count": 121
        }
      ]
    },
    {
      "cell_type": "code",
      "source": [
        "df['tolls_amount'].value_counts()"
      ],
      "metadata": {
        "colab": {
          "base_uri": "https://localhost:8080/",
          "height": 489
        },
        "id": "w9qL4e4ZSqcQ",
        "outputId": "f5c734a1-1a1a-4816-8910-7473988d7619"
      },
      "execution_count": 122,
      "outputs": [
        {
          "output_type": "execute_result",
          "data": {
            "text/plain": [
              "tolls_amount\n",
              "0.00     634537\n",
              "6.55      35084\n",
              "6.94      15926\n",
              "12.75       830\n",
              "3.00        461\n",
              "          ...  \n",
              "26.69         3\n",
              "13.79         3\n",
              "80.91         3\n",
              "13.19         3\n",
              "31.69         3\n",
              "Name: count, Length: 102, dtype: int64"
            ],
            "text/html": [
              "<div>\n",
              "<style scoped>\n",
              "    .dataframe tbody tr th:only-of-type {\n",
              "        vertical-align: middle;\n",
              "    }\n",
              "\n",
              "    .dataframe tbody tr th {\n",
              "        vertical-align: top;\n",
              "    }\n",
              "\n",
              "    .dataframe thead th {\n",
              "        text-align: right;\n",
              "    }\n",
              "</style>\n",
              "<table border=\"1\" class=\"dataframe\">\n",
              "  <thead>\n",
              "    <tr style=\"text-align: right;\">\n",
              "      <th></th>\n",
              "      <th>count</th>\n",
              "    </tr>\n",
              "    <tr>\n",
              "      <th>tolls_amount</th>\n",
              "      <th></th>\n",
              "    </tr>\n",
              "  </thead>\n",
              "  <tbody>\n",
              "    <tr>\n",
              "      <th>0.00</th>\n",
              "      <td>634537</td>\n",
              "    </tr>\n",
              "    <tr>\n",
              "      <th>6.55</th>\n",
              "      <td>35084</td>\n",
              "    </tr>\n",
              "    <tr>\n",
              "      <th>6.94</th>\n",
              "      <td>15926</td>\n",
              "    </tr>\n",
              "    <tr>\n",
              "      <th>12.75</th>\n",
              "      <td>830</td>\n",
              "    </tr>\n",
              "    <tr>\n",
              "      <th>3.00</th>\n",
              "      <td>461</td>\n",
              "    </tr>\n",
              "    <tr>\n",
              "      <th>...</th>\n",
              "      <td>...</td>\n",
              "    </tr>\n",
              "    <tr>\n",
              "      <th>26.69</th>\n",
              "      <td>3</td>\n",
              "    </tr>\n",
              "    <tr>\n",
              "      <th>13.79</th>\n",
              "      <td>3</td>\n",
              "    </tr>\n",
              "    <tr>\n",
              "      <th>80.91</th>\n",
              "      <td>3</td>\n",
              "    </tr>\n",
              "    <tr>\n",
              "      <th>13.19</th>\n",
              "      <td>3</td>\n",
              "    </tr>\n",
              "    <tr>\n",
              "      <th>31.69</th>\n",
              "      <td>3</td>\n",
              "    </tr>\n",
              "  </tbody>\n",
              "</table>\n",
              "<p>102 rows × 1 columns</p>\n",
              "</div><br><label><b>dtype:</b> int64</label>"
            ]
          },
          "metadata": {},
          "execution_count": 122
        }
      ]
    },
    {
      "cell_type": "code",
      "source": [
        "df['mta_tax'].describe()"
      ],
      "metadata": {
        "colab": {
          "base_uri": "https://localhost:8080/",
          "height": 335
        },
        "id": "qk_bxw4hob7i",
        "outputId": "342d899e-58de-4be4-ab41-5bbd664374b6"
      },
      "execution_count": 123,
      "outputs": [
        {
          "output_type": "execute_result",
          "data": {
            "text/plain": [
              "count    689383.000000\n",
              "mean          0.495957\n",
              "std           0.045114\n",
              "min          -0.500000\n",
              "25%           0.500000\n",
              "50%           0.500000\n",
              "75%           0.500000\n",
              "max           0.800000\n",
              "Name: mta_tax, dtype: float64"
            ],
            "text/html": [
              "<div>\n",
              "<style scoped>\n",
              "    .dataframe tbody tr th:only-of-type {\n",
              "        vertical-align: middle;\n",
              "    }\n",
              "\n",
              "    .dataframe tbody tr th {\n",
              "        vertical-align: top;\n",
              "    }\n",
              "\n",
              "    .dataframe thead th {\n",
              "        text-align: right;\n",
              "    }\n",
              "</style>\n",
              "<table border=\"1\" class=\"dataframe\">\n",
              "  <thead>\n",
              "    <tr style=\"text-align: right;\">\n",
              "      <th></th>\n",
              "      <th>mta_tax</th>\n",
              "    </tr>\n",
              "  </thead>\n",
              "  <tbody>\n",
              "    <tr>\n",
              "      <th>count</th>\n",
              "      <td>689383.000000</td>\n",
              "    </tr>\n",
              "    <tr>\n",
              "      <th>mean</th>\n",
              "      <td>0.495957</td>\n",
              "    </tr>\n",
              "    <tr>\n",
              "      <th>std</th>\n",
              "      <td>0.045114</td>\n",
              "    </tr>\n",
              "    <tr>\n",
              "      <th>min</th>\n",
              "      <td>-0.500000</td>\n",
              "    </tr>\n",
              "    <tr>\n",
              "      <th>25%</th>\n",
              "      <td>0.500000</td>\n",
              "    </tr>\n",
              "    <tr>\n",
              "      <th>50%</th>\n",
              "      <td>0.500000</td>\n",
              "    </tr>\n",
              "    <tr>\n",
              "      <th>75%</th>\n",
              "      <td>0.500000</td>\n",
              "    </tr>\n",
              "    <tr>\n",
              "      <th>max</th>\n",
              "      <td>0.800000</td>\n",
              "    </tr>\n",
              "  </tbody>\n",
              "</table>\n",
              "</div><br><label><b>dtype:</b> float64</label>"
            ]
          },
          "metadata": {},
          "execution_count": 123
        }
      ]
    },
    {
      "cell_type": "code",
      "source": [
        "df['mta_tax'].value_counts()"
      ],
      "metadata": {
        "colab": {
          "base_uri": "https://localhost:8080/",
          "height": 272
        },
        "id": "44qFuiW5TW-v",
        "outputId": "382a8e02-a296-4779-f700-5cbcbeb8eaca"
      },
      "execution_count": 124,
      "outputs": [
        {
          "output_type": "execute_result",
          "data": {
            "text/plain": [
              "mta_tax\n",
              " 0.50    683803\n",
              " 0.00      5486\n",
              " 0.05        39\n",
              "-0.50        33\n",
              " 0.80        22\n",
              "Name: count, dtype: int64"
            ],
            "text/html": [
              "<div>\n",
              "<style scoped>\n",
              "    .dataframe tbody tr th:only-of-type {\n",
              "        vertical-align: middle;\n",
              "    }\n",
              "\n",
              "    .dataframe tbody tr th {\n",
              "        vertical-align: top;\n",
              "    }\n",
              "\n",
              "    .dataframe thead th {\n",
              "        text-align: right;\n",
              "    }\n",
              "</style>\n",
              "<table border=\"1\" class=\"dataframe\">\n",
              "  <thead>\n",
              "    <tr style=\"text-align: right;\">\n",
              "      <th></th>\n",
              "      <th>count</th>\n",
              "    </tr>\n",
              "    <tr>\n",
              "      <th>mta_tax</th>\n",
              "      <th></th>\n",
              "    </tr>\n",
              "  </thead>\n",
              "  <tbody>\n",
              "    <tr>\n",
              "      <th>0.50</th>\n",
              "      <td>683803</td>\n",
              "    </tr>\n",
              "    <tr>\n",
              "      <th>0.00</th>\n",
              "      <td>5486</td>\n",
              "    </tr>\n",
              "    <tr>\n",
              "      <th>0.05</th>\n",
              "      <td>39</td>\n",
              "    </tr>\n",
              "    <tr>\n",
              "      <th>-0.50</th>\n",
              "      <td>33</td>\n",
              "    </tr>\n",
              "    <tr>\n",
              "      <th>0.80</th>\n",
              "      <td>22</td>\n",
              "    </tr>\n",
              "  </tbody>\n",
              "</table>\n",
              "</div><br><label><b>dtype:</b> int64</label>"
            ]
          },
          "metadata": {},
          "execution_count": 124
        }
      ]
    },
    {
      "cell_type": "code",
      "source": [
        "(df['tpep_pickup_datetime'].dt.year == 2023).value_counts()"
      ],
      "metadata": {
        "colab": {
          "base_uri": "https://localhost:8080/",
          "height": 147
        },
        "id": "kVXdhW_xW6Gb",
        "outputId": "b4e50d7d-cf93-4972-fb85-cc67ae56ba18"
      },
      "execution_count": 125,
      "outputs": [
        {
          "output_type": "execute_result",
          "data": {
            "text/plain": [
              "tpep_pickup_datetime\n",
              "True    689383\n",
              "Name: count, dtype: int64"
            ],
            "text/html": [
              "<div>\n",
              "<style scoped>\n",
              "    .dataframe tbody tr th:only-of-type {\n",
              "        vertical-align: middle;\n",
              "    }\n",
              "\n",
              "    .dataframe tbody tr th {\n",
              "        vertical-align: top;\n",
              "    }\n",
              "\n",
              "    .dataframe thead th {\n",
              "        text-align: right;\n",
              "    }\n",
              "</style>\n",
              "<table border=\"1\" class=\"dataframe\">\n",
              "  <thead>\n",
              "    <tr style=\"text-align: right;\">\n",
              "      <th></th>\n",
              "      <th>count</th>\n",
              "    </tr>\n",
              "    <tr>\n",
              "      <th>tpep_pickup_datetime</th>\n",
              "      <th></th>\n",
              "    </tr>\n",
              "  </thead>\n",
              "  <tbody>\n",
              "    <tr>\n",
              "      <th>True</th>\n",
              "      <td>689383</td>\n",
              "    </tr>\n",
              "  </tbody>\n",
              "</table>\n",
              "</div><br><label><b>dtype:</b> int64</label>"
            ]
          },
          "metadata": {},
          "execution_count": 125
        }
      ]
    },
    {
      "cell_type": "code",
      "source": [
        "df.drop(columns=['index', 'store_and_fwd_flag'],inplace=True)"
      ],
      "metadata": {
        "id": "ROyR7zO-paXb"
      },
      "execution_count": 126,
      "outputs": []
    },
    {
      "cell_type": "code",
      "source": [
        "df.head()"
      ],
      "metadata": {
        "colab": {
          "base_uri": "https://localhost:8080/",
          "height": 226
        },
        "id": "JnubvZhGp3iK",
        "outputId": "67053ce8-6ca0-4808-bab8-52aacfcd4e4d"
      },
      "execution_count": 127,
      "outputs": [
        {
          "output_type": "execute_result",
          "data": {
            "text/plain": [
              "   VendorID tpep_pickup_datetime tpep_dropoff_datetime  passenger_count  \\\n",
              "0         2  2023-11-21 23:07:22   2023-11-21 23:49:11              1.0   \n",
              "1         2  2023-11-08 23:35:26   2023-11-08 23:59:14              1.0   \n",
              "2         1  2023-11-07 23:53:47   2023-11-08 00:02:24              1.0   \n",
              "3         1  2023-11-04 23:42:25   2023-11-04 23:57:52              NaN   \n",
              "4         2  2023-11-10 23:55:12   2023-11-11 00:26:48              2.0   \n",
              "\n",
              "   trip_distance  RatecodeID  PULocationID  DOLocationID  payment_type  \\\n",
              "0          27.98         4.0           132           265             1   \n",
              "1           3.73         1.0           114           143             1   \n",
              "2           3.40         1.0           132           216             1   \n",
              "3           2.00         NaN           161           234             0   \n",
              "4          15.30         1.0           132           255             1   \n",
              "\n",
              "   fare_amount  extra  mta_tax  tip_amount  tolls_amount  \\\n",
              "0        166.8   1.00      0.5       20.00           0.0   \n",
              "1         23.3   1.00      0.5        4.00           0.0   \n",
              "2         15.6   2.75      0.5        3.95           0.0   \n",
              "3         14.9   1.00      0.5        3.98           0.0   \n",
              "4         61.8   1.00      0.5       16.07           0.0   \n",
              "\n",
              "   improvement_surcharge  total_amount  congestion_surcharge  Airport_fee  \\\n",
              "0                    1.0        191.05                   0.0         1.75   \n",
              "1                    1.0         32.30                   2.5         0.00   \n",
              "2                    1.0         23.80                   0.0         1.75   \n",
              "3                    1.0         23.88                   NaN          NaN   \n",
              "4                    1.0         82.12                   0.0         1.75   \n",
              "\n",
              "   airport_fee  \n",
              "0          NaN  \n",
              "1          NaN  \n",
              "2          NaN  \n",
              "3          NaN  \n",
              "4          NaN  "
            ],
            "text/html": [
              "\n",
              "  <div id=\"df-df9a3e23-456e-4edf-859b-def3db5b174b\" class=\"colab-df-container\">\n",
              "    <div>\n",
              "<style scoped>\n",
              "    .dataframe tbody tr th:only-of-type {\n",
              "        vertical-align: middle;\n",
              "    }\n",
              "\n",
              "    .dataframe tbody tr th {\n",
              "        vertical-align: top;\n",
              "    }\n",
              "\n",
              "    .dataframe thead th {\n",
              "        text-align: right;\n",
              "    }\n",
              "</style>\n",
              "<table border=\"1\" class=\"dataframe\">\n",
              "  <thead>\n",
              "    <tr style=\"text-align: right;\">\n",
              "      <th></th>\n",
              "      <th>VendorID</th>\n",
              "      <th>tpep_pickup_datetime</th>\n",
              "      <th>tpep_dropoff_datetime</th>\n",
              "      <th>passenger_count</th>\n",
              "      <th>trip_distance</th>\n",
              "      <th>RatecodeID</th>\n",
              "      <th>PULocationID</th>\n",
              "      <th>DOLocationID</th>\n",
              "      <th>payment_type</th>\n",
              "      <th>fare_amount</th>\n",
              "      <th>extra</th>\n",
              "      <th>mta_tax</th>\n",
              "      <th>tip_amount</th>\n",
              "      <th>tolls_amount</th>\n",
              "      <th>improvement_surcharge</th>\n",
              "      <th>total_amount</th>\n",
              "      <th>congestion_surcharge</th>\n",
              "      <th>Airport_fee</th>\n",
              "      <th>airport_fee</th>\n",
              "    </tr>\n",
              "  </thead>\n",
              "  <tbody>\n",
              "    <tr>\n",
              "      <th>0</th>\n",
              "      <td>2</td>\n",
              "      <td>2023-11-21 23:07:22</td>\n",
              "      <td>2023-11-21 23:49:11</td>\n",
              "      <td>1.0</td>\n",
              "      <td>27.98</td>\n",
              "      <td>4.0</td>\n",
              "      <td>132</td>\n",
              "      <td>265</td>\n",
              "      <td>1</td>\n",
              "      <td>166.8</td>\n",
              "      <td>1.00</td>\n",
              "      <td>0.5</td>\n",
              "      <td>20.00</td>\n",
              "      <td>0.0</td>\n",
              "      <td>1.0</td>\n",
              "      <td>191.05</td>\n",
              "      <td>0.0</td>\n",
              "      <td>1.75</td>\n",
              "      <td>NaN</td>\n",
              "    </tr>\n",
              "    <tr>\n",
              "      <th>1</th>\n",
              "      <td>2</td>\n",
              "      <td>2023-11-08 23:35:26</td>\n",
              "      <td>2023-11-08 23:59:14</td>\n",
              "      <td>1.0</td>\n",
              "      <td>3.73</td>\n",
              "      <td>1.0</td>\n",
              "      <td>114</td>\n",
              "      <td>143</td>\n",
              "      <td>1</td>\n",
              "      <td>23.3</td>\n",
              "      <td>1.00</td>\n",
              "      <td>0.5</td>\n",
              "      <td>4.00</td>\n",
              "      <td>0.0</td>\n",
              "      <td>1.0</td>\n",
              "      <td>32.30</td>\n",
              "      <td>2.5</td>\n",
              "      <td>0.00</td>\n",
              "      <td>NaN</td>\n",
              "    </tr>\n",
              "    <tr>\n",
              "      <th>2</th>\n",
              "      <td>1</td>\n",
              "      <td>2023-11-07 23:53:47</td>\n",
              "      <td>2023-11-08 00:02:24</td>\n",
              "      <td>1.0</td>\n",
              "      <td>3.40</td>\n",
              "      <td>1.0</td>\n",
              "      <td>132</td>\n",
              "      <td>216</td>\n",
              "      <td>1</td>\n",
              "      <td>15.6</td>\n",
              "      <td>2.75</td>\n",
              "      <td>0.5</td>\n",
              "      <td>3.95</td>\n",
              "      <td>0.0</td>\n",
              "      <td>1.0</td>\n",
              "      <td>23.80</td>\n",
              "      <td>0.0</td>\n",
              "      <td>1.75</td>\n",
              "      <td>NaN</td>\n",
              "    </tr>\n",
              "    <tr>\n",
              "      <th>3</th>\n",
              "      <td>1</td>\n",
              "      <td>2023-11-04 23:42:25</td>\n",
              "      <td>2023-11-04 23:57:52</td>\n",
              "      <td>NaN</td>\n",
              "      <td>2.00</td>\n",
              "      <td>NaN</td>\n",
              "      <td>161</td>\n",
              "      <td>234</td>\n",
              "      <td>0</td>\n",
              "      <td>14.9</td>\n",
              "      <td>1.00</td>\n",
              "      <td>0.5</td>\n",
              "      <td>3.98</td>\n",
              "      <td>0.0</td>\n",
              "      <td>1.0</td>\n",
              "      <td>23.88</td>\n",
              "      <td>NaN</td>\n",
              "      <td>NaN</td>\n",
              "      <td>NaN</td>\n",
              "    </tr>\n",
              "    <tr>\n",
              "      <th>4</th>\n",
              "      <td>2</td>\n",
              "      <td>2023-11-10 23:55:12</td>\n",
              "      <td>2023-11-11 00:26:48</td>\n",
              "      <td>2.0</td>\n",
              "      <td>15.30</td>\n",
              "      <td>1.0</td>\n",
              "      <td>132</td>\n",
              "      <td>255</td>\n",
              "      <td>1</td>\n",
              "      <td>61.8</td>\n",
              "      <td>1.00</td>\n",
              "      <td>0.5</td>\n",
              "      <td>16.07</td>\n",
              "      <td>0.0</td>\n",
              "      <td>1.0</td>\n",
              "      <td>82.12</td>\n",
              "      <td>0.0</td>\n",
              "      <td>1.75</td>\n",
              "      <td>NaN</td>\n",
              "    </tr>\n",
              "  </tbody>\n",
              "</table>\n",
              "</div>\n",
              "    <div class=\"colab-df-buttons\">\n",
              "\n",
              "  <div class=\"colab-df-container\">\n",
              "    <button class=\"colab-df-convert\" onclick=\"convertToInteractive('df-df9a3e23-456e-4edf-859b-def3db5b174b')\"\n",
              "            title=\"Convert this dataframe to an interactive table.\"\n",
              "            style=\"display:none;\">\n",
              "\n",
              "  <svg xmlns=\"http://www.w3.org/2000/svg\" height=\"24px\" viewBox=\"0 -960 960 960\">\n",
              "    <path d=\"M120-120v-720h720v720H120Zm60-500h600v-160H180v160Zm220 220h160v-160H400v160Zm0 220h160v-160H400v160ZM180-400h160v-160H180v160Zm440 0h160v-160H620v160ZM180-180h160v-160H180v160Zm440 0h160v-160H620v160Z\"/>\n",
              "  </svg>\n",
              "    </button>\n",
              "\n",
              "  <style>\n",
              "    .colab-df-container {\n",
              "      display:flex;\n",
              "      gap: 12px;\n",
              "    }\n",
              "\n",
              "    .colab-df-convert {\n",
              "      background-color: #E8F0FE;\n",
              "      border: none;\n",
              "      border-radius: 50%;\n",
              "      cursor: pointer;\n",
              "      display: none;\n",
              "      fill: #1967D2;\n",
              "      height: 32px;\n",
              "      padding: 0 0 0 0;\n",
              "      width: 32px;\n",
              "    }\n",
              "\n",
              "    .colab-df-convert:hover {\n",
              "      background-color: #E2EBFA;\n",
              "      box-shadow: 0px 1px 2px rgba(60, 64, 67, 0.3), 0px 1px 3px 1px rgba(60, 64, 67, 0.15);\n",
              "      fill: #174EA6;\n",
              "    }\n",
              "\n",
              "    .colab-df-buttons div {\n",
              "      margin-bottom: 4px;\n",
              "    }\n",
              "\n",
              "    [theme=dark] .colab-df-convert {\n",
              "      background-color: #3B4455;\n",
              "      fill: #D2E3FC;\n",
              "    }\n",
              "\n",
              "    [theme=dark] .colab-df-convert:hover {\n",
              "      background-color: #434B5C;\n",
              "      box-shadow: 0px 1px 3px 1px rgba(0, 0, 0, 0.15);\n",
              "      filter: drop-shadow(0px 1px 2px rgba(0, 0, 0, 0.3));\n",
              "      fill: #FFFFFF;\n",
              "    }\n",
              "  </style>\n",
              "\n",
              "    <script>\n",
              "      const buttonEl =\n",
              "        document.querySelector('#df-df9a3e23-456e-4edf-859b-def3db5b174b button.colab-df-convert');\n",
              "      buttonEl.style.display =\n",
              "        google.colab.kernel.accessAllowed ? 'block' : 'none';\n",
              "\n",
              "      async function convertToInteractive(key) {\n",
              "        const element = document.querySelector('#df-df9a3e23-456e-4edf-859b-def3db5b174b');\n",
              "        const dataTable =\n",
              "          await google.colab.kernel.invokeFunction('convertToInteractive',\n",
              "                                                    [key], {});\n",
              "        if (!dataTable) return;\n",
              "\n",
              "        const docLinkHtml = 'Like what you see? Visit the ' +\n",
              "          '<a target=\"_blank\" href=https://colab.research.google.com/notebooks/data_table.ipynb>data table notebook</a>'\n",
              "          + ' to learn more about interactive tables.';\n",
              "        element.innerHTML = '';\n",
              "        dataTable['output_type'] = 'display_data';\n",
              "        await google.colab.output.renderOutput(dataTable, element);\n",
              "        const docLink = document.createElement('div');\n",
              "        docLink.innerHTML = docLinkHtml;\n",
              "        element.appendChild(docLink);\n",
              "      }\n",
              "    </script>\n",
              "  </div>\n",
              "\n",
              "\n",
              "<div id=\"df-06ddfb4f-3e37-4564-9fe8-e1e9aa84a21e\">\n",
              "  <button class=\"colab-df-quickchart\" onclick=\"quickchart('df-06ddfb4f-3e37-4564-9fe8-e1e9aa84a21e')\"\n",
              "            title=\"Suggest charts\"\n",
              "            style=\"display:none;\">\n",
              "\n",
              "<svg xmlns=\"http://www.w3.org/2000/svg\" height=\"24px\"viewBox=\"0 0 24 24\"\n",
              "     width=\"24px\">\n",
              "    <g>\n",
              "        <path d=\"M19 3H5c-1.1 0-2 .9-2 2v14c0 1.1.9 2 2 2h14c1.1 0 2-.9 2-2V5c0-1.1-.9-2-2-2zM9 17H7v-7h2v7zm4 0h-2V7h2v10zm4 0h-2v-4h2v4z\"/>\n",
              "    </g>\n",
              "</svg>\n",
              "  </button>\n",
              "\n",
              "<style>\n",
              "  .colab-df-quickchart {\n",
              "      --bg-color: #E8F0FE;\n",
              "      --fill-color: #1967D2;\n",
              "      --hover-bg-color: #E2EBFA;\n",
              "      --hover-fill-color: #174EA6;\n",
              "      --disabled-fill-color: #AAA;\n",
              "      --disabled-bg-color: #DDD;\n",
              "  }\n",
              "\n",
              "  [theme=dark] .colab-df-quickchart {\n",
              "      --bg-color: #3B4455;\n",
              "      --fill-color: #D2E3FC;\n",
              "      --hover-bg-color: #434B5C;\n",
              "      --hover-fill-color: #FFFFFF;\n",
              "      --disabled-bg-color: #3B4455;\n",
              "      --disabled-fill-color: #666;\n",
              "  }\n",
              "\n",
              "  .colab-df-quickchart {\n",
              "    background-color: var(--bg-color);\n",
              "    border: none;\n",
              "    border-radius: 50%;\n",
              "    cursor: pointer;\n",
              "    display: none;\n",
              "    fill: var(--fill-color);\n",
              "    height: 32px;\n",
              "    padding: 0;\n",
              "    width: 32px;\n",
              "  }\n",
              "\n",
              "  .colab-df-quickchart:hover {\n",
              "    background-color: var(--hover-bg-color);\n",
              "    box-shadow: 0 1px 2px rgba(60, 64, 67, 0.3), 0 1px 3px 1px rgba(60, 64, 67, 0.15);\n",
              "    fill: var(--button-hover-fill-color);\n",
              "  }\n",
              "\n",
              "  .colab-df-quickchart-complete:disabled,\n",
              "  .colab-df-quickchart-complete:disabled:hover {\n",
              "    background-color: var(--disabled-bg-color);\n",
              "    fill: var(--disabled-fill-color);\n",
              "    box-shadow: none;\n",
              "  }\n",
              "\n",
              "  .colab-df-spinner {\n",
              "    border: 2px solid var(--fill-color);\n",
              "    border-color: transparent;\n",
              "    border-bottom-color: var(--fill-color);\n",
              "    animation:\n",
              "      spin 1s steps(1) infinite;\n",
              "  }\n",
              "\n",
              "  @keyframes spin {\n",
              "    0% {\n",
              "      border-color: transparent;\n",
              "      border-bottom-color: var(--fill-color);\n",
              "      border-left-color: var(--fill-color);\n",
              "    }\n",
              "    20% {\n",
              "      border-color: transparent;\n",
              "      border-left-color: var(--fill-color);\n",
              "      border-top-color: var(--fill-color);\n",
              "    }\n",
              "    30% {\n",
              "      border-color: transparent;\n",
              "      border-left-color: var(--fill-color);\n",
              "      border-top-color: var(--fill-color);\n",
              "      border-right-color: var(--fill-color);\n",
              "    }\n",
              "    40% {\n",
              "      border-color: transparent;\n",
              "      border-right-color: var(--fill-color);\n",
              "      border-top-color: var(--fill-color);\n",
              "    }\n",
              "    60% {\n",
              "      border-color: transparent;\n",
              "      border-right-color: var(--fill-color);\n",
              "    }\n",
              "    80% {\n",
              "      border-color: transparent;\n",
              "      border-right-color: var(--fill-color);\n",
              "      border-bottom-color: var(--fill-color);\n",
              "    }\n",
              "    90% {\n",
              "      border-color: transparent;\n",
              "      border-bottom-color: var(--fill-color);\n",
              "    }\n",
              "  }\n",
              "</style>\n",
              "\n",
              "  <script>\n",
              "    async function quickchart(key) {\n",
              "      const quickchartButtonEl =\n",
              "        document.querySelector('#' + key + ' button');\n",
              "      quickchartButtonEl.disabled = true;  // To prevent multiple clicks.\n",
              "      quickchartButtonEl.classList.add('colab-df-spinner');\n",
              "      try {\n",
              "        const charts = await google.colab.kernel.invokeFunction(\n",
              "            'suggestCharts', [key], {});\n",
              "      } catch (error) {\n",
              "        console.error('Error during call to suggestCharts:', error);\n",
              "      }\n",
              "      quickchartButtonEl.classList.remove('colab-df-spinner');\n",
              "      quickchartButtonEl.classList.add('colab-df-quickchart-complete');\n",
              "    }\n",
              "    (() => {\n",
              "      let quickchartButtonEl =\n",
              "        document.querySelector('#df-06ddfb4f-3e37-4564-9fe8-e1e9aa84a21e button');\n",
              "      quickchartButtonEl.style.display =\n",
              "        google.colab.kernel.accessAllowed ? 'block' : 'none';\n",
              "    })();\n",
              "  </script>\n",
              "</div>\n",
              "\n",
              "    </div>\n",
              "  </div>\n"
            ],
            "application/vnd.google.colaboratory.intrinsic+json": {
              "type": "dataframe",
              "variable_name": "df"
            }
          },
          "metadata": {},
          "execution_count": 127
        }
      ]
    },
    {
      "cell_type": "markdown",
      "metadata": {
        "id": "TIFmxvIT2wsn"
      },
      "source": [
        "**2.1.2** <font color = red>[3 marks]</font> <br>\n",
        "There are two airport fee columns. This is possibly an error in naming columns. Let's see whether these can be combined into a single column."
      ]
    },
    {
      "cell_type": "code",
      "source": [
        "df['Airport_fee'].value_counts()"
      ],
      "metadata": {
        "colab": {
          "base_uri": "https://localhost:8080/",
          "height": 241
        },
        "id": "pIr1fetUqXRL",
        "outputId": "f7cbb6ef-aeea-49d9-ff56-c0859cf38535"
      },
      "execution_count": 128,
      "outputs": [
        {
          "output_type": "execute_result",
          "data": {
            "text/plain": [
              "Airport_fee\n",
              " 0.00    539173\n",
              " 1.75     66914\n",
              " 1.25     15106\n",
              "-1.75        25\n",
              "Name: count, dtype: int64"
            ],
            "text/html": [
              "<div>\n",
              "<style scoped>\n",
              "    .dataframe tbody tr th:only-of-type {\n",
              "        vertical-align: middle;\n",
              "    }\n",
              "\n",
              "    .dataframe tbody tr th {\n",
              "        vertical-align: top;\n",
              "    }\n",
              "\n",
              "    .dataframe thead th {\n",
              "        text-align: right;\n",
              "    }\n",
              "</style>\n",
              "<table border=\"1\" class=\"dataframe\">\n",
              "  <thead>\n",
              "    <tr style=\"text-align: right;\">\n",
              "      <th></th>\n",
              "      <th>count</th>\n",
              "    </tr>\n",
              "    <tr>\n",
              "      <th>Airport_fee</th>\n",
              "      <th></th>\n",
              "    </tr>\n",
              "  </thead>\n",
              "  <tbody>\n",
              "    <tr>\n",
              "      <th>0.00</th>\n",
              "      <td>539173</td>\n",
              "    </tr>\n",
              "    <tr>\n",
              "      <th>1.75</th>\n",
              "      <td>66914</td>\n",
              "    </tr>\n",
              "    <tr>\n",
              "      <th>1.25</th>\n",
              "      <td>15106</td>\n",
              "    </tr>\n",
              "    <tr>\n",
              "      <th>-1.75</th>\n",
              "      <td>25</td>\n",
              "    </tr>\n",
              "  </tbody>\n",
              "</table>\n",
              "</div><br><label><b>dtype:</b> int64</label>"
            ]
          },
          "metadata": {},
          "execution_count": 128
        }
      ]
    },
    {
      "cell_type": "code",
      "source": [
        "df['Airport_fee'].isnull().sum()"
      ],
      "metadata": {
        "colab": {
          "base_uri": "https://localhost:8080/"
        },
        "id": "F1aVrzYduywm",
        "outputId": "d0bd733a-bc61-46dd-b504-e13a8eb0033a"
      },
      "execution_count": 129,
      "outputs": [
        {
          "output_type": "execute_result",
          "data": {
            "text/plain": [
              "np.int64(68165)"
            ]
          },
          "metadata": {},
          "execution_count": 129
        }
      ]
    },
    {
      "cell_type": "code",
      "source": [
        "df['airport_fee'].isnull().sum()"
      ],
      "metadata": {
        "colab": {
          "base_uri": "https://localhost:8080/"
        },
        "id": "xNzArUMxu-gW",
        "outputId": "8291d191-b4eb-41c5-a583-c7e59e292db0"
      },
      "execution_count": 130,
      "outputs": [
        {
          "output_type": "execute_result",
          "data": {
            "text/plain": [
              "np.int64(649888)"
            ]
          },
          "metadata": {},
          "execution_count": 130
        }
      ]
    },
    {
      "cell_type": "code",
      "source": [
        "#df.method({col: value}, inplace=True)'\n",
        "df.fillna({'airport_fee': 0}, inplace=True)\n",
        "df.fillna({'Airport_fee': 0}, inplace=True)"
      ],
      "metadata": {
        "id": "pygQ0UkZvE2m"
      },
      "execution_count": 131,
      "outputs": []
    },
    {
      "cell_type": "code",
      "source": [
        "df['Airport_fee'].isnull().sum()"
      ],
      "metadata": {
        "colab": {
          "base_uri": "https://localhost:8080/"
        },
        "id": "TgDdL4wPuM-z",
        "outputId": "e12d1e86-73d2-4bb2-8063-c914ef4c9ee1"
      },
      "execution_count": 132,
      "outputs": [
        {
          "output_type": "execute_result",
          "data": {
            "text/plain": [
              "np.int64(0)"
            ]
          },
          "metadata": {},
          "execution_count": 132
        }
      ]
    },
    {
      "cell_type": "code",
      "source": [
        "df['airport_fee'].isnull().sum()"
      ],
      "metadata": {
        "colab": {
          "base_uri": "https://localhost:8080/"
        },
        "id": "KSzDyQLWvaNC",
        "outputId": "a7e2319c-3df4-4e62-9435-8691eb53a6ab"
      },
      "execution_count": 133,
      "outputs": [
        {
          "output_type": "execute_result",
          "data": {
            "text/plain": [
              "np.int64(0)"
            ]
          },
          "metadata": {},
          "execution_count": 133
        }
      ]
    },
    {
      "cell_type": "code",
      "execution_count": 134,
      "metadata": {
        "id": "rmtgnb1x6TrV"
      },
      "outputs": [],
      "source": [
        "# Combine the two airport fee columns\n",
        "df['Airport_Fee_Combined'] = df.apply(lambda row: row['Airport_fee']+row['airport_fee'], axis=1)\n"
      ]
    },
    {
      "cell_type": "code",
      "source": [
        "df['Airport_Fee_Combined'].value_counts()"
      ],
      "metadata": {
        "colab": {
          "base_uri": "https://localhost:8080/",
          "height": 241
        },
        "id": "d8NiCNIUvlE-",
        "outputId": "31d44c5e-5015-46e4-9367-21485c9b2bd6"
      },
      "execution_count": 135,
      "outputs": [
        {
          "output_type": "execute_result",
          "data": {
            "text/plain": [
              "Airport_Fee_Combined\n",
              " 0.00    601768\n",
              " 1.75     66914\n",
              " 1.25     20676\n",
              "-1.75        25\n",
              "Name: count, dtype: int64"
            ],
            "text/html": [
              "<div>\n",
              "<style scoped>\n",
              "    .dataframe tbody tr th:only-of-type {\n",
              "        vertical-align: middle;\n",
              "    }\n",
              "\n",
              "    .dataframe tbody tr th {\n",
              "        vertical-align: top;\n",
              "    }\n",
              "\n",
              "    .dataframe thead th {\n",
              "        text-align: right;\n",
              "    }\n",
              "</style>\n",
              "<table border=\"1\" class=\"dataframe\">\n",
              "  <thead>\n",
              "    <tr style=\"text-align: right;\">\n",
              "      <th></th>\n",
              "      <th>count</th>\n",
              "    </tr>\n",
              "    <tr>\n",
              "      <th>Airport_Fee_Combined</th>\n",
              "      <th></th>\n",
              "    </tr>\n",
              "  </thead>\n",
              "  <tbody>\n",
              "    <tr>\n",
              "      <th>0.00</th>\n",
              "      <td>601768</td>\n",
              "    </tr>\n",
              "    <tr>\n",
              "      <th>1.75</th>\n",
              "      <td>66914</td>\n",
              "    </tr>\n",
              "    <tr>\n",
              "      <th>1.25</th>\n",
              "      <td>20676</td>\n",
              "    </tr>\n",
              "    <tr>\n",
              "      <th>-1.75</th>\n",
              "      <td>25</td>\n",
              "    </tr>\n",
              "  </tbody>\n",
              "</table>\n",
              "</div><br><label><b>dtype:</b> int64</label>"
            ]
          },
          "metadata": {},
          "execution_count": 135
        }
      ]
    },
    {
      "cell_type": "code",
      "source": [
        "df.drop(columns=['Airport_fee', 'airport_fee'], inplace=True)"
      ],
      "metadata": {
        "id": "tEV16OVqv6Ci"
      },
      "execution_count": 136,
      "outputs": []
    },
    {
      "cell_type": "code",
      "source": [
        "df.head()"
      ],
      "metadata": {
        "colab": {
          "base_uri": "https://localhost:8080/",
          "height": 226
        },
        "id": "VmbqOm3MwBUZ",
        "outputId": "08da04c6-ac10-4c4e-ce90-745840001d57"
      },
      "execution_count": 137,
      "outputs": [
        {
          "output_type": "execute_result",
          "data": {
            "text/plain": [
              "   VendorID tpep_pickup_datetime tpep_dropoff_datetime  passenger_count  \\\n",
              "0         2  2023-11-21 23:07:22   2023-11-21 23:49:11              1.0   \n",
              "1         2  2023-11-08 23:35:26   2023-11-08 23:59:14              1.0   \n",
              "2         1  2023-11-07 23:53:47   2023-11-08 00:02:24              1.0   \n",
              "3         1  2023-11-04 23:42:25   2023-11-04 23:57:52              NaN   \n",
              "4         2  2023-11-10 23:55:12   2023-11-11 00:26:48              2.0   \n",
              "\n",
              "   trip_distance  RatecodeID  PULocationID  DOLocationID  payment_type  \\\n",
              "0          27.98         4.0           132           265             1   \n",
              "1           3.73         1.0           114           143             1   \n",
              "2           3.40         1.0           132           216             1   \n",
              "3           2.00         NaN           161           234             0   \n",
              "4          15.30         1.0           132           255             1   \n",
              "\n",
              "   fare_amount  extra  mta_tax  tip_amount  tolls_amount  \\\n",
              "0        166.8   1.00      0.5       20.00           0.0   \n",
              "1         23.3   1.00      0.5        4.00           0.0   \n",
              "2         15.6   2.75      0.5        3.95           0.0   \n",
              "3         14.9   1.00      0.5        3.98           0.0   \n",
              "4         61.8   1.00      0.5       16.07           0.0   \n",
              "\n",
              "   improvement_surcharge  total_amount  congestion_surcharge  \\\n",
              "0                    1.0        191.05                   0.0   \n",
              "1                    1.0         32.30                   2.5   \n",
              "2                    1.0         23.80                   0.0   \n",
              "3                    1.0         23.88                   NaN   \n",
              "4                    1.0         82.12                   0.0   \n",
              "\n",
              "   Airport_Fee_Combined  \n",
              "0                  1.75  \n",
              "1                  0.00  \n",
              "2                  1.75  \n",
              "3                  0.00  \n",
              "4                  1.75  "
            ],
            "text/html": [
              "\n",
              "  <div id=\"df-6571fe01-0c9f-4ca9-bd63-9ad10259193c\" class=\"colab-df-container\">\n",
              "    <div>\n",
              "<style scoped>\n",
              "    .dataframe tbody tr th:only-of-type {\n",
              "        vertical-align: middle;\n",
              "    }\n",
              "\n",
              "    .dataframe tbody tr th {\n",
              "        vertical-align: top;\n",
              "    }\n",
              "\n",
              "    .dataframe thead th {\n",
              "        text-align: right;\n",
              "    }\n",
              "</style>\n",
              "<table border=\"1\" class=\"dataframe\">\n",
              "  <thead>\n",
              "    <tr style=\"text-align: right;\">\n",
              "      <th></th>\n",
              "      <th>VendorID</th>\n",
              "      <th>tpep_pickup_datetime</th>\n",
              "      <th>tpep_dropoff_datetime</th>\n",
              "      <th>passenger_count</th>\n",
              "      <th>trip_distance</th>\n",
              "      <th>RatecodeID</th>\n",
              "      <th>PULocationID</th>\n",
              "      <th>DOLocationID</th>\n",
              "      <th>payment_type</th>\n",
              "      <th>fare_amount</th>\n",
              "      <th>extra</th>\n",
              "      <th>mta_tax</th>\n",
              "      <th>tip_amount</th>\n",
              "      <th>tolls_amount</th>\n",
              "      <th>improvement_surcharge</th>\n",
              "      <th>total_amount</th>\n",
              "      <th>congestion_surcharge</th>\n",
              "      <th>Airport_Fee_Combined</th>\n",
              "    </tr>\n",
              "  </thead>\n",
              "  <tbody>\n",
              "    <tr>\n",
              "      <th>0</th>\n",
              "      <td>2</td>\n",
              "      <td>2023-11-21 23:07:22</td>\n",
              "      <td>2023-11-21 23:49:11</td>\n",
              "      <td>1.0</td>\n",
              "      <td>27.98</td>\n",
              "      <td>4.0</td>\n",
              "      <td>132</td>\n",
              "      <td>265</td>\n",
              "      <td>1</td>\n",
              "      <td>166.8</td>\n",
              "      <td>1.00</td>\n",
              "      <td>0.5</td>\n",
              "      <td>20.00</td>\n",
              "      <td>0.0</td>\n",
              "      <td>1.0</td>\n",
              "      <td>191.05</td>\n",
              "      <td>0.0</td>\n",
              "      <td>1.75</td>\n",
              "    </tr>\n",
              "    <tr>\n",
              "      <th>1</th>\n",
              "      <td>2</td>\n",
              "      <td>2023-11-08 23:35:26</td>\n",
              "      <td>2023-11-08 23:59:14</td>\n",
              "      <td>1.0</td>\n",
              "      <td>3.73</td>\n",
              "      <td>1.0</td>\n",
              "      <td>114</td>\n",
              "      <td>143</td>\n",
              "      <td>1</td>\n",
              "      <td>23.3</td>\n",
              "      <td>1.00</td>\n",
              "      <td>0.5</td>\n",
              "      <td>4.00</td>\n",
              "      <td>0.0</td>\n",
              "      <td>1.0</td>\n",
              "      <td>32.30</td>\n",
              "      <td>2.5</td>\n",
              "      <td>0.00</td>\n",
              "    </tr>\n",
              "    <tr>\n",
              "      <th>2</th>\n",
              "      <td>1</td>\n",
              "      <td>2023-11-07 23:53:47</td>\n",
              "      <td>2023-11-08 00:02:24</td>\n",
              "      <td>1.0</td>\n",
              "      <td>3.40</td>\n",
              "      <td>1.0</td>\n",
              "      <td>132</td>\n",
              "      <td>216</td>\n",
              "      <td>1</td>\n",
              "      <td>15.6</td>\n",
              "      <td>2.75</td>\n",
              "      <td>0.5</td>\n",
              "      <td>3.95</td>\n",
              "      <td>0.0</td>\n",
              "      <td>1.0</td>\n",
              "      <td>23.80</td>\n",
              "      <td>0.0</td>\n",
              "      <td>1.75</td>\n",
              "    </tr>\n",
              "    <tr>\n",
              "      <th>3</th>\n",
              "      <td>1</td>\n",
              "      <td>2023-11-04 23:42:25</td>\n",
              "      <td>2023-11-04 23:57:52</td>\n",
              "      <td>NaN</td>\n",
              "      <td>2.00</td>\n",
              "      <td>NaN</td>\n",
              "      <td>161</td>\n",
              "      <td>234</td>\n",
              "      <td>0</td>\n",
              "      <td>14.9</td>\n",
              "      <td>1.00</td>\n",
              "      <td>0.5</td>\n",
              "      <td>3.98</td>\n",
              "      <td>0.0</td>\n",
              "      <td>1.0</td>\n",
              "      <td>23.88</td>\n",
              "      <td>NaN</td>\n",
              "      <td>0.00</td>\n",
              "    </tr>\n",
              "    <tr>\n",
              "      <th>4</th>\n",
              "      <td>2</td>\n",
              "      <td>2023-11-10 23:55:12</td>\n",
              "      <td>2023-11-11 00:26:48</td>\n",
              "      <td>2.0</td>\n",
              "      <td>15.30</td>\n",
              "      <td>1.0</td>\n",
              "      <td>132</td>\n",
              "      <td>255</td>\n",
              "      <td>1</td>\n",
              "      <td>61.8</td>\n",
              "      <td>1.00</td>\n",
              "      <td>0.5</td>\n",
              "      <td>16.07</td>\n",
              "      <td>0.0</td>\n",
              "      <td>1.0</td>\n",
              "      <td>82.12</td>\n",
              "      <td>0.0</td>\n",
              "      <td>1.75</td>\n",
              "    </tr>\n",
              "  </tbody>\n",
              "</table>\n",
              "</div>\n",
              "    <div class=\"colab-df-buttons\">\n",
              "\n",
              "  <div class=\"colab-df-container\">\n",
              "    <button class=\"colab-df-convert\" onclick=\"convertToInteractive('df-6571fe01-0c9f-4ca9-bd63-9ad10259193c')\"\n",
              "            title=\"Convert this dataframe to an interactive table.\"\n",
              "            style=\"display:none;\">\n",
              "\n",
              "  <svg xmlns=\"http://www.w3.org/2000/svg\" height=\"24px\" viewBox=\"0 -960 960 960\">\n",
              "    <path d=\"M120-120v-720h720v720H120Zm60-500h600v-160H180v160Zm220 220h160v-160H400v160Zm0 220h160v-160H400v160ZM180-400h160v-160H180v160Zm440 0h160v-160H620v160ZM180-180h160v-160H180v160Zm440 0h160v-160H620v160Z\"/>\n",
              "  </svg>\n",
              "    </button>\n",
              "\n",
              "  <style>\n",
              "    .colab-df-container {\n",
              "      display:flex;\n",
              "      gap: 12px;\n",
              "    }\n",
              "\n",
              "    .colab-df-convert {\n",
              "      background-color: #E8F0FE;\n",
              "      border: none;\n",
              "      border-radius: 50%;\n",
              "      cursor: pointer;\n",
              "      display: none;\n",
              "      fill: #1967D2;\n",
              "      height: 32px;\n",
              "      padding: 0 0 0 0;\n",
              "      width: 32px;\n",
              "    }\n",
              "\n",
              "    .colab-df-convert:hover {\n",
              "      background-color: #E2EBFA;\n",
              "      box-shadow: 0px 1px 2px rgba(60, 64, 67, 0.3), 0px 1px 3px 1px rgba(60, 64, 67, 0.15);\n",
              "      fill: #174EA6;\n",
              "    }\n",
              "\n",
              "    .colab-df-buttons div {\n",
              "      margin-bottom: 4px;\n",
              "    }\n",
              "\n",
              "    [theme=dark] .colab-df-convert {\n",
              "      background-color: #3B4455;\n",
              "      fill: #D2E3FC;\n",
              "    }\n",
              "\n",
              "    [theme=dark] .colab-df-convert:hover {\n",
              "      background-color: #434B5C;\n",
              "      box-shadow: 0px 1px 3px 1px rgba(0, 0, 0, 0.15);\n",
              "      filter: drop-shadow(0px 1px 2px rgba(0, 0, 0, 0.3));\n",
              "      fill: #FFFFFF;\n",
              "    }\n",
              "  </style>\n",
              "\n",
              "    <script>\n",
              "      const buttonEl =\n",
              "        document.querySelector('#df-6571fe01-0c9f-4ca9-bd63-9ad10259193c button.colab-df-convert');\n",
              "      buttonEl.style.display =\n",
              "        google.colab.kernel.accessAllowed ? 'block' : 'none';\n",
              "\n",
              "      async function convertToInteractive(key) {\n",
              "        const element = document.querySelector('#df-6571fe01-0c9f-4ca9-bd63-9ad10259193c');\n",
              "        const dataTable =\n",
              "          await google.colab.kernel.invokeFunction('convertToInteractive',\n",
              "                                                    [key], {});\n",
              "        if (!dataTable) return;\n",
              "\n",
              "        const docLinkHtml = 'Like what you see? Visit the ' +\n",
              "          '<a target=\"_blank\" href=https://colab.research.google.com/notebooks/data_table.ipynb>data table notebook</a>'\n",
              "          + ' to learn more about interactive tables.';\n",
              "        element.innerHTML = '';\n",
              "        dataTable['output_type'] = 'display_data';\n",
              "        await google.colab.output.renderOutput(dataTable, element);\n",
              "        const docLink = document.createElement('div');\n",
              "        docLink.innerHTML = docLinkHtml;\n",
              "        element.appendChild(docLink);\n",
              "      }\n",
              "    </script>\n",
              "  </div>\n",
              "\n",
              "\n",
              "<div id=\"df-e2ca7210-d3df-4946-b9b3-d1ea3b0feb5b\">\n",
              "  <button class=\"colab-df-quickchart\" onclick=\"quickchart('df-e2ca7210-d3df-4946-b9b3-d1ea3b0feb5b')\"\n",
              "            title=\"Suggest charts\"\n",
              "            style=\"display:none;\">\n",
              "\n",
              "<svg xmlns=\"http://www.w3.org/2000/svg\" height=\"24px\"viewBox=\"0 0 24 24\"\n",
              "     width=\"24px\">\n",
              "    <g>\n",
              "        <path d=\"M19 3H5c-1.1 0-2 .9-2 2v14c0 1.1.9 2 2 2h14c1.1 0 2-.9 2-2V5c0-1.1-.9-2-2-2zM9 17H7v-7h2v7zm4 0h-2V7h2v10zm4 0h-2v-4h2v4z\"/>\n",
              "    </g>\n",
              "</svg>\n",
              "  </button>\n",
              "\n",
              "<style>\n",
              "  .colab-df-quickchart {\n",
              "      --bg-color: #E8F0FE;\n",
              "      --fill-color: #1967D2;\n",
              "      --hover-bg-color: #E2EBFA;\n",
              "      --hover-fill-color: #174EA6;\n",
              "      --disabled-fill-color: #AAA;\n",
              "      --disabled-bg-color: #DDD;\n",
              "  }\n",
              "\n",
              "  [theme=dark] .colab-df-quickchart {\n",
              "      --bg-color: #3B4455;\n",
              "      --fill-color: #D2E3FC;\n",
              "      --hover-bg-color: #434B5C;\n",
              "      --hover-fill-color: #FFFFFF;\n",
              "      --disabled-bg-color: #3B4455;\n",
              "      --disabled-fill-color: #666;\n",
              "  }\n",
              "\n",
              "  .colab-df-quickchart {\n",
              "    background-color: var(--bg-color);\n",
              "    border: none;\n",
              "    border-radius: 50%;\n",
              "    cursor: pointer;\n",
              "    display: none;\n",
              "    fill: var(--fill-color);\n",
              "    height: 32px;\n",
              "    padding: 0;\n",
              "    width: 32px;\n",
              "  }\n",
              "\n",
              "  .colab-df-quickchart:hover {\n",
              "    background-color: var(--hover-bg-color);\n",
              "    box-shadow: 0 1px 2px rgba(60, 64, 67, 0.3), 0 1px 3px 1px rgba(60, 64, 67, 0.15);\n",
              "    fill: var(--button-hover-fill-color);\n",
              "  }\n",
              "\n",
              "  .colab-df-quickchart-complete:disabled,\n",
              "  .colab-df-quickchart-complete:disabled:hover {\n",
              "    background-color: var(--disabled-bg-color);\n",
              "    fill: var(--disabled-fill-color);\n",
              "    box-shadow: none;\n",
              "  }\n",
              "\n",
              "  .colab-df-spinner {\n",
              "    border: 2px solid var(--fill-color);\n",
              "    border-color: transparent;\n",
              "    border-bottom-color: var(--fill-color);\n",
              "    animation:\n",
              "      spin 1s steps(1) infinite;\n",
              "  }\n",
              "\n",
              "  @keyframes spin {\n",
              "    0% {\n",
              "      border-color: transparent;\n",
              "      border-bottom-color: var(--fill-color);\n",
              "      border-left-color: var(--fill-color);\n",
              "    }\n",
              "    20% {\n",
              "      border-color: transparent;\n",
              "      border-left-color: var(--fill-color);\n",
              "      border-top-color: var(--fill-color);\n",
              "    }\n",
              "    30% {\n",
              "      border-color: transparent;\n",
              "      border-left-color: var(--fill-color);\n",
              "      border-top-color: var(--fill-color);\n",
              "      border-right-color: var(--fill-color);\n",
              "    }\n",
              "    40% {\n",
              "      border-color: transparent;\n",
              "      border-right-color: var(--fill-color);\n",
              "      border-top-color: var(--fill-color);\n",
              "    }\n",
              "    60% {\n",
              "      border-color: transparent;\n",
              "      border-right-color: var(--fill-color);\n",
              "    }\n",
              "    80% {\n",
              "      border-color: transparent;\n",
              "      border-right-color: var(--fill-color);\n",
              "      border-bottom-color: var(--fill-color);\n",
              "    }\n",
              "    90% {\n",
              "      border-color: transparent;\n",
              "      border-bottom-color: var(--fill-color);\n",
              "    }\n",
              "  }\n",
              "</style>\n",
              "\n",
              "  <script>\n",
              "    async function quickchart(key) {\n",
              "      const quickchartButtonEl =\n",
              "        document.querySelector('#' + key + ' button');\n",
              "      quickchartButtonEl.disabled = true;  // To prevent multiple clicks.\n",
              "      quickchartButtonEl.classList.add('colab-df-spinner');\n",
              "      try {\n",
              "        const charts = await google.colab.kernel.invokeFunction(\n",
              "            'suggestCharts', [key], {});\n",
              "      } catch (error) {\n",
              "        console.error('Error during call to suggestCharts:', error);\n",
              "      }\n",
              "      quickchartButtonEl.classList.remove('colab-df-spinner');\n",
              "      quickchartButtonEl.classList.add('colab-df-quickchart-complete');\n",
              "    }\n",
              "    (() => {\n",
              "      let quickchartButtonEl =\n",
              "        document.querySelector('#df-e2ca7210-d3df-4946-b9b3-d1ea3b0feb5b button');\n",
              "      quickchartButtonEl.style.display =\n",
              "        google.colab.kernel.accessAllowed ? 'block' : 'none';\n",
              "    })();\n",
              "  </script>\n",
              "</div>\n",
              "\n",
              "    </div>\n",
              "  </div>\n"
            ],
            "application/vnd.google.colaboratory.intrinsic+json": {
              "type": "dataframe",
              "variable_name": "df"
            }
          },
          "metadata": {},
          "execution_count": 137
        }
      ]
    },
    {
      "cell_type": "markdown",
      "metadata": {
        "id": "1g4AHG7mOYgP"
      },
      "source": [
        "**2.1.3** <font color = red>[5 marks]</font> <br>\n",
        "Fix columns with negative (monetary) values"
      ]
    },
    {
      "cell_type": "code",
      "execution_count": 139,
      "metadata": {
        "id": "nBsMT2MII1Hv",
        "colab": {
          "base_uri": "https://localhost:8080/",
          "height": 355
        },
        "outputId": "ff1887f8-d1fb-4719-ac0c-b3c63665636a"
      },
      "outputs": [
        {
          "output_type": "execute_result",
          "data": {
            "text/plain": [
              "            VendorID        tpep_pickup_datetime       tpep_dropoff_datetime  \\\n",
              "count  689383.000000                      689383                      689383   \n",
              "mean        1.762277  2023-07-02 02:37:44.302750  2023-07-02 02:54:08.517650   \n",
              "min         1.000000         2023-01-01 23:00:44         2023-01-01 23:08:30   \n",
              "25%         2.000000         2023-04-10 23:12:37         2023-04-10 23:24:59   \n",
              "50%         2.000000         2023-06-12 23:56:06         2023-06-13 00:16:16   \n",
              "75%         2.000000  2023-10-17 23:56:57.500000  2023-10-18 00:16:33.500000   \n",
              "max         6.000000         2023-12-31 23:59:08         2024-01-01 00:44:46   \n",
              "std         0.426914                         NaN                         NaN   \n",
              "\n",
              "       passenger_count  trip_distance     RatecodeID   PULocationID  \\\n",
              "count    660713.000000  689383.000000  660713.000000  689383.000000   \n",
              "mean          1.410914       4.046422       1.188348     156.184980   \n",
              "min           0.000000       0.000000       1.000000       1.000000   \n",
              "25%           1.000000       1.260000       1.000000     114.000000   \n",
              "50%           1.000000       2.260000       1.000000     144.000000   \n",
              "75%           2.000000       4.590000       1.000000     229.000000   \n",
              "max           6.000000      71.100000      99.000000     265.000000   \n",
              "std           0.900089       4.778010       3.256922      62.351322   \n",
              "\n",
              "        DOLocationID   payment_type    fare_amount          extra  \\\n",
              "count  689383.000000  689383.000000  689383.000000  689383.000000   \n",
              "mean      157.855493       1.129265      21.107195       1.729881   \n",
              "min         1.000000       0.000000       0.000000       0.000000   \n",
              "25%        93.000000       1.000000      10.000000       1.000000   \n",
              "50%       161.000000       1.000000      14.900000       1.000000   \n",
              "75%       233.000000       1.000000      24.700000       2.750000   \n",
              "max       265.000000       4.000000     512.000000      10.250000   \n",
              "std        73.872600       0.507642      18.733210       1.618286   \n",
              "\n",
              "             mta_tax     tip_amount   tolls_amount  improvement_surcharge  \\\n",
              "count  689383.000000  689383.000000  689383.000000          689383.000000   \n",
              "mean        0.495957       3.790306       0.557005               0.999315   \n",
              "min        -0.500000       0.000000       0.000000              -1.000000   \n",
              "25%         0.500000       1.000000       0.000000               1.000000   \n",
              "50%         0.500000       3.000000       0.000000               1.000000   \n",
              "75%         0.500000       4.855000       0.000000               1.000000   \n",
              "max         0.800000     200.000000      80.910000               1.000000   \n",
              "std         0.045114       4.140304       2.007596               0.026514   \n",
              "\n",
              "        total_amount  congestion_surcharge  Airport_Fee_Combined  \n",
              "count  689383.000000         660713.000000         689383.000000  \n",
              "mean       30.595620              2.250728              0.207288  \n",
              "min        -3.250000              0.000000             -1.750000  \n",
              "25%        16.770000              2.500000              0.000000  \n",
              "50%        22.250000              2.500000              0.000000  \n",
              "75%        34.490000              2.500000              0.000000  \n",
              "max       515.500000              2.500000              1.750000  \n",
              "std        22.800673              0.749029              0.548874  "
            ],
            "text/html": [
              "\n",
              "  <div id=\"df-7a4b07fe-2010-4c50-b7a7-b8d49373b6d7\" class=\"colab-df-container\">\n",
              "    <div>\n",
              "<style scoped>\n",
              "    .dataframe tbody tr th:only-of-type {\n",
              "        vertical-align: middle;\n",
              "    }\n",
              "\n",
              "    .dataframe tbody tr th {\n",
              "        vertical-align: top;\n",
              "    }\n",
              "\n",
              "    .dataframe thead th {\n",
              "        text-align: right;\n",
              "    }\n",
              "</style>\n",
              "<table border=\"1\" class=\"dataframe\">\n",
              "  <thead>\n",
              "    <tr style=\"text-align: right;\">\n",
              "      <th></th>\n",
              "      <th>VendorID</th>\n",
              "      <th>tpep_pickup_datetime</th>\n",
              "      <th>tpep_dropoff_datetime</th>\n",
              "      <th>passenger_count</th>\n",
              "      <th>trip_distance</th>\n",
              "      <th>RatecodeID</th>\n",
              "      <th>PULocationID</th>\n",
              "      <th>DOLocationID</th>\n",
              "      <th>payment_type</th>\n",
              "      <th>fare_amount</th>\n",
              "      <th>extra</th>\n",
              "      <th>mta_tax</th>\n",
              "      <th>tip_amount</th>\n",
              "      <th>tolls_amount</th>\n",
              "      <th>improvement_surcharge</th>\n",
              "      <th>total_amount</th>\n",
              "      <th>congestion_surcharge</th>\n",
              "      <th>Airport_Fee_Combined</th>\n",
              "    </tr>\n",
              "  </thead>\n",
              "  <tbody>\n",
              "    <tr>\n",
              "      <th>count</th>\n",
              "      <td>689383.000000</td>\n",
              "      <td>689383</td>\n",
              "      <td>689383</td>\n",
              "      <td>660713.000000</td>\n",
              "      <td>689383.000000</td>\n",
              "      <td>660713.000000</td>\n",
              "      <td>689383.000000</td>\n",
              "      <td>689383.000000</td>\n",
              "      <td>689383.000000</td>\n",
              "      <td>689383.000000</td>\n",
              "      <td>689383.000000</td>\n",
              "      <td>689383.000000</td>\n",
              "      <td>689383.000000</td>\n",
              "      <td>689383.000000</td>\n",
              "      <td>689383.000000</td>\n",
              "      <td>689383.000000</td>\n",
              "      <td>660713.000000</td>\n",
              "      <td>689383.000000</td>\n",
              "    </tr>\n",
              "    <tr>\n",
              "      <th>mean</th>\n",
              "      <td>1.762277</td>\n",
              "      <td>2023-07-02 02:37:44.302750</td>\n",
              "      <td>2023-07-02 02:54:08.517650</td>\n",
              "      <td>1.410914</td>\n",
              "      <td>4.046422</td>\n",
              "      <td>1.188348</td>\n",
              "      <td>156.184980</td>\n",
              "      <td>157.855493</td>\n",
              "      <td>1.129265</td>\n",
              "      <td>21.107195</td>\n",
              "      <td>1.729881</td>\n",
              "      <td>0.495957</td>\n",
              "      <td>3.790306</td>\n",
              "      <td>0.557005</td>\n",
              "      <td>0.999315</td>\n",
              "      <td>30.595620</td>\n",
              "      <td>2.250728</td>\n",
              "      <td>0.207288</td>\n",
              "    </tr>\n",
              "    <tr>\n",
              "      <th>min</th>\n",
              "      <td>1.000000</td>\n",
              "      <td>2023-01-01 23:00:44</td>\n",
              "      <td>2023-01-01 23:08:30</td>\n",
              "      <td>0.000000</td>\n",
              "      <td>0.000000</td>\n",
              "      <td>1.000000</td>\n",
              "      <td>1.000000</td>\n",
              "      <td>1.000000</td>\n",
              "      <td>0.000000</td>\n",
              "      <td>0.000000</td>\n",
              "      <td>0.000000</td>\n",
              "      <td>-0.500000</td>\n",
              "      <td>0.000000</td>\n",
              "      <td>0.000000</td>\n",
              "      <td>-1.000000</td>\n",
              "      <td>-3.250000</td>\n",
              "      <td>0.000000</td>\n",
              "      <td>-1.750000</td>\n",
              "    </tr>\n",
              "    <tr>\n",
              "      <th>25%</th>\n",
              "      <td>2.000000</td>\n",
              "      <td>2023-04-10 23:12:37</td>\n",
              "      <td>2023-04-10 23:24:59</td>\n",
              "      <td>1.000000</td>\n",
              "      <td>1.260000</td>\n",
              "      <td>1.000000</td>\n",
              "      <td>114.000000</td>\n",
              "      <td>93.000000</td>\n",
              "      <td>1.000000</td>\n",
              "      <td>10.000000</td>\n",
              "      <td>1.000000</td>\n",
              "      <td>0.500000</td>\n",
              "      <td>1.000000</td>\n",
              "      <td>0.000000</td>\n",
              "      <td>1.000000</td>\n",
              "      <td>16.770000</td>\n",
              "      <td>2.500000</td>\n",
              "      <td>0.000000</td>\n",
              "    </tr>\n",
              "    <tr>\n",
              "      <th>50%</th>\n",
              "      <td>2.000000</td>\n",
              "      <td>2023-06-12 23:56:06</td>\n",
              "      <td>2023-06-13 00:16:16</td>\n",
              "      <td>1.000000</td>\n",
              "      <td>2.260000</td>\n",
              "      <td>1.000000</td>\n",
              "      <td>144.000000</td>\n",
              "      <td>161.000000</td>\n",
              "      <td>1.000000</td>\n",
              "      <td>14.900000</td>\n",
              "      <td>1.000000</td>\n",
              "      <td>0.500000</td>\n",
              "      <td>3.000000</td>\n",
              "      <td>0.000000</td>\n",
              "      <td>1.000000</td>\n",
              "      <td>22.250000</td>\n",
              "      <td>2.500000</td>\n",
              "      <td>0.000000</td>\n",
              "    </tr>\n",
              "    <tr>\n",
              "      <th>75%</th>\n",
              "      <td>2.000000</td>\n",
              "      <td>2023-10-17 23:56:57.500000</td>\n",
              "      <td>2023-10-18 00:16:33.500000</td>\n",
              "      <td>2.000000</td>\n",
              "      <td>4.590000</td>\n",
              "      <td>1.000000</td>\n",
              "      <td>229.000000</td>\n",
              "      <td>233.000000</td>\n",
              "      <td>1.000000</td>\n",
              "      <td>24.700000</td>\n",
              "      <td>2.750000</td>\n",
              "      <td>0.500000</td>\n",
              "      <td>4.855000</td>\n",
              "      <td>0.000000</td>\n",
              "      <td>1.000000</td>\n",
              "      <td>34.490000</td>\n",
              "      <td>2.500000</td>\n",
              "      <td>0.000000</td>\n",
              "    </tr>\n",
              "    <tr>\n",
              "      <th>max</th>\n",
              "      <td>6.000000</td>\n",
              "      <td>2023-12-31 23:59:08</td>\n",
              "      <td>2024-01-01 00:44:46</td>\n",
              "      <td>6.000000</td>\n",
              "      <td>71.100000</td>\n",
              "      <td>99.000000</td>\n",
              "      <td>265.000000</td>\n",
              "      <td>265.000000</td>\n",
              "      <td>4.000000</td>\n",
              "      <td>512.000000</td>\n",
              "      <td>10.250000</td>\n",
              "      <td>0.800000</td>\n",
              "      <td>200.000000</td>\n",
              "      <td>80.910000</td>\n",
              "      <td>1.000000</td>\n",
              "      <td>515.500000</td>\n",
              "      <td>2.500000</td>\n",
              "      <td>1.750000</td>\n",
              "    </tr>\n",
              "    <tr>\n",
              "      <th>std</th>\n",
              "      <td>0.426914</td>\n",
              "      <td>NaN</td>\n",
              "      <td>NaN</td>\n",
              "      <td>0.900089</td>\n",
              "      <td>4.778010</td>\n",
              "      <td>3.256922</td>\n",
              "      <td>62.351322</td>\n",
              "      <td>73.872600</td>\n",
              "      <td>0.507642</td>\n",
              "      <td>18.733210</td>\n",
              "      <td>1.618286</td>\n",
              "      <td>0.045114</td>\n",
              "      <td>4.140304</td>\n",
              "      <td>2.007596</td>\n",
              "      <td>0.026514</td>\n",
              "      <td>22.800673</td>\n",
              "      <td>0.749029</td>\n",
              "      <td>0.548874</td>\n",
              "    </tr>\n",
              "  </tbody>\n",
              "</table>\n",
              "</div>\n",
              "    <div class=\"colab-df-buttons\">\n",
              "\n",
              "  <div class=\"colab-df-container\">\n",
              "    <button class=\"colab-df-convert\" onclick=\"convertToInteractive('df-7a4b07fe-2010-4c50-b7a7-b8d49373b6d7')\"\n",
              "            title=\"Convert this dataframe to an interactive table.\"\n",
              "            style=\"display:none;\">\n",
              "\n",
              "  <svg xmlns=\"http://www.w3.org/2000/svg\" height=\"24px\" viewBox=\"0 -960 960 960\">\n",
              "    <path d=\"M120-120v-720h720v720H120Zm60-500h600v-160H180v160Zm220 220h160v-160H400v160Zm0 220h160v-160H400v160ZM180-400h160v-160H180v160Zm440 0h160v-160H620v160ZM180-180h160v-160H180v160Zm440 0h160v-160H620v160Z\"/>\n",
              "  </svg>\n",
              "    </button>\n",
              "\n",
              "  <style>\n",
              "    .colab-df-container {\n",
              "      display:flex;\n",
              "      gap: 12px;\n",
              "    }\n",
              "\n",
              "    .colab-df-convert {\n",
              "      background-color: #E8F0FE;\n",
              "      border: none;\n",
              "      border-radius: 50%;\n",
              "      cursor: pointer;\n",
              "      display: none;\n",
              "      fill: #1967D2;\n",
              "      height: 32px;\n",
              "      padding: 0 0 0 0;\n",
              "      width: 32px;\n",
              "    }\n",
              "\n",
              "    .colab-df-convert:hover {\n",
              "      background-color: #E2EBFA;\n",
              "      box-shadow: 0px 1px 2px rgba(60, 64, 67, 0.3), 0px 1px 3px 1px rgba(60, 64, 67, 0.15);\n",
              "      fill: #174EA6;\n",
              "    }\n",
              "\n",
              "    .colab-df-buttons div {\n",
              "      margin-bottom: 4px;\n",
              "    }\n",
              "\n",
              "    [theme=dark] .colab-df-convert {\n",
              "      background-color: #3B4455;\n",
              "      fill: #D2E3FC;\n",
              "    }\n",
              "\n",
              "    [theme=dark] .colab-df-convert:hover {\n",
              "      background-color: #434B5C;\n",
              "      box-shadow: 0px 1px 3px 1px rgba(0, 0, 0, 0.15);\n",
              "      filter: drop-shadow(0px 1px 2px rgba(0, 0, 0, 0.3));\n",
              "      fill: #FFFFFF;\n",
              "    }\n",
              "  </style>\n",
              "\n",
              "    <script>\n",
              "      const buttonEl =\n",
              "        document.querySelector('#df-7a4b07fe-2010-4c50-b7a7-b8d49373b6d7 button.colab-df-convert');\n",
              "      buttonEl.style.display =\n",
              "        google.colab.kernel.accessAllowed ? 'block' : 'none';\n",
              "\n",
              "      async function convertToInteractive(key) {\n",
              "        const element = document.querySelector('#df-7a4b07fe-2010-4c50-b7a7-b8d49373b6d7');\n",
              "        const dataTable =\n",
              "          await google.colab.kernel.invokeFunction('convertToInteractive',\n",
              "                                                    [key], {});\n",
              "        if (!dataTable) return;\n",
              "\n",
              "        const docLinkHtml = 'Like what you see? Visit the ' +\n",
              "          '<a target=\"_blank\" href=https://colab.research.google.com/notebooks/data_table.ipynb>data table notebook</a>'\n",
              "          + ' to learn more about interactive tables.';\n",
              "        element.innerHTML = '';\n",
              "        dataTable['output_type'] = 'display_data';\n",
              "        await google.colab.output.renderOutput(dataTable, element);\n",
              "        const docLink = document.createElement('div');\n",
              "        docLink.innerHTML = docLinkHtml;\n",
              "        element.appendChild(docLink);\n",
              "      }\n",
              "    </script>\n",
              "  </div>\n",
              "\n",
              "\n",
              "<div id=\"df-8de7c16c-9ff4-418d-8e42-3f857aa90191\">\n",
              "  <button class=\"colab-df-quickchart\" onclick=\"quickchart('df-8de7c16c-9ff4-418d-8e42-3f857aa90191')\"\n",
              "            title=\"Suggest charts\"\n",
              "            style=\"display:none;\">\n",
              "\n",
              "<svg xmlns=\"http://www.w3.org/2000/svg\" height=\"24px\"viewBox=\"0 0 24 24\"\n",
              "     width=\"24px\">\n",
              "    <g>\n",
              "        <path d=\"M19 3H5c-1.1 0-2 .9-2 2v14c0 1.1.9 2 2 2h14c1.1 0 2-.9 2-2V5c0-1.1-.9-2-2-2zM9 17H7v-7h2v7zm4 0h-2V7h2v10zm4 0h-2v-4h2v4z\"/>\n",
              "    </g>\n",
              "</svg>\n",
              "  </button>\n",
              "\n",
              "<style>\n",
              "  .colab-df-quickchart {\n",
              "      --bg-color: #E8F0FE;\n",
              "      --fill-color: #1967D2;\n",
              "      --hover-bg-color: #E2EBFA;\n",
              "      --hover-fill-color: #174EA6;\n",
              "      --disabled-fill-color: #AAA;\n",
              "      --disabled-bg-color: #DDD;\n",
              "  }\n",
              "\n",
              "  [theme=dark] .colab-df-quickchart {\n",
              "      --bg-color: #3B4455;\n",
              "      --fill-color: #D2E3FC;\n",
              "      --hover-bg-color: #434B5C;\n",
              "      --hover-fill-color: #FFFFFF;\n",
              "      --disabled-bg-color: #3B4455;\n",
              "      --disabled-fill-color: #666;\n",
              "  }\n",
              "\n",
              "  .colab-df-quickchart {\n",
              "    background-color: var(--bg-color);\n",
              "    border: none;\n",
              "    border-radius: 50%;\n",
              "    cursor: pointer;\n",
              "    display: none;\n",
              "    fill: var(--fill-color);\n",
              "    height: 32px;\n",
              "    padding: 0;\n",
              "    width: 32px;\n",
              "  }\n",
              "\n",
              "  .colab-df-quickchart:hover {\n",
              "    background-color: var(--hover-bg-color);\n",
              "    box-shadow: 0 1px 2px rgba(60, 64, 67, 0.3), 0 1px 3px 1px rgba(60, 64, 67, 0.15);\n",
              "    fill: var(--button-hover-fill-color);\n",
              "  }\n",
              "\n",
              "  .colab-df-quickchart-complete:disabled,\n",
              "  .colab-df-quickchart-complete:disabled:hover {\n",
              "    background-color: var(--disabled-bg-color);\n",
              "    fill: var(--disabled-fill-color);\n",
              "    box-shadow: none;\n",
              "  }\n",
              "\n",
              "  .colab-df-spinner {\n",
              "    border: 2px solid var(--fill-color);\n",
              "    border-color: transparent;\n",
              "    border-bottom-color: var(--fill-color);\n",
              "    animation:\n",
              "      spin 1s steps(1) infinite;\n",
              "  }\n",
              "\n",
              "  @keyframes spin {\n",
              "    0% {\n",
              "      border-color: transparent;\n",
              "      border-bottom-color: var(--fill-color);\n",
              "      border-left-color: var(--fill-color);\n",
              "    }\n",
              "    20% {\n",
              "      border-color: transparent;\n",
              "      border-left-color: var(--fill-color);\n",
              "      border-top-color: var(--fill-color);\n",
              "    }\n",
              "    30% {\n",
              "      border-color: transparent;\n",
              "      border-left-color: var(--fill-color);\n",
              "      border-top-color: var(--fill-color);\n",
              "      border-right-color: var(--fill-color);\n",
              "    }\n",
              "    40% {\n",
              "      border-color: transparent;\n",
              "      border-right-color: var(--fill-color);\n",
              "      border-top-color: var(--fill-color);\n",
              "    }\n",
              "    60% {\n",
              "      border-color: transparent;\n",
              "      border-right-color: var(--fill-color);\n",
              "    }\n",
              "    80% {\n",
              "      border-color: transparent;\n",
              "      border-right-color: var(--fill-color);\n",
              "      border-bottom-color: var(--fill-color);\n",
              "    }\n",
              "    90% {\n",
              "      border-color: transparent;\n",
              "      border-bottom-color: var(--fill-color);\n",
              "    }\n",
              "  }\n",
              "</style>\n",
              "\n",
              "  <script>\n",
              "    async function quickchart(key) {\n",
              "      const quickchartButtonEl =\n",
              "        document.querySelector('#' + key + ' button');\n",
              "      quickchartButtonEl.disabled = true;  // To prevent multiple clicks.\n",
              "      quickchartButtonEl.classList.add('colab-df-spinner');\n",
              "      try {\n",
              "        const charts = await google.colab.kernel.invokeFunction(\n",
              "            'suggestCharts', [key], {});\n",
              "      } catch (error) {\n",
              "        console.error('Error during call to suggestCharts:', error);\n",
              "      }\n",
              "      quickchartButtonEl.classList.remove('colab-df-spinner');\n",
              "      quickchartButtonEl.classList.add('colab-df-quickchart-complete');\n",
              "    }\n",
              "    (() => {\n",
              "      let quickchartButtonEl =\n",
              "        document.querySelector('#df-8de7c16c-9ff4-418d-8e42-3f857aa90191 button');\n",
              "      quickchartButtonEl.style.display =\n",
              "        google.colab.kernel.accessAllowed ? 'block' : 'none';\n",
              "    })();\n",
              "  </script>\n",
              "</div>\n",
              "\n",
              "    </div>\n",
              "  </div>\n"
            ],
            "application/vnd.google.colaboratory.intrinsic+json": {
              "type": "dataframe",
              "summary": "{\n  \"name\": \"df\",\n  \"rows\": 8,\n  \"fields\": [\n    {\n      \"column\": \"VendorID\",\n      \"properties\": {\n        \"dtype\": \"number\",\n        \"std\": 243732.92990303162,\n        \"min\": 0.426913695628066,\n        \"max\": 689383.0,\n        \"num_unique_values\": 6,\n        \"samples\": [\n          689383.0,\n          1.7622772827296294,\n          0.426913695628066\n        ],\n        \"semantic_type\": \"\",\n        \"description\": \"\"\n      }\n    },\n    {\n      \"column\": \"tpep_pickup_datetime\",\n      \"properties\": {\n        \"dtype\": \"date\",\n        \"min\": \"1970-01-01 00:00:00.000689383\",\n        \"max\": \"2023-12-31 23:59:08\",\n        \"num_unique_values\": 7,\n        \"samples\": [\n          \"689383\",\n          \"2023-07-02 02:37:44.302750\",\n          \"2023-10-17 23:56:57.500000\"\n        ],\n        \"semantic_type\": \"\",\n        \"description\": \"\"\n      }\n    },\n    {\n      \"column\": \"tpep_dropoff_datetime\",\n      \"properties\": {\n        \"dtype\": \"date\",\n        \"min\": \"1970-01-01 00:00:00.000689383\",\n        \"max\": \"2024-01-01 00:44:46\",\n        \"num_unique_values\": 7,\n        \"samples\": [\n          \"689383\",\n          \"2023-07-02 02:54:08.517650\",\n          \"2023-10-18 00:16:33.500000\"\n        ],\n        \"semantic_type\": \"\",\n        \"description\": \"\"\n      }\n    },\n    {\n      \"column\": \"passenger_count\",\n      \"properties\": {\n        \"dtype\": \"number\",\n        \"std\": 233596.69956659828,\n        \"min\": 0.0,\n        \"max\": 660713.0,\n        \"num_unique_values\": 7,\n        \"samples\": [\n          660713.0,\n          1.4109136644806444,\n          6.0\n        ],\n        \"semantic_type\": \"\",\n        \"description\": \"\"\n      }\n    },\n    {\n      \"column\": \"trip_distance\",\n      \"properties\": {\n        \"dtype\": \"number\",\n        \"std\": 243729.2518337548,\n        \"min\": 0.0,\n        \"max\": 689383.0,\n        \"num_unique_values\": 8,\n        \"samples\": [\n          4.046422293558151,\n          4.59,\n          689383.0\n        ],\n        \"semantic_type\": \"\",\n        \"description\": \"\"\n      }\n    },\n    {\n      \"column\": \"RatecodeID\",\n      \"properties\": {\n        \"dtype\": \"number\",\n        \"std\": 233591.89705096933,\n        \"min\": 1.0,\n        \"max\": 660713.0,\n        \"num_unique_values\": 5,\n        \"samples\": [\n          1.1883480421907848,\n          3.2569223819348627,\n          1.0\n        ],\n        \"semantic_type\": \"\",\n        \"description\": \"\"\n      }\n    },\n    {\n      \"column\": \"PULocationID\",\n      \"properties\": {\n        \"dtype\": \"number\",\n        \"std\": 243684.6416830376,\n        \"min\": 1.0,\n        \"max\": 689383.0,\n        \"num_unique_values\": 8,\n        \"samples\": [\n          156.18497990231845,\n          229.0,\n          689383.0\n        ],\n        \"semantic_type\": \"\",\n        \"description\": \"\"\n      }\n    },\n    {\n      \"column\": \"DOLocationID\",\n      \"properties\": {\n        \"dtype\": \"number\",\n        \"std\": 243683.9757175485,\n        \"min\": 1.0,\n        \"max\": 689383.0,\n        \"num_unique_values\": 8,\n        \"samples\": [\n          157.85549252012308,\n          233.0,\n          689383.0\n        ],\n        \"semantic_type\": \"\",\n        \"description\": \"\"\n      }\n    },\n    {\n      \"column\": \"payment_type\",\n      \"properties\": {\n        \"dtype\": \"number\",\n        \"std\": 243733.26084059913,\n        \"min\": 0.0,\n        \"max\": 689383.0,\n        \"num_unique_values\": 6,\n        \"samples\": [\n          689383.0,\n          1.129264864378727,\n          0.5076417183596316\n        ],\n        \"semantic_type\": \"\",\n        \"description\": \"\"\n      }\n    },\n    {\n      \"column\": \"fare_amount\",\n      \"properties\": {\n        \"dtype\": \"number\",\n        \"std\": 243703.3819337207,\n        \"min\": 0.0,\n        \"max\": 689383.0,\n        \"num_unique_values\": 8,\n        \"samples\": [\n          21.10719481043194,\n          24.7,\n          689383.0\n        ],\n        \"semantic_type\": \"\",\n        \"description\": \"\"\n      }\n    },\n    {\n      \"column\": \"extra\",\n      \"properties\": {\n        \"dtype\": \"number\",\n        \"std\": 243732.7703661102,\n        \"min\": 0.0,\n        \"max\": 689383.0,\n        \"num_unique_values\": 7,\n        \"samples\": [\n          689383.0,\n          1.72988099503469,\n          10.25\n        ],\n        \"semantic_type\": \"\",\n        \"description\": \"\"\n      }\n    },\n    {\n      \"column\": \"mta_tax\",\n      \"properties\": {\n        \"dtype\": \"number\",\n        \"std\": 243733.57882570432,\n        \"min\": -0.5,\n        \"max\": 689383.0,\n        \"num_unique_values\": 6,\n        \"samples\": [\n          689383.0,\n          0.4959573270591234,\n          0.04511448558216079\n        ],\n        \"semantic_type\": \"\",\n        \"description\": \"\"\n      }\n    },\n    {\n      \"column\": \"tip_amount\",\n      \"properties\": {\n        \"dtype\": \"number\",\n        \"std\": 243722.75751500003,\n        \"min\": 0.0,\n        \"max\": 689383.0,\n        \"num_unique_values\": 8,\n        \"samples\": [\n          3.7903055485847488,\n          4.855,\n          689383.0\n        ],\n        \"semantic_type\": \"\",\n        \"description\": \"\"\n      }\n    },\n    {\n      \"column\": \"tolls_amount\",\n      \"properties\": {\n        \"dtype\": \"number\",\n        \"std\": 243729.48259140778,\n        \"min\": 0.0,\n        \"max\": 689383.0,\n        \"num_unique_values\": 5,\n        \"samples\": [\n          0.5570048579671968,\n          2.0075961420259185,\n          0.0\n        ],\n        \"semantic_type\": \"\",\n        \"description\": \"\"\n      }\n    },\n    {\n      \"column\": \"improvement_surcharge\",\n      \"properties\": {\n        \"dtype\": \"number\",\n        \"std\": 243733.49373333988,\n        \"min\": -1.0,\n        \"max\": 689383.0,\n        \"num_unique_values\": 5,\n        \"samples\": [\n          0.9993151847376569,\n          0.026514452244968238,\n          -1.0\n        ],\n        \"semantic_type\": \"\",\n        \"description\": \"\"\n      }\n    },\n    {\n      \"column\": \"total_amount\",\n      \"properties\": {\n        \"dtype\": \"number\",\n        \"std\": 243701.47658844313,\n        \"min\": -3.25,\n        \"max\": 689383.0,\n        \"num_unique_values\": 8,\n        \"samples\": [\n          30.595620460614782,\n          34.49,\n          689383.0\n        ],\n        \"semantic_type\": \"\",\n        \"description\": \"\"\n      }\n    },\n    {\n      \"column\": \"congestion_surcharge\",\n      \"properties\": {\n        \"dtype\": \"number\",\n        \"std\": 233596.66477415382,\n        \"min\": 0.0,\n        \"max\": 660713.0,\n        \"num_unique_values\": 5,\n        \"samples\": [\n          2.2507276230375366,\n          0.7490294210763506,\n          0.0\n        ],\n        \"semantic_type\": \"\",\n        \"description\": \"\"\n      }\n    },\n    {\n      \"column\": \"Airport_Fee_Combined\",\n      \"properties\": {\n        \"dtype\": \"number\",\n        \"std\": 243733.65887727297,\n        \"min\": -1.75,\n        \"max\": 689383.0,\n        \"num_unique_values\": 6,\n        \"samples\": [\n          689383.0,\n          0.20728789366723577,\n          0.5488743720088666\n        ],\n        \"semantic_type\": \"\",\n        \"description\": \"\"\n      }\n    }\n  ]\n}"
            }
          },
          "metadata": {},
          "execution_count": 139
        }
      ],
      "source": [
        "# check where values of fare amount are negative\n",
        "df.describe()\n"
      ]
    },
    {
      "cell_type": "markdown",
      "metadata": {
        "id": "JNKpDtTh8awi"
      },
      "source": [
        "Did you notice something different in the `RatecodeID` column for above records?"
      ]
    },
    {
      "cell_type": "code",
      "execution_count": 140,
      "metadata": {
        "id": "9eVrrj7c3kjq",
        "colab": {
          "base_uri": "https://localhost:8080/",
          "height": 303
        },
        "outputId": "8c0cc954-e6fa-4a15-ddf6-cbaa3e68c896"
      },
      "outputs": [
        {
          "output_type": "execute_result",
          "data": {
            "text/plain": [
              "RatecodeID\n",
              "1.0     625512\n",
              "2.0      26917\n",
              "5.0       4921\n",
              "4.0       2093\n",
              "99.0       719\n",
              "3.0        551\n",
              "Name: count, dtype: int64"
            ],
            "text/html": [
              "<div>\n",
              "<style scoped>\n",
              "    .dataframe tbody tr th:only-of-type {\n",
              "        vertical-align: middle;\n",
              "    }\n",
              "\n",
              "    .dataframe tbody tr th {\n",
              "        vertical-align: top;\n",
              "    }\n",
              "\n",
              "    .dataframe thead th {\n",
              "        text-align: right;\n",
              "    }\n",
              "</style>\n",
              "<table border=\"1\" class=\"dataframe\">\n",
              "  <thead>\n",
              "    <tr style=\"text-align: right;\">\n",
              "      <th></th>\n",
              "      <th>count</th>\n",
              "    </tr>\n",
              "    <tr>\n",
              "      <th>RatecodeID</th>\n",
              "      <th></th>\n",
              "    </tr>\n",
              "  </thead>\n",
              "  <tbody>\n",
              "    <tr>\n",
              "      <th>1.0</th>\n",
              "      <td>625512</td>\n",
              "    </tr>\n",
              "    <tr>\n",
              "      <th>2.0</th>\n",
              "      <td>26917</td>\n",
              "    </tr>\n",
              "    <tr>\n",
              "      <th>5.0</th>\n",
              "      <td>4921</td>\n",
              "    </tr>\n",
              "    <tr>\n",
              "      <th>4.0</th>\n",
              "      <td>2093</td>\n",
              "    </tr>\n",
              "    <tr>\n",
              "      <th>99.0</th>\n",
              "      <td>719</td>\n",
              "    </tr>\n",
              "    <tr>\n",
              "      <th>3.0</th>\n",
              "      <td>551</td>\n",
              "    </tr>\n",
              "  </tbody>\n",
              "</table>\n",
              "</div><br><label><b>dtype:</b> int64</label>"
            ]
          },
          "metadata": {},
          "execution_count": 140
        }
      ],
      "source": [
        "# Analyse RatecodeID for the negative fare amounts\n",
        "df.RatecodeID.value_counts()\n"
      ]
    },
    {
      "cell_type": "code",
      "source": [
        "df.RatecodeID.isnull().sum()"
      ],
      "metadata": {
        "colab": {
          "base_uri": "https://localhost:8080/"
        },
        "id": "0gjAabWK15TS",
        "outputId": "7e20bfd9-bc6c-43d2-84fe-1c82e0f48b61"
      },
      "execution_count": 141,
      "outputs": [
        {
          "output_type": "execute_result",
          "data": {
            "text/plain": [
              "np.int64(28670)"
            ]
          },
          "metadata": {},
          "execution_count": 141
        }
      ]
    },
    {
      "cell_type": "code",
      "source": [
        "df.fillna({'RatecodeID':1}, inplace=True)"
      ],
      "metadata": {
        "id": "i1_9HHCI2ZPw"
      },
      "execution_count": 142,
      "outputs": []
    },
    {
      "cell_type": "code",
      "source": [
        "df.RatecodeID.isnull().sum()"
      ],
      "metadata": {
        "colab": {
          "base_uri": "https://localhost:8080/"
        },
        "id": "Ms7C-2c63HaK",
        "outputId": "ac1b4095-94fb-4389-9d48-948ede3c55ad"
      },
      "execution_count": 143,
      "outputs": [
        {
          "output_type": "execute_result",
          "data": {
            "text/plain": [
              "np.int64(0)"
            ]
          },
          "metadata": {},
          "execution_count": 143
        }
      ]
    },
    {
      "cell_type": "code",
      "source": [
        "df['RatecodeID']=df['RatecodeID'].apply(lambda x: 6 if x == 99 else x)"
      ],
      "metadata": {
        "id": "OUUVuR7skr2L"
      },
      "execution_count": 144,
      "outputs": []
    },
    {
      "cell_type": "code",
      "source": [
        "df.RatecodeID.value_counts()"
      ],
      "metadata": {
        "colab": {
          "base_uri": "https://localhost:8080/",
          "height": 303
        },
        "id": "HRGRGMb2l4YQ",
        "outputId": "cf17c493-3baa-4fd5-ec89-e5783ad46dfa"
      },
      "execution_count": 145,
      "outputs": [
        {
          "output_type": "execute_result",
          "data": {
            "text/plain": [
              "RatecodeID\n",
              "1.0    654182\n",
              "2.0     26917\n",
              "5.0      4921\n",
              "4.0      2093\n",
              "6.0       719\n",
              "3.0       551\n",
              "Name: count, dtype: int64"
            ],
            "text/html": [
              "<div>\n",
              "<style scoped>\n",
              "    .dataframe tbody tr th:only-of-type {\n",
              "        vertical-align: middle;\n",
              "    }\n",
              "\n",
              "    .dataframe tbody tr th {\n",
              "        vertical-align: top;\n",
              "    }\n",
              "\n",
              "    .dataframe thead th {\n",
              "        text-align: right;\n",
              "    }\n",
              "</style>\n",
              "<table border=\"1\" class=\"dataframe\">\n",
              "  <thead>\n",
              "    <tr style=\"text-align: right;\">\n",
              "      <th></th>\n",
              "      <th>count</th>\n",
              "    </tr>\n",
              "    <tr>\n",
              "      <th>RatecodeID</th>\n",
              "      <th></th>\n",
              "    </tr>\n",
              "  </thead>\n",
              "  <tbody>\n",
              "    <tr>\n",
              "      <th>1.0</th>\n",
              "      <td>654182</td>\n",
              "    </tr>\n",
              "    <tr>\n",
              "      <th>2.0</th>\n",
              "      <td>26917</td>\n",
              "    </tr>\n",
              "    <tr>\n",
              "      <th>5.0</th>\n",
              "      <td>4921</td>\n",
              "    </tr>\n",
              "    <tr>\n",
              "      <th>4.0</th>\n",
              "      <td>2093</td>\n",
              "    </tr>\n",
              "    <tr>\n",
              "      <th>6.0</th>\n",
              "      <td>719</td>\n",
              "    </tr>\n",
              "    <tr>\n",
              "      <th>3.0</th>\n",
              "      <td>551</td>\n",
              "    </tr>\n",
              "  </tbody>\n",
              "</table>\n",
              "</div><br><label><b>dtype:</b> int64</label>"
            ]
          },
          "metadata": {},
          "execution_count": 145
        }
      ]
    },
    {
      "cell_type": "code",
      "source": [
        "df.congestion_surcharge.value_counts()"
      ],
      "metadata": {
        "colab": {
          "base_uri": "https://localhost:8080/",
          "height": 178
        },
        "id": "iw6vTzC5mUqs",
        "outputId": "4ce81906-9034-4bf6-f02a-29c5338cfb1f"
      },
      "execution_count": 146,
      "outputs": [
        {
          "output_type": "execute_result",
          "data": {
            "text/plain": [
              "congestion_surcharge\n",
              "2.5    594834\n",
              "0.0     65879\n",
              "Name: count, dtype: int64"
            ],
            "text/html": [
              "<div>\n",
              "<style scoped>\n",
              "    .dataframe tbody tr th:only-of-type {\n",
              "        vertical-align: middle;\n",
              "    }\n",
              "\n",
              "    .dataframe tbody tr th {\n",
              "        vertical-align: top;\n",
              "    }\n",
              "\n",
              "    .dataframe thead th {\n",
              "        text-align: right;\n",
              "    }\n",
              "</style>\n",
              "<table border=\"1\" class=\"dataframe\">\n",
              "  <thead>\n",
              "    <tr style=\"text-align: right;\">\n",
              "      <th></th>\n",
              "      <th>count</th>\n",
              "    </tr>\n",
              "    <tr>\n",
              "      <th>congestion_surcharge</th>\n",
              "      <th></th>\n",
              "    </tr>\n",
              "  </thead>\n",
              "  <tbody>\n",
              "    <tr>\n",
              "      <th>2.5</th>\n",
              "      <td>594834</td>\n",
              "    </tr>\n",
              "    <tr>\n",
              "      <th>0.0</th>\n",
              "      <td>65879</td>\n",
              "    </tr>\n",
              "  </tbody>\n",
              "</table>\n",
              "</div><br><label><b>dtype:</b> int64</label>"
            ]
          },
          "metadata": {},
          "execution_count": 146
        }
      ]
    },
    {
      "cell_type": "code",
      "source": [
        "df.congestion_surcharge.isnull().sum()"
      ],
      "metadata": {
        "colab": {
          "base_uri": "https://localhost:8080/"
        },
        "id": "pIe0kPcrmdaH",
        "outputId": "014c213f-fec0-46a9-b8cf-33441c1e4e2b"
      },
      "execution_count": 147,
      "outputs": [
        {
          "output_type": "execute_result",
          "data": {
            "text/plain": [
              "np.int64(28670)"
            ]
          },
          "metadata": {},
          "execution_count": 147
        }
      ]
    },
    {
      "cell_type": "code",
      "source": [
        "df.fillna({'congestion_surcharge': 0}, inplace=True)"
      ],
      "metadata": {
        "id": "IcAOs2v_m4Tm"
      },
      "execution_count": 148,
      "outputs": []
    },
    {
      "cell_type": "code",
      "source": [
        "df.congestion_surcharge.isnull().sum()"
      ],
      "metadata": {
        "colab": {
          "base_uri": "https://localhost:8080/"
        },
        "id": "u8VY5NErnbNp",
        "outputId": "6fa51e7e-a821-4450-8b73-a4c860a5722c"
      },
      "execution_count": 149,
      "outputs": [
        {
          "output_type": "execute_result",
          "data": {
            "text/plain": [
              "np.int64(0)"
            ]
          },
          "metadata": {},
          "execution_count": 149
        }
      ]
    },
    {
      "cell_type": "code",
      "source": [
        "df.congestion_surcharge.value_counts()"
      ],
      "metadata": {
        "colab": {
          "base_uri": "https://localhost:8080/",
          "height": 178
        },
        "id": "4wdX6XkVnfLo",
        "outputId": "16a5626a-7ed8-47aa-c9f9-cdc5c1936305"
      },
      "execution_count": 150,
      "outputs": [
        {
          "output_type": "execute_result",
          "data": {
            "text/plain": [
              "congestion_surcharge\n",
              "2.5    594834\n",
              "0.0     94549\n",
              "Name: count, dtype: int64"
            ],
            "text/html": [
              "<div>\n",
              "<style scoped>\n",
              "    .dataframe tbody tr th:only-of-type {\n",
              "        vertical-align: middle;\n",
              "    }\n",
              "\n",
              "    .dataframe tbody tr th {\n",
              "        vertical-align: top;\n",
              "    }\n",
              "\n",
              "    .dataframe thead th {\n",
              "        text-align: right;\n",
              "    }\n",
              "</style>\n",
              "<table border=\"1\" class=\"dataframe\">\n",
              "  <thead>\n",
              "    <tr style=\"text-align: right;\">\n",
              "      <th></th>\n",
              "      <th>count</th>\n",
              "    </tr>\n",
              "    <tr>\n",
              "      <th>congestion_surcharge</th>\n",
              "      <th></th>\n",
              "    </tr>\n",
              "  </thead>\n",
              "  <tbody>\n",
              "    <tr>\n",
              "      <th>2.5</th>\n",
              "      <td>594834</td>\n",
              "    </tr>\n",
              "    <tr>\n",
              "      <th>0.0</th>\n",
              "      <td>94549</td>\n",
              "    </tr>\n",
              "  </tbody>\n",
              "</table>\n",
              "</div><br><label><b>dtype:</b> int64</label>"
            ]
          },
          "metadata": {},
          "execution_count": 150
        }
      ]
    },
    {
      "cell_type": "code",
      "execution_count": 151,
      "metadata": {
        "id": "Ruyh2vaCRNxr",
        "colab": {
          "base_uri": "https://localhost:8080/",
          "height": 613
        },
        "outputId": "77aefd4c-d124-4716-b8ae-b7b9b3b7369b"
      },
      "outputs": [
        {
          "output_type": "execute_result",
          "data": {
            "text/plain": [
              "                   Column  Negative-Values\n",
              "0                VendorID             1.00\n",
              "1    tpep_pickup_datetime             0.00\n",
              "2   tpep_dropoff_datetime             0.00\n",
              "3         passenger_count             0.00\n",
              "4           trip_distance             0.00\n",
              "5              RatecodeID             1.00\n",
              "6            PULocationID             1.00\n",
              "7            DOLocationID             1.00\n",
              "8            payment_type             0.00\n",
              "9             fare_amount             0.00\n",
              "10                  extra             0.00\n",
              "11                mta_tax            -0.50\n",
              "12             tip_amount             0.00\n",
              "13           tolls_amount             0.00\n",
              "14  improvement_surcharge            -1.00\n",
              "15           total_amount            -3.25\n",
              "16   congestion_surcharge             0.00\n",
              "17   Airport_Fee_Combined            -1.75"
            ],
            "text/html": [
              "\n",
              "  <div id=\"df-88b42cc3-040a-453e-8cad-61deb4e4c41e\" class=\"colab-df-container\">\n",
              "    <div>\n",
              "<style scoped>\n",
              "    .dataframe tbody tr th:only-of-type {\n",
              "        vertical-align: middle;\n",
              "    }\n",
              "\n",
              "    .dataframe tbody tr th {\n",
              "        vertical-align: top;\n",
              "    }\n",
              "\n",
              "    .dataframe thead th {\n",
              "        text-align: right;\n",
              "    }\n",
              "</style>\n",
              "<table border=\"1\" class=\"dataframe\">\n",
              "  <thead>\n",
              "    <tr style=\"text-align: right;\">\n",
              "      <th></th>\n",
              "      <th>Column</th>\n",
              "      <th>Negative-Values</th>\n",
              "    </tr>\n",
              "  </thead>\n",
              "  <tbody>\n",
              "    <tr>\n",
              "      <th>0</th>\n",
              "      <td>VendorID</td>\n",
              "      <td>1.00</td>\n",
              "    </tr>\n",
              "    <tr>\n",
              "      <th>1</th>\n",
              "      <td>tpep_pickup_datetime</td>\n",
              "      <td>0.00</td>\n",
              "    </tr>\n",
              "    <tr>\n",
              "      <th>2</th>\n",
              "      <td>tpep_dropoff_datetime</td>\n",
              "      <td>0.00</td>\n",
              "    </tr>\n",
              "    <tr>\n",
              "      <th>3</th>\n",
              "      <td>passenger_count</td>\n",
              "      <td>0.00</td>\n",
              "    </tr>\n",
              "    <tr>\n",
              "      <th>4</th>\n",
              "      <td>trip_distance</td>\n",
              "      <td>0.00</td>\n",
              "    </tr>\n",
              "    <tr>\n",
              "      <th>5</th>\n",
              "      <td>RatecodeID</td>\n",
              "      <td>1.00</td>\n",
              "    </tr>\n",
              "    <tr>\n",
              "      <th>6</th>\n",
              "      <td>PULocationID</td>\n",
              "      <td>1.00</td>\n",
              "    </tr>\n",
              "    <tr>\n",
              "      <th>7</th>\n",
              "      <td>DOLocationID</td>\n",
              "      <td>1.00</td>\n",
              "    </tr>\n",
              "    <tr>\n",
              "      <th>8</th>\n",
              "      <td>payment_type</td>\n",
              "      <td>0.00</td>\n",
              "    </tr>\n",
              "    <tr>\n",
              "      <th>9</th>\n",
              "      <td>fare_amount</td>\n",
              "      <td>0.00</td>\n",
              "    </tr>\n",
              "    <tr>\n",
              "      <th>10</th>\n",
              "      <td>extra</td>\n",
              "      <td>0.00</td>\n",
              "    </tr>\n",
              "    <tr>\n",
              "      <th>11</th>\n",
              "      <td>mta_tax</td>\n",
              "      <td>-0.50</td>\n",
              "    </tr>\n",
              "    <tr>\n",
              "      <th>12</th>\n",
              "      <td>tip_amount</td>\n",
              "      <td>0.00</td>\n",
              "    </tr>\n",
              "    <tr>\n",
              "      <th>13</th>\n",
              "      <td>tolls_amount</td>\n",
              "      <td>0.00</td>\n",
              "    </tr>\n",
              "    <tr>\n",
              "      <th>14</th>\n",
              "      <td>improvement_surcharge</td>\n",
              "      <td>-1.00</td>\n",
              "    </tr>\n",
              "    <tr>\n",
              "      <th>15</th>\n",
              "      <td>total_amount</td>\n",
              "      <td>-3.25</td>\n",
              "    </tr>\n",
              "    <tr>\n",
              "      <th>16</th>\n",
              "      <td>congestion_surcharge</td>\n",
              "      <td>0.00</td>\n",
              "    </tr>\n",
              "    <tr>\n",
              "      <th>17</th>\n",
              "      <td>Airport_Fee_Combined</td>\n",
              "      <td>-1.75</td>\n",
              "    </tr>\n",
              "  </tbody>\n",
              "</table>\n",
              "</div>\n",
              "    <div class=\"colab-df-buttons\">\n",
              "\n",
              "  <div class=\"colab-df-container\">\n",
              "    <button class=\"colab-df-convert\" onclick=\"convertToInteractive('df-88b42cc3-040a-453e-8cad-61deb4e4c41e')\"\n",
              "            title=\"Convert this dataframe to an interactive table.\"\n",
              "            style=\"display:none;\">\n",
              "\n",
              "  <svg xmlns=\"http://www.w3.org/2000/svg\" height=\"24px\" viewBox=\"0 -960 960 960\">\n",
              "    <path d=\"M120-120v-720h720v720H120Zm60-500h600v-160H180v160Zm220 220h160v-160H400v160Zm0 220h160v-160H400v160ZM180-400h160v-160H180v160Zm440 0h160v-160H620v160ZM180-180h160v-160H180v160Zm440 0h160v-160H620v160Z\"/>\n",
              "  </svg>\n",
              "    </button>\n",
              "\n",
              "  <style>\n",
              "    .colab-df-container {\n",
              "      display:flex;\n",
              "      gap: 12px;\n",
              "    }\n",
              "\n",
              "    .colab-df-convert {\n",
              "      background-color: #E8F0FE;\n",
              "      border: none;\n",
              "      border-radius: 50%;\n",
              "      cursor: pointer;\n",
              "      display: none;\n",
              "      fill: #1967D2;\n",
              "      height: 32px;\n",
              "      padding: 0 0 0 0;\n",
              "      width: 32px;\n",
              "    }\n",
              "\n",
              "    .colab-df-convert:hover {\n",
              "      background-color: #E2EBFA;\n",
              "      box-shadow: 0px 1px 2px rgba(60, 64, 67, 0.3), 0px 1px 3px 1px rgba(60, 64, 67, 0.15);\n",
              "      fill: #174EA6;\n",
              "    }\n",
              "\n",
              "    .colab-df-buttons div {\n",
              "      margin-bottom: 4px;\n",
              "    }\n",
              "\n",
              "    [theme=dark] .colab-df-convert {\n",
              "      background-color: #3B4455;\n",
              "      fill: #D2E3FC;\n",
              "    }\n",
              "\n",
              "    [theme=dark] .colab-df-convert:hover {\n",
              "      background-color: #434B5C;\n",
              "      box-shadow: 0px 1px 3px 1px rgba(0, 0, 0, 0.15);\n",
              "      filter: drop-shadow(0px 1px 2px rgba(0, 0, 0, 0.3));\n",
              "      fill: #FFFFFF;\n",
              "    }\n",
              "  </style>\n",
              "\n",
              "    <script>\n",
              "      const buttonEl =\n",
              "        document.querySelector('#df-88b42cc3-040a-453e-8cad-61deb4e4c41e button.colab-df-convert');\n",
              "      buttonEl.style.display =\n",
              "        google.colab.kernel.accessAllowed ? 'block' : 'none';\n",
              "\n",
              "      async function convertToInteractive(key) {\n",
              "        const element = document.querySelector('#df-88b42cc3-040a-453e-8cad-61deb4e4c41e');\n",
              "        const dataTable =\n",
              "          await google.colab.kernel.invokeFunction('convertToInteractive',\n",
              "                                                    [key], {});\n",
              "        if (!dataTable) return;\n",
              "\n",
              "        const docLinkHtml = 'Like what you see? Visit the ' +\n",
              "          '<a target=\"_blank\" href=https://colab.research.google.com/notebooks/data_table.ipynb>data table notebook</a>'\n",
              "          + ' to learn more about interactive tables.';\n",
              "        element.innerHTML = '';\n",
              "        dataTable['output_type'] = 'display_data';\n",
              "        await google.colab.output.renderOutput(dataTable, element);\n",
              "        const docLink = document.createElement('div');\n",
              "        docLink.innerHTML = docLinkHtml;\n",
              "        element.appendChild(docLink);\n",
              "      }\n",
              "    </script>\n",
              "  </div>\n",
              "\n",
              "\n",
              "<div id=\"df-d093d21a-a35e-4a4c-bc2b-daf01a6e9a17\">\n",
              "  <button class=\"colab-df-quickchart\" onclick=\"quickchart('df-d093d21a-a35e-4a4c-bc2b-daf01a6e9a17')\"\n",
              "            title=\"Suggest charts\"\n",
              "            style=\"display:none;\">\n",
              "\n",
              "<svg xmlns=\"http://www.w3.org/2000/svg\" height=\"24px\"viewBox=\"0 0 24 24\"\n",
              "     width=\"24px\">\n",
              "    <g>\n",
              "        <path d=\"M19 3H5c-1.1 0-2 .9-2 2v14c0 1.1.9 2 2 2h14c1.1 0 2-.9 2-2V5c0-1.1-.9-2-2-2zM9 17H7v-7h2v7zm4 0h-2V7h2v10zm4 0h-2v-4h2v4z\"/>\n",
              "    </g>\n",
              "</svg>\n",
              "  </button>\n",
              "\n",
              "<style>\n",
              "  .colab-df-quickchart {\n",
              "      --bg-color: #E8F0FE;\n",
              "      --fill-color: #1967D2;\n",
              "      --hover-bg-color: #E2EBFA;\n",
              "      --hover-fill-color: #174EA6;\n",
              "      --disabled-fill-color: #AAA;\n",
              "      --disabled-bg-color: #DDD;\n",
              "  }\n",
              "\n",
              "  [theme=dark] .colab-df-quickchart {\n",
              "      --bg-color: #3B4455;\n",
              "      --fill-color: #D2E3FC;\n",
              "      --hover-bg-color: #434B5C;\n",
              "      --hover-fill-color: #FFFFFF;\n",
              "      --disabled-bg-color: #3B4455;\n",
              "      --disabled-fill-color: #666;\n",
              "  }\n",
              "\n",
              "  .colab-df-quickchart {\n",
              "    background-color: var(--bg-color);\n",
              "    border: none;\n",
              "    border-radius: 50%;\n",
              "    cursor: pointer;\n",
              "    display: none;\n",
              "    fill: var(--fill-color);\n",
              "    height: 32px;\n",
              "    padding: 0;\n",
              "    width: 32px;\n",
              "  }\n",
              "\n",
              "  .colab-df-quickchart:hover {\n",
              "    background-color: var(--hover-bg-color);\n",
              "    box-shadow: 0 1px 2px rgba(60, 64, 67, 0.3), 0 1px 3px 1px rgba(60, 64, 67, 0.15);\n",
              "    fill: var(--button-hover-fill-color);\n",
              "  }\n",
              "\n",
              "  .colab-df-quickchart-complete:disabled,\n",
              "  .colab-df-quickchart-complete:disabled:hover {\n",
              "    background-color: var(--disabled-bg-color);\n",
              "    fill: var(--disabled-fill-color);\n",
              "    box-shadow: none;\n",
              "  }\n",
              "\n",
              "  .colab-df-spinner {\n",
              "    border: 2px solid var(--fill-color);\n",
              "    border-color: transparent;\n",
              "    border-bottom-color: var(--fill-color);\n",
              "    animation:\n",
              "      spin 1s steps(1) infinite;\n",
              "  }\n",
              "\n",
              "  @keyframes spin {\n",
              "    0% {\n",
              "      border-color: transparent;\n",
              "      border-bottom-color: var(--fill-color);\n",
              "      border-left-color: var(--fill-color);\n",
              "    }\n",
              "    20% {\n",
              "      border-color: transparent;\n",
              "      border-left-color: var(--fill-color);\n",
              "      border-top-color: var(--fill-color);\n",
              "    }\n",
              "    30% {\n",
              "      border-color: transparent;\n",
              "      border-left-color: var(--fill-color);\n",
              "      border-top-color: var(--fill-color);\n",
              "      border-right-color: var(--fill-color);\n",
              "    }\n",
              "    40% {\n",
              "      border-color: transparent;\n",
              "      border-right-color: var(--fill-color);\n",
              "      border-top-color: var(--fill-color);\n",
              "    }\n",
              "    60% {\n",
              "      border-color: transparent;\n",
              "      border-right-color: var(--fill-color);\n",
              "    }\n",
              "    80% {\n",
              "      border-color: transparent;\n",
              "      border-right-color: var(--fill-color);\n",
              "      border-bottom-color: var(--fill-color);\n",
              "    }\n",
              "    90% {\n",
              "      border-color: transparent;\n",
              "      border-bottom-color: var(--fill-color);\n",
              "    }\n",
              "  }\n",
              "</style>\n",
              "\n",
              "  <script>\n",
              "    async function quickchart(key) {\n",
              "      const quickchartButtonEl =\n",
              "        document.querySelector('#' + key + ' button');\n",
              "      quickchartButtonEl.disabled = true;  // To prevent multiple clicks.\n",
              "      quickchartButtonEl.classList.add('colab-df-spinner');\n",
              "      try {\n",
              "        const charts = await google.colab.kernel.invokeFunction(\n",
              "            'suggestCharts', [key], {});\n",
              "      } catch (error) {\n",
              "        console.error('Error during call to suggestCharts:', error);\n",
              "      }\n",
              "      quickchartButtonEl.classList.remove('colab-df-spinner');\n",
              "      quickchartButtonEl.classList.add('colab-df-quickchart-complete');\n",
              "    }\n",
              "    (() => {\n",
              "      let quickchartButtonEl =\n",
              "        document.querySelector('#df-d093d21a-a35e-4a4c-bc2b-daf01a6e9a17 button');\n",
              "      quickchartButtonEl.style.display =\n",
              "        google.colab.kernel.accessAllowed ? 'block' : 'none';\n",
              "    })();\n",
              "  </script>\n",
              "</div>\n",
              "\n",
              "    </div>\n",
              "  </div>\n"
            ],
            "application/vnd.google.colaboratory.intrinsic+json": {
              "type": "dataframe",
              "summary": "{\n  \"name\": \"})\",\n  \"rows\": 18,\n  \"fields\": [\n    {\n      \"column\": \"Column\",\n      \"properties\": {\n        \"dtype\": \"string\",\n        \"num_unique_values\": 18,\n        \"samples\": [\n          \"VendorID\",\n          \"tpep_pickup_datetime\",\n          \"payment_type\"\n        ],\n        \"semantic_type\": \"\",\n        \"description\": \"\"\n      }\n    },\n    {\n      \"column\": \"Negative-Values\",\n      \"properties\": {\n        \"dtype\": \"number\",\n        \"std\": 1.0439680459888376,\n        \"min\": -3.25,\n        \"max\": 1.0,\n        \"num_unique_values\": 6,\n        \"samples\": [\n          1.0,\n          0.0,\n          -1.75\n        ],\n        \"semantic_type\": \"\",\n        \"description\": \"\"\n      }\n    }\n  ]\n}"
            }
          },
          "metadata": {},
          "execution_count": 151
        }
      ],
      "source": [
        "# Find which columns have negative values\n",
        "pd.DataFrame({\n",
        "    'Column': df.columns.values,\n",
        "    'Negative-Values': [df[col].min() if col in df.select_dtypes(include=[np.number]).columns else 0 for col in df.columns]\n",
        "})\n"
      ]
    },
    {
      "cell_type": "code",
      "source": [
        "# columns with negative values\n",
        "\n",
        "\n",
        "# improvement_surcharge\n",
        "# total_amount\n",
        "# Airport_Fee_Combined"
      ],
      "metadata": {
        "id": "WimD9oXPYz2M"
      },
      "execution_count": null,
      "outputs": []
    },
    {
      "cell_type": "code",
      "source": [
        "df.head(3)"
      ],
      "metadata": {
        "colab": {
          "base_uri": "https://localhost:8080/",
          "height": 163
        },
        "id": "LQKxxObJo8A2",
        "outputId": "cdc47b86-be94-4c64-b4db-cb463c747af4"
      },
      "execution_count": 152,
      "outputs": [
        {
          "output_type": "execute_result",
          "data": {
            "text/plain": [
              "   VendorID tpep_pickup_datetime tpep_dropoff_datetime  passenger_count  \\\n",
              "0         2  2023-11-21 23:07:22   2023-11-21 23:49:11              1.0   \n",
              "1         2  2023-11-08 23:35:26   2023-11-08 23:59:14              1.0   \n",
              "2         1  2023-11-07 23:53:47   2023-11-08 00:02:24              1.0   \n",
              "\n",
              "   trip_distance  RatecodeID  PULocationID  DOLocationID  payment_type  \\\n",
              "0          27.98         4.0           132           265             1   \n",
              "1           3.73         1.0           114           143             1   \n",
              "2           3.40         1.0           132           216             1   \n",
              "\n",
              "   fare_amount  extra  mta_tax  tip_amount  tolls_amount  \\\n",
              "0        166.8   1.00      0.5       20.00           0.0   \n",
              "1         23.3   1.00      0.5        4.00           0.0   \n",
              "2         15.6   2.75      0.5        3.95           0.0   \n",
              "\n",
              "   improvement_surcharge  total_amount  congestion_surcharge  \\\n",
              "0                    1.0        191.05                   0.0   \n",
              "1                    1.0         32.30                   2.5   \n",
              "2                    1.0         23.80                   0.0   \n",
              "\n",
              "   Airport_Fee_Combined  \n",
              "0                  1.75  \n",
              "1                  0.00  \n",
              "2                  1.75  "
            ],
            "text/html": [
              "\n",
              "  <div id=\"df-bde8a3a1-c3eb-474a-a692-c0b572dbbbc6\" class=\"colab-df-container\">\n",
              "    <div>\n",
              "<style scoped>\n",
              "    .dataframe tbody tr th:only-of-type {\n",
              "        vertical-align: middle;\n",
              "    }\n",
              "\n",
              "    .dataframe tbody tr th {\n",
              "        vertical-align: top;\n",
              "    }\n",
              "\n",
              "    .dataframe thead th {\n",
              "        text-align: right;\n",
              "    }\n",
              "</style>\n",
              "<table border=\"1\" class=\"dataframe\">\n",
              "  <thead>\n",
              "    <tr style=\"text-align: right;\">\n",
              "      <th></th>\n",
              "      <th>VendorID</th>\n",
              "      <th>tpep_pickup_datetime</th>\n",
              "      <th>tpep_dropoff_datetime</th>\n",
              "      <th>passenger_count</th>\n",
              "      <th>trip_distance</th>\n",
              "      <th>RatecodeID</th>\n",
              "      <th>PULocationID</th>\n",
              "      <th>DOLocationID</th>\n",
              "      <th>payment_type</th>\n",
              "      <th>fare_amount</th>\n",
              "      <th>extra</th>\n",
              "      <th>mta_tax</th>\n",
              "      <th>tip_amount</th>\n",
              "      <th>tolls_amount</th>\n",
              "      <th>improvement_surcharge</th>\n",
              "      <th>total_amount</th>\n",
              "      <th>congestion_surcharge</th>\n",
              "      <th>Airport_Fee_Combined</th>\n",
              "    </tr>\n",
              "  </thead>\n",
              "  <tbody>\n",
              "    <tr>\n",
              "      <th>0</th>\n",
              "      <td>2</td>\n",
              "      <td>2023-11-21 23:07:22</td>\n",
              "      <td>2023-11-21 23:49:11</td>\n",
              "      <td>1.0</td>\n",
              "      <td>27.98</td>\n",
              "      <td>4.0</td>\n",
              "      <td>132</td>\n",
              "      <td>265</td>\n",
              "      <td>1</td>\n",
              "      <td>166.8</td>\n",
              "      <td>1.00</td>\n",
              "      <td>0.5</td>\n",
              "      <td>20.00</td>\n",
              "      <td>0.0</td>\n",
              "      <td>1.0</td>\n",
              "      <td>191.05</td>\n",
              "      <td>0.0</td>\n",
              "      <td>1.75</td>\n",
              "    </tr>\n",
              "    <tr>\n",
              "      <th>1</th>\n",
              "      <td>2</td>\n",
              "      <td>2023-11-08 23:35:26</td>\n",
              "      <td>2023-11-08 23:59:14</td>\n",
              "      <td>1.0</td>\n",
              "      <td>3.73</td>\n",
              "      <td>1.0</td>\n",
              "      <td>114</td>\n",
              "      <td>143</td>\n",
              "      <td>1</td>\n",
              "      <td>23.3</td>\n",
              "      <td>1.00</td>\n",
              "      <td>0.5</td>\n",
              "      <td>4.00</td>\n",
              "      <td>0.0</td>\n",
              "      <td>1.0</td>\n",
              "      <td>32.30</td>\n",
              "      <td>2.5</td>\n",
              "      <td>0.00</td>\n",
              "    </tr>\n",
              "    <tr>\n",
              "      <th>2</th>\n",
              "      <td>1</td>\n",
              "      <td>2023-11-07 23:53:47</td>\n",
              "      <td>2023-11-08 00:02:24</td>\n",
              "      <td>1.0</td>\n",
              "      <td>3.40</td>\n",
              "      <td>1.0</td>\n",
              "      <td>132</td>\n",
              "      <td>216</td>\n",
              "      <td>1</td>\n",
              "      <td>15.6</td>\n",
              "      <td>2.75</td>\n",
              "      <td>0.5</td>\n",
              "      <td>3.95</td>\n",
              "      <td>0.0</td>\n",
              "      <td>1.0</td>\n",
              "      <td>23.80</td>\n",
              "      <td>0.0</td>\n",
              "      <td>1.75</td>\n",
              "    </tr>\n",
              "  </tbody>\n",
              "</table>\n",
              "</div>\n",
              "    <div class=\"colab-df-buttons\">\n",
              "\n",
              "  <div class=\"colab-df-container\">\n",
              "    <button class=\"colab-df-convert\" onclick=\"convertToInteractive('df-bde8a3a1-c3eb-474a-a692-c0b572dbbbc6')\"\n",
              "            title=\"Convert this dataframe to an interactive table.\"\n",
              "            style=\"display:none;\">\n",
              "\n",
              "  <svg xmlns=\"http://www.w3.org/2000/svg\" height=\"24px\" viewBox=\"0 -960 960 960\">\n",
              "    <path d=\"M120-120v-720h720v720H120Zm60-500h600v-160H180v160Zm220 220h160v-160H400v160Zm0 220h160v-160H400v160ZM180-400h160v-160H180v160Zm440 0h160v-160H620v160ZM180-180h160v-160H180v160Zm440 0h160v-160H620v160Z\"/>\n",
              "  </svg>\n",
              "    </button>\n",
              "\n",
              "  <style>\n",
              "    .colab-df-container {\n",
              "      display:flex;\n",
              "      gap: 12px;\n",
              "    }\n",
              "\n",
              "    .colab-df-convert {\n",
              "      background-color: #E8F0FE;\n",
              "      border: none;\n",
              "      border-radius: 50%;\n",
              "      cursor: pointer;\n",
              "      display: none;\n",
              "      fill: #1967D2;\n",
              "      height: 32px;\n",
              "      padding: 0 0 0 0;\n",
              "      width: 32px;\n",
              "    }\n",
              "\n",
              "    .colab-df-convert:hover {\n",
              "      background-color: #E2EBFA;\n",
              "      box-shadow: 0px 1px 2px rgba(60, 64, 67, 0.3), 0px 1px 3px 1px rgba(60, 64, 67, 0.15);\n",
              "      fill: #174EA6;\n",
              "    }\n",
              "\n",
              "    .colab-df-buttons div {\n",
              "      margin-bottom: 4px;\n",
              "    }\n",
              "\n",
              "    [theme=dark] .colab-df-convert {\n",
              "      background-color: #3B4455;\n",
              "      fill: #D2E3FC;\n",
              "    }\n",
              "\n",
              "    [theme=dark] .colab-df-convert:hover {\n",
              "      background-color: #434B5C;\n",
              "      box-shadow: 0px 1px 3px 1px rgba(0, 0, 0, 0.15);\n",
              "      filter: drop-shadow(0px 1px 2px rgba(0, 0, 0, 0.3));\n",
              "      fill: #FFFFFF;\n",
              "    }\n",
              "  </style>\n",
              "\n",
              "    <script>\n",
              "      const buttonEl =\n",
              "        document.querySelector('#df-bde8a3a1-c3eb-474a-a692-c0b572dbbbc6 button.colab-df-convert');\n",
              "      buttonEl.style.display =\n",
              "        google.colab.kernel.accessAllowed ? 'block' : 'none';\n",
              "\n",
              "      async function convertToInteractive(key) {\n",
              "        const element = document.querySelector('#df-bde8a3a1-c3eb-474a-a692-c0b572dbbbc6');\n",
              "        const dataTable =\n",
              "          await google.colab.kernel.invokeFunction('convertToInteractive',\n",
              "                                                    [key], {});\n",
              "        if (!dataTable) return;\n",
              "\n",
              "        const docLinkHtml = 'Like what you see? Visit the ' +\n",
              "          '<a target=\"_blank\" href=https://colab.research.google.com/notebooks/data_table.ipynb>data table notebook</a>'\n",
              "          + ' to learn more about interactive tables.';\n",
              "        element.innerHTML = '';\n",
              "        dataTable['output_type'] = 'display_data';\n",
              "        await google.colab.output.renderOutput(dataTable, element);\n",
              "        const docLink = document.createElement('div');\n",
              "        docLink.innerHTML = docLinkHtml;\n",
              "        element.appendChild(docLink);\n",
              "      }\n",
              "    </script>\n",
              "  </div>\n",
              "\n",
              "\n",
              "<div id=\"df-4f2a6252-9600-4201-9fce-edcf7c38960a\">\n",
              "  <button class=\"colab-df-quickchart\" onclick=\"quickchart('df-4f2a6252-9600-4201-9fce-edcf7c38960a')\"\n",
              "            title=\"Suggest charts\"\n",
              "            style=\"display:none;\">\n",
              "\n",
              "<svg xmlns=\"http://www.w3.org/2000/svg\" height=\"24px\"viewBox=\"0 0 24 24\"\n",
              "     width=\"24px\">\n",
              "    <g>\n",
              "        <path d=\"M19 3H5c-1.1 0-2 .9-2 2v14c0 1.1.9 2 2 2h14c1.1 0 2-.9 2-2V5c0-1.1-.9-2-2-2zM9 17H7v-7h2v7zm4 0h-2V7h2v10zm4 0h-2v-4h2v4z\"/>\n",
              "    </g>\n",
              "</svg>\n",
              "  </button>\n",
              "\n",
              "<style>\n",
              "  .colab-df-quickchart {\n",
              "      --bg-color: #E8F0FE;\n",
              "      --fill-color: #1967D2;\n",
              "      --hover-bg-color: #E2EBFA;\n",
              "      --hover-fill-color: #174EA6;\n",
              "      --disabled-fill-color: #AAA;\n",
              "      --disabled-bg-color: #DDD;\n",
              "  }\n",
              "\n",
              "  [theme=dark] .colab-df-quickchart {\n",
              "      --bg-color: #3B4455;\n",
              "      --fill-color: #D2E3FC;\n",
              "      --hover-bg-color: #434B5C;\n",
              "      --hover-fill-color: #FFFFFF;\n",
              "      --disabled-bg-color: #3B4455;\n",
              "      --disabled-fill-color: #666;\n",
              "  }\n",
              "\n",
              "  .colab-df-quickchart {\n",
              "    background-color: var(--bg-color);\n",
              "    border: none;\n",
              "    border-radius: 50%;\n",
              "    cursor: pointer;\n",
              "    display: none;\n",
              "    fill: var(--fill-color);\n",
              "    height: 32px;\n",
              "    padding: 0;\n",
              "    width: 32px;\n",
              "  }\n",
              "\n",
              "  .colab-df-quickchart:hover {\n",
              "    background-color: var(--hover-bg-color);\n",
              "    box-shadow: 0 1px 2px rgba(60, 64, 67, 0.3), 0 1px 3px 1px rgba(60, 64, 67, 0.15);\n",
              "    fill: var(--button-hover-fill-color);\n",
              "  }\n",
              "\n",
              "  .colab-df-quickchart-complete:disabled,\n",
              "  .colab-df-quickchart-complete:disabled:hover {\n",
              "    background-color: var(--disabled-bg-color);\n",
              "    fill: var(--disabled-fill-color);\n",
              "    box-shadow: none;\n",
              "  }\n",
              "\n",
              "  .colab-df-spinner {\n",
              "    border: 2px solid var(--fill-color);\n",
              "    border-color: transparent;\n",
              "    border-bottom-color: var(--fill-color);\n",
              "    animation:\n",
              "      spin 1s steps(1) infinite;\n",
              "  }\n",
              "\n",
              "  @keyframes spin {\n",
              "    0% {\n",
              "      border-color: transparent;\n",
              "      border-bottom-color: var(--fill-color);\n",
              "      border-left-color: var(--fill-color);\n",
              "    }\n",
              "    20% {\n",
              "      border-color: transparent;\n",
              "      border-left-color: var(--fill-color);\n",
              "      border-top-color: var(--fill-color);\n",
              "    }\n",
              "    30% {\n",
              "      border-color: transparent;\n",
              "      border-left-color: var(--fill-color);\n",
              "      border-top-color: var(--fill-color);\n",
              "      border-right-color: var(--fill-color);\n",
              "    }\n",
              "    40% {\n",
              "      border-color: transparent;\n",
              "      border-right-color: var(--fill-color);\n",
              "      border-top-color: var(--fill-color);\n",
              "    }\n",
              "    60% {\n",
              "      border-color: transparent;\n",
              "      border-right-color: var(--fill-color);\n",
              "    }\n",
              "    80% {\n",
              "      border-color: transparent;\n",
              "      border-right-color: var(--fill-color);\n",
              "      border-bottom-color: var(--fill-color);\n",
              "    }\n",
              "    90% {\n",
              "      border-color: transparent;\n",
              "      border-bottom-color: var(--fill-color);\n",
              "    }\n",
              "  }\n",
              "</style>\n",
              "\n",
              "  <script>\n",
              "    async function quickchart(key) {\n",
              "      const quickchartButtonEl =\n",
              "        document.querySelector('#' + key + ' button');\n",
              "      quickchartButtonEl.disabled = true;  // To prevent multiple clicks.\n",
              "      quickchartButtonEl.classList.add('colab-df-spinner');\n",
              "      try {\n",
              "        const charts = await google.colab.kernel.invokeFunction(\n",
              "            'suggestCharts', [key], {});\n",
              "      } catch (error) {\n",
              "        console.error('Error during call to suggestCharts:', error);\n",
              "      }\n",
              "      quickchartButtonEl.classList.remove('colab-df-spinner');\n",
              "      quickchartButtonEl.classList.add('colab-df-quickchart-complete');\n",
              "    }\n",
              "    (() => {\n",
              "      let quickchartButtonEl =\n",
              "        document.querySelector('#df-4f2a6252-9600-4201-9fce-edcf7c38960a button');\n",
              "      quickchartButtonEl.style.display =\n",
              "        google.colab.kernel.accessAllowed ? 'block' : 'none';\n",
              "    })();\n",
              "  </script>\n",
              "</div>\n",
              "\n",
              "    </div>\n",
              "  </div>\n"
            ],
            "application/vnd.google.colaboratory.intrinsic+json": {
              "type": "dataframe",
              "variable_name": "df"
            }
          },
          "metadata": {},
          "execution_count": 152
        }
      ]
    },
    {
      "cell_type": "code",
      "source": [
        "# fix these negative values\n",
        "df['Airport_Fee_Combined'].value_counts()"
      ],
      "metadata": {
        "colab": {
          "base_uri": "https://localhost:8080/",
          "height": 241
        },
        "id": "P8RkaFTus73v",
        "outputId": "571c1530-f443-4479-9921-65fd2949a505"
      },
      "execution_count": 153,
      "outputs": [
        {
          "output_type": "execute_result",
          "data": {
            "text/plain": [
              "Airport_Fee_Combined\n",
              " 0.00    601768\n",
              " 1.75     66914\n",
              " 1.25     20676\n",
              "-1.75        25\n",
              "Name: count, dtype: int64"
            ],
            "text/html": [
              "<div>\n",
              "<style scoped>\n",
              "    .dataframe tbody tr th:only-of-type {\n",
              "        vertical-align: middle;\n",
              "    }\n",
              "\n",
              "    .dataframe tbody tr th {\n",
              "        vertical-align: top;\n",
              "    }\n",
              "\n",
              "    .dataframe thead th {\n",
              "        text-align: right;\n",
              "    }\n",
              "</style>\n",
              "<table border=\"1\" class=\"dataframe\">\n",
              "  <thead>\n",
              "    <tr style=\"text-align: right;\">\n",
              "      <th></th>\n",
              "      <th>count</th>\n",
              "    </tr>\n",
              "    <tr>\n",
              "      <th>Airport_Fee_Combined</th>\n",
              "      <th></th>\n",
              "    </tr>\n",
              "  </thead>\n",
              "  <tbody>\n",
              "    <tr>\n",
              "      <th>0.00</th>\n",
              "      <td>601768</td>\n",
              "    </tr>\n",
              "    <tr>\n",
              "      <th>1.75</th>\n",
              "      <td>66914</td>\n",
              "    </tr>\n",
              "    <tr>\n",
              "      <th>1.25</th>\n",
              "      <td>20676</td>\n",
              "    </tr>\n",
              "    <tr>\n",
              "      <th>-1.75</th>\n",
              "      <td>25</td>\n",
              "    </tr>\n",
              "  </tbody>\n",
              "</table>\n",
              "</div><br><label><b>dtype:</b> int64</label>"
            ]
          },
          "metadata": {},
          "execution_count": 153
        }
      ]
    },
    {
      "cell_type": "code",
      "source": [
        "df['Airport_Fee_Combined']=df['Airport_Fee_Combined'].apply(lambda x: (x*-1) if x < 0 else x)"
      ],
      "metadata": {
        "id": "rLJ6tVwytZiw"
      },
      "execution_count": 154,
      "outputs": []
    },
    {
      "cell_type": "code",
      "source": [
        "df['Airport_Fee_Combined'].value_counts()"
      ],
      "metadata": {
        "colab": {
          "base_uri": "https://localhost:8080/",
          "height": 209
        },
        "id": "BNQy52mmtqkH",
        "outputId": "594cd91b-da35-4827-af60-200d8e7737de"
      },
      "execution_count": 155,
      "outputs": [
        {
          "output_type": "execute_result",
          "data": {
            "text/plain": [
              "Airport_Fee_Combined\n",
              "0.00    601768\n",
              "1.75     66939\n",
              "1.25     20676\n",
              "Name: count, dtype: int64"
            ],
            "text/html": [
              "<div>\n",
              "<style scoped>\n",
              "    .dataframe tbody tr th:only-of-type {\n",
              "        vertical-align: middle;\n",
              "    }\n",
              "\n",
              "    .dataframe tbody tr th {\n",
              "        vertical-align: top;\n",
              "    }\n",
              "\n",
              "    .dataframe thead th {\n",
              "        text-align: right;\n",
              "    }\n",
              "</style>\n",
              "<table border=\"1\" class=\"dataframe\">\n",
              "  <thead>\n",
              "    <tr style=\"text-align: right;\">\n",
              "      <th></th>\n",
              "      <th>count</th>\n",
              "    </tr>\n",
              "    <tr>\n",
              "      <th>Airport_Fee_Combined</th>\n",
              "      <th></th>\n",
              "    </tr>\n",
              "  </thead>\n",
              "  <tbody>\n",
              "    <tr>\n",
              "      <th>0.00</th>\n",
              "      <td>601768</td>\n",
              "    </tr>\n",
              "    <tr>\n",
              "      <th>1.75</th>\n",
              "      <td>66939</td>\n",
              "    </tr>\n",
              "    <tr>\n",
              "      <th>1.25</th>\n",
              "      <td>20676</td>\n",
              "    </tr>\n",
              "  </tbody>\n",
              "</table>\n",
              "</div><br><label><b>dtype:</b> int64</label>"
            ]
          },
          "metadata": {},
          "execution_count": 155
        }
      ]
    },
    {
      "cell_type": "code",
      "source": [
        "df['improvement_surcharge'].value_counts()"
      ],
      "metadata": {
        "colab": {
          "base_uri": "https://localhost:8080/",
          "height": 241
        },
        "id": "JX7zcWobuEOb",
        "outputId": "07095c4a-49f3-4176-f7bd-6ac5be794255"
      },
      "execution_count": 156,
      "outputs": [
        {
          "output_type": "execute_result",
          "data": {
            "text/plain": [
              "improvement_surcharge\n",
              " 1.0    688868\n",
              " 0.3       253\n",
              " 0.0       229\n",
              "-1.0        33\n",
              "Name: count, dtype: int64"
            ],
            "text/html": [
              "<div>\n",
              "<style scoped>\n",
              "    .dataframe tbody tr th:only-of-type {\n",
              "        vertical-align: middle;\n",
              "    }\n",
              "\n",
              "    .dataframe tbody tr th {\n",
              "        vertical-align: top;\n",
              "    }\n",
              "\n",
              "    .dataframe thead th {\n",
              "        text-align: right;\n",
              "    }\n",
              "</style>\n",
              "<table border=\"1\" class=\"dataframe\">\n",
              "  <thead>\n",
              "    <tr style=\"text-align: right;\">\n",
              "      <th></th>\n",
              "      <th>count</th>\n",
              "    </tr>\n",
              "    <tr>\n",
              "      <th>improvement_surcharge</th>\n",
              "      <th></th>\n",
              "    </tr>\n",
              "  </thead>\n",
              "  <tbody>\n",
              "    <tr>\n",
              "      <th>1.0</th>\n",
              "      <td>688868</td>\n",
              "    </tr>\n",
              "    <tr>\n",
              "      <th>0.3</th>\n",
              "      <td>253</td>\n",
              "    </tr>\n",
              "    <tr>\n",
              "      <th>0.0</th>\n",
              "      <td>229</td>\n",
              "    </tr>\n",
              "    <tr>\n",
              "      <th>-1.0</th>\n",
              "      <td>33</td>\n",
              "    </tr>\n",
              "  </tbody>\n",
              "</table>\n",
              "</div><br><label><b>dtype:</b> int64</label>"
            ]
          },
          "metadata": {},
          "execution_count": 156
        }
      ]
    },
    {
      "cell_type": "code",
      "source": [
        "df['improvement_surcharge']=df['improvement_surcharge'].apply(lambda x: (x*-1) if x < 0 else x)"
      ],
      "metadata": {
        "id": "L3VLSfz6uTJN"
      },
      "execution_count": 157,
      "outputs": []
    },
    {
      "cell_type": "code",
      "source": [
        "df['improvement_surcharge'].value_counts()"
      ],
      "metadata": {
        "colab": {
          "base_uri": "https://localhost:8080/",
          "height": 209
        },
        "id": "rQNCgxQQuexD",
        "outputId": "f2a41f5a-b9d3-499d-8eb9-cb2db4eb8ee3"
      },
      "execution_count": 158,
      "outputs": [
        {
          "output_type": "execute_result",
          "data": {
            "text/plain": [
              "improvement_surcharge\n",
              "1.0    688901\n",
              "0.3       253\n",
              "0.0       229\n",
              "Name: count, dtype: int64"
            ],
            "text/html": [
              "<div>\n",
              "<style scoped>\n",
              "    .dataframe tbody tr th:only-of-type {\n",
              "        vertical-align: middle;\n",
              "    }\n",
              "\n",
              "    .dataframe tbody tr th {\n",
              "        vertical-align: top;\n",
              "    }\n",
              "\n",
              "    .dataframe thead th {\n",
              "        text-align: right;\n",
              "    }\n",
              "</style>\n",
              "<table border=\"1\" class=\"dataframe\">\n",
              "  <thead>\n",
              "    <tr style=\"text-align: right;\">\n",
              "      <th></th>\n",
              "      <th>count</th>\n",
              "    </tr>\n",
              "    <tr>\n",
              "      <th>improvement_surcharge</th>\n",
              "      <th></th>\n",
              "    </tr>\n",
              "  </thead>\n",
              "  <tbody>\n",
              "    <tr>\n",
              "      <th>1.0</th>\n",
              "      <td>688901</td>\n",
              "    </tr>\n",
              "    <tr>\n",
              "      <th>0.3</th>\n",
              "      <td>253</td>\n",
              "    </tr>\n",
              "    <tr>\n",
              "      <th>0.0</th>\n",
              "      <td>229</td>\n",
              "    </tr>\n",
              "  </tbody>\n",
              "</table>\n",
              "</div><br><label><b>dtype:</b> int64</label>"
            ]
          },
          "metadata": {},
          "execution_count": 158
        }
      ]
    },
    {
      "cell_type": "code",
      "source": [
        "df['mta_tax'].value_counts()"
      ],
      "metadata": {
        "colab": {
          "base_uri": "https://localhost:8080/",
          "height": 272
        },
        "id": "U_5WdiVzuiGT",
        "outputId": "f50a3157-55e7-4e43-b42a-a1180a4f698b"
      },
      "execution_count": 160,
      "outputs": [
        {
          "output_type": "execute_result",
          "data": {
            "text/plain": [
              "mta_tax\n",
              " 0.50    683803\n",
              " 0.00      5486\n",
              " 0.05        39\n",
              "-0.50        33\n",
              " 0.80        22\n",
              "Name: count, dtype: int64"
            ],
            "text/html": [
              "<div>\n",
              "<style scoped>\n",
              "    .dataframe tbody tr th:only-of-type {\n",
              "        vertical-align: middle;\n",
              "    }\n",
              "\n",
              "    .dataframe tbody tr th {\n",
              "        vertical-align: top;\n",
              "    }\n",
              "\n",
              "    .dataframe thead th {\n",
              "        text-align: right;\n",
              "    }\n",
              "</style>\n",
              "<table border=\"1\" class=\"dataframe\">\n",
              "  <thead>\n",
              "    <tr style=\"text-align: right;\">\n",
              "      <th></th>\n",
              "      <th>count</th>\n",
              "    </tr>\n",
              "    <tr>\n",
              "      <th>mta_tax</th>\n",
              "      <th></th>\n",
              "    </tr>\n",
              "  </thead>\n",
              "  <tbody>\n",
              "    <tr>\n",
              "      <th>0.50</th>\n",
              "      <td>683803</td>\n",
              "    </tr>\n",
              "    <tr>\n",
              "      <th>0.00</th>\n",
              "      <td>5486</td>\n",
              "    </tr>\n",
              "    <tr>\n",
              "      <th>0.05</th>\n",
              "      <td>39</td>\n",
              "    </tr>\n",
              "    <tr>\n",
              "      <th>-0.50</th>\n",
              "      <td>33</td>\n",
              "    </tr>\n",
              "    <tr>\n",
              "      <th>0.80</th>\n",
              "      <td>22</td>\n",
              "    </tr>\n",
              "  </tbody>\n",
              "</table>\n",
              "</div><br><label><b>dtype:</b> int64</label>"
            ]
          },
          "metadata": {},
          "execution_count": 160
        }
      ]
    },
    {
      "cell_type": "code",
      "source": [
        "df['mta_tax']=df['mta_tax'].apply(lambda x: (x*-1) if x < 0 else x)"
      ],
      "metadata": {
        "id": "H0rCOqDSwjFE"
      },
      "execution_count": 161,
      "outputs": []
    },
    {
      "cell_type": "code",
      "source": [
        "df['mta_tax'].value_counts()"
      ],
      "metadata": {
        "colab": {
          "base_uri": "https://localhost:8080/",
          "height": 241
        },
        "id": "kOTsKWlDwsnZ",
        "outputId": "03fadb1e-ec37-408f-fc2d-4a9f0c666e66"
      },
      "execution_count": 162,
      "outputs": [
        {
          "output_type": "execute_result",
          "data": {
            "text/plain": [
              "mta_tax\n",
              "0.50    683836\n",
              "0.00      5486\n",
              "0.05        39\n",
              "0.80        22\n",
              "Name: count, dtype: int64"
            ],
            "text/html": [
              "<div>\n",
              "<style scoped>\n",
              "    .dataframe tbody tr th:only-of-type {\n",
              "        vertical-align: middle;\n",
              "    }\n",
              "\n",
              "    .dataframe tbody tr th {\n",
              "        vertical-align: top;\n",
              "    }\n",
              "\n",
              "    .dataframe thead th {\n",
              "        text-align: right;\n",
              "    }\n",
              "</style>\n",
              "<table border=\"1\" class=\"dataframe\">\n",
              "  <thead>\n",
              "    <tr style=\"text-align: right;\">\n",
              "      <th></th>\n",
              "      <th>count</th>\n",
              "    </tr>\n",
              "    <tr>\n",
              "      <th>mta_tax</th>\n",
              "      <th></th>\n",
              "    </tr>\n",
              "  </thead>\n",
              "  <tbody>\n",
              "    <tr>\n",
              "      <th>0.50</th>\n",
              "      <td>683836</td>\n",
              "    </tr>\n",
              "    <tr>\n",
              "      <th>0.00</th>\n",
              "      <td>5486</td>\n",
              "    </tr>\n",
              "    <tr>\n",
              "      <th>0.05</th>\n",
              "      <td>39</td>\n",
              "    </tr>\n",
              "    <tr>\n",
              "      <th>0.80</th>\n",
              "      <td>22</td>\n",
              "    </tr>\n",
              "  </tbody>\n",
              "</table>\n",
              "</div><br><label><b>dtype:</b> int64</label>"
            ]
          },
          "metadata": {},
          "execution_count": 162
        }
      ]
    },
    {
      "cell_type": "code",
      "source": [
        "df[df['total_amount']<0].value_counts()"
      ],
      "metadata": {
        "colab": {
          "base_uri": "https://localhost:8080/",
          "height": 229
        },
        "id": "7FcwKcSsxDCI",
        "outputId": "53d04686-b29b-4b73-dd0e-1a9835ab3744"
      },
      "execution_count": 163,
      "outputs": [
        {
          "output_type": "execute_result",
          "data": {
            "text/plain": [
              "VendorID  tpep_pickup_datetime  tpep_dropoff_datetime  passenger_count  trip_distance  RatecodeID  PULocationID  DOLocationID  payment_type  fare_amount  extra  mta_tax  tip_amount  tolls_amount  improvement_surcharge  total_amount  congestion_surcharge  Airport_Fee_Combined\n",
              "2         2023-04-18 23:00:44   2023-04-18 23:00:52    1.0              0.04           1.0         132           132           2             0.0          0.0    0.5      0.0         0.0           1.0                    -3.25         0.0                   1.75                    13\n",
              "          2023-06-11 23:05:40   2023-06-11 23:29:44    1.0              11.12          4.0         132           265           2             0.0          0.0    0.5      0.0         0.0           1.0                    -3.25         0.0                   1.75                    12\n",
              "          2023-12-13 23:08:31   2023-12-13 23:08:44    0.0              0.00           5.0         265           265           2             0.0          0.0    0.5      0.0         0.0           1.0                    -1.50         0.0                   0.00                     8\n",
              "Name: count, dtype: int64"
            ],
            "text/html": [
              "<div>\n",
              "<style scoped>\n",
              "    .dataframe tbody tr th:only-of-type {\n",
              "        vertical-align: middle;\n",
              "    }\n",
              "\n",
              "    .dataframe tbody tr th {\n",
              "        vertical-align: top;\n",
              "    }\n",
              "\n",
              "    .dataframe thead th {\n",
              "        text-align: right;\n",
              "    }\n",
              "</style>\n",
              "<table border=\"1\" class=\"dataframe\">\n",
              "  <thead>\n",
              "    <tr style=\"text-align: right;\">\n",
              "      <th></th>\n",
              "      <th></th>\n",
              "      <th></th>\n",
              "      <th></th>\n",
              "      <th></th>\n",
              "      <th></th>\n",
              "      <th></th>\n",
              "      <th></th>\n",
              "      <th></th>\n",
              "      <th></th>\n",
              "      <th></th>\n",
              "      <th></th>\n",
              "      <th></th>\n",
              "      <th></th>\n",
              "      <th></th>\n",
              "      <th></th>\n",
              "      <th></th>\n",
              "      <th></th>\n",
              "      <th>count</th>\n",
              "    </tr>\n",
              "    <tr>\n",
              "      <th>VendorID</th>\n",
              "      <th>tpep_pickup_datetime</th>\n",
              "      <th>tpep_dropoff_datetime</th>\n",
              "      <th>passenger_count</th>\n",
              "      <th>trip_distance</th>\n",
              "      <th>RatecodeID</th>\n",
              "      <th>PULocationID</th>\n",
              "      <th>DOLocationID</th>\n",
              "      <th>payment_type</th>\n",
              "      <th>fare_amount</th>\n",
              "      <th>extra</th>\n",
              "      <th>mta_tax</th>\n",
              "      <th>tip_amount</th>\n",
              "      <th>tolls_amount</th>\n",
              "      <th>improvement_surcharge</th>\n",
              "      <th>total_amount</th>\n",
              "      <th>congestion_surcharge</th>\n",
              "      <th>Airport_Fee_Combined</th>\n",
              "      <th></th>\n",
              "    </tr>\n",
              "  </thead>\n",
              "  <tbody>\n",
              "    <tr>\n",
              "      <th rowspan=\"3\" valign=\"top\">2</th>\n",
              "      <th>2023-04-18 23:00:44</th>\n",
              "      <th>2023-04-18 23:00:52</th>\n",
              "      <th>1.0</th>\n",
              "      <th>0.04</th>\n",
              "      <th>1.0</th>\n",
              "      <th>132</th>\n",
              "      <th>132</th>\n",
              "      <th>2</th>\n",
              "      <th>0.0</th>\n",
              "      <th>0.0</th>\n",
              "      <th>0.5</th>\n",
              "      <th>0.0</th>\n",
              "      <th>0.0</th>\n",
              "      <th>1.0</th>\n",
              "      <th>-3.25</th>\n",
              "      <th>0.0</th>\n",
              "      <th>1.75</th>\n",
              "      <td>13</td>\n",
              "    </tr>\n",
              "    <tr>\n",
              "      <th>2023-06-11 23:05:40</th>\n",
              "      <th>2023-06-11 23:29:44</th>\n",
              "      <th>1.0</th>\n",
              "      <th>11.12</th>\n",
              "      <th>4.0</th>\n",
              "      <th>132</th>\n",
              "      <th>265</th>\n",
              "      <th>2</th>\n",
              "      <th>0.0</th>\n",
              "      <th>0.0</th>\n",
              "      <th>0.5</th>\n",
              "      <th>0.0</th>\n",
              "      <th>0.0</th>\n",
              "      <th>1.0</th>\n",
              "      <th>-3.25</th>\n",
              "      <th>0.0</th>\n",
              "      <th>1.75</th>\n",
              "      <td>12</td>\n",
              "    </tr>\n",
              "    <tr>\n",
              "      <th>2023-12-13 23:08:31</th>\n",
              "      <th>2023-12-13 23:08:44</th>\n",
              "      <th>0.0</th>\n",
              "      <th>0.00</th>\n",
              "      <th>5.0</th>\n",
              "      <th>265</th>\n",
              "      <th>265</th>\n",
              "      <th>2</th>\n",
              "      <th>0.0</th>\n",
              "      <th>0.0</th>\n",
              "      <th>0.5</th>\n",
              "      <th>0.0</th>\n",
              "      <th>0.0</th>\n",
              "      <th>1.0</th>\n",
              "      <th>-1.50</th>\n",
              "      <th>0.0</th>\n",
              "      <th>0.00</th>\n",
              "      <td>8</td>\n",
              "    </tr>\n",
              "  </tbody>\n",
              "</table>\n",
              "</div><br><label><b>dtype:</b> int64</label>"
            ]
          },
          "metadata": {},
          "execution_count": 163
        }
      ]
    },
    {
      "cell_type": "code",
      "source": [
        "# it was observed that where total_amount is in negative value all values (fare_amount, extra,tip_amount,\ttolls_amount) are zeros except mta_tax, Improvement_surcharge & Airport_fee\n",
        "# total_amount made to zero\n",
        "\n",
        "df['total_amount']=df['total_amount'].apply(lambda x: 0 if x < 0 else x)"
      ],
      "metadata": {
        "id": "UkOrdfw0yqq9"
      },
      "execution_count": 164,
      "outputs": []
    },
    {
      "cell_type": "code",
      "source": [
        "df[df['total_amount']<0].value_counts()"
      ],
      "metadata": {
        "colab": {
          "base_uri": "https://localhost:8080/",
          "height": 135
        },
        "id": "qW0WCTGQ1EHA",
        "outputId": "2bb136b0-6e54-4fd2-d959-1b1be33f94b0"
      },
      "execution_count": 165,
      "outputs": [
        {
          "output_type": "execute_result",
          "data": {
            "text/plain": [
              "Series([], Name: count, dtype: int64)"
            ],
            "text/html": [
              "<div>\n",
              "<style scoped>\n",
              "    .dataframe tbody tr th:only-of-type {\n",
              "        vertical-align: middle;\n",
              "    }\n",
              "\n",
              "    .dataframe tbody tr th {\n",
              "        vertical-align: top;\n",
              "    }\n",
              "\n",
              "    .dataframe thead th {\n",
              "        text-align: right;\n",
              "    }\n",
              "</style>\n",
              "<table border=\"1\" class=\"dataframe\">\n",
              "  <thead>\n",
              "    <tr style=\"text-align: right;\">\n",
              "      <th></th>\n",
              "      <th></th>\n",
              "      <th></th>\n",
              "      <th></th>\n",
              "      <th></th>\n",
              "      <th></th>\n",
              "      <th></th>\n",
              "      <th></th>\n",
              "      <th></th>\n",
              "      <th></th>\n",
              "      <th></th>\n",
              "      <th></th>\n",
              "      <th></th>\n",
              "      <th></th>\n",
              "      <th></th>\n",
              "      <th></th>\n",
              "      <th></th>\n",
              "      <th></th>\n",
              "      <th>count</th>\n",
              "    </tr>\n",
              "    <tr>\n",
              "      <th>VendorID</th>\n",
              "      <th>tpep_pickup_datetime</th>\n",
              "      <th>tpep_dropoff_datetime</th>\n",
              "      <th>passenger_count</th>\n",
              "      <th>trip_distance</th>\n",
              "      <th>RatecodeID</th>\n",
              "      <th>PULocationID</th>\n",
              "      <th>DOLocationID</th>\n",
              "      <th>payment_type</th>\n",
              "      <th>fare_amount</th>\n",
              "      <th>extra</th>\n",
              "      <th>mta_tax</th>\n",
              "      <th>tip_amount</th>\n",
              "      <th>tolls_amount</th>\n",
              "      <th>improvement_surcharge</th>\n",
              "      <th>total_amount</th>\n",
              "      <th>congestion_surcharge</th>\n",
              "      <th>Airport_Fee_Combined</th>\n",
              "      <th></th>\n",
              "    </tr>\n",
              "  </thead>\n",
              "  <tbody>\n",
              "  </tbody>\n",
              "</table>\n",
              "</div><br><label><b>dtype:</b> int64</label>"
            ]
          },
          "metadata": {},
          "execution_count": 165
        }
      ]
    },
    {
      "cell_type": "markdown",
      "source": [],
      "metadata": {
        "id": "coP2Xz45x29R"
      }
    },
    {
      "cell_type": "code",
      "source": [
        "pd.DataFrame({\n",
        "    'Column': df.columns.values,\n",
        "    'Negative-Values': [df[col].min() if col in df.select_dtypes(include=[np.number]).columns else 0 for col in df.columns]\n",
        "})\n"
      ],
      "metadata": {
        "colab": {
          "base_uri": "https://localhost:8080/",
          "height": 613
        },
        "id": "nX_VsZhSw7Pn",
        "outputId": "560b7380-06ab-4b15-f759-d74b92ae6c4d"
      },
      "execution_count": 166,
      "outputs": [
        {
          "output_type": "execute_result",
          "data": {
            "text/plain": [
              "                   Column  Negative-Values\n",
              "0                VendorID              1.0\n",
              "1    tpep_pickup_datetime              0.0\n",
              "2   tpep_dropoff_datetime              0.0\n",
              "3         passenger_count              0.0\n",
              "4           trip_distance              0.0\n",
              "5              RatecodeID              1.0\n",
              "6            PULocationID              1.0\n",
              "7            DOLocationID              1.0\n",
              "8            payment_type              0.0\n",
              "9             fare_amount              0.0\n",
              "10                  extra              0.0\n",
              "11                mta_tax              0.0\n",
              "12             tip_amount              0.0\n",
              "13           tolls_amount              0.0\n",
              "14  improvement_surcharge              0.0\n",
              "15           total_amount              0.0\n",
              "16   congestion_surcharge              0.0\n",
              "17   Airport_Fee_Combined              0.0"
            ],
            "text/html": [
              "\n",
              "  <div id=\"df-ac728978-8968-4645-aedf-914541993115\" class=\"colab-df-container\">\n",
              "    <div>\n",
              "<style scoped>\n",
              "    .dataframe tbody tr th:only-of-type {\n",
              "        vertical-align: middle;\n",
              "    }\n",
              "\n",
              "    .dataframe tbody tr th {\n",
              "        vertical-align: top;\n",
              "    }\n",
              "\n",
              "    .dataframe thead th {\n",
              "        text-align: right;\n",
              "    }\n",
              "</style>\n",
              "<table border=\"1\" class=\"dataframe\">\n",
              "  <thead>\n",
              "    <tr style=\"text-align: right;\">\n",
              "      <th></th>\n",
              "      <th>Column</th>\n",
              "      <th>Negative-Values</th>\n",
              "    </tr>\n",
              "  </thead>\n",
              "  <tbody>\n",
              "    <tr>\n",
              "      <th>0</th>\n",
              "      <td>VendorID</td>\n",
              "      <td>1.0</td>\n",
              "    </tr>\n",
              "    <tr>\n",
              "      <th>1</th>\n",
              "      <td>tpep_pickup_datetime</td>\n",
              "      <td>0.0</td>\n",
              "    </tr>\n",
              "    <tr>\n",
              "      <th>2</th>\n",
              "      <td>tpep_dropoff_datetime</td>\n",
              "      <td>0.0</td>\n",
              "    </tr>\n",
              "    <tr>\n",
              "      <th>3</th>\n",
              "      <td>passenger_count</td>\n",
              "      <td>0.0</td>\n",
              "    </tr>\n",
              "    <tr>\n",
              "      <th>4</th>\n",
              "      <td>trip_distance</td>\n",
              "      <td>0.0</td>\n",
              "    </tr>\n",
              "    <tr>\n",
              "      <th>5</th>\n",
              "      <td>RatecodeID</td>\n",
              "      <td>1.0</td>\n",
              "    </tr>\n",
              "    <tr>\n",
              "      <th>6</th>\n",
              "      <td>PULocationID</td>\n",
              "      <td>1.0</td>\n",
              "    </tr>\n",
              "    <tr>\n",
              "      <th>7</th>\n",
              "      <td>DOLocationID</td>\n",
              "      <td>1.0</td>\n",
              "    </tr>\n",
              "    <tr>\n",
              "      <th>8</th>\n",
              "      <td>payment_type</td>\n",
              "      <td>0.0</td>\n",
              "    </tr>\n",
              "    <tr>\n",
              "      <th>9</th>\n",
              "      <td>fare_amount</td>\n",
              "      <td>0.0</td>\n",
              "    </tr>\n",
              "    <tr>\n",
              "      <th>10</th>\n",
              "      <td>extra</td>\n",
              "      <td>0.0</td>\n",
              "    </tr>\n",
              "    <tr>\n",
              "      <th>11</th>\n",
              "      <td>mta_tax</td>\n",
              "      <td>0.0</td>\n",
              "    </tr>\n",
              "    <tr>\n",
              "      <th>12</th>\n",
              "      <td>tip_amount</td>\n",
              "      <td>0.0</td>\n",
              "    </tr>\n",
              "    <tr>\n",
              "      <th>13</th>\n",
              "      <td>tolls_amount</td>\n",
              "      <td>0.0</td>\n",
              "    </tr>\n",
              "    <tr>\n",
              "      <th>14</th>\n",
              "      <td>improvement_surcharge</td>\n",
              "      <td>0.0</td>\n",
              "    </tr>\n",
              "    <tr>\n",
              "      <th>15</th>\n",
              "      <td>total_amount</td>\n",
              "      <td>0.0</td>\n",
              "    </tr>\n",
              "    <tr>\n",
              "      <th>16</th>\n",
              "      <td>congestion_surcharge</td>\n",
              "      <td>0.0</td>\n",
              "    </tr>\n",
              "    <tr>\n",
              "      <th>17</th>\n",
              "      <td>Airport_Fee_Combined</td>\n",
              "      <td>0.0</td>\n",
              "    </tr>\n",
              "  </tbody>\n",
              "</table>\n",
              "</div>\n",
              "    <div class=\"colab-df-buttons\">\n",
              "\n",
              "  <div class=\"colab-df-container\">\n",
              "    <button class=\"colab-df-convert\" onclick=\"convertToInteractive('df-ac728978-8968-4645-aedf-914541993115')\"\n",
              "            title=\"Convert this dataframe to an interactive table.\"\n",
              "            style=\"display:none;\">\n",
              "\n",
              "  <svg xmlns=\"http://www.w3.org/2000/svg\" height=\"24px\" viewBox=\"0 -960 960 960\">\n",
              "    <path d=\"M120-120v-720h720v720H120Zm60-500h600v-160H180v160Zm220 220h160v-160H400v160Zm0 220h160v-160H400v160ZM180-400h160v-160H180v160Zm440 0h160v-160H620v160ZM180-180h160v-160H180v160Zm440 0h160v-160H620v160Z\"/>\n",
              "  </svg>\n",
              "    </button>\n",
              "\n",
              "  <style>\n",
              "    .colab-df-container {\n",
              "      display:flex;\n",
              "      gap: 12px;\n",
              "    }\n",
              "\n",
              "    .colab-df-convert {\n",
              "      background-color: #E8F0FE;\n",
              "      border: none;\n",
              "      border-radius: 50%;\n",
              "      cursor: pointer;\n",
              "      display: none;\n",
              "      fill: #1967D2;\n",
              "      height: 32px;\n",
              "      padding: 0 0 0 0;\n",
              "      width: 32px;\n",
              "    }\n",
              "\n",
              "    .colab-df-convert:hover {\n",
              "      background-color: #E2EBFA;\n",
              "      box-shadow: 0px 1px 2px rgba(60, 64, 67, 0.3), 0px 1px 3px 1px rgba(60, 64, 67, 0.15);\n",
              "      fill: #174EA6;\n",
              "    }\n",
              "\n",
              "    .colab-df-buttons div {\n",
              "      margin-bottom: 4px;\n",
              "    }\n",
              "\n",
              "    [theme=dark] .colab-df-convert {\n",
              "      background-color: #3B4455;\n",
              "      fill: #D2E3FC;\n",
              "    }\n",
              "\n",
              "    [theme=dark] .colab-df-convert:hover {\n",
              "      background-color: #434B5C;\n",
              "      box-shadow: 0px 1px 3px 1px rgba(0, 0, 0, 0.15);\n",
              "      filter: drop-shadow(0px 1px 2px rgba(0, 0, 0, 0.3));\n",
              "      fill: #FFFFFF;\n",
              "    }\n",
              "  </style>\n",
              "\n",
              "    <script>\n",
              "      const buttonEl =\n",
              "        document.querySelector('#df-ac728978-8968-4645-aedf-914541993115 button.colab-df-convert');\n",
              "      buttonEl.style.display =\n",
              "        google.colab.kernel.accessAllowed ? 'block' : 'none';\n",
              "\n",
              "      async function convertToInteractive(key) {\n",
              "        const element = document.querySelector('#df-ac728978-8968-4645-aedf-914541993115');\n",
              "        const dataTable =\n",
              "          await google.colab.kernel.invokeFunction('convertToInteractive',\n",
              "                                                    [key], {});\n",
              "        if (!dataTable) return;\n",
              "\n",
              "        const docLinkHtml = 'Like what you see? Visit the ' +\n",
              "          '<a target=\"_blank\" href=https://colab.research.google.com/notebooks/data_table.ipynb>data table notebook</a>'\n",
              "          + ' to learn more about interactive tables.';\n",
              "        element.innerHTML = '';\n",
              "        dataTable['output_type'] = 'display_data';\n",
              "        await google.colab.output.renderOutput(dataTable, element);\n",
              "        const docLink = document.createElement('div');\n",
              "        docLink.innerHTML = docLinkHtml;\n",
              "        element.appendChild(docLink);\n",
              "      }\n",
              "    </script>\n",
              "  </div>\n",
              "\n",
              "\n",
              "<div id=\"df-221c2026-a66f-4de2-ae67-72918dfed471\">\n",
              "  <button class=\"colab-df-quickchart\" onclick=\"quickchart('df-221c2026-a66f-4de2-ae67-72918dfed471')\"\n",
              "            title=\"Suggest charts\"\n",
              "            style=\"display:none;\">\n",
              "\n",
              "<svg xmlns=\"http://www.w3.org/2000/svg\" height=\"24px\"viewBox=\"0 0 24 24\"\n",
              "     width=\"24px\">\n",
              "    <g>\n",
              "        <path d=\"M19 3H5c-1.1 0-2 .9-2 2v14c0 1.1.9 2 2 2h14c1.1 0 2-.9 2-2V5c0-1.1-.9-2-2-2zM9 17H7v-7h2v7zm4 0h-2V7h2v10zm4 0h-2v-4h2v4z\"/>\n",
              "    </g>\n",
              "</svg>\n",
              "  </button>\n",
              "\n",
              "<style>\n",
              "  .colab-df-quickchart {\n",
              "      --bg-color: #E8F0FE;\n",
              "      --fill-color: #1967D2;\n",
              "      --hover-bg-color: #E2EBFA;\n",
              "      --hover-fill-color: #174EA6;\n",
              "      --disabled-fill-color: #AAA;\n",
              "      --disabled-bg-color: #DDD;\n",
              "  }\n",
              "\n",
              "  [theme=dark] .colab-df-quickchart {\n",
              "      --bg-color: #3B4455;\n",
              "      --fill-color: #D2E3FC;\n",
              "      --hover-bg-color: #434B5C;\n",
              "      --hover-fill-color: #FFFFFF;\n",
              "      --disabled-bg-color: #3B4455;\n",
              "      --disabled-fill-color: #666;\n",
              "  }\n",
              "\n",
              "  .colab-df-quickchart {\n",
              "    background-color: var(--bg-color);\n",
              "    border: none;\n",
              "    border-radius: 50%;\n",
              "    cursor: pointer;\n",
              "    display: none;\n",
              "    fill: var(--fill-color);\n",
              "    height: 32px;\n",
              "    padding: 0;\n",
              "    width: 32px;\n",
              "  }\n",
              "\n",
              "  .colab-df-quickchart:hover {\n",
              "    background-color: var(--hover-bg-color);\n",
              "    box-shadow: 0 1px 2px rgba(60, 64, 67, 0.3), 0 1px 3px 1px rgba(60, 64, 67, 0.15);\n",
              "    fill: var(--button-hover-fill-color);\n",
              "  }\n",
              "\n",
              "  .colab-df-quickchart-complete:disabled,\n",
              "  .colab-df-quickchart-complete:disabled:hover {\n",
              "    background-color: var(--disabled-bg-color);\n",
              "    fill: var(--disabled-fill-color);\n",
              "    box-shadow: none;\n",
              "  }\n",
              "\n",
              "  .colab-df-spinner {\n",
              "    border: 2px solid var(--fill-color);\n",
              "    border-color: transparent;\n",
              "    border-bottom-color: var(--fill-color);\n",
              "    animation:\n",
              "      spin 1s steps(1) infinite;\n",
              "  }\n",
              "\n",
              "  @keyframes spin {\n",
              "    0% {\n",
              "      border-color: transparent;\n",
              "      border-bottom-color: var(--fill-color);\n",
              "      border-left-color: var(--fill-color);\n",
              "    }\n",
              "    20% {\n",
              "      border-color: transparent;\n",
              "      border-left-color: var(--fill-color);\n",
              "      border-top-color: var(--fill-color);\n",
              "    }\n",
              "    30% {\n",
              "      border-color: transparent;\n",
              "      border-left-color: var(--fill-color);\n",
              "      border-top-color: var(--fill-color);\n",
              "      border-right-color: var(--fill-color);\n",
              "    }\n",
              "    40% {\n",
              "      border-color: transparent;\n",
              "      border-right-color: var(--fill-color);\n",
              "      border-top-color: var(--fill-color);\n",
              "    }\n",
              "    60% {\n",
              "      border-color: transparent;\n",
              "      border-right-color: var(--fill-color);\n",
              "    }\n",
              "    80% {\n",
              "      border-color: transparent;\n",
              "      border-right-color: var(--fill-color);\n",
              "      border-bottom-color: var(--fill-color);\n",
              "    }\n",
              "    90% {\n",
              "      border-color: transparent;\n",
              "      border-bottom-color: var(--fill-color);\n",
              "    }\n",
              "  }\n",
              "</style>\n",
              "\n",
              "  <script>\n",
              "    async function quickchart(key) {\n",
              "      const quickchartButtonEl =\n",
              "        document.querySelector('#' + key + ' button');\n",
              "      quickchartButtonEl.disabled = true;  // To prevent multiple clicks.\n",
              "      quickchartButtonEl.classList.add('colab-df-spinner');\n",
              "      try {\n",
              "        const charts = await google.colab.kernel.invokeFunction(\n",
              "            'suggestCharts', [key], {});\n",
              "      } catch (error) {\n",
              "        console.error('Error during call to suggestCharts:', error);\n",
              "      }\n",
              "      quickchartButtonEl.classList.remove('colab-df-spinner');\n",
              "      quickchartButtonEl.classList.add('colab-df-quickchart-complete');\n",
              "    }\n",
              "    (() => {\n",
              "      let quickchartButtonEl =\n",
              "        document.querySelector('#df-221c2026-a66f-4de2-ae67-72918dfed471 button');\n",
              "      quickchartButtonEl.style.display =\n",
              "        google.colab.kernel.accessAllowed ? 'block' : 'none';\n",
              "    })();\n",
              "  </script>\n",
              "</div>\n",
              "\n",
              "    </div>\n",
              "  </div>\n"
            ],
            "application/vnd.google.colaboratory.intrinsic+json": {
              "type": "dataframe",
              "summary": "{\n  \"name\": \"})\",\n  \"rows\": 18,\n  \"fields\": [\n    {\n      \"column\": \"Column\",\n      \"properties\": {\n        \"dtype\": \"string\",\n        \"num_unique_values\": 18,\n        \"samples\": [\n          \"VendorID\",\n          \"tpep_pickup_datetime\",\n          \"payment_type\"\n        ],\n        \"semantic_type\": \"\",\n        \"description\": \"\"\n      }\n    },\n    {\n      \"column\": \"Negative-Values\",\n      \"properties\": {\n        \"dtype\": \"number\",\n        \"std\": 0.42779263194649875,\n        \"min\": 0.0,\n        \"max\": 1.0,\n        \"num_unique_values\": 2,\n        \"samples\": [\n          0.0,\n          1.0\n        ],\n        \"semantic_type\": \"\",\n        \"description\": \"\"\n      }\n    }\n  ]\n}"
            }
          },
          "metadata": {},
          "execution_count": 166
        }
      ]
    },
    {
      "cell_type": "markdown",
      "metadata": {
        "id": "x2hakCCy6wXI"
      },
      "source": [
        "### **2.2** Handling Missing Values\n",
        "<font color = red>[10 marks]</font> <br>"
      ]
    },
    {
      "cell_type": "markdown",
      "metadata": {
        "id": "-K-QNPDVVhzR"
      },
      "source": [
        "**2.2.1**  <font color = red>[2 marks]</font> <br>\n",
        "Find the proportion of missing values in each column\n",
        "\n",
        "\n"
      ]
    },
    {
      "cell_type": "code",
      "execution_count": 114,
      "metadata": {
        "id": "tfTa9cct6Gec",
        "colab": {
          "base_uri": "https://localhost:8080/"
        },
        "outputId": "59dfe119-cfd7-424c-8b15-b260aab8a475"
      },
      "outputs": [
        {
          "output_type": "stream",
          "name": "stdout",
          "text": [
            "<class 'pandas.core.frame.DataFrame'>\n",
            "RangeIndex: 689383 entries, 0 to 689382\n",
            "Data columns (total 18 columns):\n",
            " #   Column                 Non-Null Count   Dtype         \n",
            "---  ------                 --------------   -----         \n",
            " 0   VendorID               689383 non-null  int64         \n",
            " 1   tpep_pickup_datetime   689383 non-null  datetime64[us]\n",
            " 2   tpep_dropoff_datetime  689383 non-null  datetime64[us]\n",
            " 3   passenger_count        660713 non-null  float64       \n",
            " 4   trip_distance          689383 non-null  float64       \n",
            " 5   RatecodeID             689383 non-null  float64       \n",
            " 6   PULocationID           689383 non-null  int64         \n",
            " 7   DOLocationID           689383 non-null  int64         \n",
            " 8   payment_type           689383 non-null  int64         \n",
            " 9   fare_amount            689383 non-null  float64       \n",
            " 10  extra                  689383 non-null  float64       \n",
            " 11  mta_tax                689383 non-null  float64       \n",
            " 12  tip_amount             689383 non-null  float64       \n",
            " 13  tolls_amount           689383 non-null  float64       \n",
            " 14  improvement_surcharge  689383 non-null  float64       \n",
            " 15  total_amount           689383 non-null  float64       \n",
            " 16  congestion_surcharge   689383 non-null  float64       \n",
            " 17  Airport_Fee_Combined   689383 non-null  float64       \n",
            "dtypes: datetime64[us](2), float64(12), int64(4)\n",
            "memory usage: 94.7 MB\n"
          ]
        }
      ],
      "source": [
        "df.info()\n"
      ]
    },
    {
      "cell_type": "code",
      "source": [
        "# Find the proportion of missing values in each column\n",
        "df.isnull().sum()/len(df)*100"
      ],
      "metadata": {
        "colab": {
          "base_uri": "https://localhost:8080/",
          "height": 648
        },
        "id": "liBpKbtS4lav",
        "outputId": "e7b9b04c-2472-44f2-cb8c-15f8cc239089"
      },
      "execution_count": 138,
      "outputs": [
        {
          "output_type": "execute_result",
          "data": {
            "text/plain": [
              "VendorID                 0.000000\n",
              "tpep_pickup_datetime     0.000000\n",
              "tpep_dropoff_datetime    0.000000\n",
              "passenger_count          4.158791\n",
              "trip_distance            0.000000\n",
              "RatecodeID               4.158791\n",
              "PULocationID             0.000000\n",
              "DOLocationID             0.000000\n",
              "payment_type             0.000000\n",
              "fare_amount              0.000000\n",
              "extra                    0.000000\n",
              "mta_tax                  0.000000\n",
              "tip_amount               0.000000\n",
              "tolls_amount             0.000000\n",
              "improvement_surcharge    0.000000\n",
              "total_amount             0.000000\n",
              "congestion_surcharge     4.158791\n",
              "Airport_Fee_Combined     0.000000\n",
              "dtype: float64"
            ],
            "text/html": [
              "<div>\n",
              "<style scoped>\n",
              "    .dataframe tbody tr th:only-of-type {\n",
              "        vertical-align: middle;\n",
              "    }\n",
              "\n",
              "    .dataframe tbody tr th {\n",
              "        vertical-align: top;\n",
              "    }\n",
              "\n",
              "    .dataframe thead th {\n",
              "        text-align: right;\n",
              "    }\n",
              "</style>\n",
              "<table border=\"1\" class=\"dataframe\">\n",
              "  <thead>\n",
              "    <tr style=\"text-align: right;\">\n",
              "      <th></th>\n",
              "      <th>0</th>\n",
              "    </tr>\n",
              "  </thead>\n",
              "  <tbody>\n",
              "    <tr>\n",
              "      <th>VendorID</th>\n",
              "      <td>0.000000</td>\n",
              "    </tr>\n",
              "    <tr>\n",
              "      <th>tpep_pickup_datetime</th>\n",
              "      <td>0.000000</td>\n",
              "    </tr>\n",
              "    <tr>\n",
              "      <th>tpep_dropoff_datetime</th>\n",
              "      <td>0.000000</td>\n",
              "    </tr>\n",
              "    <tr>\n",
              "      <th>passenger_count</th>\n",
              "      <td>4.158791</td>\n",
              "    </tr>\n",
              "    <tr>\n",
              "      <th>trip_distance</th>\n",
              "      <td>0.000000</td>\n",
              "    </tr>\n",
              "    <tr>\n",
              "      <th>RatecodeID</th>\n",
              "      <td>4.158791</td>\n",
              "    </tr>\n",
              "    <tr>\n",
              "      <th>PULocationID</th>\n",
              "      <td>0.000000</td>\n",
              "    </tr>\n",
              "    <tr>\n",
              "      <th>DOLocationID</th>\n",
              "      <td>0.000000</td>\n",
              "    </tr>\n",
              "    <tr>\n",
              "      <th>payment_type</th>\n",
              "      <td>0.000000</td>\n",
              "    </tr>\n",
              "    <tr>\n",
              "      <th>fare_amount</th>\n",
              "      <td>0.000000</td>\n",
              "    </tr>\n",
              "    <tr>\n",
              "      <th>extra</th>\n",
              "      <td>0.000000</td>\n",
              "    </tr>\n",
              "    <tr>\n",
              "      <th>mta_tax</th>\n",
              "      <td>0.000000</td>\n",
              "    </tr>\n",
              "    <tr>\n",
              "      <th>tip_amount</th>\n",
              "      <td>0.000000</td>\n",
              "    </tr>\n",
              "    <tr>\n",
              "      <th>tolls_amount</th>\n",
              "      <td>0.000000</td>\n",
              "    </tr>\n",
              "    <tr>\n",
              "      <th>improvement_surcharge</th>\n",
              "      <td>0.000000</td>\n",
              "    </tr>\n",
              "    <tr>\n",
              "      <th>total_amount</th>\n",
              "      <td>0.000000</td>\n",
              "    </tr>\n",
              "    <tr>\n",
              "      <th>congestion_surcharge</th>\n",
              "      <td>4.158791</td>\n",
              "    </tr>\n",
              "    <tr>\n",
              "      <th>Airport_Fee_Combined</th>\n",
              "      <td>0.000000</td>\n",
              "    </tr>\n",
              "  </tbody>\n",
              "</table>\n",
              "</div><br><label><b>dtype:</b> float64</label>"
            ]
          },
          "metadata": {},
          "execution_count": 138
        }
      ]
    },
    {
      "cell_type": "markdown",
      "metadata": {
        "id": "-UdUl6AL_-E_"
      },
      "source": [
        "**2.2.2**  <font color = red>[3 marks]</font> <br>\n",
        "Handling missing values in `passenger_count`"
      ]
    },
    {
      "cell_type": "code",
      "execution_count": 167,
      "metadata": {
        "id": "JmNmhr4q8Xys",
        "colab": {
          "base_uri": "https://localhost:8080/"
        },
        "outputId": "019315cb-71fb-41bf-89fd-a0bc9a8cfa87"
      },
      "outputs": [
        {
          "output_type": "execute_result",
          "data": {
            "text/plain": [
              "np.int64(28670)"
            ]
          },
          "metadata": {},
          "execution_count": 167
        }
      ],
      "source": [
        "# Display the rows with null values\n",
        "# Impute NaN values in 'passenger_count'\n",
        "df.passenger_count.isnull().sum()"
      ]
    },
    {
      "cell_type": "code",
      "source": [
        "df.passenger_count.value_counts()"
      ],
      "metadata": {
        "colab": {
          "base_uri": "https://localhost:8080/",
          "height": 335
        },
        "id": "HhQDUc7E6VV4",
        "outputId": "f50be6ad-9dce-4432-f34b-d61c59d57147"
      },
      "execution_count": 168,
      "outputs": [
        {
          "output_type": "execute_result",
          "data": {
            "text/plain": [
              "passenger_count\n",
              "1.0    479308\n",
              "2.0    116654\n",
              "3.0     26393\n",
              "4.0     15662\n",
              "5.0     10020\n",
              "0.0      8065\n",
              "6.0      4611\n",
              "Name: count, dtype: int64"
            ],
            "text/html": [
              "<div>\n",
              "<style scoped>\n",
              "    .dataframe tbody tr th:only-of-type {\n",
              "        vertical-align: middle;\n",
              "    }\n",
              "\n",
              "    .dataframe tbody tr th {\n",
              "        vertical-align: top;\n",
              "    }\n",
              "\n",
              "    .dataframe thead th {\n",
              "        text-align: right;\n",
              "    }\n",
              "</style>\n",
              "<table border=\"1\" class=\"dataframe\">\n",
              "  <thead>\n",
              "    <tr style=\"text-align: right;\">\n",
              "      <th></th>\n",
              "      <th>count</th>\n",
              "    </tr>\n",
              "    <tr>\n",
              "      <th>passenger_count</th>\n",
              "      <th></th>\n",
              "    </tr>\n",
              "  </thead>\n",
              "  <tbody>\n",
              "    <tr>\n",
              "      <th>1.0</th>\n",
              "      <td>479308</td>\n",
              "    </tr>\n",
              "    <tr>\n",
              "      <th>2.0</th>\n",
              "      <td>116654</td>\n",
              "    </tr>\n",
              "    <tr>\n",
              "      <th>3.0</th>\n",
              "      <td>26393</td>\n",
              "    </tr>\n",
              "    <tr>\n",
              "      <th>4.0</th>\n",
              "      <td>15662</td>\n",
              "    </tr>\n",
              "    <tr>\n",
              "      <th>5.0</th>\n",
              "      <td>10020</td>\n",
              "    </tr>\n",
              "    <tr>\n",
              "      <th>0.0</th>\n",
              "      <td>8065</td>\n",
              "    </tr>\n",
              "    <tr>\n",
              "      <th>6.0</th>\n",
              "      <td>4611</td>\n",
              "    </tr>\n",
              "  </tbody>\n",
              "</table>\n",
              "</div><br><label><b>dtype:</b> int64</label>"
            ]
          },
          "metadata": {},
          "execution_count": 168
        }
      ]
    },
    {
      "cell_type": "code",
      "source": [
        "df.fillna({'passenger_count': 1}, inplace=True)"
      ],
      "metadata": {
        "id": "jCt1ktRT6wGA"
      },
      "execution_count": 169,
      "outputs": []
    },
    {
      "cell_type": "markdown",
      "metadata": {
        "id": "hIPCyR6UCw0c"
      },
      "source": [
        "Did you find zeroes in passenger_count? Handle these."
      ]
    },
    {
      "cell_type": "code",
      "source": [
        "df['passenger_count']=df['passenger_count'].apply(lambda x: 1 if x == 0 else x)"
      ],
      "metadata": {
        "id": "iKLegHU46-2Y"
      },
      "execution_count": 170,
      "outputs": []
    },
    {
      "cell_type": "code",
      "source": [
        "df.passenger_count.value_counts()"
      ],
      "metadata": {
        "colab": {
          "base_uri": "https://localhost:8080/",
          "height": 303
        },
        "id": "T3ekALlR7I8Z",
        "outputId": "3799c4d9-58a4-4862-a321-3bee7bca6d75"
      },
      "execution_count": 171,
      "outputs": [
        {
          "output_type": "execute_result",
          "data": {
            "text/plain": [
              "passenger_count\n",
              "1.0    516043\n",
              "2.0    116654\n",
              "3.0     26393\n",
              "4.0     15662\n",
              "5.0     10020\n",
              "6.0      4611\n",
              "Name: count, dtype: int64"
            ],
            "text/html": [
              "<div>\n",
              "<style scoped>\n",
              "    .dataframe tbody tr th:only-of-type {\n",
              "        vertical-align: middle;\n",
              "    }\n",
              "\n",
              "    .dataframe tbody tr th {\n",
              "        vertical-align: top;\n",
              "    }\n",
              "\n",
              "    .dataframe thead th {\n",
              "        text-align: right;\n",
              "    }\n",
              "</style>\n",
              "<table border=\"1\" class=\"dataframe\">\n",
              "  <thead>\n",
              "    <tr style=\"text-align: right;\">\n",
              "      <th></th>\n",
              "      <th>count</th>\n",
              "    </tr>\n",
              "    <tr>\n",
              "      <th>passenger_count</th>\n",
              "      <th></th>\n",
              "    </tr>\n",
              "  </thead>\n",
              "  <tbody>\n",
              "    <tr>\n",
              "      <th>1.0</th>\n",
              "      <td>516043</td>\n",
              "    </tr>\n",
              "    <tr>\n",
              "      <th>2.0</th>\n",
              "      <td>116654</td>\n",
              "    </tr>\n",
              "    <tr>\n",
              "      <th>3.0</th>\n",
              "      <td>26393</td>\n",
              "    </tr>\n",
              "    <tr>\n",
              "      <th>4.0</th>\n",
              "      <td>15662</td>\n",
              "    </tr>\n",
              "    <tr>\n",
              "      <th>5.0</th>\n",
              "      <td>10020</td>\n",
              "    </tr>\n",
              "    <tr>\n",
              "      <th>6.0</th>\n",
              "      <td>4611</td>\n",
              "    </tr>\n",
              "  </tbody>\n",
              "</table>\n",
              "</div><br><label><b>dtype:</b> int64</label>"
            ]
          },
          "metadata": {},
          "execution_count": 171
        }
      ]
    },
    {
      "cell_type": "markdown",
      "metadata": {
        "id": "IUr4fwkjBUTQ"
      },
      "source": [
        "**2.2.3**  <font color = red>[2 marks]</font> <br>\n",
        "Handle missing values in `RatecodeID`"
      ]
    },
    {
      "cell_type": "code",
      "source": [
        "df.fillna({'RatecodeID':1}, inplace=True)"
      ],
      "metadata": {
        "id": "Y52Bni6n8A-X"
      },
      "execution_count": null,
      "outputs": []
    },
    {
      "cell_type": "code",
      "execution_count": 172,
      "metadata": {
        "id": "qEgFxytzBkrB",
        "colab": {
          "base_uri": "https://localhost:8080/"
        },
        "outputId": "400a29c9-f59d-4d7b-8187-b976b0aabe87"
      },
      "outputs": [
        {
          "output_type": "execute_result",
          "data": {
            "text/plain": [
              "np.int64(0)"
            ]
          },
          "metadata": {},
          "execution_count": 172
        }
      ],
      "source": [
        "# Fix missing values in 'RatecodeID'\n",
        "df['RatecodeID'].isnull().sum()"
      ]
    },
    {
      "cell_type": "code",
      "source": [
        "df['RatecodeID']=df['RatecodeID'].apply(lambda x: 6 if x == 99 else x)"
      ],
      "metadata": {
        "id": "Chu4pMC28PKl"
      },
      "execution_count": null,
      "outputs": []
    },
    {
      "cell_type": "code",
      "source": [
        "df['RatecodeID'].value_counts()"
      ],
      "metadata": {
        "colab": {
          "base_uri": "https://localhost:8080/",
          "height": 303
        },
        "id": "-XMhXnl47mYx",
        "outputId": "f75f0392-a655-4904-a672-00f4e8dd95c6"
      },
      "execution_count": 174,
      "outputs": [
        {
          "output_type": "execute_result",
          "data": {
            "text/plain": [
              "RatecodeID\n",
              "1.0    654182\n",
              "2.0     26917\n",
              "5.0      4921\n",
              "4.0      2093\n",
              "6.0       719\n",
              "3.0       551\n",
              "Name: count, dtype: int64"
            ],
            "text/html": [
              "<div>\n",
              "<style scoped>\n",
              "    .dataframe tbody tr th:only-of-type {\n",
              "        vertical-align: middle;\n",
              "    }\n",
              "\n",
              "    .dataframe tbody tr th {\n",
              "        vertical-align: top;\n",
              "    }\n",
              "\n",
              "    .dataframe thead th {\n",
              "        text-align: right;\n",
              "    }\n",
              "</style>\n",
              "<table border=\"1\" class=\"dataframe\">\n",
              "  <thead>\n",
              "    <tr style=\"text-align: right;\">\n",
              "      <th></th>\n",
              "      <th>count</th>\n",
              "    </tr>\n",
              "    <tr>\n",
              "      <th>RatecodeID</th>\n",
              "      <th></th>\n",
              "    </tr>\n",
              "  </thead>\n",
              "  <tbody>\n",
              "    <tr>\n",
              "      <th>1.0</th>\n",
              "      <td>654182</td>\n",
              "    </tr>\n",
              "    <tr>\n",
              "      <th>2.0</th>\n",
              "      <td>26917</td>\n",
              "    </tr>\n",
              "    <tr>\n",
              "      <th>5.0</th>\n",
              "      <td>4921</td>\n",
              "    </tr>\n",
              "    <tr>\n",
              "      <th>4.0</th>\n",
              "      <td>2093</td>\n",
              "    </tr>\n",
              "    <tr>\n",
              "      <th>6.0</th>\n",
              "      <td>719</td>\n",
              "    </tr>\n",
              "    <tr>\n",
              "      <th>3.0</th>\n",
              "      <td>551</td>\n",
              "    </tr>\n",
              "  </tbody>\n",
              "</table>\n",
              "</div><br><label><b>dtype:</b> int64</label>"
            ]
          },
          "metadata": {},
          "execution_count": 174
        }
      ]
    },
    {
      "cell_type": "markdown",
      "metadata": {
        "id": "0TjHXzuODCUW"
      },
      "source": [
        "**2.2.4**  <font color = red>[3 marks]</font> <br>\n",
        "Impute NaN in `congestion_surcharge`"
      ]
    },
    {
      "cell_type": "code",
      "source": [
        "df.fillna({'congestion_surcharge': 0}, inplace=True)"
      ],
      "metadata": {
        "id": "yxsNuCsw83MW"
      },
      "execution_count": null,
      "outputs": []
    },
    {
      "cell_type": "code",
      "execution_count": 175,
      "metadata": {
        "id": "HqnabUGC3xOA",
        "colab": {
          "base_uri": "https://localhost:8080/"
        },
        "outputId": "e21dcae3-07af-470b-ac8e-a2f15f34fc51"
      },
      "outputs": [
        {
          "output_type": "execute_result",
          "data": {
            "text/plain": [
              "np.int64(0)"
            ]
          },
          "metadata": {},
          "execution_count": 175
        }
      ],
      "source": [
        "# handle null values in congestion_surcharge\n",
        "df.congestion_surcharge.isnull().sum()\n",
        "\n"
      ]
    },
    {
      "cell_type": "code",
      "source": [
        "df.congestion_surcharge.value_counts()"
      ],
      "metadata": {
        "colab": {
          "base_uri": "https://localhost:8080/",
          "height": 178
        },
        "id": "tyMmoKHq8ezi",
        "outputId": "40d3e3ff-237a-42be-e670-9e5938a26af6"
      },
      "execution_count": 176,
      "outputs": [
        {
          "output_type": "execute_result",
          "data": {
            "text/plain": [
              "congestion_surcharge\n",
              "2.5    594834\n",
              "0.0     94549\n",
              "Name: count, dtype: int64"
            ],
            "text/html": [
              "<div>\n",
              "<style scoped>\n",
              "    .dataframe tbody tr th:only-of-type {\n",
              "        vertical-align: middle;\n",
              "    }\n",
              "\n",
              "    .dataframe tbody tr th {\n",
              "        vertical-align: top;\n",
              "    }\n",
              "\n",
              "    .dataframe thead th {\n",
              "        text-align: right;\n",
              "    }\n",
              "</style>\n",
              "<table border=\"1\" class=\"dataframe\">\n",
              "  <thead>\n",
              "    <tr style=\"text-align: right;\">\n",
              "      <th></th>\n",
              "      <th>count</th>\n",
              "    </tr>\n",
              "    <tr>\n",
              "      <th>congestion_surcharge</th>\n",
              "      <th></th>\n",
              "    </tr>\n",
              "  </thead>\n",
              "  <tbody>\n",
              "    <tr>\n",
              "      <th>2.5</th>\n",
              "      <td>594834</td>\n",
              "    </tr>\n",
              "    <tr>\n",
              "      <th>0.0</th>\n",
              "      <td>94549</td>\n",
              "    </tr>\n",
              "  </tbody>\n",
              "</table>\n",
              "</div><br><label><b>dtype:</b> int64</label>"
            ]
          },
          "metadata": {},
          "execution_count": 176
        }
      ]
    },
    {
      "cell_type": "markdown",
      "metadata": {
        "id": "4FZEdgAgUbPl"
      },
      "source": [
        "Are there missing values in other columns? Did you find NaN values in some other set of columns? Handle those missing values below."
      ]
    },
    {
      "cell_type": "code",
      "execution_count": 177,
      "metadata": {
        "id": "iDLpyqCRXa3K",
        "colab": {
          "base_uri": "https://localhost:8080/",
          "height": 648
        },
        "outputId": "674186aa-deca-47ae-b7bd-e21e4d8828fd"
      },
      "outputs": [
        {
          "output_type": "execute_result",
          "data": {
            "text/plain": [
              "VendorID                 0\n",
              "tpep_pickup_datetime     0\n",
              "tpep_dropoff_datetime    0\n",
              "passenger_count          0\n",
              "trip_distance            0\n",
              "RatecodeID               0\n",
              "PULocationID             0\n",
              "DOLocationID             0\n",
              "payment_type             0\n",
              "fare_amount              0\n",
              "extra                    0\n",
              "mta_tax                  0\n",
              "tip_amount               0\n",
              "tolls_amount             0\n",
              "improvement_surcharge    0\n",
              "total_amount             0\n",
              "congestion_surcharge     0\n",
              "Airport_Fee_Combined     0\n",
              "dtype: int64"
            ],
            "text/html": [
              "<div>\n",
              "<style scoped>\n",
              "    .dataframe tbody tr th:only-of-type {\n",
              "        vertical-align: middle;\n",
              "    }\n",
              "\n",
              "    .dataframe tbody tr th {\n",
              "        vertical-align: top;\n",
              "    }\n",
              "\n",
              "    .dataframe thead th {\n",
              "        text-align: right;\n",
              "    }\n",
              "</style>\n",
              "<table border=\"1\" class=\"dataframe\">\n",
              "  <thead>\n",
              "    <tr style=\"text-align: right;\">\n",
              "      <th></th>\n",
              "      <th>0</th>\n",
              "    </tr>\n",
              "  </thead>\n",
              "  <tbody>\n",
              "    <tr>\n",
              "      <th>VendorID</th>\n",
              "      <td>0</td>\n",
              "    </tr>\n",
              "    <tr>\n",
              "      <th>tpep_pickup_datetime</th>\n",
              "      <td>0</td>\n",
              "    </tr>\n",
              "    <tr>\n",
              "      <th>tpep_dropoff_datetime</th>\n",
              "      <td>0</td>\n",
              "    </tr>\n",
              "    <tr>\n",
              "      <th>passenger_count</th>\n",
              "      <td>0</td>\n",
              "    </tr>\n",
              "    <tr>\n",
              "      <th>trip_distance</th>\n",
              "      <td>0</td>\n",
              "    </tr>\n",
              "    <tr>\n",
              "      <th>RatecodeID</th>\n",
              "      <td>0</td>\n",
              "    </tr>\n",
              "    <tr>\n",
              "      <th>PULocationID</th>\n",
              "      <td>0</td>\n",
              "    </tr>\n",
              "    <tr>\n",
              "      <th>DOLocationID</th>\n",
              "      <td>0</td>\n",
              "    </tr>\n",
              "    <tr>\n",
              "      <th>payment_type</th>\n",
              "      <td>0</td>\n",
              "    </tr>\n",
              "    <tr>\n",
              "      <th>fare_amount</th>\n",
              "      <td>0</td>\n",
              "    </tr>\n",
              "    <tr>\n",
              "      <th>extra</th>\n",
              "      <td>0</td>\n",
              "    </tr>\n",
              "    <tr>\n",
              "      <th>mta_tax</th>\n",
              "      <td>0</td>\n",
              "    </tr>\n",
              "    <tr>\n",
              "      <th>tip_amount</th>\n",
              "      <td>0</td>\n",
              "    </tr>\n",
              "    <tr>\n",
              "      <th>tolls_amount</th>\n",
              "      <td>0</td>\n",
              "    </tr>\n",
              "    <tr>\n",
              "      <th>improvement_surcharge</th>\n",
              "      <td>0</td>\n",
              "    </tr>\n",
              "    <tr>\n",
              "      <th>total_amount</th>\n",
              "      <td>0</td>\n",
              "    </tr>\n",
              "    <tr>\n",
              "      <th>congestion_surcharge</th>\n",
              "      <td>0</td>\n",
              "    </tr>\n",
              "    <tr>\n",
              "      <th>Airport_Fee_Combined</th>\n",
              "      <td>0</td>\n",
              "    </tr>\n",
              "  </tbody>\n",
              "</table>\n",
              "</div><br><label><b>dtype:</b> int64</label>"
            ]
          },
          "metadata": {},
          "execution_count": 177
        }
      ],
      "source": [
        "# Handle any remaining missing values\n",
        "\n",
        "df.isnull().sum()"
      ]
    },
    {
      "cell_type": "markdown",
      "metadata": {
        "id": "2jyQyYIpCztl"
      },
      "source": [
        "### **2.3** Handling Outliers\n",
        "<font color = red>[10 marks]</font> <br>"
      ]
    },
    {
      "cell_type": "markdown",
      "metadata": {
        "id": "ZoVwZzuEMTHB"
      },
      "source": [
        "Before we start fixing outliers, let's perform outlier analysis."
      ]
    },
    {
      "cell_type": "code",
      "execution_count": null,
      "metadata": {
        "id": "zHK5K6uV8XpU"
      },
      "outputs": [],
      "source": [
        "# Describe the data and check if there are any potential outliers present\n",
        "# Check for potential out of place values in various columns\n",
        "\n"
      ]
    },
    {
      "cell_type": "markdown",
      "metadata": {
        "id": "4XDuLkufyJ2g"
      },
      "source": [
        "**2.3.1**  <font color = red>[10 marks]</font> <br>\n",
        "Based on the above analysis, it seems that some of the outliers are present due to errors in registering the trips. Fix the outliers.\n",
        "\n",
        "Some points you can look for:\n",
        "- Entries where `trip_distance` is nearly 0 and `fare_amount` is more than 300\n",
        "- Entries where `trip_distance` and `fare_amount` are 0 but the pickup and dropoff zones are different (both distance and fare should not be zero for different zones)\n",
        "- Entries where `trip_distance` is more than 250  miles.\n",
        "- Entries where `payment_type` is 0 (there is no payment_type 0 defined in the data dictionary)\n",
        "\n",
        "These are just some suggestions. You can handle outliers in any way you wish, using the insights from above outlier analysis."
      ]
    },
    {
      "cell_type": "markdown",
      "metadata": {
        "id": "u-YNHI8tea9c"
      },
      "source": [
        "How will you fix each of these values? Which ones will you drop and which ones will you replace?"
      ]
    },
    {
      "cell_type": "markdown",
      "metadata": {
        "id": "Ap4IfwXO4yZe"
      },
      "source": [
        "First, let us remove 7+ passenger counts as there are very less instances."
      ]
    },
    {
      "cell_type": "code",
      "execution_count": null,
      "metadata": {
        "id": "XfsOFY5y9-fA"
      },
      "outputs": [],
      "source": [
        "# remove passenger_count > 6\n"
      ]
    },
    {
      "cell_type": "code",
      "execution_count": null,
      "metadata": {
        "id": "FCUNe3tu8bie"
      },
      "outputs": [],
      "source": [
        "# Continue with outlier handling\n",
        "\n"
      ]
    },
    {
      "cell_type": "code",
      "execution_count": null,
      "metadata": {
        "id": "PuzQXfuT8YKV"
      },
      "outputs": [],
      "source": [
        "# Do any columns need standardising?\n",
        "\n"
      ]
    },
    {
      "cell_type": "markdown",
      "metadata": {
        "id": "gPpJyFFNffcL"
      },
      "source": [
        "## **3** Exploratory Data Analysis\n",
        "<font color = red>[90 marks]</font> <br>"
      ]
    },
    {
      "cell_type": "code",
      "execution_count": null,
      "metadata": {
        "id": "cl-0PcYTfkqh"
      },
      "outputs": [],
      "source": [
        "df.columns.tolist()"
      ]
    },
    {
      "cell_type": "markdown",
      "metadata": {
        "id": "a4N3PvkSTwcN"
      },
      "source": [
        "#### **3.1** General EDA: Finding Patterns and Trends\n",
        "<font color = red>[40 marks]</font> <br>"
      ]
    },
    {
      "cell_type": "markdown",
      "metadata": {
        "id": "9hwonDfZTJO6"
      },
      "source": [
        "**3.1.1** <font color = red>[3 marks]</font> <br>\n",
        "Categorise the varaibles into Numerical or Categorical.\n",
        "* `VendorID`:\n",
        "* `tpep_pickup_datetime`:\n",
        "* `tpep_dropoff_datetime`:\n",
        "* `passenger_count`:\n",
        "* `trip_distance`:\n",
        "* `RatecodeID`:\n",
        "* `PULocationID`:\n",
        "* `DOLocationID`:\n",
        "* `payment_type`:\n",
        "* `pickup_hour`:\n",
        "* `trip_duration`:\n",
        "\n",
        "\n",
        "The following monetary parameters belong in the same category, is it categorical or numerical?\n",
        "\n",
        "\n",
        "* `fare_amount`\n",
        "* `extra`\n",
        "* `mta_tax`\n",
        "* `tip_amount`\n",
        "* `tolls_amount`\n",
        "* `improvement_surcharge`\n",
        "* `total_amount`\n",
        "* `congestion_surcharge`\n",
        "* `airport_fee`"
      ]
    },
    {
      "cell_type": "markdown",
      "metadata": {
        "id": "MbGMjArkiXjL"
      },
      "source": [
        "##### Temporal Analysis"
      ]
    },
    {
      "cell_type": "markdown",
      "metadata": {
        "id": "ZCCbmQ49s2qj"
      },
      "source": [
        "**3.1.2** <font color = red>[5 marks]</font> <br>\n",
        "Analyse the distribution of taxi pickups by hours, days of the week, and months."
      ]
    },
    {
      "cell_type": "code",
      "execution_count": null,
      "metadata": {
        "id": "RwgWN_MWg0Au"
      },
      "outputs": [],
      "source": [
        "# Find and show the hourly trends in taxi pickups\n",
        "\n"
      ]
    },
    {
      "cell_type": "code",
      "execution_count": null,
      "metadata": {
        "id": "R64b8zfkG5OK"
      },
      "outputs": [],
      "source": [
        "# Find and show the daily trends in taxi pickups (days of the week)\n",
        "\n"
      ]
    },
    {
      "cell_type": "code",
      "execution_count": null,
      "metadata": {
        "id": "H7V-jmRQG5hJ"
      },
      "outputs": [],
      "source": [
        "# Show the monthly trends in pickups\n",
        "\n"
      ]
    },
    {
      "cell_type": "markdown",
      "metadata": {
        "id": "23IqsgNjHNpJ"
      },
      "source": [
        "##### Financial Analysis"
      ]
    },
    {
      "cell_type": "markdown",
      "metadata": {
        "id": "fRaO-3NqHSM6"
      },
      "source": [
        "Take a look at the financial parameters like `fare_amount`, `tip_amount`, `total_amount`, and also `trip_distance`. Do these contain zero/negative values?"
      ]
    },
    {
      "cell_type": "code",
      "execution_count": null,
      "metadata": {
        "id": "Z7JUnPeRHRqF"
      },
      "outputs": [],
      "source": [
        "# Analyse the above parameters\n",
        "\n"
      ]
    },
    {
      "cell_type": "markdown",
      "metadata": {
        "id": "dbOS_-GDJTyv"
      },
      "source": [
        "Do you think it is beneficial to create a copy DataFrame leaving out the zero values from these?"
      ]
    },
    {
      "cell_type": "markdown",
      "metadata": {
        "id": "YDN14J63o9gV"
      },
      "source": [
        "**3.1.3** <font color = red>[2 marks]</font> <br>\n",
        "Filter out the zero values from the above columns.\n",
        "\n",
        "**Note:** The distance might be 0 in cases where pickup and drop is in the same zone. Do you think it is suitable to drop such cases of zero distance?"
      ]
    },
    {
      "cell_type": "code",
      "execution_count": null,
      "metadata": {
        "id": "5mk7Yp41JqJd"
      },
      "outputs": [],
      "source": [
        "# Create a df with non zero entries for the selected parameters.\n",
        "\n"
      ]
    },
    {
      "cell_type": "markdown",
      "metadata": {
        "id": "kJcgwyrtKivH"
      },
      "source": [
        "**3.1.4** <font color = red>[3 marks]</font> <br>\n",
        "Analyse the monthly revenue (`total_amount`) trend"
      ]
    },
    {
      "cell_type": "code",
      "execution_count": null,
      "metadata": {
        "id": "U_gl8rBD6ZH0"
      },
      "outputs": [],
      "source": [
        "# Group data by month and analyse monthly revenue\n",
        "\n"
      ]
    },
    {
      "cell_type": "markdown",
      "metadata": {
        "id": "3vQHosTZLalB"
      },
      "source": [
        "**3.1.5** <font color = red>[3 marks]</font> <br>\n",
        "Show the proportion of each quarter of the year in the revenue"
      ]
    },
    {
      "cell_type": "code",
      "execution_count": null,
      "metadata": {
        "id": "foV9BpFbVTbu"
      },
      "outputs": [],
      "source": [
        "# Calculate proportion of each quarter\n",
        "\n"
      ]
    },
    {
      "cell_type": "markdown",
      "metadata": {
        "id": "JncXEPjBLyHp"
      },
      "source": [
        "**3.1.6** <font color = red>[3 marks]</font> <br>\n",
        "Visualise the relationship between `trip_distance` and `fare_amount`. Also find the correlation value for these two.\n",
        "\n",
        "**Hint:** You can leave out the trips with trip_distance = 0"
      ]
    },
    {
      "cell_type": "code",
      "execution_count": null,
      "metadata": {
        "id": "-z8Fegh_P5At"
      },
      "outputs": [],
      "source": [
        "# Show how trip fare is affected by distance\n",
        "\n"
      ]
    },
    {
      "cell_type": "markdown",
      "metadata": {
        "id": "-OGNFTX4QdeS"
      },
      "source": [
        "**3.1.7** <font color = red>[5 marks]</font> <br>\n",
        "Find and visualise the correlation between:\n",
        "1. `fare_amount` and trip duration (pickup time to dropoff time)\n",
        "2. `fare_amount` and `passenger_count`\n",
        "3. `tip_amount` and `trip_distance`"
      ]
    },
    {
      "cell_type": "code",
      "execution_count": null,
      "metadata": {
        "id": "EtSNqFw19TB3"
      },
      "outputs": [],
      "source": [
        "# Show relationship between fare and trip duration\n",
        "\n"
      ]
    },
    {
      "cell_type": "code",
      "execution_count": null,
      "metadata": {
        "id": "oTrlXiBm9TB3"
      },
      "outputs": [],
      "source": [
        "# Show relationship between fare and number of passengers\n",
        "\n"
      ]
    },
    {
      "cell_type": "code",
      "execution_count": null,
      "metadata": {
        "id": "Lph7rakc9TB3"
      },
      "outputs": [],
      "source": [
        "# Show relationship between tip and trip distance\n",
        "\n"
      ]
    },
    {
      "cell_type": "markdown",
      "metadata": {
        "id": "3EL5CU47QJ5u"
      },
      "source": [
        "**3.1.8** <font color = red>[3 marks]</font> <br>\n",
        "Analyse the distribution of different payment types (`payment_type`)"
      ]
    },
    {
      "cell_type": "code",
      "execution_count": null,
      "metadata": {
        "id": "pknOiYLp9Wnd"
      },
      "outputs": [],
      "source": [
        "# Analyse the distribution of different payment types (payment_type).\n",
        "\n",
        "\n"
      ]
    },
    {
      "cell_type": "markdown",
      "metadata": {
        "id": "PxxbUmSZ9Wne"
      },
      "source": [
        "- 1= Credit card\n",
        "- 2= Cash\n",
        "- 3= No charge\n",
        "- 4= Dispute\n",
        "\n"
      ]
    },
    {
      "cell_type": "markdown",
      "metadata": {
        "id": "CVXxcSYHj9sh"
      },
      "source": [
        "##### Geographical Analysis"
      ]
    },
    {
      "cell_type": "markdown",
      "metadata": {
        "id": "tvBXuYW7kEyS"
      },
      "source": [
        "For this, you have to use the *taxi_zones.shp* file from the *taxi_zones* folder.\n",
        "\n",
        "There would be multiple files inside the folder (such as *.shx, .sbx, .sbn* etc). You do not need to import/read any of the files other than the shapefile, *taxi_zones.shp*.\n",
        "\n",
        "Do not change any folder structure - all the files need to be present inside the folder for it to work.\n",
        "\n",
        "The folder structure should look like this:\n",
        "```\n",
        "Taxi Zones\n",
        "|- taxi_zones.shp.xml\n",
        "|- taxi_zones.prj\n",
        "|- taxi_zones.sbn\n",
        "|- taxi_zones.shp\n",
        "|- taxi_zones.dbf\n",
        "|- taxi_zones.shx\n",
        "|- taxi_zones.sbx\n",
        "\n",
        " ```\n",
        "\n",
        " You only need to read the `taxi_zones.shp` file. The *shp* file will utilise the other files by itself."
      ]
    },
    {
      "cell_type": "markdown",
      "metadata": {
        "id": "hR8f8ypXUtxJ"
      },
      "source": [
        "We will use the *GeoPandas* library for geopgraphical analysis\n",
        "```\n",
        "import geopandas as gpd\n",
        "```\n",
        "\n",
        "More about geopandas and shapefiles: [About](https://geopandas.org/en/stable/about.html)\n",
        "\n",
        "\n",
        "Reading the shapefile is very similar to *Pandas*. Use `gpd.read_file()` function to load the data (*taxi_zones.shp*) as a GeoDataFrame. Documentation: [Reading and Writing Files](https://geopandas.org/en/stable/docs/user_guide/io.html)"
      ]
    },
    {
      "cell_type": "code",
      "execution_count": null,
      "metadata": {
        "id": "FJ76QD9IXNz8"
      },
      "outputs": [],
      "source": [
        "# !pip install geopandas"
      ]
    },
    {
      "cell_type": "markdown",
      "metadata": {
        "id": "q_QpZLl_WU-b"
      },
      "source": [
        "**3.1.9** <font color = red>[2 marks]</font> <br>\n",
        "Load the shapefile and display it."
      ]
    },
    {
      "cell_type": "code",
      "execution_count": null,
      "metadata": {
        "id": "hLyVd3TQkCdG"
      },
      "outputs": [],
      "source": [
        "# import geopandas as gpd\n",
        "\n",
        "\n",
        "# Read the shapefile using geopandas\n",
        "zones = # read the .shp file using gpd\n",
        "zones.head()"
      ]
    },
    {
      "cell_type": "markdown",
      "metadata": {
        "id": "8YXJMzRoWxeg"
      },
      "source": [
        "Now, if you look at the DataFrame created, you will see columns like: `OBJECTID`,`Shape_Leng`, `Shape_Area`, `zone`, `LocationID`, `borough`, `geometry`.\n",
        "<br><br>\n",
        "\n",
        "Now, the `locationID` here is also what we are using to mark pickup and drop zones in the trip records.\n",
        "\n",
        "The geometric parameters like shape length, shape area and geometry are used to plot the zones on a map.\n",
        "\n",
        "This can be easily done using the `plot()` method."
      ]
    },
    {
      "cell_type": "code",
      "execution_count": null,
      "metadata": {
        "id": "lTqdZChLYE6H"
      },
      "outputs": [],
      "source": [
        "# print(zones.info())\n",
        "# zones.plot()"
      ]
    },
    {
      "cell_type": "markdown",
      "metadata": {
        "id": "fBkWokLIY_BH"
      },
      "source": [
        "Now, you have to merge the trip records and zones data using the location IDs.\n",
        "\n"
      ]
    },
    {
      "cell_type": "markdown",
      "metadata": {
        "id": "YzUMLUjqaJLN"
      },
      "source": [
        "**3.1.10** <font color = red>[3 marks]</font> <br>\n",
        "Merge the zones data into trip data using the `locationID` and `PULocationID` columns."
      ]
    },
    {
      "cell_type": "code",
      "execution_count": null,
      "metadata": {
        "id": "A2L8hWMQaYkX"
      },
      "outputs": [],
      "source": [
        "# Merge zones and trip records using locationID and PULocationID\n",
        "\n"
      ]
    },
    {
      "cell_type": "markdown",
      "metadata": {
        "id": "9CYc36Weai5-"
      },
      "source": [
        "**3.1.11** <font color = red>[3 marks]</font> <br>\n",
        "Group data by location IDs to find the total number of trips per location ID"
      ]
    },
    {
      "cell_type": "code",
      "execution_count": null,
      "metadata": {
        "id": "XpTIaPSSbwZZ"
      },
      "outputs": [],
      "source": [
        "# Group data by location and calculate the number of trips\n",
        "\n"
      ]
    },
    {
      "cell_type": "markdown",
      "metadata": {
        "id": "As0dVJpdcK2_"
      },
      "source": [
        "**3.1.12** <font color = red>[2 marks]</font> <br>\n",
        "Now, use the grouped data to add number of trips to the GeoDataFrame.\n",
        "\n",
        "We will use this to plot a map of zones showing total trips per zone."
      ]
    },
    {
      "cell_type": "code",
      "execution_count": null,
      "metadata": {
        "id": "H9Sheg7vdZ6q"
      },
      "outputs": [],
      "source": [
        "# Merge trip counts back to the zones GeoDataFrame\n",
        "\n",
        "\n"
      ]
    },
    {
      "cell_type": "markdown",
      "metadata": {
        "id": "DsfomL6Od0_R"
      },
      "source": [
        "The next step is creating a color map (choropleth map) showing zones by the number of trips taken.\n",
        "\n",
        "Again, you can use the `zones.plot()` method for this. [Plot Method GPD](https://geopandas.org/en/stable/docs/reference/api/geopandas.GeoDataFrame.plot.html#geopandas.GeoDataFrame.plot)\n",
        "\n",
        "But first, you need to define the figure and axis for the plot.\n",
        "\n",
        "`fig, ax = plt.subplots(1, 1, figsize = (12, 10))`\n",
        "\n",
        "This function creates a figure (fig) and a single subplot (ax)\n",
        "\n",
        "---"
      ]
    },
    {
      "cell_type": "markdown",
      "metadata": {
        "id": "QgDcw8gUejVk"
      },
      "source": [
        "After setting up the figure and axis, we can proceed to plot the GeoDataFrame on this axis. This is done in the next step where we use the plot method of the GeoDataFrame.\n",
        "\n",
        "You can define the following parameters in the `zones.plot()` method:\n",
        "```\n",
        "column = '',\n",
        "ax = ax,\n",
        "legend = True,\n",
        "legend_kwds = {'label': \"label\", 'orientation': \"<horizontal/vertical>\"}\n",
        "```\n",
        "\n",
        "To display the plot, use `plt.show()`."
      ]
    },
    {
      "cell_type": "markdown",
      "metadata": {
        "id": "xFQmkJipfU1P"
      },
      "source": [
        "**3.1.13** <font color = red>[3 marks]</font> <br>\n",
        "Plot a color-coded map showing zone-wise trips"
      ]
    },
    {
      "cell_type": "code",
      "execution_count": null,
      "metadata": {
        "id": "i506kVTgefM5"
      },
      "outputs": [],
      "source": [
        "# Define figure and axis\n",
        "\n",
        "\n",
        "# Plot the map and display it\n",
        "\n"
      ]
    },
    {
      "cell_type": "code",
      "execution_count": null,
      "metadata": {
        "id": "gwDs7OaBSopP"
      },
      "outputs": [],
      "source": [
        "# can you try displaying the zones DF sorted by the number of trips?\n",
        "\n"
      ]
    },
    {
      "cell_type": "markdown",
      "metadata": {
        "id": "T1bE7-QbgSrZ"
      },
      "source": [
        "Here we have completed the temporal, financial and geographical analysis on the trip records.\n",
        "\n",
        "**Compile your findings from general analysis below:**"
      ]
    },
    {
      "cell_type": "markdown",
      "metadata": {
        "id": "7YiVFIX3gcL3"
      },
      "source": [
        "You can consider the following points:\n",
        "\n",
        "* Busiest hours, days and months\n",
        "* Trends in revenue collected\n",
        "* Trends in quarterly revenue\n",
        "* How fare depends on trip distance, trip duration and passenger counts\n",
        "* How tip amount depends on trip distance\n",
        "* Busiest zones\n"
      ]
    },
    {
      "cell_type": "markdown",
      "metadata": {
        "id": "Rv0oYLcbhOTU"
      },
      "source": [
        "#### **3.2** Detailed EDA: Insights and Strategies\n",
        "<font color = red>[50 marks]</font> <br>"
      ]
    },
    {
      "cell_type": "markdown",
      "metadata": {
        "id": "xWJk-CGihnU1"
      },
      "source": [
        "Having performed basic analyses for finding trends and patterns, we will now move on to some detailed analysis focussed on operational efficiency, pricing strategies, and customer experience."
      ]
    },
    {
      "cell_type": "markdown",
      "metadata": {
        "id": "XBY2Y4Jrz9IQ"
      },
      "source": [
        "##### Operational Efficiency"
      ]
    },
    {
      "cell_type": "markdown",
      "metadata": {
        "id": "BXU8Q3sGjGnE"
      },
      "source": [
        "Analyze variations by time of day and location to identify bottlenecks or inefficiencies in routes"
      ]
    },
    {
      "cell_type": "markdown",
      "metadata": {
        "id": "H97VPqVdq7Lz"
      },
      "source": [
        "**3.2.1** <font color = red>[3 marks]</font> <br>\n",
        "Identify slow routes by calculating the average time taken by cabs to get from one zone to another at different hours of the day."
      ]
    },
    {
      "cell_type": "markdown",
      "metadata": {
        "id": "NzTRZyw2q9IR"
      },
      "source": [
        "Speed on a route *X* for hour *Y* = (*distance of the route X / average trip duration for hour Y*)"
      ]
    },
    {
      "cell_type": "code",
      "execution_count": null,
      "metadata": {
        "id": "Ovf-1vIyhk7E"
      },
      "outputs": [],
      "source": [
        "# Find routes which have the slowest speeds at different times of the day\n",
        "\n"
      ]
    },
    {
      "cell_type": "markdown",
      "metadata": {
        "id": "NmRPbH3rm2Ub"
      },
      "source": [
        "How does identifying high-traffic, high-demand routes help us?"
      ]
    },
    {
      "cell_type": "markdown",
      "metadata": {
        "id": "7-w-OCB_nLmb"
      },
      "source": [
        "**3.2.2** <font color = red>[3 marks]</font> <br>\n",
        "Calculate the number of trips at each hour of the day and visualise them. Find the busiest hour and show the number of trips for that hour."
      ]
    },
    {
      "cell_type": "code",
      "execution_count": null,
      "metadata": {
        "id": "BEbRCT31nLUw"
      },
      "outputs": [],
      "source": [
        "# Visualise the number of trips per hour and find the busiest hour\n",
        "\n"
      ]
    },
    {
      "cell_type": "markdown",
      "metadata": {
        "id": "8FuSAA0zn3F4"
      },
      "source": [
        "Remember, we took a fraction of trips. To find the actual number, you have to scale the number up by the sampling ratio."
      ]
    },
    {
      "cell_type": "markdown",
      "metadata": {
        "id": "bapn075QrKaz"
      },
      "source": [
        "**3.2.3** <font color = red>[2 mark]</font> <br>\n",
        "Find the actual number of trips in the five busiest hours"
      ]
    },
    {
      "cell_type": "code",
      "execution_count": null,
      "metadata": {
        "id": "79Hy-YWOoapQ"
      },
      "outputs": [],
      "source": [
        "# Scale up the number of trips\n",
        "\n",
        "# Fill in the value of your sampling fraction and use that to scale up the numbers\n",
        "sample_fraction =\n",
        "\n"
      ]
    },
    {
      "cell_type": "markdown",
      "metadata": {
        "id": "74fhoLxEoaTP"
      },
      "source": [
        "**3.2.4** <font color = red>[3 marks]</font> <br>\n",
        "Compare hourly traffic pattern on weekdays. Also compare for weekend."
      ]
    },
    {
      "cell_type": "code",
      "execution_count": null,
      "metadata": {
        "id": "sYMmCQHwpFRY"
      },
      "outputs": [],
      "source": [
        "# Compare traffic trends for the week days and weekends\n",
        "\n"
      ]
    },
    {
      "cell_type": "markdown",
      "metadata": {
        "id": "tWeuAulNpSOL"
      },
      "source": [
        "What can you infer from the above patterns? How will finding busy and quiet hours for each day help us?"
      ]
    },
    {
      "cell_type": "markdown",
      "metadata": {
        "id": "-S90VG94rGUm"
      },
      "source": [
        "**3.2.5** <font color = red>[3 marks]</font> <br>\n",
        "Identify top 10 zones with high hourly pickups. Do the same for hourly dropoffs. Show pickup and dropoff trends in these zones."
      ]
    },
    {
      "cell_type": "code",
      "execution_count": null,
      "metadata": {
        "id": "-nJGifJFrslP"
      },
      "outputs": [],
      "source": [
        "# Find top 10 pickup and dropoff zones\n",
        "\n"
      ]
    },
    {
      "cell_type": "markdown",
      "metadata": {
        "id": "okkQ17VssMqP"
      },
      "source": [
        "**3.2.6** <font color = red>[3 marks]</font> <br>\n",
        "Find the ratio of pickups and dropoffs in each zone. Display the 10 highest (pickup/drop) and 10 lowest (pickup/drop) ratios."
      ]
    },
    {
      "cell_type": "code",
      "execution_count": null,
      "metadata": {
        "id": "Qbuc8y-KgeDR"
      },
      "outputs": [],
      "source": [
        "# Find the top 10 and bottom 10 pickup/dropoff ratios\n",
        "\n"
      ]
    },
    {
      "cell_type": "markdown",
      "metadata": {
        "id": "2j1ukv-rrxny"
      },
      "source": [
        "**3.2.7** <font color = red>[3 marks]</font> <br>\n",
        "Identify zones with high pickup and dropoff traffic during night hours (11PM to 5AM)"
      ]
    },
    {
      "cell_type": "code",
      "execution_count": null,
      "metadata": {
        "id": "ve65f0GltyE_"
      },
      "outputs": [],
      "source": [
        "# During night hours (11pm to 5am) find the top 10 pickup and dropoff zones\n",
        "# Note that the top zones should be of night hours and not the overall top zones\n",
        "\n"
      ]
    },
    {
      "cell_type": "markdown",
      "metadata": {
        "id": "OtPTHyhTNnNL"
      },
      "source": [
        "Now, let us find the revenue share for the night time hours and the day time hours. After this, we will move to deciding a pricing strategy.\n",
        "\n",
        "**3.2.8** <font color = red>[2 marks]</font> <br>\n",
        "Find the revenue share for nighttime and daytime hours."
      ]
    },
    {
      "cell_type": "code",
      "execution_count": null,
      "metadata": {
        "id": "0ohk4curNl3g"
      },
      "outputs": [],
      "source": [
        "# Filter for night hours (11 PM to 5 AM)\n",
        "\n"
      ]
    },
    {
      "cell_type": "markdown",
      "metadata": {
        "id": "nG77smP4tyWu"
      },
      "source": [
        "##### Pricing Strategy"
      ]
    },
    {
      "cell_type": "markdown",
      "metadata": {
        "id": "ciF6eThit5IH"
      },
      "source": [
        "**3.2.9** <font color = red>[2 marks]</font> <br>\n",
        "For the different passenger counts, find the average fare per mile per passenger.\n",
        "\n",
        "For instance, suppose the average fare per mile for trips with 3 passengers is 3 USD/mile, then the fare per mile per passenger will be 1 USD/mile."
      ]
    },
    {
      "cell_type": "code",
      "execution_count": null,
      "metadata": {
        "id": "AO7MIuXd9C16"
      },
      "outputs": [],
      "source": [
        "# Analyse the fare per mile per passenger for different passenger counts\n",
        "\n",
        "\n"
      ]
    },
    {
      "cell_type": "markdown",
      "metadata": {
        "id": "WZrN-cxR9DIb"
      },
      "source": [
        "**3.2.10** <font color = red>[3 marks]</font> <br>\n",
        "Find the average fare per mile by hours of the day and by days of the week"
      ]
    },
    {
      "cell_type": "code",
      "execution_count": null,
      "metadata": {
        "id": "hUzCJm2y9SOq"
      },
      "outputs": [],
      "source": [
        "# Compare the average fare per mile for different days and for different times of the day\n",
        "\n"
      ]
    },
    {
      "cell_type": "markdown",
      "metadata": {
        "id": "211WFkhHDUMG"
      },
      "source": [
        "**3.2.11** <font color = red>[3 marks]</font> <br>\n",
        "Analyse the average fare per mile for the different vendors for different hours of the day"
      ]
    },
    {
      "cell_type": "code",
      "execution_count": null,
      "metadata": {
        "id": "my3cGHL1DU04"
      },
      "outputs": [],
      "source": [
        "# Compare fare per mile for different vendors\n",
        "\n"
      ]
    },
    {
      "cell_type": "markdown",
      "metadata": {
        "id": "FH9YJdodtDk4"
      },
      "source": [
        "**3.2.12** <font color = red>[5 marks]</font> <br>\n",
        "Compare the fare rates of the different vendors in a tiered fashion. Analyse the average fare per mile for distances upto 2 miles. Analyse the fare per mile for distances from 2 to 5 miles. And then for distances more than 5 miles.\n"
      ]
    },
    {
      "cell_type": "code",
      "execution_count": null,
      "metadata": {
        "id": "TFRPgO7mgEeT"
      },
      "outputs": [],
      "source": [
        "# Defining distance tiers\n",
        "\n"
      ]
    },
    {
      "cell_type": "markdown",
      "metadata": {
        "id": "M2o6xY0Yh6Gv"
      },
      "source": [
        "##### Customer Experience and Other Factors"
      ]
    },
    {
      "cell_type": "markdown",
      "metadata": {
        "id": "VSneN-rCh6Gw"
      },
      "source": [
        "**3.2.13** <font color = red>[5 marks]</font> <br>\n",
        "Analyse average tip percentages based on trip distances, passenger counts and time of pickup. What factors lead to low tip percentages?"
      ]
    },
    {
      "cell_type": "code",
      "execution_count": null,
      "metadata": {
        "id": "LO5WazK8h6Gx"
      },
      "outputs": [],
      "source": [
        "#  Analyze tip percentages based on distances, passenger counts and pickup times\n",
        "\n"
      ]
    },
    {
      "cell_type": "markdown",
      "metadata": {
        "id": "wQAIQsrcLm6X"
      },
      "source": [
        "Additional analysis [optional]: Let's try comparing cases of low tips with cases of high tips to find out if we find a clear aspect that drives up the tipping behaviours"
      ]
    },
    {
      "cell_type": "code",
      "execution_count": null,
      "metadata": {
        "collapsed": true,
        "id": "QYoUed6Dn6YW"
      },
      "outputs": [],
      "source": [
        "# Compare trips with tip percentage < 10% to trips with tip percentage > 25%\n",
        "\n"
      ]
    },
    {
      "cell_type": "markdown",
      "metadata": {
        "id": "0UjvGTRKh6Gx"
      },
      "source": [
        "**3.2.14** <font color = red>[3 marks]</font> <br>\n",
        "Analyse the variation of passenger count across hours and days of the week."
      ]
    },
    {
      "cell_type": "code",
      "execution_count": null,
      "metadata": {
        "id": "rFP0DNRvh6Gx"
      },
      "outputs": [],
      "source": [
        "# See how passenger count varies across hours and days\n",
        "\n",
        "\n"
      ]
    },
    {
      "cell_type": "markdown",
      "metadata": {
        "id": "zWKLLlb7h6Gy"
      },
      "source": [
        "**3.2.15** <font color = red>[2 marks]</font> <br>\n",
        "Analyse the variation of passenger counts across zones"
      ]
    },
    {
      "cell_type": "code",
      "execution_count": null,
      "metadata": {
        "id": "30h27Uz2h6Gy"
      },
      "outputs": [],
      "source": [
        "# How does passenger count vary across zones\n",
        "\n"
      ]
    },
    {
      "cell_type": "code",
      "execution_count": null,
      "metadata": {
        "id": "C3I0AfOkvBWA"
      },
      "outputs": [],
      "source": [
        "# For a more detailed analysis, we can use the zones_with_trips GeoDataFrame\n",
        "# Create a new column for the average passenger count in each zone.\n",
        "\n"
      ]
    },
    {
      "cell_type": "markdown",
      "metadata": {
        "id": "rw0j5Z-1h6Gz"
      },
      "source": [
        "Find out how often surcharges/extra charges are applied to understand their prevalance"
      ]
    },
    {
      "cell_type": "markdown",
      "metadata": {
        "id": "x9IHjHFBx6Ye"
      },
      "source": [
        "**3.2.16** <font color = red>[5 marks]</font> <br>\n",
        "Analyse the pickup/dropoff zones or times when extra charges are applied more frequently"
      ]
    },
    {
      "cell_type": "code",
      "execution_count": null,
      "metadata": {
        "id": "nKbXwZJwh6Gz"
      },
      "outputs": [],
      "source": [
        "# How often is each surcharge applied?\n",
        "\n"
      ]
    },
    {
      "cell_type": "markdown",
      "metadata": {
        "id": "bkyc9q40Cts-"
      },
      "source": [
        "## **4** Conclusion\n",
        "<font color = red>[15 marks]</font> <br>"
      ]
    },
    {
      "cell_type": "markdown",
      "metadata": {
        "id": "Z5yCODI-C6yR"
      },
      "source": [
        "### **4.1** Final Insights and Recommendations\n",
        "<font color = red>[15 marks]</font> <br>\n",
        "\n",
        "Conclude your analyses here. Include all the outcomes you found based on the analysis.\n",
        "\n",
        "Based on the insights, frame a concluding story explaining suitable parameters such as location, time of the day, day of the week etc. to be kept in mind while devising a strategy to meet customer demand and optimise supply."
      ]
    },
    {
      "cell_type": "markdown",
      "metadata": {
        "id": "0dy8J-C8jJjk"
      },
      "source": [
        "**4.1.1** <font color = red>[5 marks]</font> <br>\n",
        "Recommendations to optimize routing and dispatching based on demand patterns and operational inefficiencies"
      ]
    },
    {
      "cell_type": "code",
      "execution_count": null,
      "metadata": {
        "id": "J03px17x_rD9"
      },
      "outputs": [],
      "source": []
    },
    {
      "cell_type": "markdown",
      "metadata": {
        "id": "AaLgTWxpjt7h"
      },
      "source": [
        "**4.1.2** <font color = red>[5 marks]</font> <br>\n",
        "\n",
        "Suggestions on strategically positioning cabs across different zones to make best use of insights uncovered by analysing trip trends across time, days and months."
      ]
    },
    {
      "cell_type": "code",
      "execution_count": null,
      "metadata": {
        "id": "c8ZbTIF7_rsN"
      },
      "outputs": [],
      "source": []
    },
    {
      "cell_type": "markdown",
      "metadata": {
        "id": "mUU4mn50jMZy"
      },
      "source": [
        "**4.1.3** <font color = red>[5 marks]</font> <br>\n",
        "Propose data-driven adjustments to the pricing strategy to maximize revenue while maintaining competitive rates with other vendors."
      ]
    },
    {
      "cell_type": "code",
      "execution_count": null,
      "metadata": {
        "id": "SXErHFjx_sGN"
      },
      "outputs": [],
      "source": []
    }
  ],
  "metadata": {
    "colab": {
      "collapsed_sections": [
        "2jyQyYIpCztl",
        "gPpJyFFNffcL",
        "a4N3PvkSTwcN",
        "MbGMjArkiXjL",
        "23IqsgNjHNpJ",
        "CVXxcSYHj9sh",
        "Rv0oYLcbhOTU",
        "XBY2Y4Jrz9IQ",
        "nG77smP4tyWu",
        "M2o6xY0Yh6Gv",
        "bkyc9q40Cts-",
        "Z5yCODI-C6yR"
      ],
      "provenance": [],
      "include_colab_link": true
    },
    "kernelspec": {
      "display_name": "Python 3",
      "name": "python3"
    },
    "language_info": {
      "name": "python"
    }
  },
  "nbformat": 4,
  "nbformat_minor": 0
}