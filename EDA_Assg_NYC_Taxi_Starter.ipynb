{
  "cells": [
    {
      "cell_type": "markdown",
      "metadata": {
        "id": "view-in-github",
        "colab_type": "text"
      },
      "source": [
        "<a href=\"https://colab.research.google.com/github/msaipraveenkumar/EDA_Assg_NYC_Taxi_Starter/blob/main/EDA_Assg_NYC_Taxi_Starter.ipynb\" target=\"_parent\"><img src=\"https://colab.research.google.com/assets/colab-badge.svg\" alt=\"Open In Colab\"/></a>"
      ]
    },
    {
      "cell_type": "markdown",
      "metadata": {
        "id": "ZQl5n2IOuafL"
      },
      "source": [
        "# **New York City Yellow Taxi Data**"
      ]
    },
    {
      "cell_type": "markdown",
      "metadata": {
        "id": "DGQVIB4mEFrZ"
      },
      "source": [
        "## Objective\n",
        "In this case study you will be learning exploratory data analysis (EDA) with the help of a dataset on yellow taxi rides in New York City. This will enable you to understand why EDA is an important step in the process of data science and machine learning."
      ]
    },
    {
      "cell_type": "markdown",
      "metadata": {
        "id": "YJVMenVllLUL"
      },
      "source": [
        "## **Problem Statement**\n",
        "As an analyst at an upcoming taxi operation in NYC, you are tasked to use the 2023 taxi trip data to uncover insights that could help optimise taxi operations. The goal is to analyse patterns in the data that can inform strategic decisions to improve service efficiency, maximise revenue, and enhance passenger experience."
      ]
    },
    {
      "cell_type": "markdown",
      "metadata": {
        "id": "-OVfUMlHFkZD"
      },
      "source": [
        "## Tasks\n",
        "You need to perform the following steps for successfully completing this assignment:\n",
        "1. Data Loading\n",
        "2. Data Cleaning\n",
        "3. Exploratory Analysis: Bivariate and Multivariate\n",
        "4. Creating Visualisations to Support the Analysis\n",
        "5. Deriving Insights and Stating Conclusions"
      ]
    },
    {
      "cell_type": "markdown",
      "metadata": {
        "id": "gTxV-3GJUhWm"
      },
      "source": [
        "---"
      ]
    },
    {
      "cell_type": "markdown",
      "metadata": {
        "id": "ofebI8ITG-Li"
      },
      "source": [
        "**NOTE:** The marks given along with headings and sub-headings are cumulative marks for those particular headings/sub-headings.<br>\n",
        "\n",
        "The actual marks for each task are specified within the tasks themselves.\n",
        "\n",
        "For example, marks given with heading *2* or sub-heading *2.1* are the cumulative marks, for your reference only. <br>\n",
        "\n",
        "The marks you will receive for completing tasks are given with the tasks.\n",
        "\n",
        "Suppose the marks for two tasks are: 3 marks for 2.1.1 and 2 marks for 3.2.2, or\n",
        "* 2.1.1 [3 marks]\n",
        "* 3.2.2 [2 marks]\n",
        "\n",
        "then, you will earn 3 marks for completing task 2.1.1 and 2 marks for completing task 3.2.2.\n"
      ]
    },
    {
      "cell_type": "markdown",
      "metadata": {
        "id": "YdQjht7dUiHt"
      },
      "source": [
        "---"
      ]
    },
    {
      "cell_type": "markdown",
      "metadata": {
        "id": "0eaCZjHIvfuI"
      },
      "source": [
        "## Data Understanding\n",
        "The yellow taxi trip records include fields capturing pick-up and drop-off dates/times, pick-up and drop-off locations, trip distances, itemized fares, rate types, payment types, and driver-reported passenger counts.\n",
        "\n",
        "The data is stored in Parquet format (*.parquet*). The dataset is from 2009 to 2024. However, for this assignment, we will only be using the data from 2023.\n",
        "\n",
        "The data for each month is present in a different parquet file. You will get twelve files for each of the months in 2023.\n",
        "\n",
        "The data was collected and provided to the NYC Taxi and Limousine Commission (TLC) by technology providers like vendors and taxi hailing apps. <br>\n",
        "\n",
        "You can find the link to the TLC trip records page here: https://www.nyc.gov/site/tlc/about/tlc-trip-record-data.page"
      ]
    },
    {
      "cell_type": "markdown",
      "metadata": {
        "id": "LI6qC5IDxZU1"
      },
      "source": [
        "###  Data Description\n",
        "You can find the data description here: [Data Dictionary](https://www.nyc.gov/assets/tlc/downloads/pdf/data_dictionary_trip_records_yellow.pdf)"
      ]
    },
    {
      "cell_type": "markdown",
      "metadata": {
        "id": "FafCzrDuxHg2"
      },
      "source": [
        "**Trip Records**\n",
        "\n",
        "\n",
        "\n",
        "|Field Name       |description |\n",
        "|:----------------|:-----------|\n",
        "| VendorID | A code indicating the TPEP provider that provided the record. <br> 1= Creative Mobile Technologies, LLC; <br> 2= VeriFone Inc. |\n",
        "| tpep_pickup_datetime | The date and time when the meter was engaged.  |\n",
        "| tpep_dropoff_datetime | The date and time when the meter was disengaged.   |\n",
        "| Passenger_count | The number of passengers in the vehicle. <br> This is a driver-entered value. |\n",
        "| Trip_distance | The elapsed trip distance in miles reported by the taximeter. |\n",
        "| PULocationID | TLC Taxi Zone in which the taximeter was engaged |\n",
        "| DOLocationID | TLC Taxi Zone in which the taximeter was disengaged |\n",
        "|RateCodeID |The final rate code in effect at the end of the trip.<br> 1 = Standard rate <br> 2 = JFK <br> 3 = Newark <br>4 = Nassau or Westchester <br>5 = Negotiated fare <br>6 = Group ride |\n",
        "|Store_and_fwd_flag |This flag indicates whether the trip record was held in vehicle memory before sending to the vendor, aka “store and forward,” because the vehicle did not have a connection to the server.  <br>Y= store and forward trip <br>N= not a store and forward trip |\n",
        "|Payment_type| A numeric code signifying how the passenger paid for the trip. <br> 1 = Credit card <br>2 = Cash <br>3 = No charge <br>4 = Dispute <br>5 = Unknown <br>6 = Voided trip |\n",
        "|Fare_amount| The time-and-distance fare calculated by the meter. <br>Extra Miscellaneous extras and surcharges.  Currently, this only includes the 0.50 and 1 USD rush hour and overnight charges. |\n",
        "|MTA_tax |0.50 USD MTA tax that is automatically triggered based on the metered rate in use. |\n",
        "|Improvement_surcharge | 0.30 USD improvement surcharge assessed trips at the flag drop. The improvement surcharge began being levied in 2015. |\n",
        "|Tip_amount |Tip amount – This field is automatically populated for credit card tips. Cash tips are not included. |\n",
        "| Tolls_amount | Total amount of all tolls paid in trip.  |\n",
        "| total_amount | The total amount charged to passengers. Does not include cash tips. |\n",
        "|Congestion_Surcharge |Total amount collected in trip for NYS congestion surcharge. |\n",
        "| Airport_fee | 1.25 USD for pick up only at LaGuardia and John F. Kennedy Airports|\n",
        "\n",
        "Although the amounts of extra charges and taxes applied are specified in the data dictionary, you will see that some cases have different values of these charges in the actual data."
      ]
    },
    {
      "cell_type": "markdown",
      "metadata": {
        "id": "mL-FWYFnVEdE"
      },
      "source": [
        "**Taxi Zones**\n",
        "\n",
        "Each of the trip records contains a field corresponding to the location of the pickup or drop-off of the trip, populated by numbers ranging from 1-263.\n",
        "\n",
        "These numbers correspond to taxi zones, which may be downloaded as a table or map/shapefile and matched to the trip records using a join.\n",
        "\n",
        "This is covered in more detail in later sections."
      ]
    },
    {
      "cell_type": "markdown",
      "metadata": {
        "id": "z66W3s51U0gF"
      },
      "source": [
        "---"
      ]
    },
    {
      "cell_type": "markdown",
      "metadata": {
        "id": "Kw-WRzBfyS7j"
      },
      "source": [
        "## **1** Data Preparation\n",
        "\n",
        "<font color = red>[5 marks]</font> <br>"
      ]
    },
    {
      "cell_type": "markdown",
      "metadata": {
        "id": "nM2X-s6lycvQ"
      },
      "source": [
        "### Import Libraries"
      ]
    },
    {
      "cell_type": "code",
      "execution_count": 5,
      "metadata": {
        "id": "juReqsAzEdW3"
      },
      "outputs": [],
      "source": [
        "# Import warnings\n",
        "\n",
        "import warnings\n",
        "warnings.filterwarnings('ignore')"
      ]
    },
    {
      "cell_type": "code",
      "execution_count": 6,
      "metadata": {
        "id": "3XZjOlJiy1dr"
      },
      "outputs": [],
      "source": [
        "# Import the libraries you will be using for analysis\n",
        "import numpy as np\n",
        "import pandas as pd\n",
        "import matplotlib.pyplot as plt\n",
        "import seaborn as sns\n"
      ]
    },
    {
      "cell_type": "code",
      "execution_count": 3,
      "metadata": {
        "id": "NsH5LNrSgW9q",
        "colab": {
          "base_uri": "https://localhost:8080/"
        },
        "outputId": "2c298a94-1c7e-472b-8970-b677efad532b"
      },
      "outputs": [
        {
          "output_type": "stream",
          "name": "stdout",
          "text": [
            "numpy version: 2.0.2\n",
            "pandas version: 2.2.2\n",
            "matplotlib version: 3.10.0\n",
            "seaborn version: 0.13.2\n"
          ]
        }
      ],
      "source": [
        "# Recommended versions\n",
        "# numpy version: 1.26.4\n",
        "# pandas version: 2.2.2\n",
        "# matplotlib version: 3.10.0\n",
        "# seaborn version: 0.13.2\n",
        "\n",
        "# Check versions\n",
        "print(\"numpy version:\", np.__version__)\n",
        "print(\"pandas version:\", pd.__version__)\n",
        "print(\"matplotlib version:\", plt.matplotlib.__version__)\n",
        "print(\"seaborn version:\", sns.__version__)"
      ]
    },
    {
      "cell_type": "markdown",
      "metadata": {
        "id": "NgHgbPIepaYl"
      },
      "source": [
        "### **1.1** Load the dataset\n",
        "<font color = red>[5 marks]</font> <br>"
      ]
    },
    {
      "cell_type": "markdown",
      "metadata": {
        "id": "KrGluF_gpeHs"
      },
      "source": [
        "You will see twelve files, one for each month.\n",
        "\n",
        "To read parquet files with Pandas, you have to follow a similar syntax as that for CSV files.\n",
        "\n",
        "`df = pd.read_parquet('file.parquet')`"
      ]
    },
    {
      "cell_type": "code",
      "execution_count": 9,
      "metadata": {
        "id": "kIpIsuSSzCp9",
        "colab": {
          "base_uri": "https://localhost:8080/"
        },
        "outputId": "05d3f159-5ebc-4607-92a3-37e65268bbb4"
      },
      "outputs": [
        {
          "output_type": "stream",
          "name": "stdout",
          "text": [
            "<class 'pandas.core.frame.DataFrame'>\n",
            "Index: 3041714 entries, 0 to 3066765\n",
            "Data columns (total 19 columns):\n",
            " #   Column                 Dtype         \n",
            "---  ------                 -----         \n",
            " 0   VendorID               int64         \n",
            " 1   tpep_pickup_datetime   datetime64[us]\n",
            " 2   tpep_dropoff_datetime  datetime64[us]\n",
            " 3   passenger_count        float64       \n",
            " 4   trip_distance          float64       \n",
            " 5   RatecodeID             float64       \n",
            " 6   store_and_fwd_flag     object        \n",
            " 7   PULocationID           int64         \n",
            " 8   DOLocationID           int64         \n",
            " 9   payment_type           int64         \n",
            " 10  fare_amount            float64       \n",
            " 11  extra                  float64       \n",
            " 12  mta_tax                float64       \n",
            " 13  tip_amount             float64       \n",
            " 14  tolls_amount           float64       \n",
            " 15  improvement_surcharge  float64       \n",
            " 16  total_amount           float64       \n",
            " 17  congestion_surcharge   float64       \n",
            " 18  airport_fee            float64       \n",
            "dtypes: datetime64[us](2), float64(12), int64(4), object(1)\n",
            "memory usage: 464.1+ MB\n"
          ]
        }
      ],
      "source": [
        "# Try loading one file\n",
        "\n",
        "# df = pd.read_parquet('2023-1.parquet')\n",
        "# df.info()\n",
        "df=pd.read_parquet('/content/sample_data/Trip_data/2023-1.parquet')\n",
        "df.info()"
      ]
    },
    {
      "cell_type": "markdown",
      "metadata": {
        "id": "eh-keWIyqcyr"
      },
      "source": [
        "How many rows are there? Do you think handling such a large number of rows is computationally feasible when we have to combine the data for all twelve months into one?\n",
        "\n",
        "To handle this, we need to sample a fraction of data from each of the files. How to go about that? Think of a way to select only some portion of the data from each month's file that accurately represents the trends."
      ]
    },
    {
      "cell_type": "markdown",
      "metadata": {
        "id": "zHx7lh_3QGmj"
      },
      "source": [
        "#### Sampling the Data\n",
        "> One way is to take a small percentage of entries for pickup in every hour of a date. So, for all the days in a month, we can iterate through the hours and select 5% values randomly from those. Use `tpep_pickup_datetime` for this. Separate date and hour from the datetime values and then for each date, select some fraction of trips for each of the 24 hours.\n",
        "\n",
        "To sample data, you can use the `sample()` method. Follow this syntax:\n",
        "\n",
        "```Python\n",
        "# sampled_data is an empty DF to keep appending sampled data of each hour\n",
        "# hour_data is the DF of entries for an hour 'X' on a date 'Y'\n",
        "\n",
        "sample = hour_data.sample(frac = 0.05, random_state = 42)\n",
        "# sample 0.05 of the hour_data\n",
        "# random_state is just a seed for sampling, you can define it yourself\n",
        "\n",
        "sampled_data = pd.concat([sampled_data, sample]) # adding data for this hour to the DF\n",
        "```\n",
        "\n",
        "This *sampled_data* will contain 5% values selected at random from each hour.\n",
        "\n",
        "Note that the code given above is only the part that will be used for sampling and not the complete code required for sampling and combining the data files.\n",
        "\n",
        "Keep in mind that you sample by date AND hour, not just hour. (Why?)"
      ]
    },
    {
      "cell_type": "markdown",
      "metadata": {
        "id": "3zog80nsqvKp"
      },
      "source": [
        "---"
      ]
    },
    {
      "cell_type": "markdown",
      "metadata": {
        "id": "Fp24-wpQrlC5"
      },
      "source": [
        "**1.1.1** <font color = red>[5 marks]</font> <br>\n",
        "Figure out how to sample and combine the files."
      ]
    },
    {
      "cell_type": "markdown",
      "metadata": {
        "id": "vRGOnciGOvq0"
      },
      "source": [
        "**Note:** It is not mandatory to use the method specified above. While sampling, you only need to make sure that your sampled data represents the overall data of all the months accurately."
      ]
    },
    {
      "cell_type": "code",
      "execution_count": null,
      "metadata": {
        "id": "3cpuzPFvP2iC"
      },
      "outputs": [],
      "source": [
        "# Sample the data\n",
        "# It is recommmended to not load all the files at once to avoid memory overload"
      ]
    },
    {
      "cell_type": "code",
      "execution_count": 3,
      "metadata": {
        "id": "h3x5bCWmarTO",
        "colab": {
          "base_uri": "https://localhost:8080/"
        },
        "outputId": "b954ac4d-fc48-4c96-c929-7af697ae7419"
      },
      "outputs": [
        {
          "output_type": "stream",
          "name": "stdout",
          "text": [
            "Mounted at /content/drive\n"
          ]
        }
      ],
      "source": [
        "# from google.colab import drive\n",
        "# drive.mount('/content/drive')\n",
        "from google.colab import drive\n",
        "drive.mount('/content/drive')"
      ]
    },
    {
      "cell_type": "code",
      "execution_count": 26,
      "metadata": {
        "id": "t1EXP0PHzPs0"
      },
      "outputs": [],
      "source": [
        "# Take a small percentage of entries from each hour of every date.\n",
        "# Iterating through the monthly data:\n",
        "#   read a month file -> day -> hour: append sampled data -> move to next hour -> move to next day after 24 hours -> move to next month file\n",
        "# Create a single dataframe for the year combining all the monthly data\n",
        "\n",
        "# Select the folder having data files\n",
        "import os\n",
        "\n",
        "# Select the folder having data files\n",
        "os.chdir('/content/sample_data/Trip_data')\n",
        "\n",
        "# Create a list of all the twelve files to read\n",
        "file_list = os.listdir()\n",
        "\n",
        "# initialise an empty dataframe\n",
        "df = pd.DataFrame()\n",
        "\n",
        "\n",
        "# iterate through the list of files and sample one by one:\n",
        "for file_name in file_list:\n",
        "  try:\n",
        "    # file path for the current file\n",
        "    file_path = os.path.join(os.getcwd(), file_name)\n",
        "\n",
        "    # Reading the current file\n",
        "    temp_data=pd.read_parquet(file_path)\n",
        "\n",
        "\n",
        "\n",
        "    # We will store the sampled data for the current date in this df by appending the sampled data from each hour to this\n",
        "    # After completing iteration through each date, we will append this data to the final dataframe.\n",
        "\n",
        "\n",
        "    # Loop through dates and then loop through every hour of each date\n",
        "    for hour in range(24):\n",
        "      # Iterate through each hour of the selected date\n",
        "      hour_data = temp_data[temp_data['tpep_pickup_datetime'].dt.hour == hour]\n",
        "      # Sample 5% of the hourly data randomly\n",
        "    sampled_hour = hour_data.sample(frac=0.05, random_state=42)\n",
        "\n",
        "      # Append the sampled data to the sampled_data dataframe\n",
        "    sampled_data = pd.concat([sampled_data, sampled_hour])\n",
        "      # add data of this hour to the dataframe\n",
        "\n",
        "      # Concatenate the sampled data of all the dates to a single dataframe\n",
        "    df = pd.concat([df, sampled_data])# we initialised this empty DF earlier\n",
        "\n",
        "  except Exception as e:\n",
        "    print(f\"Error reading file {file_name}: {e}\")"
      ]
    },
    {
      "cell_type": "markdown",
      "metadata": {
        "id": "Sej6pZkzw2AK"
      },
      "source": [
        "After combining the data files into one DataFrame, convert the new DataFrame to a CSV or parquet file and store it to use directly.\n",
        "\n",
        "Ideally, you can try keeping the total entries to around 250,000 to 300,000."
      ]
    },
    {
      "cell_type": "code",
      "execution_count": 7,
      "metadata": {
        "id": "okaVAsdPxJow",
        "colab": {
          "base_uri": "https://localhost:8080/",
          "height": 182
        },
        "outputId": "e8c7818d-b0ff-4f50-e0b1-67e28b33a397"
      },
      "outputs": [
        {
          "output_type": "error",
          "ename": "NameError",
          "evalue": "name 'df' is not defined",
          "traceback": [
            "\u001b[0;31m---------------------------------------------------------------------------\u001b[0m",
            "\u001b[0;31mNameError\u001b[0m                                 Traceback (most recent call last)",
            "\u001b[0;32m<ipython-input-7-ca04810c0d43>\u001b[0m in \u001b[0;36m<cell line: 0>\u001b[0;34m()\u001b[0m\n\u001b[1;32m      1\u001b[0m \u001b[0;31m# Store the df in csv/parquet\u001b[0m\u001b[0;34m\u001b[0m\u001b[0;34m\u001b[0m\u001b[0m\n\u001b[1;32m      2\u001b[0m \u001b[0;31m# df.to_parquet('')\u001b[0m\u001b[0;34m\u001b[0m\u001b[0;34m\u001b[0m\u001b[0m\n\u001b[0;32m----> 3\u001b[0;31m \u001b[0mdf\u001b[0m\u001b[0;34m.\u001b[0m\u001b[0mto_parquet\u001b[0m\u001b[0;34m(\u001b[0m\u001b[0;34m'/content/sample_data/Trip_data/NYC_Taxi_sampled_data.parquet'\u001b[0m\u001b[0;34m)\u001b[0m\u001b[0;34m\u001b[0m\u001b[0;34m\u001b[0m\u001b[0m\n\u001b[0m",
            "\u001b[0;31mNameError\u001b[0m: name 'df' is not defined"
          ]
        }
      ],
      "source": [
        "# Store the df in csv/parquet\n",
        "# df.to_parquet('')\n",
        "df.to_parquet('/content/sample_data/Trip_data/NYC_Taxi_sampled_data.parquet')"
      ]
    },
    {
      "cell_type": "markdown",
      "metadata": {
        "id": "QaOS3H9izZ0N"
      },
      "source": [
        "## **2** Data Cleaning\n",
        "<font color = red>[30 marks]</font> <br>"
      ]
    },
    {
      "cell_type": "markdown",
      "metadata": {
        "id": "5y3PKWqhxRA9"
      },
      "source": [
        "Now we can load the new data directly."
      ]
    },
    {
      "cell_type": "code",
      "execution_count": 8,
      "metadata": {
        "id": "FOuOL0SDxQHd"
      },
      "outputs": [],
      "source": [
        "# Load the new data file\n",
        "df=pd.read_parquet('/content/sample_data/Trip_data/NYC_Taxi_sampled_data.parquet')\n"
      ]
    },
    {
      "cell_type": "code",
      "execution_count": 9,
      "metadata": {
        "id": "fbzmFKyn1780",
        "colab": {
          "base_uri": "https://localhost:8080/",
          "height": 226
        },
        "outputId": "cd5a0117-3f53-4016-a79f-83ac1c0b3b9a"
      },
      "outputs": [
        {
          "output_type": "execute_result",
          "data": {
            "text/plain": [
              "         VendorID tpep_pickup_datetime tpep_dropoff_datetime  passenger_count  \\\n",
              "2373315         2  2023-11-21 23:07:22   2023-11-21 23:49:11              1.0   \n",
              "907694          2  2023-11-08 23:35:26   2023-11-08 23:59:14              1.0   \n",
              "788006          1  2023-11-07 23:53:47   2023-11-08 00:02:24              1.0   \n",
              "3226760         1  2023-11-04 23:42:25   2023-11-04 23:57:52              NaN   \n",
              "1154802         2  2023-11-10 23:55:12   2023-11-11 00:26:48              2.0   \n",
              "\n",
              "         trip_distance  RatecodeID store_and_fwd_flag  PULocationID  \\\n",
              "2373315          27.98         4.0                  N           132   \n",
              "907694            3.73         1.0                  N           114   \n",
              "788006            3.40         1.0                  N           132   \n",
              "3226760           2.00         NaN               None           161   \n",
              "1154802          15.30         1.0                  N           132   \n",
              "\n",
              "         DOLocationID  payment_type  fare_amount  extra  mta_tax  tip_amount  \\\n",
              "2373315           265             1        166.8   1.00      0.5       20.00   \n",
              "907694            143             1         23.3   1.00      0.5        4.00   \n",
              "788006            216             1         15.6   2.75      0.5        3.95   \n",
              "3226760           234             0         14.9   1.00      0.5        3.98   \n",
              "1154802           255             1         61.8   1.00      0.5       16.07   \n",
              "\n",
              "         tolls_amount  improvement_surcharge  total_amount  \\\n",
              "2373315           0.0                    1.0        191.05   \n",
              "907694            0.0                    1.0         32.30   \n",
              "788006            0.0                    1.0         23.80   \n",
              "3226760           0.0                    1.0         23.88   \n",
              "1154802           0.0                    1.0         82.12   \n",
              "\n",
              "         congestion_surcharge  Airport_fee  airport_fee  \n",
              "2373315                   0.0         1.75          NaN  \n",
              "907694                    2.5         0.00          NaN  \n",
              "788006                    0.0         1.75          NaN  \n",
              "3226760                   NaN          NaN          NaN  \n",
              "1154802                   0.0         1.75          NaN  "
            ],
            "text/html": [
              "\n",
              "  <div id=\"df-4cabe98a-994a-4179-aba1-aff70d805e37\" class=\"colab-df-container\">\n",
              "    <div>\n",
              "<style scoped>\n",
              "    .dataframe tbody tr th:only-of-type {\n",
              "        vertical-align: middle;\n",
              "    }\n",
              "\n",
              "    .dataframe tbody tr th {\n",
              "        vertical-align: top;\n",
              "    }\n",
              "\n",
              "    .dataframe thead th {\n",
              "        text-align: right;\n",
              "    }\n",
              "</style>\n",
              "<table border=\"1\" class=\"dataframe\">\n",
              "  <thead>\n",
              "    <tr style=\"text-align: right;\">\n",
              "      <th></th>\n",
              "      <th>VendorID</th>\n",
              "      <th>tpep_pickup_datetime</th>\n",
              "      <th>tpep_dropoff_datetime</th>\n",
              "      <th>passenger_count</th>\n",
              "      <th>trip_distance</th>\n",
              "      <th>RatecodeID</th>\n",
              "      <th>store_and_fwd_flag</th>\n",
              "      <th>PULocationID</th>\n",
              "      <th>DOLocationID</th>\n",
              "      <th>payment_type</th>\n",
              "      <th>fare_amount</th>\n",
              "      <th>extra</th>\n",
              "      <th>mta_tax</th>\n",
              "      <th>tip_amount</th>\n",
              "      <th>tolls_amount</th>\n",
              "      <th>improvement_surcharge</th>\n",
              "      <th>total_amount</th>\n",
              "      <th>congestion_surcharge</th>\n",
              "      <th>Airport_fee</th>\n",
              "      <th>airport_fee</th>\n",
              "    </tr>\n",
              "  </thead>\n",
              "  <tbody>\n",
              "    <tr>\n",
              "      <th>2373315</th>\n",
              "      <td>2</td>\n",
              "      <td>2023-11-21 23:07:22</td>\n",
              "      <td>2023-11-21 23:49:11</td>\n",
              "      <td>1.0</td>\n",
              "      <td>27.98</td>\n",
              "      <td>4.0</td>\n",
              "      <td>N</td>\n",
              "      <td>132</td>\n",
              "      <td>265</td>\n",
              "      <td>1</td>\n",
              "      <td>166.8</td>\n",
              "      <td>1.00</td>\n",
              "      <td>0.5</td>\n",
              "      <td>20.00</td>\n",
              "      <td>0.0</td>\n",
              "      <td>1.0</td>\n",
              "      <td>191.05</td>\n",
              "      <td>0.0</td>\n",
              "      <td>1.75</td>\n",
              "      <td>NaN</td>\n",
              "    </tr>\n",
              "    <tr>\n",
              "      <th>907694</th>\n",
              "      <td>2</td>\n",
              "      <td>2023-11-08 23:35:26</td>\n",
              "      <td>2023-11-08 23:59:14</td>\n",
              "      <td>1.0</td>\n",
              "      <td>3.73</td>\n",
              "      <td>1.0</td>\n",
              "      <td>N</td>\n",
              "      <td>114</td>\n",
              "      <td>143</td>\n",
              "      <td>1</td>\n",
              "      <td>23.3</td>\n",
              "      <td>1.00</td>\n",
              "      <td>0.5</td>\n",
              "      <td>4.00</td>\n",
              "      <td>0.0</td>\n",
              "      <td>1.0</td>\n",
              "      <td>32.30</td>\n",
              "      <td>2.5</td>\n",
              "      <td>0.00</td>\n",
              "      <td>NaN</td>\n",
              "    </tr>\n",
              "    <tr>\n",
              "      <th>788006</th>\n",
              "      <td>1</td>\n",
              "      <td>2023-11-07 23:53:47</td>\n",
              "      <td>2023-11-08 00:02:24</td>\n",
              "      <td>1.0</td>\n",
              "      <td>3.40</td>\n",
              "      <td>1.0</td>\n",
              "      <td>N</td>\n",
              "      <td>132</td>\n",
              "      <td>216</td>\n",
              "      <td>1</td>\n",
              "      <td>15.6</td>\n",
              "      <td>2.75</td>\n",
              "      <td>0.5</td>\n",
              "      <td>3.95</td>\n",
              "      <td>0.0</td>\n",
              "      <td>1.0</td>\n",
              "      <td>23.80</td>\n",
              "      <td>0.0</td>\n",
              "      <td>1.75</td>\n",
              "      <td>NaN</td>\n",
              "    </tr>\n",
              "    <tr>\n",
              "      <th>3226760</th>\n",
              "      <td>1</td>\n",
              "      <td>2023-11-04 23:42:25</td>\n",
              "      <td>2023-11-04 23:57:52</td>\n",
              "      <td>NaN</td>\n",
              "      <td>2.00</td>\n",
              "      <td>NaN</td>\n",
              "      <td>None</td>\n",
              "      <td>161</td>\n",
              "      <td>234</td>\n",
              "      <td>0</td>\n",
              "      <td>14.9</td>\n",
              "      <td>1.00</td>\n",
              "      <td>0.5</td>\n",
              "      <td>3.98</td>\n",
              "      <td>0.0</td>\n",
              "      <td>1.0</td>\n",
              "      <td>23.88</td>\n",
              "      <td>NaN</td>\n",
              "      <td>NaN</td>\n",
              "      <td>NaN</td>\n",
              "    </tr>\n",
              "    <tr>\n",
              "      <th>1154802</th>\n",
              "      <td>2</td>\n",
              "      <td>2023-11-10 23:55:12</td>\n",
              "      <td>2023-11-11 00:26:48</td>\n",
              "      <td>2.0</td>\n",
              "      <td>15.30</td>\n",
              "      <td>1.0</td>\n",
              "      <td>N</td>\n",
              "      <td>132</td>\n",
              "      <td>255</td>\n",
              "      <td>1</td>\n",
              "      <td>61.8</td>\n",
              "      <td>1.00</td>\n",
              "      <td>0.5</td>\n",
              "      <td>16.07</td>\n",
              "      <td>0.0</td>\n",
              "      <td>1.0</td>\n",
              "      <td>82.12</td>\n",
              "      <td>0.0</td>\n",
              "      <td>1.75</td>\n",
              "      <td>NaN</td>\n",
              "    </tr>\n",
              "  </tbody>\n",
              "</table>\n",
              "</div>\n",
              "    <div class=\"colab-df-buttons\">\n",
              "\n",
              "  <div class=\"colab-df-container\">\n",
              "    <button class=\"colab-df-convert\" onclick=\"convertToInteractive('df-4cabe98a-994a-4179-aba1-aff70d805e37')\"\n",
              "            title=\"Convert this dataframe to an interactive table.\"\n",
              "            style=\"display:none;\">\n",
              "\n",
              "  <svg xmlns=\"http://www.w3.org/2000/svg\" height=\"24px\" viewBox=\"0 -960 960 960\">\n",
              "    <path d=\"M120-120v-720h720v720H120Zm60-500h600v-160H180v160Zm220 220h160v-160H400v160Zm0 220h160v-160H400v160ZM180-400h160v-160H180v160Zm440 0h160v-160H620v160ZM180-180h160v-160H180v160Zm440 0h160v-160H620v160Z\"/>\n",
              "  </svg>\n",
              "    </button>\n",
              "\n",
              "  <style>\n",
              "    .colab-df-container {\n",
              "      display:flex;\n",
              "      gap: 12px;\n",
              "    }\n",
              "\n",
              "    .colab-df-convert {\n",
              "      background-color: #E8F0FE;\n",
              "      border: none;\n",
              "      border-radius: 50%;\n",
              "      cursor: pointer;\n",
              "      display: none;\n",
              "      fill: #1967D2;\n",
              "      height: 32px;\n",
              "      padding: 0 0 0 0;\n",
              "      width: 32px;\n",
              "    }\n",
              "\n",
              "    .colab-df-convert:hover {\n",
              "      background-color: #E2EBFA;\n",
              "      box-shadow: 0px 1px 2px rgba(60, 64, 67, 0.3), 0px 1px 3px 1px rgba(60, 64, 67, 0.15);\n",
              "      fill: #174EA6;\n",
              "    }\n",
              "\n",
              "    .colab-df-buttons div {\n",
              "      margin-bottom: 4px;\n",
              "    }\n",
              "\n",
              "    [theme=dark] .colab-df-convert {\n",
              "      background-color: #3B4455;\n",
              "      fill: #D2E3FC;\n",
              "    }\n",
              "\n",
              "    [theme=dark] .colab-df-convert:hover {\n",
              "      background-color: #434B5C;\n",
              "      box-shadow: 0px 1px 3px 1px rgba(0, 0, 0, 0.15);\n",
              "      filter: drop-shadow(0px 1px 2px rgba(0, 0, 0, 0.3));\n",
              "      fill: #FFFFFF;\n",
              "    }\n",
              "  </style>\n",
              "\n",
              "    <script>\n",
              "      const buttonEl =\n",
              "        document.querySelector('#df-4cabe98a-994a-4179-aba1-aff70d805e37 button.colab-df-convert');\n",
              "      buttonEl.style.display =\n",
              "        google.colab.kernel.accessAllowed ? 'block' : 'none';\n",
              "\n",
              "      async function convertToInteractive(key) {\n",
              "        const element = document.querySelector('#df-4cabe98a-994a-4179-aba1-aff70d805e37');\n",
              "        const dataTable =\n",
              "          await google.colab.kernel.invokeFunction('convertToInteractive',\n",
              "                                                    [key], {});\n",
              "        if (!dataTable) return;\n",
              "\n",
              "        const docLinkHtml = 'Like what you see? Visit the ' +\n",
              "          '<a target=\"_blank\" href=https://colab.research.google.com/notebooks/data_table.ipynb>data table notebook</a>'\n",
              "          + ' to learn more about interactive tables.';\n",
              "        element.innerHTML = '';\n",
              "        dataTable['output_type'] = 'display_data';\n",
              "        await google.colab.output.renderOutput(dataTable, element);\n",
              "        const docLink = document.createElement('div');\n",
              "        docLink.innerHTML = docLinkHtml;\n",
              "        element.appendChild(docLink);\n",
              "      }\n",
              "    </script>\n",
              "  </div>\n",
              "\n",
              "\n",
              "<div id=\"df-8b1138ce-0a0d-48ce-b4a9-da2591ff2952\">\n",
              "  <button class=\"colab-df-quickchart\" onclick=\"quickchart('df-8b1138ce-0a0d-48ce-b4a9-da2591ff2952')\"\n",
              "            title=\"Suggest charts\"\n",
              "            style=\"display:none;\">\n",
              "\n",
              "<svg xmlns=\"http://www.w3.org/2000/svg\" height=\"24px\"viewBox=\"0 0 24 24\"\n",
              "     width=\"24px\">\n",
              "    <g>\n",
              "        <path d=\"M19 3H5c-1.1 0-2 .9-2 2v14c0 1.1.9 2 2 2h14c1.1 0 2-.9 2-2V5c0-1.1-.9-2-2-2zM9 17H7v-7h2v7zm4 0h-2V7h2v10zm4 0h-2v-4h2v4z\"/>\n",
              "    </g>\n",
              "</svg>\n",
              "  </button>\n",
              "\n",
              "<style>\n",
              "  .colab-df-quickchart {\n",
              "      --bg-color: #E8F0FE;\n",
              "      --fill-color: #1967D2;\n",
              "      --hover-bg-color: #E2EBFA;\n",
              "      --hover-fill-color: #174EA6;\n",
              "      --disabled-fill-color: #AAA;\n",
              "      --disabled-bg-color: #DDD;\n",
              "  }\n",
              "\n",
              "  [theme=dark] .colab-df-quickchart {\n",
              "      --bg-color: #3B4455;\n",
              "      --fill-color: #D2E3FC;\n",
              "      --hover-bg-color: #434B5C;\n",
              "      --hover-fill-color: #FFFFFF;\n",
              "      --disabled-bg-color: #3B4455;\n",
              "      --disabled-fill-color: #666;\n",
              "  }\n",
              "\n",
              "  .colab-df-quickchart {\n",
              "    background-color: var(--bg-color);\n",
              "    border: none;\n",
              "    border-radius: 50%;\n",
              "    cursor: pointer;\n",
              "    display: none;\n",
              "    fill: var(--fill-color);\n",
              "    height: 32px;\n",
              "    padding: 0;\n",
              "    width: 32px;\n",
              "  }\n",
              "\n",
              "  .colab-df-quickchart:hover {\n",
              "    background-color: var(--hover-bg-color);\n",
              "    box-shadow: 0 1px 2px rgba(60, 64, 67, 0.3), 0 1px 3px 1px rgba(60, 64, 67, 0.15);\n",
              "    fill: var(--button-hover-fill-color);\n",
              "  }\n",
              "\n",
              "  .colab-df-quickchart-complete:disabled,\n",
              "  .colab-df-quickchart-complete:disabled:hover {\n",
              "    background-color: var(--disabled-bg-color);\n",
              "    fill: var(--disabled-fill-color);\n",
              "    box-shadow: none;\n",
              "  }\n",
              "\n",
              "  .colab-df-spinner {\n",
              "    border: 2px solid var(--fill-color);\n",
              "    border-color: transparent;\n",
              "    border-bottom-color: var(--fill-color);\n",
              "    animation:\n",
              "      spin 1s steps(1) infinite;\n",
              "  }\n",
              "\n",
              "  @keyframes spin {\n",
              "    0% {\n",
              "      border-color: transparent;\n",
              "      border-bottom-color: var(--fill-color);\n",
              "      border-left-color: var(--fill-color);\n",
              "    }\n",
              "    20% {\n",
              "      border-color: transparent;\n",
              "      border-left-color: var(--fill-color);\n",
              "      border-top-color: var(--fill-color);\n",
              "    }\n",
              "    30% {\n",
              "      border-color: transparent;\n",
              "      border-left-color: var(--fill-color);\n",
              "      border-top-color: var(--fill-color);\n",
              "      border-right-color: var(--fill-color);\n",
              "    }\n",
              "    40% {\n",
              "      border-color: transparent;\n",
              "      border-right-color: var(--fill-color);\n",
              "      border-top-color: var(--fill-color);\n",
              "    }\n",
              "    60% {\n",
              "      border-color: transparent;\n",
              "      border-right-color: var(--fill-color);\n",
              "    }\n",
              "    80% {\n",
              "      border-color: transparent;\n",
              "      border-right-color: var(--fill-color);\n",
              "      border-bottom-color: var(--fill-color);\n",
              "    }\n",
              "    90% {\n",
              "      border-color: transparent;\n",
              "      border-bottom-color: var(--fill-color);\n",
              "    }\n",
              "  }\n",
              "</style>\n",
              "\n",
              "  <script>\n",
              "    async function quickchart(key) {\n",
              "      const quickchartButtonEl =\n",
              "        document.querySelector('#' + key + ' button');\n",
              "      quickchartButtonEl.disabled = true;  // To prevent multiple clicks.\n",
              "      quickchartButtonEl.classList.add('colab-df-spinner');\n",
              "      try {\n",
              "        const charts = await google.colab.kernel.invokeFunction(\n",
              "            'suggestCharts', [key], {});\n",
              "      } catch (error) {\n",
              "        console.error('Error during call to suggestCharts:', error);\n",
              "      }\n",
              "      quickchartButtonEl.classList.remove('colab-df-spinner');\n",
              "      quickchartButtonEl.classList.add('colab-df-quickchart-complete');\n",
              "    }\n",
              "    (() => {\n",
              "      let quickchartButtonEl =\n",
              "        document.querySelector('#df-8b1138ce-0a0d-48ce-b4a9-da2591ff2952 button');\n",
              "      quickchartButtonEl.style.display =\n",
              "        google.colab.kernel.accessAllowed ? 'block' : 'none';\n",
              "    })();\n",
              "  </script>\n",
              "</div>\n",
              "\n",
              "    </div>\n",
              "  </div>\n"
            ],
            "application/vnd.google.colaboratory.intrinsic+json": {
              "type": "dataframe",
              "variable_name": "df"
            }
          },
          "metadata": {},
          "execution_count": 9
        }
      ],
      "source": [
        "# df.head()\n",
        "df.head()"
      ]
    },
    {
      "cell_type": "code",
      "execution_count": 10,
      "metadata": {
        "id": "FH83U4A49ErC",
        "colab": {
          "base_uri": "https://localhost:8080/"
        },
        "outputId": "2b74c29f-bf17-4d96-cfdf-305333c9838d"
      },
      "outputs": [
        {
          "output_type": "stream",
          "name": "stdout",
          "text": [
            "<class 'pandas.core.frame.DataFrame'>\n",
            "Index: 689383 entries, 2373315 to 1031834\n",
            "Data columns (total 20 columns):\n",
            " #   Column                 Non-Null Count   Dtype         \n",
            "---  ------                 --------------   -----         \n",
            " 0   VendorID               689383 non-null  int64         \n",
            " 1   tpep_pickup_datetime   689383 non-null  datetime64[us]\n",
            " 2   tpep_dropoff_datetime  689383 non-null  datetime64[us]\n",
            " 3   passenger_count        660713 non-null  float64       \n",
            " 4   trip_distance          689383 non-null  float64       \n",
            " 5   RatecodeID             660713 non-null  float64       \n",
            " 6   store_and_fwd_flag     660713 non-null  object        \n",
            " 7   PULocationID           689383 non-null  int64         \n",
            " 8   DOLocationID           689383 non-null  int64         \n",
            " 9   payment_type           689383 non-null  int64         \n",
            " 10  fare_amount            689383 non-null  float64       \n",
            " 11  extra                  689383 non-null  float64       \n",
            " 12  mta_tax                689383 non-null  float64       \n",
            " 13  tip_amount             689383 non-null  float64       \n",
            " 14  tolls_amount           689383 non-null  float64       \n",
            " 15  improvement_surcharge  689383 non-null  float64       \n",
            " 16  total_amount           689383 non-null  float64       \n",
            " 17  congestion_surcharge   660713 non-null  float64       \n",
            " 18  Airport_fee            621218 non-null  float64       \n",
            " 19  airport_fee            39495 non-null   float64       \n",
            "dtypes: datetime64[us](2), float64(13), int64(4), object(1)\n",
            "memory usage: 110.5+ MB\n"
          ]
        }
      ],
      "source": [
        "# df.info()\n",
        "df.info()"
      ]
    },
    {
      "cell_type": "markdown",
      "metadata": {
        "id": "HZvPSwJx0S3K"
      },
      "source": [
        "#### **2.1** Fixing Columns\n",
        "<font color = red>[10 marks]</font> <br>\n",
        "\n",
        "Fix/drop any columns as you seem necessary in the below sections"
      ]
    },
    {
      "cell_type": "markdown",
      "metadata": {
        "id": "358takCd2FiM"
      },
      "source": [
        "**2.1.1** <font color = red>[2 marks]</font> <br>\n",
        "\n",
        "Fix the index and drop unnecessary columns"
      ]
    },
    {
      "cell_type": "code",
      "execution_count": 11,
      "metadata": {
        "id": "KHHFyZxa2PEM"
      },
      "outputs": [],
      "source": [
        "# Fix the index and drop any columns that are not needed\n",
        "df.reset_index(inplace=True)\n"
      ]
    },
    {
      "cell_type": "code",
      "source": [
        "df['store_and_fwd_flag'].value_counts()"
      ],
      "metadata": {
        "colab": {
          "base_uri": "https://localhost:8080/",
          "height": 178
        },
        "id": "MChltAs-gMZh",
        "outputId": "e8f015b1-3d49-4257-8020-9290b26370d3"
      },
      "execution_count": 44,
      "outputs": [
        {
          "output_type": "execute_result",
          "data": {
            "text/plain": [
              "store_and_fwd_flag\n",
              "N    657540\n",
              "Y      3173\n",
              "Name: count, dtype: int64"
            ],
            "text/html": [
              "<div>\n",
              "<style scoped>\n",
              "    .dataframe tbody tr th:only-of-type {\n",
              "        vertical-align: middle;\n",
              "    }\n",
              "\n",
              "    .dataframe tbody tr th {\n",
              "        vertical-align: top;\n",
              "    }\n",
              "\n",
              "    .dataframe thead th {\n",
              "        text-align: right;\n",
              "    }\n",
              "</style>\n",
              "<table border=\"1\" class=\"dataframe\">\n",
              "  <thead>\n",
              "    <tr style=\"text-align: right;\">\n",
              "      <th></th>\n",
              "      <th>count</th>\n",
              "    </tr>\n",
              "    <tr>\n",
              "      <th>store_and_fwd_flag</th>\n",
              "      <th></th>\n",
              "    </tr>\n",
              "  </thead>\n",
              "  <tbody>\n",
              "    <tr>\n",
              "      <th>N</th>\n",
              "      <td>657540</td>\n",
              "    </tr>\n",
              "    <tr>\n",
              "      <th>Y</th>\n",
              "      <td>3173</td>\n",
              "    </tr>\n",
              "  </tbody>\n",
              "</table>\n",
              "</div><br><label><b>dtype:</b> int64</label>"
            ]
          },
          "metadata": {},
          "execution_count": 44
        }
      ]
    },
    {
      "cell_type": "code",
      "source": [
        "df['tolls_amount'].describe()"
      ],
      "metadata": {
        "colab": {
          "base_uri": "https://localhost:8080/",
          "height": 335
        },
        "id": "IUNqTUtnmU37",
        "outputId": "b3615b0a-42cd-449f-a418-0b019e2ec2b2"
      },
      "execution_count": 48,
      "outputs": [
        {
          "output_type": "execute_result",
          "data": {
            "text/plain": [
              "count    689383.000000\n",
              "mean          0.557005\n",
              "std           2.007596\n",
              "min           0.000000\n",
              "25%           0.000000\n",
              "50%           0.000000\n",
              "75%           0.000000\n",
              "max          80.910000\n",
              "Name: tolls_amount, dtype: float64"
            ],
            "text/html": [
              "<div>\n",
              "<style scoped>\n",
              "    .dataframe tbody tr th:only-of-type {\n",
              "        vertical-align: middle;\n",
              "    }\n",
              "\n",
              "    .dataframe tbody tr th {\n",
              "        vertical-align: top;\n",
              "    }\n",
              "\n",
              "    .dataframe thead th {\n",
              "        text-align: right;\n",
              "    }\n",
              "</style>\n",
              "<table border=\"1\" class=\"dataframe\">\n",
              "  <thead>\n",
              "    <tr style=\"text-align: right;\">\n",
              "      <th></th>\n",
              "      <th>tolls_amount</th>\n",
              "    </tr>\n",
              "  </thead>\n",
              "  <tbody>\n",
              "    <tr>\n",
              "      <th>count</th>\n",
              "      <td>689383.000000</td>\n",
              "    </tr>\n",
              "    <tr>\n",
              "      <th>mean</th>\n",
              "      <td>0.557005</td>\n",
              "    </tr>\n",
              "    <tr>\n",
              "      <th>std</th>\n",
              "      <td>2.007596</td>\n",
              "    </tr>\n",
              "    <tr>\n",
              "      <th>min</th>\n",
              "      <td>0.000000</td>\n",
              "    </tr>\n",
              "    <tr>\n",
              "      <th>25%</th>\n",
              "      <td>0.000000</td>\n",
              "    </tr>\n",
              "    <tr>\n",
              "      <th>50%</th>\n",
              "      <td>0.000000</td>\n",
              "    </tr>\n",
              "    <tr>\n",
              "      <th>75%</th>\n",
              "      <td>0.000000</td>\n",
              "    </tr>\n",
              "    <tr>\n",
              "      <th>max</th>\n",
              "      <td>80.910000</td>\n",
              "    </tr>\n",
              "  </tbody>\n",
              "</table>\n",
              "</div><br><label><b>dtype:</b> float64</label>"
            ]
          },
          "metadata": {},
          "execution_count": 48
        }
      ]
    },
    {
      "cell_type": "code",
      "source": [
        "df['mta_tax'].describe()"
      ],
      "metadata": {
        "colab": {
          "base_uri": "https://localhost:8080/",
          "height": 335
        },
        "id": "qk_bxw4hob7i",
        "outputId": "e737b1c6-5140-46b2-9cb3-1fa770b0bd6e"
      },
      "execution_count": 50,
      "outputs": [
        {
          "output_type": "execute_result",
          "data": {
            "text/plain": [
              "count    689383.000000\n",
              "mean          0.495957\n",
              "std           0.045114\n",
              "min          -0.500000\n",
              "25%           0.500000\n",
              "50%           0.500000\n",
              "75%           0.500000\n",
              "max           0.800000\n",
              "Name: mta_tax, dtype: float64"
            ],
            "text/html": [
              "<div>\n",
              "<style scoped>\n",
              "    .dataframe tbody tr th:only-of-type {\n",
              "        vertical-align: middle;\n",
              "    }\n",
              "\n",
              "    .dataframe tbody tr th {\n",
              "        vertical-align: top;\n",
              "    }\n",
              "\n",
              "    .dataframe thead th {\n",
              "        text-align: right;\n",
              "    }\n",
              "</style>\n",
              "<table border=\"1\" class=\"dataframe\">\n",
              "  <thead>\n",
              "    <tr style=\"text-align: right;\">\n",
              "      <th></th>\n",
              "      <th>mta_tax</th>\n",
              "    </tr>\n",
              "  </thead>\n",
              "  <tbody>\n",
              "    <tr>\n",
              "      <th>count</th>\n",
              "      <td>689383.000000</td>\n",
              "    </tr>\n",
              "    <tr>\n",
              "      <th>mean</th>\n",
              "      <td>0.495957</td>\n",
              "    </tr>\n",
              "    <tr>\n",
              "      <th>std</th>\n",
              "      <td>0.045114</td>\n",
              "    </tr>\n",
              "    <tr>\n",
              "      <th>min</th>\n",
              "      <td>-0.500000</td>\n",
              "    </tr>\n",
              "    <tr>\n",
              "      <th>25%</th>\n",
              "      <td>0.500000</td>\n",
              "    </tr>\n",
              "    <tr>\n",
              "      <th>50%</th>\n",
              "      <td>0.500000</td>\n",
              "    </tr>\n",
              "    <tr>\n",
              "      <th>75%</th>\n",
              "      <td>0.500000</td>\n",
              "    </tr>\n",
              "    <tr>\n",
              "      <th>max</th>\n",
              "      <td>0.800000</td>\n",
              "    </tr>\n",
              "  </tbody>\n",
              "</table>\n",
              "</div><br><label><b>dtype:</b> float64</label>"
            ]
          },
          "metadata": {},
          "execution_count": 50
        }
      ]
    },
    {
      "cell_type": "code",
      "source": [
        "df.drop(columns=['index', 'store_and_fwd_flag', 'mta_tax', 'tolls_amount'],inplace=True)"
      ],
      "metadata": {
        "id": "ROyR7zO-paXb"
      },
      "execution_count": 12,
      "outputs": []
    },
    {
      "cell_type": "code",
      "source": [
        "df.head()"
      ],
      "metadata": {
        "colab": {
          "base_uri": "https://localhost:8080/",
          "height": 226
        },
        "id": "JnubvZhGp3iK",
        "outputId": "bea6c1e6-7447-4842-a70d-662973c236a7"
      },
      "execution_count": 13,
      "outputs": [
        {
          "output_type": "execute_result",
          "data": {
            "text/plain": [
              "   VendorID tpep_pickup_datetime tpep_dropoff_datetime  passenger_count  \\\n",
              "0         2  2023-11-21 23:07:22   2023-11-21 23:49:11              1.0   \n",
              "1         2  2023-11-08 23:35:26   2023-11-08 23:59:14              1.0   \n",
              "2         1  2023-11-07 23:53:47   2023-11-08 00:02:24              1.0   \n",
              "3         1  2023-11-04 23:42:25   2023-11-04 23:57:52              NaN   \n",
              "4         2  2023-11-10 23:55:12   2023-11-11 00:26:48              2.0   \n",
              "\n",
              "   trip_distance  RatecodeID  PULocationID  DOLocationID  payment_type  \\\n",
              "0          27.98         4.0           132           265             1   \n",
              "1           3.73         1.0           114           143             1   \n",
              "2           3.40         1.0           132           216             1   \n",
              "3           2.00         NaN           161           234             0   \n",
              "4          15.30         1.0           132           255             1   \n",
              "\n",
              "   fare_amount  extra  tip_amount  improvement_surcharge  total_amount  \\\n",
              "0        166.8   1.00       20.00                    1.0        191.05   \n",
              "1         23.3   1.00        4.00                    1.0         32.30   \n",
              "2         15.6   2.75        3.95                    1.0         23.80   \n",
              "3         14.9   1.00        3.98                    1.0         23.88   \n",
              "4         61.8   1.00       16.07                    1.0         82.12   \n",
              "\n",
              "   congestion_surcharge  Airport_fee  airport_fee  \n",
              "0                   0.0         1.75          NaN  \n",
              "1                   2.5         0.00          NaN  \n",
              "2                   0.0         1.75          NaN  \n",
              "3                   NaN          NaN          NaN  \n",
              "4                   0.0         1.75          NaN  "
            ],
            "text/html": [
              "\n",
              "  <div id=\"df-377ad27a-11c0-461e-a314-cb503250e07b\" class=\"colab-df-container\">\n",
              "    <div>\n",
              "<style scoped>\n",
              "    .dataframe tbody tr th:only-of-type {\n",
              "        vertical-align: middle;\n",
              "    }\n",
              "\n",
              "    .dataframe tbody tr th {\n",
              "        vertical-align: top;\n",
              "    }\n",
              "\n",
              "    .dataframe thead th {\n",
              "        text-align: right;\n",
              "    }\n",
              "</style>\n",
              "<table border=\"1\" class=\"dataframe\">\n",
              "  <thead>\n",
              "    <tr style=\"text-align: right;\">\n",
              "      <th></th>\n",
              "      <th>VendorID</th>\n",
              "      <th>tpep_pickup_datetime</th>\n",
              "      <th>tpep_dropoff_datetime</th>\n",
              "      <th>passenger_count</th>\n",
              "      <th>trip_distance</th>\n",
              "      <th>RatecodeID</th>\n",
              "      <th>PULocationID</th>\n",
              "      <th>DOLocationID</th>\n",
              "      <th>payment_type</th>\n",
              "      <th>fare_amount</th>\n",
              "      <th>extra</th>\n",
              "      <th>tip_amount</th>\n",
              "      <th>improvement_surcharge</th>\n",
              "      <th>total_amount</th>\n",
              "      <th>congestion_surcharge</th>\n",
              "      <th>Airport_fee</th>\n",
              "      <th>airport_fee</th>\n",
              "    </tr>\n",
              "  </thead>\n",
              "  <tbody>\n",
              "    <tr>\n",
              "      <th>0</th>\n",
              "      <td>2</td>\n",
              "      <td>2023-11-21 23:07:22</td>\n",
              "      <td>2023-11-21 23:49:11</td>\n",
              "      <td>1.0</td>\n",
              "      <td>27.98</td>\n",
              "      <td>4.0</td>\n",
              "      <td>132</td>\n",
              "      <td>265</td>\n",
              "      <td>1</td>\n",
              "      <td>166.8</td>\n",
              "      <td>1.00</td>\n",
              "      <td>20.00</td>\n",
              "      <td>1.0</td>\n",
              "      <td>191.05</td>\n",
              "      <td>0.0</td>\n",
              "      <td>1.75</td>\n",
              "      <td>NaN</td>\n",
              "    </tr>\n",
              "    <tr>\n",
              "      <th>1</th>\n",
              "      <td>2</td>\n",
              "      <td>2023-11-08 23:35:26</td>\n",
              "      <td>2023-11-08 23:59:14</td>\n",
              "      <td>1.0</td>\n",
              "      <td>3.73</td>\n",
              "      <td>1.0</td>\n",
              "      <td>114</td>\n",
              "      <td>143</td>\n",
              "      <td>1</td>\n",
              "      <td>23.3</td>\n",
              "      <td>1.00</td>\n",
              "      <td>4.00</td>\n",
              "      <td>1.0</td>\n",
              "      <td>32.30</td>\n",
              "      <td>2.5</td>\n",
              "      <td>0.00</td>\n",
              "      <td>NaN</td>\n",
              "    </tr>\n",
              "    <tr>\n",
              "      <th>2</th>\n",
              "      <td>1</td>\n",
              "      <td>2023-11-07 23:53:47</td>\n",
              "      <td>2023-11-08 00:02:24</td>\n",
              "      <td>1.0</td>\n",
              "      <td>3.40</td>\n",
              "      <td>1.0</td>\n",
              "      <td>132</td>\n",
              "      <td>216</td>\n",
              "      <td>1</td>\n",
              "      <td>15.6</td>\n",
              "      <td>2.75</td>\n",
              "      <td>3.95</td>\n",
              "      <td>1.0</td>\n",
              "      <td>23.80</td>\n",
              "      <td>0.0</td>\n",
              "      <td>1.75</td>\n",
              "      <td>NaN</td>\n",
              "    </tr>\n",
              "    <tr>\n",
              "      <th>3</th>\n",
              "      <td>1</td>\n",
              "      <td>2023-11-04 23:42:25</td>\n",
              "      <td>2023-11-04 23:57:52</td>\n",
              "      <td>NaN</td>\n",
              "      <td>2.00</td>\n",
              "      <td>NaN</td>\n",
              "      <td>161</td>\n",
              "      <td>234</td>\n",
              "      <td>0</td>\n",
              "      <td>14.9</td>\n",
              "      <td>1.00</td>\n",
              "      <td>3.98</td>\n",
              "      <td>1.0</td>\n",
              "      <td>23.88</td>\n",
              "      <td>NaN</td>\n",
              "      <td>NaN</td>\n",
              "      <td>NaN</td>\n",
              "    </tr>\n",
              "    <tr>\n",
              "      <th>4</th>\n",
              "      <td>2</td>\n",
              "      <td>2023-11-10 23:55:12</td>\n",
              "      <td>2023-11-11 00:26:48</td>\n",
              "      <td>2.0</td>\n",
              "      <td>15.30</td>\n",
              "      <td>1.0</td>\n",
              "      <td>132</td>\n",
              "      <td>255</td>\n",
              "      <td>1</td>\n",
              "      <td>61.8</td>\n",
              "      <td>1.00</td>\n",
              "      <td>16.07</td>\n",
              "      <td>1.0</td>\n",
              "      <td>82.12</td>\n",
              "      <td>0.0</td>\n",
              "      <td>1.75</td>\n",
              "      <td>NaN</td>\n",
              "    </tr>\n",
              "  </tbody>\n",
              "</table>\n",
              "</div>\n",
              "    <div class=\"colab-df-buttons\">\n",
              "\n",
              "  <div class=\"colab-df-container\">\n",
              "    <button class=\"colab-df-convert\" onclick=\"convertToInteractive('df-377ad27a-11c0-461e-a314-cb503250e07b')\"\n",
              "            title=\"Convert this dataframe to an interactive table.\"\n",
              "            style=\"display:none;\">\n",
              "\n",
              "  <svg xmlns=\"http://www.w3.org/2000/svg\" height=\"24px\" viewBox=\"0 -960 960 960\">\n",
              "    <path d=\"M120-120v-720h720v720H120Zm60-500h600v-160H180v160Zm220 220h160v-160H400v160Zm0 220h160v-160H400v160ZM180-400h160v-160H180v160Zm440 0h160v-160H620v160ZM180-180h160v-160H180v160Zm440 0h160v-160H620v160Z\"/>\n",
              "  </svg>\n",
              "    </button>\n",
              "\n",
              "  <style>\n",
              "    .colab-df-container {\n",
              "      display:flex;\n",
              "      gap: 12px;\n",
              "    }\n",
              "\n",
              "    .colab-df-convert {\n",
              "      background-color: #E8F0FE;\n",
              "      border: none;\n",
              "      border-radius: 50%;\n",
              "      cursor: pointer;\n",
              "      display: none;\n",
              "      fill: #1967D2;\n",
              "      height: 32px;\n",
              "      padding: 0 0 0 0;\n",
              "      width: 32px;\n",
              "    }\n",
              "\n",
              "    .colab-df-convert:hover {\n",
              "      background-color: #E2EBFA;\n",
              "      box-shadow: 0px 1px 2px rgba(60, 64, 67, 0.3), 0px 1px 3px 1px rgba(60, 64, 67, 0.15);\n",
              "      fill: #174EA6;\n",
              "    }\n",
              "\n",
              "    .colab-df-buttons div {\n",
              "      margin-bottom: 4px;\n",
              "    }\n",
              "\n",
              "    [theme=dark] .colab-df-convert {\n",
              "      background-color: #3B4455;\n",
              "      fill: #D2E3FC;\n",
              "    }\n",
              "\n",
              "    [theme=dark] .colab-df-convert:hover {\n",
              "      background-color: #434B5C;\n",
              "      box-shadow: 0px 1px 3px 1px rgba(0, 0, 0, 0.15);\n",
              "      filter: drop-shadow(0px 1px 2px rgba(0, 0, 0, 0.3));\n",
              "      fill: #FFFFFF;\n",
              "    }\n",
              "  </style>\n",
              "\n",
              "    <script>\n",
              "      const buttonEl =\n",
              "        document.querySelector('#df-377ad27a-11c0-461e-a314-cb503250e07b button.colab-df-convert');\n",
              "      buttonEl.style.display =\n",
              "        google.colab.kernel.accessAllowed ? 'block' : 'none';\n",
              "\n",
              "      async function convertToInteractive(key) {\n",
              "        const element = document.querySelector('#df-377ad27a-11c0-461e-a314-cb503250e07b');\n",
              "        const dataTable =\n",
              "          await google.colab.kernel.invokeFunction('convertToInteractive',\n",
              "                                                    [key], {});\n",
              "        if (!dataTable) return;\n",
              "\n",
              "        const docLinkHtml = 'Like what you see? Visit the ' +\n",
              "          '<a target=\"_blank\" href=https://colab.research.google.com/notebooks/data_table.ipynb>data table notebook</a>'\n",
              "          + ' to learn more about interactive tables.';\n",
              "        element.innerHTML = '';\n",
              "        dataTable['output_type'] = 'display_data';\n",
              "        await google.colab.output.renderOutput(dataTable, element);\n",
              "        const docLink = document.createElement('div');\n",
              "        docLink.innerHTML = docLinkHtml;\n",
              "        element.appendChild(docLink);\n",
              "      }\n",
              "    </script>\n",
              "  </div>\n",
              "\n",
              "\n",
              "<div id=\"df-d25f2dc3-4ebc-45ac-93f8-a5201a754926\">\n",
              "  <button class=\"colab-df-quickchart\" onclick=\"quickchart('df-d25f2dc3-4ebc-45ac-93f8-a5201a754926')\"\n",
              "            title=\"Suggest charts\"\n",
              "            style=\"display:none;\">\n",
              "\n",
              "<svg xmlns=\"http://www.w3.org/2000/svg\" height=\"24px\"viewBox=\"0 0 24 24\"\n",
              "     width=\"24px\">\n",
              "    <g>\n",
              "        <path d=\"M19 3H5c-1.1 0-2 .9-2 2v14c0 1.1.9 2 2 2h14c1.1 0 2-.9 2-2V5c0-1.1-.9-2-2-2zM9 17H7v-7h2v7zm4 0h-2V7h2v10zm4 0h-2v-4h2v4z\"/>\n",
              "    </g>\n",
              "</svg>\n",
              "  </button>\n",
              "\n",
              "<style>\n",
              "  .colab-df-quickchart {\n",
              "      --bg-color: #E8F0FE;\n",
              "      --fill-color: #1967D2;\n",
              "      --hover-bg-color: #E2EBFA;\n",
              "      --hover-fill-color: #174EA6;\n",
              "      --disabled-fill-color: #AAA;\n",
              "      --disabled-bg-color: #DDD;\n",
              "  }\n",
              "\n",
              "  [theme=dark] .colab-df-quickchart {\n",
              "      --bg-color: #3B4455;\n",
              "      --fill-color: #D2E3FC;\n",
              "      --hover-bg-color: #434B5C;\n",
              "      --hover-fill-color: #FFFFFF;\n",
              "      --disabled-bg-color: #3B4455;\n",
              "      --disabled-fill-color: #666;\n",
              "  }\n",
              "\n",
              "  .colab-df-quickchart {\n",
              "    background-color: var(--bg-color);\n",
              "    border: none;\n",
              "    border-radius: 50%;\n",
              "    cursor: pointer;\n",
              "    display: none;\n",
              "    fill: var(--fill-color);\n",
              "    height: 32px;\n",
              "    padding: 0;\n",
              "    width: 32px;\n",
              "  }\n",
              "\n",
              "  .colab-df-quickchart:hover {\n",
              "    background-color: var(--hover-bg-color);\n",
              "    box-shadow: 0 1px 2px rgba(60, 64, 67, 0.3), 0 1px 3px 1px rgba(60, 64, 67, 0.15);\n",
              "    fill: var(--button-hover-fill-color);\n",
              "  }\n",
              "\n",
              "  .colab-df-quickchart-complete:disabled,\n",
              "  .colab-df-quickchart-complete:disabled:hover {\n",
              "    background-color: var(--disabled-bg-color);\n",
              "    fill: var(--disabled-fill-color);\n",
              "    box-shadow: none;\n",
              "  }\n",
              "\n",
              "  .colab-df-spinner {\n",
              "    border: 2px solid var(--fill-color);\n",
              "    border-color: transparent;\n",
              "    border-bottom-color: var(--fill-color);\n",
              "    animation:\n",
              "      spin 1s steps(1) infinite;\n",
              "  }\n",
              "\n",
              "  @keyframes spin {\n",
              "    0% {\n",
              "      border-color: transparent;\n",
              "      border-bottom-color: var(--fill-color);\n",
              "      border-left-color: var(--fill-color);\n",
              "    }\n",
              "    20% {\n",
              "      border-color: transparent;\n",
              "      border-left-color: var(--fill-color);\n",
              "      border-top-color: var(--fill-color);\n",
              "    }\n",
              "    30% {\n",
              "      border-color: transparent;\n",
              "      border-left-color: var(--fill-color);\n",
              "      border-top-color: var(--fill-color);\n",
              "      border-right-color: var(--fill-color);\n",
              "    }\n",
              "    40% {\n",
              "      border-color: transparent;\n",
              "      border-right-color: var(--fill-color);\n",
              "      border-top-color: var(--fill-color);\n",
              "    }\n",
              "    60% {\n",
              "      border-color: transparent;\n",
              "      border-right-color: var(--fill-color);\n",
              "    }\n",
              "    80% {\n",
              "      border-color: transparent;\n",
              "      border-right-color: var(--fill-color);\n",
              "      border-bottom-color: var(--fill-color);\n",
              "    }\n",
              "    90% {\n",
              "      border-color: transparent;\n",
              "      border-bottom-color: var(--fill-color);\n",
              "    }\n",
              "  }\n",
              "</style>\n",
              "\n",
              "  <script>\n",
              "    async function quickchart(key) {\n",
              "      const quickchartButtonEl =\n",
              "        document.querySelector('#' + key + ' button');\n",
              "      quickchartButtonEl.disabled = true;  // To prevent multiple clicks.\n",
              "      quickchartButtonEl.classList.add('colab-df-spinner');\n",
              "      try {\n",
              "        const charts = await google.colab.kernel.invokeFunction(\n",
              "            'suggestCharts', [key], {});\n",
              "      } catch (error) {\n",
              "        console.error('Error during call to suggestCharts:', error);\n",
              "      }\n",
              "      quickchartButtonEl.classList.remove('colab-df-spinner');\n",
              "      quickchartButtonEl.classList.add('colab-df-quickchart-complete');\n",
              "    }\n",
              "    (() => {\n",
              "      let quickchartButtonEl =\n",
              "        document.querySelector('#df-d25f2dc3-4ebc-45ac-93f8-a5201a754926 button');\n",
              "      quickchartButtonEl.style.display =\n",
              "        google.colab.kernel.accessAllowed ? 'block' : 'none';\n",
              "    })();\n",
              "  </script>\n",
              "</div>\n",
              "\n",
              "    </div>\n",
              "  </div>\n"
            ],
            "application/vnd.google.colaboratory.intrinsic+json": {
              "type": "dataframe",
              "variable_name": "df"
            }
          },
          "metadata": {},
          "execution_count": 13
        }
      ]
    },
    {
      "cell_type": "markdown",
      "metadata": {
        "id": "TIFmxvIT2wsn"
      },
      "source": [
        "**2.1.2** <font color = red>[3 marks]</font> <br>\n",
        "There are two airport fee columns. This is possibly an error in naming columns. Let's see whether these can be combined into a single column."
      ]
    },
    {
      "cell_type": "code",
      "source": [
        "df['Airport_fee'].value_counts()"
      ],
      "metadata": {
        "colab": {
          "base_uri": "https://localhost:8080/",
          "height": 241
        },
        "id": "pIr1fetUqXRL",
        "outputId": "fe020f2e-b8bb-4f14-9fff-e3df257a2378"
      },
      "execution_count": 81,
      "outputs": [
        {
          "output_type": "execute_result",
          "data": {
            "text/plain": [
              "Airport_fee\n",
              " 0.00    539173\n",
              " 1.75     66914\n",
              " 1.25     15106\n",
              "-1.75        25\n",
              "Name: count, dtype: int64"
            ],
            "text/html": [
              "<div>\n",
              "<style scoped>\n",
              "    .dataframe tbody tr th:only-of-type {\n",
              "        vertical-align: middle;\n",
              "    }\n",
              "\n",
              "    .dataframe tbody tr th {\n",
              "        vertical-align: top;\n",
              "    }\n",
              "\n",
              "    .dataframe thead th {\n",
              "        text-align: right;\n",
              "    }\n",
              "</style>\n",
              "<table border=\"1\" class=\"dataframe\">\n",
              "  <thead>\n",
              "    <tr style=\"text-align: right;\">\n",
              "      <th></th>\n",
              "      <th>count</th>\n",
              "    </tr>\n",
              "    <tr>\n",
              "      <th>Airport_fee</th>\n",
              "      <th></th>\n",
              "    </tr>\n",
              "  </thead>\n",
              "  <tbody>\n",
              "    <tr>\n",
              "      <th>0.00</th>\n",
              "      <td>539173</td>\n",
              "    </tr>\n",
              "    <tr>\n",
              "      <th>1.75</th>\n",
              "      <td>66914</td>\n",
              "    </tr>\n",
              "    <tr>\n",
              "      <th>1.25</th>\n",
              "      <td>15106</td>\n",
              "    </tr>\n",
              "    <tr>\n",
              "      <th>-1.75</th>\n",
              "      <td>25</td>\n",
              "    </tr>\n",
              "  </tbody>\n",
              "</table>\n",
              "</div><br><label><b>dtype:</b> int64</label>"
            ]
          },
          "metadata": {},
          "execution_count": 81
        }
      ]
    },
    {
      "cell_type": "code",
      "source": [
        "df['Airport_fee'].isnull().sum()"
      ],
      "metadata": {
        "colab": {
          "base_uri": "https://localhost:8080/"
        },
        "id": "F1aVrzYduywm",
        "outputId": "74c7b85a-94bb-473e-8e48-81a6e1ae8c61"
      },
      "execution_count": 84,
      "outputs": [
        {
          "output_type": "execute_result",
          "data": {
            "text/plain": [
              "np.int64(68165)"
            ]
          },
          "metadata": {},
          "execution_count": 84
        }
      ]
    },
    {
      "cell_type": "code",
      "source": [
        "df['airport_fee'].isnull().sum()"
      ],
      "metadata": {
        "colab": {
          "base_uri": "https://localhost:8080/"
        },
        "id": "xNzArUMxu-gW",
        "outputId": "276cb840-83fe-4993-a68f-c95cd44a1f25"
      },
      "execution_count": 85,
      "outputs": [
        {
          "output_type": "execute_result",
          "data": {
            "text/plain": [
              "np.int64(649888)"
            ]
          },
          "metadata": {},
          "execution_count": 85
        }
      ]
    },
    {
      "cell_type": "code",
      "source": [
        "df['airport_fee'].fillna(0, inplace=True)\n",
        "df['Airport_fee'].fillna(0, inplace=True)"
      ],
      "metadata": {
        "id": "pygQ0UkZvE2m"
      },
      "execution_count": 14,
      "outputs": []
    },
    {
      "cell_type": "code",
      "source": [
        "df['Airport_fee'].isnull().sum()"
      ],
      "metadata": {
        "colab": {
          "base_uri": "https://localhost:8080/"
        },
        "id": "TgDdL4wPuM-z",
        "outputId": "86a9fdbd-b742-48c8-8f69-7b0318817215"
      },
      "execution_count": 87,
      "outputs": [
        {
          "output_type": "execute_result",
          "data": {
            "text/plain": [
              "np.int64(0)"
            ]
          },
          "metadata": {},
          "execution_count": 87
        }
      ]
    },
    {
      "cell_type": "code",
      "source": [
        "df['airport_fee'].isnull().sum()"
      ],
      "metadata": {
        "colab": {
          "base_uri": "https://localhost:8080/"
        },
        "id": "KSzDyQLWvaNC",
        "outputId": "4eb8f769-1699-40fa-a3eb-59a46212a9c4"
      },
      "execution_count": 88,
      "outputs": [
        {
          "output_type": "execute_result",
          "data": {
            "text/plain": [
              "np.int64(0)"
            ]
          },
          "metadata": {},
          "execution_count": 88
        }
      ]
    },
    {
      "cell_type": "code",
      "execution_count": 15,
      "metadata": {
        "id": "rmtgnb1x6TrV"
      },
      "outputs": [],
      "source": [
        "# Combine the two airport fee columns\n",
        "df['Airport_Fee_Combined'] = df.apply(lambda row: row['Airport_fee']+row['airport_fee'], axis=1)\n"
      ]
    },
    {
      "cell_type": "code",
      "source": [
        "df['Airport_Fee_Combined'].value_counts()"
      ],
      "metadata": {
        "colab": {
          "base_uri": "https://localhost:8080/",
          "height": 241
        },
        "id": "d8NiCNIUvlE-",
        "outputId": "94020500-b9b1-4fcf-f3c3-9d473fd852bc"
      },
      "execution_count": 16,
      "outputs": [
        {
          "output_type": "execute_result",
          "data": {
            "text/plain": [
              "Airport_Fee_Combined\n",
              " 0.00    601768\n",
              " 1.75     66914\n",
              " 1.25     20676\n",
              "-1.75        25\n",
              "Name: count, dtype: int64"
            ],
            "text/html": [
              "<div>\n",
              "<style scoped>\n",
              "    .dataframe tbody tr th:only-of-type {\n",
              "        vertical-align: middle;\n",
              "    }\n",
              "\n",
              "    .dataframe tbody tr th {\n",
              "        vertical-align: top;\n",
              "    }\n",
              "\n",
              "    .dataframe thead th {\n",
              "        text-align: right;\n",
              "    }\n",
              "</style>\n",
              "<table border=\"1\" class=\"dataframe\">\n",
              "  <thead>\n",
              "    <tr style=\"text-align: right;\">\n",
              "      <th></th>\n",
              "      <th>count</th>\n",
              "    </tr>\n",
              "    <tr>\n",
              "      <th>Airport_Fee_Combined</th>\n",
              "      <th></th>\n",
              "    </tr>\n",
              "  </thead>\n",
              "  <tbody>\n",
              "    <tr>\n",
              "      <th>0.00</th>\n",
              "      <td>601768</td>\n",
              "    </tr>\n",
              "    <tr>\n",
              "      <th>1.75</th>\n",
              "      <td>66914</td>\n",
              "    </tr>\n",
              "    <tr>\n",
              "      <th>1.25</th>\n",
              "      <td>20676</td>\n",
              "    </tr>\n",
              "    <tr>\n",
              "      <th>-1.75</th>\n",
              "      <td>25</td>\n",
              "    </tr>\n",
              "  </tbody>\n",
              "</table>\n",
              "</div><br><label><b>dtype:</b> int64</label>"
            ]
          },
          "metadata": {},
          "execution_count": 16
        }
      ]
    },
    {
      "cell_type": "code",
      "source": [
        "df.drop(columns=['Airport_fee', 'airport_fee'], inplace=True)"
      ],
      "metadata": {
        "id": "tEV16OVqv6Ci"
      },
      "execution_count": 17,
      "outputs": []
    },
    {
      "cell_type": "code",
      "source": [
        "df.head()"
      ],
      "metadata": {
        "colab": {
          "base_uri": "https://localhost:8080/",
          "height": 226
        },
        "id": "VmbqOm3MwBUZ",
        "outputId": "40680896-ba33-4b43-9967-f47ebf01dd94"
      },
      "execution_count": 18,
      "outputs": [
        {
          "output_type": "execute_result",
          "data": {
            "text/plain": [
              "   VendorID tpep_pickup_datetime tpep_dropoff_datetime  passenger_count  \\\n",
              "0         2  2023-11-21 23:07:22   2023-11-21 23:49:11              1.0   \n",
              "1         2  2023-11-08 23:35:26   2023-11-08 23:59:14              1.0   \n",
              "2         1  2023-11-07 23:53:47   2023-11-08 00:02:24              1.0   \n",
              "3         1  2023-11-04 23:42:25   2023-11-04 23:57:52              NaN   \n",
              "4         2  2023-11-10 23:55:12   2023-11-11 00:26:48              2.0   \n",
              "\n",
              "   trip_distance  RatecodeID  PULocationID  DOLocationID  payment_type  \\\n",
              "0          27.98         4.0           132           265             1   \n",
              "1           3.73         1.0           114           143             1   \n",
              "2           3.40         1.0           132           216             1   \n",
              "3           2.00         NaN           161           234             0   \n",
              "4          15.30         1.0           132           255             1   \n",
              "\n",
              "   fare_amount  extra  tip_amount  improvement_surcharge  total_amount  \\\n",
              "0        166.8   1.00       20.00                    1.0        191.05   \n",
              "1         23.3   1.00        4.00                    1.0         32.30   \n",
              "2         15.6   2.75        3.95                    1.0         23.80   \n",
              "3         14.9   1.00        3.98                    1.0         23.88   \n",
              "4         61.8   1.00       16.07                    1.0         82.12   \n",
              "\n",
              "   congestion_surcharge  Airport_Fee_Combined  \n",
              "0                   0.0                  1.75  \n",
              "1                   2.5                  0.00  \n",
              "2                   0.0                  1.75  \n",
              "3                   NaN                  0.00  \n",
              "4                   0.0                  1.75  "
            ],
            "text/html": [
              "\n",
              "  <div id=\"df-c5226995-d146-4ecd-8410-eb0b6e219618\" class=\"colab-df-container\">\n",
              "    <div>\n",
              "<style scoped>\n",
              "    .dataframe tbody tr th:only-of-type {\n",
              "        vertical-align: middle;\n",
              "    }\n",
              "\n",
              "    .dataframe tbody tr th {\n",
              "        vertical-align: top;\n",
              "    }\n",
              "\n",
              "    .dataframe thead th {\n",
              "        text-align: right;\n",
              "    }\n",
              "</style>\n",
              "<table border=\"1\" class=\"dataframe\">\n",
              "  <thead>\n",
              "    <tr style=\"text-align: right;\">\n",
              "      <th></th>\n",
              "      <th>VendorID</th>\n",
              "      <th>tpep_pickup_datetime</th>\n",
              "      <th>tpep_dropoff_datetime</th>\n",
              "      <th>passenger_count</th>\n",
              "      <th>trip_distance</th>\n",
              "      <th>RatecodeID</th>\n",
              "      <th>PULocationID</th>\n",
              "      <th>DOLocationID</th>\n",
              "      <th>payment_type</th>\n",
              "      <th>fare_amount</th>\n",
              "      <th>extra</th>\n",
              "      <th>tip_amount</th>\n",
              "      <th>improvement_surcharge</th>\n",
              "      <th>total_amount</th>\n",
              "      <th>congestion_surcharge</th>\n",
              "      <th>Airport_Fee_Combined</th>\n",
              "    </tr>\n",
              "  </thead>\n",
              "  <tbody>\n",
              "    <tr>\n",
              "      <th>0</th>\n",
              "      <td>2</td>\n",
              "      <td>2023-11-21 23:07:22</td>\n",
              "      <td>2023-11-21 23:49:11</td>\n",
              "      <td>1.0</td>\n",
              "      <td>27.98</td>\n",
              "      <td>4.0</td>\n",
              "      <td>132</td>\n",
              "      <td>265</td>\n",
              "      <td>1</td>\n",
              "      <td>166.8</td>\n",
              "      <td>1.00</td>\n",
              "      <td>20.00</td>\n",
              "      <td>1.0</td>\n",
              "      <td>191.05</td>\n",
              "      <td>0.0</td>\n",
              "      <td>1.75</td>\n",
              "    </tr>\n",
              "    <tr>\n",
              "      <th>1</th>\n",
              "      <td>2</td>\n",
              "      <td>2023-11-08 23:35:26</td>\n",
              "      <td>2023-11-08 23:59:14</td>\n",
              "      <td>1.0</td>\n",
              "      <td>3.73</td>\n",
              "      <td>1.0</td>\n",
              "      <td>114</td>\n",
              "      <td>143</td>\n",
              "      <td>1</td>\n",
              "      <td>23.3</td>\n",
              "      <td>1.00</td>\n",
              "      <td>4.00</td>\n",
              "      <td>1.0</td>\n",
              "      <td>32.30</td>\n",
              "      <td>2.5</td>\n",
              "      <td>0.00</td>\n",
              "    </tr>\n",
              "    <tr>\n",
              "      <th>2</th>\n",
              "      <td>1</td>\n",
              "      <td>2023-11-07 23:53:47</td>\n",
              "      <td>2023-11-08 00:02:24</td>\n",
              "      <td>1.0</td>\n",
              "      <td>3.40</td>\n",
              "      <td>1.0</td>\n",
              "      <td>132</td>\n",
              "      <td>216</td>\n",
              "      <td>1</td>\n",
              "      <td>15.6</td>\n",
              "      <td>2.75</td>\n",
              "      <td>3.95</td>\n",
              "      <td>1.0</td>\n",
              "      <td>23.80</td>\n",
              "      <td>0.0</td>\n",
              "      <td>1.75</td>\n",
              "    </tr>\n",
              "    <tr>\n",
              "      <th>3</th>\n",
              "      <td>1</td>\n",
              "      <td>2023-11-04 23:42:25</td>\n",
              "      <td>2023-11-04 23:57:52</td>\n",
              "      <td>NaN</td>\n",
              "      <td>2.00</td>\n",
              "      <td>NaN</td>\n",
              "      <td>161</td>\n",
              "      <td>234</td>\n",
              "      <td>0</td>\n",
              "      <td>14.9</td>\n",
              "      <td>1.00</td>\n",
              "      <td>3.98</td>\n",
              "      <td>1.0</td>\n",
              "      <td>23.88</td>\n",
              "      <td>NaN</td>\n",
              "      <td>0.00</td>\n",
              "    </tr>\n",
              "    <tr>\n",
              "      <th>4</th>\n",
              "      <td>2</td>\n",
              "      <td>2023-11-10 23:55:12</td>\n",
              "      <td>2023-11-11 00:26:48</td>\n",
              "      <td>2.0</td>\n",
              "      <td>15.30</td>\n",
              "      <td>1.0</td>\n",
              "      <td>132</td>\n",
              "      <td>255</td>\n",
              "      <td>1</td>\n",
              "      <td>61.8</td>\n",
              "      <td>1.00</td>\n",
              "      <td>16.07</td>\n",
              "      <td>1.0</td>\n",
              "      <td>82.12</td>\n",
              "      <td>0.0</td>\n",
              "      <td>1.75</td>\n",
              "    </tr>\n",
              "  </tbody>\n",
              "</table>\n",
              "</div>\n",
              "    <div class=\"colab-df-buttons\">\n",
              "\n",
              "  <div class=\"colab-df-container\">\n",
              "    <button class=\"colab-df-convert\" onclick=\"convertToInteractive('df-c5226995-d146-4ecd-8410-eb0b6e219618')\"\n",
              "            title=\"Convert this dataframe to an interactive table.\"\n",
              "            style=\"display:none;\">\n",
              "\n",
              "  <svg xmlns=\"http://www.w3.org/2000/svg\" height=\"24px\" viewBox=\"0 -960 960 960\">\n",
              "    <path d=\"M120-120v-720h720v720H120Zm60-500h600v-160H180v160Zm220 220h160v-160H400v160Zm0 220h160v-160H400v160ZM180-400h160v-160H180v160Zm440 0h160v-160H620v160ZM180-180h160v-160H180v160Zm440 0h160v-160H620v160Z\"/>\n",
              "  </svg>\n",
              "    </button>\n",
              "\n",
              "  <style>\n",
              "    .colab-df-container {\n",
              "      display:flex;\n",
              "      gap: 12px;\n",
              "    }\n",
              "\n",
              "    .colab-df-convert {\n",
              "      background-color: #E8F0FE;\n",
              "      border: none;\n",
              "      border-radius: 50%;\n",
              "      cursor: pointer;\n",
              "      display: none;\n",
              "      fill: #1967D2;\n",
              "      height: 32px;\n",
              "      padding: 0 0 0 0;\n",
              "      width: 32px;\n",
              "    }\n",
              "\n",
              "    .colab-df-convert:hover {\n",
              "      background-color: #E2EBFA;\n",
              "      box-shadow: 0px 1px 2px rgba(60, 64, 67, 0.3), 0px 1px 3px 1px rgba(60, 64, 67, 0.15);\n",
              "      fill: #174EA6;\n",
              "    }\n",
              "\n",
              "    .colab-df-buttons div {\n",
              "      margin-bottom: 4px;\n",
              "    }\n",
              "\n",
              "    [theme=dark] .colab-df-convert {\n",
              "      background-color: #3B4455;\n",
              "      fill: #D2E3FC;\n",
              "    }\n",
              "\n",
              "    [theme=dark] .colab-df-convert:hover {\n",
              "      background-color: #434B5C;\n",
              "      box-shadow: 0px 1px 3px 1px rgba(0, 0, 0, 0.15);\n",
              "      filter: drop-shadow(0px 1px 2px rgba(0, 0, 0, 0.3));\n",
              "      fill: #FFFFFF;\n",
              "    }\n",
              "  </style>\n",
              "\n",
              "    <script>\n",
              "      const buttonEl =\n",
              "        document.querySelector('#df-c5226995-d146-4ecd-8410-eb0b6e219618 button.colab-df-convert');\n",
              "      buttonEl.style.display =\n",
              "        google.colab.kernel.accessAllowed ? 'block' : 'none';\n",
              "\n",
              "      async function convertToInteractive(key) {\n",
              "        const element = document.querySelector('#df-c5226995-d146-4ecd-8410-eb0b6e219618');\n",
              "        const dataTable =\n",
              "          await google.colab.kernel.invokeFunction('convertToInteractive',\n",
              "                                                    [key], {});\n",
              "        if (!dataTable) return;\n",
              "\n",
              "        const docLinkHtml = 'Like what you see? Visit the ' +\n",
              "          '<a target=\"_blank\" href=https://colab.research.google.com/notebooks/data_table.ipynb>data table notebook</a>'\n",
              "          + ' to learn more about interactive tables.';\n",
              "        element.innerHTML = '';\n",
              "        dataTable['output_type'] = 'display_data';\n",
              "        await google.colab.output.renderOutput(dataTable, element);\n",
              "        const docLink = document.createElement('div');\n",
              "        docLink.innerHTML = docLinkHtml;\n",
              "        element.appendChild(docLink);\n",
              "      }\n",
              "    </script>\n",
              "  </div>\n",
              "\n",
              "\n",
              "<div id=\"df-1ea6e959-0952-42dd-af03-f73e77bdaa18\">\n",
              "  <button class=\"colab-df-quickchart\" onclick=\"quickchart('df-1ea6e959-0952-42dd-af03-f73e77bdaa18')\"\n",
              "            title=\"Suggest charts\"\n",
              "            style=\"display:none;\">\n",
              "\n",
              "<svg xmlns=\"http://www.w3.org/2000/svg\" height=\"24px\"viewBox=\"0 0 24 24\"\n",
              "     width=\"24px\">\n",
              "    <g>\n",
              "        <path d=\"M19 3H5c-1.1 0-2 .9-2 2v14c0 1.1.9 2 2 2h14c1.1 0 2-.9 2-2V5c0-1.1-.9-2-2-2zM9 17H7v-7h2v7zm4 0h-2V7h2v10zm4 0h-2v-4h2v4z\"/>\n",
              "    </g>\n",
              "</svg>\n",
              "  </button>\n",
              "\n",
              "<style>\n",
              "  .colab-df-quickchart {\n",
              "      --bg-color: #E8F0FE;\n",
              "      --fill-color: #1967D2;\n",
              "      --hover-bg-color: #E2EBFA;\n",
              "      --hover-fill-color: #174EA6;\n",
              "      --disabled-fill-color: #AAA;\n",
              "      --disabled-bg-color: #DDD;\n",
              "  }\n",
              "\n",
              "  [theme=dark] .colab-df-quickchart {\n",
              "      --bg-color: #3B4455;\n",
              "      --fill-color: #D2E3FC;\n",
              "      --hover-bg-color: #434B5C;\n",
              "      --hover-fill-color: #FFFFFF;\n",
              "      --disabled-bg-color: #3B4455;\n",
              "      --disabled-fill-color: #666;\n",
              "  }\n",
              "\n",
              "  .colab-df-quickchart {\n",
              "    background-color: var(--bg-color);\n",
              "    border: none;\n",
              "    border-radius: 50%;\n",
              "    cursor: pointer;\n",
              "    display: none;\n",
              "    fill: var(--fill-color);\n",
              "    height: 32px;\n",
              "    padding: 0;\n",
              "    width: 32px;\n",
              "  }\n",
              "\n",
              "  .colab-df-quickchart:hover {\n",
              "    background-color: var(--hover-bg-color);\n",
              "    box-shadow: 0 1px 2px rgba(60, 64, 67, 0.3), 0 1px 3px 1px rgba(60, 64, 67, 0.15);\n",
              "    fill: var(--button-hover-fill-color);\n",
              "  }\n",
              "\n",
              "  .colab-df-quickchart-complete:disabled,\n",
              "  .colab-df-quickchart-complete:disabled:hover {\n",
              "    background-color: var(--disabled-bg-color);\n",
              "    fill: var(--disabled-fill-color);\n",
              "    box-shadow: none;\n",
              "  }\n",
              "\n",
              "  .colab-df-spinner {\n",
              "    border: 2px solid var(--fill-color);\n",
              "    border-color: transparent;\n",
              "    border-bottom-color: var(--fill-color);\n",
              "    animation:\n",
              "      spin 1s steps(1) infinite;\n",
              "  }\n",
              "\n",
              "  @keyframes spin {\n",
              "    0% {\n",
              "      border-color: transparent;\n",
              "      border-bottom-color: var(--fill-color);\n",
              "      border-left-color: var(--fill-color);\n",
              "    }\n",
              "    20% {\n",
              "      border-color: transparent;\n",
              "      border-left-color: var(--fill-color);\n",
              "      border-top-color: var(--fill-color);\n",
              "    }\n",
              "    30% {\n",
              "      border-color: transparent;\n",
              "      border-left-color: var(--fill-color);\n",
              "      border-top-color: var(--fill-color);\n",
              "      border-right-color: var(--fill-color);\n",
              "    }\n",
              "    40% {\n",
              "      border-color: transparent;\n",
              "      border-right-color: var(--fill-color);\n",
              "      border-top-color: var(--fill-color);\n",
              "    }\n",
              "    60% {\n",
              "      border-color: transparent;\n",
              "      border-right-color: var(--fill-color);\n",
              "    }\n",
              "    80% {\n",
              "      border-color: transparent;\n",
              "      border-right-color: var(--fill-color);\n",
              "      border-bottom-color: var(--fill-color);\n",
              "    }\n",
              "    90% {\n",
              "      border-color: transparent;\n",
              "      border-bottom-color: var(--fill-color);\n",
              "    }\n",
              "  }\n",
              "</style>\n",
              "\n",
              "  <script>\n",
              "    async function quickchart(key) {\n",
              "      const quickchartButtonEl =\n",
              "        document.querySelector('#' + key + ' button');\n",
              "      quickchartButtonEl.disabled = true;  // To prevent multiple clicks.\n",
              "      quickchartButtonEl.classList.add('colab-df-spinner');\n",
              "      try {\n",
              "        const charts = await google.colab.kernel.invokeFunction(\n",
              "            'suggestCharts', [key], {});\n",
              "      } catch (error) {\n",
              "        console.error('Error during call to suggestCharts:', error);\n",
              "      }\n",
              "      quickchartButtonEl.classList.remove('colab-df-spinner');\n",
              "      quickchartButtonEl.classList.add('colab-df-quickchart-complete');\n",
              "    }\n",
              "    (() => {\n",
              "      let quickchartButtonEl =\n",
              "        document.querySelector('#df-1ea6e959-0952-42dd-af03-f73e77bdaa18 button');\n",
              "      quickchartButtonEl.style.display =\n",
              "        google.colab.kernel.accessAllowed ? 'block' : 'none';\n",
              "    })();\n",
              "  </script>\n",
              "</div>\n",
              "\n",
              "    </div>\n",
              "  </div>\n"
            ],
            "application/vnd.google.colaboratory.intrinsic+json": {
              "type": "dataframe",
              "variable_name": "df"
            }
          },
          "metadata": {},
          "execution_count": 18
        }
      ]
    },
    {
      "cell_type": "markdown",
      "metadata": {
        "id": "1g4AHG7mOYgP"
      },
      "source": [
        "**2.1.3** <font color = red>[5 marks]</font> <br>\n",
        "Fix columns with negative (monetary) values"
      ]
    },
    {
      "cell_type": "code",
      "execution_count": 103,
      "metadata": {
        "id": "nBsMT2MII1Hv",
        "colab": {
          "base_uri": "https://localhost:8080/",
          "height": 355
        },
        "outputId": "9841e1d8-d0e9-496f-fcc5-0233425cd331"
      },
      "outputs": [
        {
          "output_type": "execute_result",
          "data": {
            "text/plain": [
              "            VendorID        tpep_pickup_datetime       tpep_dropoff_datetime  \\\n",
              "count  689383.000000                      689383                      689383   \n",
              "mean        1.762277  2023-07-02 02:37:44.302750  2023-07-02 02:54:08.517650   \n",
              "min         1.000000         2023-01-01 23:00:44         2023-01-01 23:08:30   \n",
              "25%         2.000000         2023-04-10 23:12:37         2023-04-10 23:24:59   \n",
              "50%         2.000000         2023-06-12 23:56:06         2023-06-13 00:16:16   \n",
              "75%         2.000000  2023-10-17 23:56:57.500000  2023-10-18 00:16:33.500000   \n",
              "max         6.000000         2023-12-31 23:59:08         2024-01-01 00:44:46   \n",
              "std         0.426914                         NaN                         NaN   \n",
              "\n",
              "       passenger_count  trip_distance     RatecodeID   PULocationID  \\\n",
              "count    660713.000000  689383.000000  660713.000000  689383.000000   \n",
              "mean          1.410914       4.046422       1.188348     156.184980   \n",
              "min           0.000000       0.000000       1.000000       1.000000   \n",
              "25%           1.000000       1.260000       1.000000     114.000000   \n",
              "50%           1.000000       2.260000       1.000000     144.000000   \n",
              "75%           2.000000       4.590000       1.000000     229.000000   \n",
              "max           6.000000      71.100000      99.000000     265.000000   \n",
              "std           0.900089       4.778010       3.256922      62.351322   \n",
              "\n",
              "        DOLocationID   payment_type    fare_amount          extra  \\\n",
              "count  689383.000000  689383.000000  689383.000000  689383.000000   \n",
              "mean      157.855493       1.129265      21.107195       1.729881   \n",
              "min         1.000000       0.000000       0.000000       0.000000   \n",
              "25%        93.000000       1.000000      10.000000       1.000000   \n",
              "50%       161.000000       1.000000      14.900000       1.000000   \n",
              "75%       233.000000       1.000000      24.700000       2.750000   \n",
              "max       265.000000       4.000000     512.000000      10.250000   \n",
              "std        73.872600       0.507642      18.733210       1.618286   \n",
              "\n",
              "          tip_amount  improvement_surcharge   total_amount  \\\n",
              "count  689383.000000          689383.000000  689383.000000   \n",
              "mean        3.790306               0.999315      30.595620   \n",
              "min         0.000000              -1.000000      -3.250000   \n",
              "25%         1.000000               1.000000      16.770000   \n",
              "50%         3.000000               1.000000      22.250000   \n",
              "75%         4.855000               1.000000      34.490000   \n",
              "max       200.000000               1.000000     515.500000   \n",
              "std         4.140304               0.026514      22.800673   \n",
              "\n",
              "       congestion_surcharge  Airport_Fee_Combined  \n",
              "count         660713.000000         689383.000000  \n",
              "mean               2.250728              0.207288  \n",
              "min                0.000000             -1.750000  \n",
              "25%                2.500000              0.000000  \n",
              "50%                2.500000              0.000000  \n",
              "75%                2.500000              0.000000  \n",
              "max                2.500000              1.750000  \n",
              "std                0.749029              0.548874  "
            ],
            "text/html": [
              "\n",
              "  <div id=\"df-0745d327-9b9d-4405-9207-4e76bc44ecde\" class=\"colab-df-container\">\n",
              "    <div>\n",
              "<style scoped>\n",
              "    .dataframe tbody tr th:only-of-type {\n",
              "        vertical-align: middle;\n",
              "    }\n",
              "\n",
              "    .dataframe tbody tr th {\n",
              "        vertical-align: top;\n",
              "    }\n",
              "\n",
              "    .dataframe thead th {\n",
              "        text-align: right;\n",
              "    }\n",
              "</style>\n",
              "<table border=\"1\" class=\"dataframe\">\n",
              "  <thead>\n",
              "    <tr style=\"text-align: right;\">\n",
              "      <th></th>\n",
              "      <th>VendorID</th>\n",
              "      <th>tpep_pickup_datetime</th>\n",
              "      <th>tpep_dropoff_datetime</th>\n",
              "      <th>passenger_count</th>\n",
              "      <th>trip_distance</th>\n",
              "      <th>RatecodeID</th>\n",
              "      <th>PULocationID</th>\n",
              "      <th>DOLocationID</th>\n",
              "      <th>payment_type</th>\n",
              "      <th>fare_amount</th>\n",
              "      <th>extra</th>\n",
              "      <th>tip_amount</th>\n",
              "      <th>improvement_surcharge</th>\n",
              "      <th>total_amount</th>\n",
              "      <th>congestion_surcharge</th>\n",
              "      <th>Airport_Fee_Combined</th>\n",
              "    </tr>\n",
              "  </thead>\n",
              "  <tbody>\n",
              "    <tr>\n",
              "      <th>count</th>\n",
              "      <td>689383.000000</td>\n",
              "      <td>689383</td>\n",
              "      <td>689383</td>\n",
              "      <td>660713.000000</td>\n",
              "      <td>689383.000000</td>\n",
              "      <td>660713.000000</td>\n",
              "      <td>689383.000000</td>\n",
              "      <td>689383.000000</td>\n",
              "      <td>689383.000000</td>\n",
              "      <td>689383.000000</td>\n",
              "      <td>689383.000000</td>\n",
              "      <td>689383.000000</td>\n",
              "      <td>689383.000000</td>\n",
              "      <td>689383.000000</td>\n",
              "      <td>660713.000000</td>\n",
              "      <td>689383.000000</td>\n",
              "    </tr>\n",
              "    <tr>\n",
              "      <th>mean</th>\n",
              "      <td>1.762277</td>\n",
              "      <td>2023-07-02 02:37:44.302750</td>\n",
              "      <td>2023-07-02 02:54:08.517650</td>\n",
              "      <td>1.410914</td>\n",
              "      <td>4.046422</td>\n",
              "      <td>1.188348</td>\n",
              "      <td>156.184980</td>\n",
              "      <td>157.855493</td>\n",
              "      <td>1.129265</td>\n",
              "      <td>21.107195</td>\n",
              "      <td>1.729881</td>\n",
              "      <td>3.790306</td>\n",
              "      <td>0.999315</td>\n",
              "      <td>30.595620</td>\n",
              "      <td>2.250728</td>\n",
              "      <td>0.207288</td>\n",
              "    </tr>\n",
              "    <tr>\n",
              "      <th>min</th>\n",
              "      <td>1.000000</td>\n",
              "      <td>2023-01-01 23:00:44</td>\n",
              "      <td>2023-01-01 23:08:30</td>\n",
              "      <td>0.000000</td>\n",
              "      <td>0.000000</td>\n",
              "      <td>1.000000</td>\n",
              "      <td>1.000000</td>\n",
              "      <td>1.000000</td>\n",
              "      <td>0.000000</td>\n",
              "      <td>0.000000</td>\n",
              "      <td>0.000000</td>\n",
              "      <td>0.000000</td>\n",
              "      <td>-1.000000</td>\n",
              "      <td>-3.250000</td>\n",
              "      <td>0.000000</td>\n",
              "      <td>-1.750000</td>\n",
              "    </tr>\n",
              "    <tr>\n",
              "      <th>25%</th>\n",
              "      <td>2.000000</td>\n",
              "      <td>2023-04-10 23:12:37</td>\n",
              "      <td>2023-04-10 23:24:59</td>\n",
              "      <td>1.000000</td>\n",
              "      <td>1.260000</td>\n",
              "      <td>1.000000</td>\n",
              "      <td>114.000000</td>\n",
              "      <td>93.000000</td>\n",
              "      <td>1.000000</td>\n",
              "      <td>10.000000</td>\n",
              "      <td>1.000000</td>\n",
              "      <td>1.000000</td>\n",
              "      <td>1.000000</td>\n",
              "      <td>16.770000</td>\n",
              "      <td>2.500000</td>\n",
              "      <td>0.000000</td>\n",
              "    </tr>\n",
              "    <tr>\n",
              "      <th>50%</th>\n",
              "      <td>2.000000</td>\n",
              "      <td>2023-06-12 23:56:06</td>\n",
              "      <td>2023-06-13 00:16:16</td>\n",
              "      <td>1.000000</td>\n",
              "      <td>2.260000</td>\n",
              "      <td>1.000000</td>\n",
              "      <td>144.000000</td>\n",
              "      <td>161.000000</td>\n",
              "      <td>1.000000</td>\n",
              "      <td>14.900000</td>\n",
              "      <td>1.000000</td>\n",
              "      <td>3.000000</td>\n",
              "      <td>1.000000</td>\n",
              "      <td>22.250000</td>\n",
              "      <td>2.500000</td>\n",
              "      <td>0.000000</td>\n",
              "    </tr>\n",
              "    <tr>\n",
              "      <th>75%</th>\n",
              "      <td>2.000000</td>\n",
              "      <td>2023-10-17 23:56:57.500000</td>\n",
              "      <td>2023-10-18 00:16:33.500000</td>\n",
              "      <td>2.000000</td>\n",
              "      <td>4.590000</td>\n",
              "      <td>1.000000</td>\n",
              "      <td>229.000000</td>\n",
              "      <td>233.000000</td>\n",
              "      <td>1.000000</td>\n",
              "      <td>24.700000</td>\n",
              "      <td>2.750000</td>\n",
              "      <td>4.855000</td>\n",
              "      <td>1.000000</td>\n",
              "      <td>34.490000</td>\n",
              "      <td>2.500000</td>\n",
              "      <td>0.000000</td>\n",
              "    </tr>\n",
              "    <tr>\n",
              "      <th>max</th>\n",
              "      <td>6.000000</td>\n",
              "      <td>2023-12-31 23:59:08</td>\n",
              "      <td>2024-01-01 00:44:46</td>\n",
              "      <td>6.000000</td>\n",
              "      <td>71.100000</td>\n",
              "      <td>99.000000</td>\n",
              "      <td>265.000000</td>\n",
              "      <td>265.000000</td>\n",
              "      <td>4.000000</td>\n",
              "      <td>512.000000</td>\n",
              "      <td>10.250000</td>\n",
              "      <td>200.000000</td>\n",
              "      <td>1.000000</td>\n",
              "      <td>515.500000</td>\n",
              "      <td>2.500000</td>\n",
              "      <td>1.750000</td>\n",
              "    </tr>\n",
              "    <tr>\n",
              "      <th>std</th>\n",
              "      <td>0.426914</td>\n",
              "      <td>NaN</td>\n",
              "      <td>NaN</td>\n",
              "      <td>0.900089</td>\n",
              "      <td>4.778010</td>\n",
              "      <td>3.256922</td>\n",
              "      <td>62.351322</td>\n",
              "      <td>73.872600</td>\n",
              "      <td>0.507642</td>\n",
              "      <td>18.733210</td>\n",
              "      <td>1.618286</td>\n",
              "      <td>4.140304</td>\n",
              "      <td>0.026514</td>\n",
              "      <td>22.800673</td>\n",
              "      <td>0.749029</td>\n",
              "      <td>0.548874</td>\n",
              "    </tr>\n",
              "  </tbody>\n",
              "</table>\n",
              "</div>\n",
              "    <div class=\"colab-df-buttons\">\n",
              "\n",
              "  <div class=\"colab-df-container\">\n",
              "    <button class=\"colab-df-convert\" onclick=\"convertToInteractive('df-0745d327-9b9d-4405-9207-4e76bc44ecde')\"\n",
              "            title=\"Convert this dataframe to an interactive table.\"\n",
              "            style=\"display:none;\">\n",
              "\n",
              "  <svg xmlns=\"http://www.w3.org/2000/svg\" height=\"24px\" viewBox=\"0 -960 960 960\">\n",
              "    <path d=\"M120-120v-720h720v720H120Zm60-500h600v-160H180v160Zm220 220h160v-160H400v160Zm0 220h160v-160H400v160ZM180-400h160v-160H180v160Zm440 0h160v-160H620v160ZM180-180h160v-160H180v160Zm440 0h160v-160H620v160Z\"/>\n",
              "  </svg>\n",
              "    </button>\n",
              "\n",
              "  <style>\n",
              "    .colab-df-container {\n",
              "      display:flex;\n",
              "      gap: 12px;\n",
              "    }\n",
              "\n",
              "    .colab-df-convert {\n",
              "      background-color: #E8F0FE;\n",
              "      border: none;\n",
              "      border-radius: 50%;\n",
              "      cursor: pointer;\n",
              "      display: none;\n",
              "      fill: #1967D2;\n",
              "      height: 32px;\n",
              "      padding: 0 0 0 0;\n",
              "      width: 32px;\n",
              "    }\n",
              "\n",
              "    .colab-df-convert:hover {\n",
              "      background-color: #E2EBFA;\n",
              "      box-shadow: 0px 1px 2px rgba(60, 64, 67, 0.3), 0px 1px 3px 1px rgba(60, 64, 67, 0.15);\n",
              "      fill: #174EA6;\n",
              "    }\n",
              "\n",
              "    .colab-df-buttons div {\n",
              "      margin-bottom: 4px;\n",
              "    }\n",
              "\n",
              "    [theme=dark] .colab-df-convert {\n",
              "      background-color: #3B4455;\n",
              "      fill: #D2E3FC;\n",
              "    }\n",
              "\n",
              "    [theme=dark] .colab-df-convert:hover {\n",
              "      background-color: #434B5C;\n",
              "      box-shadow: 0px 1px 3px 1px rgba(0, 0, 0, 0.15);\n",
              "      filter: drop-shadow(0px 1px 2px rgba(0, 0, 0, 0.3));\n",
              "      fill: #FFFFFF;\n",
              "    }\n",
              "  </style>\n",
              "\n",
              "    <script>\n",
              "      const buttonEl =\n",
              "        document.querySelector('#df-0745d327-9b9d-4405-9207-4e76bc44ecde button.colab-df-convert');\n",
              "      buttonEl.style.display =\n",
              "        google.colab.kernel.accessAllowed ? 'block' : 'none';\n",
              "\n",
              "      async function convertToInteractive(key) {\n",
              "        const element = document.querySelector('#df-0745d327-9b9d-4405-9207-4e76bc44ecde');\n",
              "        const dataTable =\n",
              "          await google.colab.kernel.invokeFunction('convertToInteractive',\n",
              "                                                    [key], {});\n",
              "        if (!dataTable) return;\n",
              "\n",
              "        const docLinkHtml = 'Like what you see? Visit the ' +\n",
              "          '<a target=\"_blank\" href=https://colab.research.google.com/notebooks/data_table.ipynb>data table notebook</a>'\n",
              "          + ' to learn more about interactive tables.';\n",
              "        element.innerHTML = '';\n",
              "        dataTable['output_type'] = 'display_data';\n",
              "        await google.colab.output.renderOutput(dataTable, element);\n",
              "        const docLink = document.createElement('div');\n",
              "        docLink.innerHTML = docLinkHtml;\n",
              "        element.appendChild(docLink);\n",
              "      }\n",
              "    </script>\n",
              "  </div>\n",
              "\n",
              "\n",
              "<div id=\"df-69c4025c-465e-49ba-aba4-2bedef7f3441\">\n",
              "  <button class=\"colab-df-quickchart\" onclick=\"quickchart('df-69c4025c-465e-49ba-aba4-2bedef7f3441')\"\n",
              "            title=\"Suggest charts\"\n",
              "            style=\"display:none;\">\n",
              "\n",
              "<svg xmlns=\"http://www.w3.org/2000/svg\" height=\"24px\"viewBox=\"0 0 24 24\"\n",
              "     width=\"24px\">\n",
              "    <g>\n",
              "        <path d=\"M19 3H5c-1.1 0-2 .9-2 2v14c0 1.1.9 2 2 2h14c1.1 0 2-.9 2-2V5c0-1.1-.9-2-2-2zM9 17H7v-7h2v7zm4 0h-2V7h2v10zm4 0h-2v-4h2v4z\"/>\n",
              "    </g>\n",
              "</svg>\n",
              "  </button>\n",
              "\n",
              "<style>\n",
              "  .colab-df-quickchart {\n",
              "      --bg-color: #E8F0FE;\n",
              "      --fill-color: #1967D2;\n",
              "      --hover-bg-color: #E2EBFA;\n",
              "      --hover-fill-color: #174EA6;\n",
              "      --disabled-fill-color: #AAA;\n",
              "      --disabled-bg-color: #DDD;\n",
              "  }\n",
              "\n",
              "  [theme=dark] .colab-df-quickchart {\n",
              "      --bg-color: #3B4455;\n",
              "      --fill-color: #D2E3FC;\n",
              "      --hover-bg-color: #434B5C;\n",
              "      --hover-fill-color: #FFFFFF;\n",
              "      --disabled-bg-color: #3B4455;\n",
              "      --disabled-fill-color: #666;\n",
              "  }\n",
              "\n",
              "  .colab-df-quickchart {\n",
              "    background-color: var(--bg-color);\n",
              "    border: none;\n",
              "    border-radius: 50%;\n",
              "    cursor: pointer;\n",
              "    display: none;\n",
              "    fill: var(--fill-color);\n",
              "    height: 32px;\n",
              "    padding: 0;\n",
              "    width: 32px;\n",
              "  }\n",
              "\n",
              "  .colab-df-quickchart:hover {\n",
              "    background-color: var(--hover-bg-color);\n",
              "    box-shadow: 0 1px 2px rgba(60, 64, 67, 0.3), 0 1px 3px 1px rgba(60, 64, 67, 0.15);\n",
              "    fill: var(--button-hover-fill-color);\n",
              "  }\n",
              "\n",
              "  .colab-df-quickchart-complete:disabled,\n",
              "  .colab-df-quickchart-complete:disabled:hover {\n",
              "    background-color: var(--disabled-bg-color);\n",
              "    fill: var(--disabled-fill-color);\n",
              "    box-shadow: none;\n",
              "  }\n",
              "\n",
              "  .colab-df-spinner {\n",
              "    border: 2px solid var(--fill-color);\n",
              "    border-color: transparent;\n",
              "    border-bottom-color: var(--fill-color);\n",
              "    animation:\n",
              "      spin 1s steps(1) infinite;\n",
              "  }\n",
              "\n",
              "  @keyframes spin {\n",
              "    0% {\n",
              "      border-color: transparent;\n",
              "      border-bottom-color: var(--fill-color);\n",
              "      border-left-color: var(--fill-color);\n",
              "    }\n",
              "    20% {\n",
              "      border-color: transparent;\n",
              "      border-left-color: var(--fill-color);\n",
              "      border-top-color: var(--fill-color);\n",
              "    }\n",
              "    30% {\n",
              "      border-color: transparent;\n",
              "      border-left-color: var(--fill-color);\n",
              "      border-top-color: var(--fill-color);\n",
              "      border-right-color: var(--fill-color);\n",
              "    }\n",
              "    40% {\n",
              "      border-color: transparent;\n",
              "      border-right-color: var(--fill-color);\n",
              "      border-top-color: var(--fill-color);\n",
              "    }\n",
              "    60% {\n",
              "      border-color: transparent;\n",
              "      border-right-color: var(--fill-color);\n",
              "    }\n",
              "    80% {\n",
              "      border-color: transparent;\n",
              "      border-right-color: var(--fill-color);\n",
              "      border-bottom-color: var(--fill-color);\n",
              "    }\n",
              "    90% {\n",
              "      border-color: transparent;\n",
              "      border-bottom-color: var(--fill-color);\n",
              "    }\n",
              "  }\n",
              "</style>\n",
              "\n",
              "  <script>\n",
              "    async function quickchart(key) {\n",
              "      const quickchartButtonEl =\n",
              "        document.querySelector('#' + key + ' button');\n",
              "      quickchartButtonEl.disabled = true;  // To prevent multiple clicks.\n",
              "      quickchartButtonEl.classList.add('colab-df-spinner');\n",
              "      try {\n",
              "        const charts = await google.colab.kernel.invokeFunction(\n",
              "            'suggestCharts', [key], {});\n",
              "      } catch (error) {\n",
              "        console.error('Error during call to suggestCharts:', error);\n",
              "      }\n",
              "      quickchartButtonEl.classList.remove('colab-df-spinner');\n",
              "      quickchartButtonEl.classList.add('colab-df-quickchart-complete');\n",
              "    }\n",
              "    (() => {\n",
              "      let quickchartButtonEl =\n",
              "        document.querySelector('#df-69c4025c-465e-49ba-aba4-2bedef7f3441 button');\n",
              "      quickchartButtonEl.style.display =\n",
              "        google.colab.kernel.accessAllowed ? 'block' : 'none';\n",
              "    })();\n",
              "  </script>\n",
              "</div>\n",
              "\n",
              "    </div>\n",
              "  </div>\n"
            ],
            "application/vnd.google.colaboratory.intrinsic+json": {
              "type": "dataframe",
              "summary": "{\n  \"name\": \"df\",\n  \"rows\": 8,\n  \"fields\": [\n    {\n      \"column\": \"VendorID\",\n      \"properties\": {\n        \"dtype\": \"number\",\n        \"std\": 243732.92990303162,\n        \"min\": 0.426913695628066,\n        \"max\": 689383.0,\n        \"num_unique_values\": 6,\n        \"samples\": [\n          689383.0,\n          1.7622772827296294,\n          0.426913695628066\n        ],\n        \"semantic_type\": \"\",\n        \"description\": \"\"\n      }\n    },\n    {\n      \"column\": \"tpep_pickup_datetime\",\n      \"properties\": {\n        \"dtype\": \"date\",\n        \"min\": \"1970-01-01 00:00:00.000689383\",\n        \"max\": \"2023-12-31 23:59:08\",\n        \"num_unique_values\": 7,\n        \"samples\": [\n          \"689383\",\n          \"2023-07-02 02:37:44.302750\",\n          \"2023-10-17 23:56:57.500000\"\n        ],\n        \"semantic_type\": \"\",\n        \"description\": \"\"\n      }\n    },\n    {\n      \"column\": \"tpep_dropoff_datetime\",\n      \"properties\": {\n        \"dtype\": \"date\",\n        \"min\": \"1970-01-01 00:00:00.000689383\",\n        \"max\": \"2024-01-01 00:44:46\",\n        \"num_unique_values\": 7,\n        \"samples\": [\n          \"689383\",\n          \"2023-07-02 02:54:08.517650\",\n          \"2023-10-18 00:16:33.500000\"\n        ],\n        \"semantic_type\": \"\",\n        \"description\": \"\"\n      }\n    },\n    {\n      \"column\": \"passenger_count\",\n      \"properties\": {\n        \"dtype\": \"number\",\n        \"std\": 233596.69956659828,\n        \"min\": 0.0,\n        \"max\": 660713.0,\n        \"num_unique_values\": 7,\n        \"samples\": [\n          660713.0,\n          1.4109136644806444,\n          6.0\n        ],\n        \"semantic_type\": \"\",\n        \"description\": \"\"\n      }\n    },\n    {\n      \"column\": \"trip_distance\",\n      \"properties\": {\n        \"dtype\": \"number\",\n        \"std\": 243729.2518337548,\n        \"min\": 0.0,\n        \"max\": 689383.0,\n        \"num_unique_values\": 8,\n        \"samples\": [\n          4.046422293558151,\n          4.59,\n          689383.0\n        ],\n        \"semantic_type\": \"\",\n        \"description\": \"\"\n      }\n    },\n    {\n      \"column\": \"RatecodeID\",\n      \"properties\": {\n        \"dtype\": \"number\",\n        \"std\": 233591.89705096933,\n        \"min\": 1.0,\n        \"max\": 660713.0,\n        \"num_unique_values\": 5,\n        \"samples\": [\n          1.1883480421907848,\n          3.2569223819348627,\n          1.0\n        ],\n        \"semantic_type\": \"\",\n        \"description\": \"\"\n      }\n    },\n    {\n      \"column\": \"PULocationID\",\n      \"properties\": {\n        \"dtype\": \"number\",\n        \"std\": 243684.6416830376,\n        \"min\": 1.0,\n        \"max\": 689383.0,\n        \"num_unique_values\": 8,\n        \"samples\": [\n          156.18497990231845,\n          229.0,\n          689383.0\n        ],\n        \"semantic_type\": \"\",\n        \"description\": \"\"\n      }\n    },\n    {\n      \"column\": \"DOLocationID\",\n      \"properties\": {\n        \"dtype\": \"number\",\n        \"std\": 243683.9757175485,\n        \"min\": 1.0,\n        \"max\": 689383.0,\n        \"num_unique_values\": 8,\n        \"samples\": [\n          157.85549252012308,\n          233.0,\n          689383.0\n        ],\n        \"semantic_type\": \"\",\n        \"description\": \"\"\n      }\n    },\n    {\n      \"column\": \"payment_type\",\n      \"properties\": {\n        \"dtype\": \"number\",\n        \"std\": 243733.26084059913,\n        \"min\": 0.0,\n        \"max\": 689383.0,\n        \"num_unique_values\": 6,\n        \"samples\": [\n          689383.0,\n          1.129264864378727,\n          0.5076417183596316\n        ],\n        \"semantic_type\": \"\",\n        \"description\": \"\"\n      }\n    },\n    {\n      \"column\": \"fare_amount\",\n      \"properties\": {\n        \"dtype\": \"number\",\n        \"std\": 243703.3819337207,\n        \"min\": 0.0,\n        \"max\": 689383.0,\n        \"num_unique_values\": 8,\n        \"samples\": [\n          21.10719481043194,\n          24.7,\n          689383.0\n        ],\n        \"semantic_type\": \"\",\n        \"description\": \"\"\n      }\n    },\n    {\n      \"column\": \"extra\",\n      \"properties\": {\n        \"dtype\": \"number\",\n        \"std\": 243732.7703661102,\n        \"min\": 0.0,\n        \"max\": 689383.0,\n        \"num_unique_values\": 7,\n        \"samples\": [\n          689383.0,\n          1.72988099503469,\n          10.25\n        ],\n        \"semantic_type\": \"\",\n        \"description\": \"\"\n      }\n    },\n    {\n      \"column\": \"tip_amount\",\n      \"properties\": {\n        \"dtype\": \"number\",\n        \"std\": 243722.75751500003,\n        \"min\": 0.0,\n        \"max\": 689383.0,\n        \"num_unique_values\": 8,\n        \"samples\": [\n          3.7903055485847488,\n          4.855,\n          689383.0\n        ],\n        \"semantic_type\": \"\",\n        \"description\": \"\"\n      }\n    },\n    {\n      \"column\": \"improvement_surcharge\",\n      \"properties\": {\n        \"dtype\": \"number\",\n        \"std\": 243733.49373333988,\n        \"min\": -1.0,\n        \"max\": 689383.0,\n        \"num_unique_values\": 5,\n        \"samples\": [\n          0.9993151847376569,\n          0.026514452244968238,\n          -1.0\n        ],\n        \"semantic_type\": \"\",\n        \"description\": \"\"\n      }\n    },\n    {\n      \"column\": \"total_amount\",\n      \"properties\": {\n        \"dtype\": \"number\",\n        \"std\": 243701.47658844313,\n        \"min\": -3.25,\n        \"max\": 689383.0,\n        \"num_unique_values\": 8,\n        \"samples\": [\n          30.595620460614782,\n          34.49,\n          689383.0\n        ],\n        \"semantic_type\": \"\",\n        \"description\": \"\"\n      }\n    },\n    {\n      \"column\": \"congestion_surcharge\",\n      \"properties\": {\n        \"dtype\": \"number\",\n        \"std\": 233596.66477415382,\n        \"min\": 0.0,\n        \"max\": 660713.0,\n        \"num_unique_values\": 5,\n        \"samples\": [\n          2.2507276230375366,\n          0.7490294210763506,\n          0.0\n        ],\n        \"semantic_type\": \"\",\n        \"description\": \"\"\n      }\n    },\n    {\n      \"column\": \"Airport_Fee_Combined\",\n      \"properties\": {\n        \"dtype\": \"number\",\n        \"std\": 243733.65887727297,\n        \"min\": -1.75,\n        \"max\": 689383.0,\n        \"num_unique_values\": 6,\n        \"samples\": [\n          689383.0,\n          0.20728789366723577,\n          0.5488743720088666\n        ],\n        \"semantic_type\": \"\",\n        \"description\": \"\"\n      }\n    }\n  ]\n}"
            }
          },
          "metadata": {},
          "execution_count": 103
        }
      ],
      "source": [
        "# check where values of fare amount are negative\n",
        "df.describe()\n"
      ]
    },
    {
      "cell_type": "code",
      "source": [
        "pd.DataFrame({\n",
        "    'Column': df.columns.values,\n",
        "    'Negative-Value(%)': [len(df[col][df[col] < 0]) / len(df) * 100 if col in df.select_dtypes(include=[np.number]).columns else 0 for col in df.columns]\n",
        "}).round(3)"
      ],
      "metadata": {
        "colab": {
          "base_uri": "https://localhost:8080/",
          "height": 859
        },
        "id": "Q5xWl24xLtjj",
        "outputId": "da07198c-82d5-4004-ff0e-a6063ed9e172"
      },
      "execution_count": 27,
      "outputs": [
        {
          "output_type": "execute_result",
          "data": {
            "text/plain": [
              "                   Column  Negative-Value(%)\n",
              "0                VendorID              0.000\n",
              "1    tpep_pickup_datetime              0.000\n",
              "2   tpep_dropoff_datetime              0.000\n",
              "3         passenger_count              0.000\n",
              "4           trip_distance              0.000\n",
              "5              RatecodeID              0.000\n",
              "6            PULocationID              0.000\n",
              "7            DOLocationID              0.000\n",
              "8            payment_type              0.000\n",
              "9             fare_amount              0.000\n",
              "10                  extra              0.000\n",
              "11             tip_amount              0.000\n",
              "12  improvement_surcharge              0.005\n",
              "13           total_amount              0.005\n",
              "14   congestion_surcharge              0.000\n",
              "15   Airport_Fee_Combined              0.004"
            ],
            "text/html": [
              "\n",
              "  <div id=\"df-1596bc9e-e2d0-4717-a6c3-c156718c615c\" class=\"colab-df-container\">\n",
              "    <div>\n",
              "<style scoped>\n",
              "    .dataframe tbody tr th:only-of-type {\n",
              "        vertical-align: middle;\n",
              "    }\n",
              "\n",
              "    .dataframe tbody tr th {\n",
              "        vertical-align: top;\n",
              "    }\n",
              "\n",
              "    .dataframe thead th {\n",
              "        text-align: right;\n",
              "    }\n",
              "</style>\n",
              "<table border=\"1\" class=\"dataframe\">\n",
              "  <thead>\n",
              "    <tr style=\"text-align: right;\">\n",
              "      <th></th>\n",
              "      <th>Column</th>\n",
              "      <th>Negative-Value(%)</th>\n",
              "    </tr>\n",
              "  </thead>\n",
              "  <tbody>\n",
              "    <tr>\n",
              "      <th>0</th>\n",
              "      <td>VendorID</td>\n",
              "      <td>0.000</td>\n",
              "    </tr>\n",
              "    <tr>\n",
              "      <th>1</th>\n",
              "      <td>tpep_pickup_datetime</td>\n",
              "      <td>0.000</td>\n",
              "    </tr>\n",
              "    <tr>\n",
              "      <th>2</th>\n",
              "      <td>tpep_dropoff_datetime</td>\n",
              "      <td>0.000</td>\n",
              "    </tr>\n",
              "    <tr>\n",
              "      <th>3</th>\n",
              "      <td>passenger_count</td>\n",
              "      <td>0.000</td>\n",
              "    </tr>\n",
              "    <tr>\n",
              "      <th>4</th>\n",
              "      <td>trip_distance</td>\n",
              "      <td>0.000</td>\n",
              "    </tr>\n",
              "    <tr>\n",
              "      <th>5</th>\n",
              "      <td>RatecodeID</td>\n",
              "      <td>0.000</td>\n",
              "    </tr>\n",
              "    <tr>\n",
              "      <th>6</th>\n",
              "      <td>PULocationID</td>\n",
              "      <td>0.000</td>\n",
              "    </tr>\n",
              "    <tr>\n",
              "      <th>7</th>\n",
              "      <td>DOLocationID</td>\n",
              "      <td>0.000</td>\n",
              "    </tr>\n",
              "    <tr>\n",
              "      <th>8</th>\n",
              "      <td>payment_type</td>\n",
              "      <td>0.000</td>\n",
              "    </tr>\n",
              "    <tr>\n",
              "      <th>9</th>\n",
              "      <td>fare_amount</td>\n",
              "      <td>0.000</td>\n",
              "    </tr>\n",
              "    <tr>\n",
              "      <th>10</th>\n",
              "      <td>extra</td>\n",
              "      <td>0.000</td>\n",
              "    </tr>\n",
              "    <tr>\n",
              "      <th>11</th>\n",
              "      <td>tip_amount</td>\n",
              "      <td>0.000</td>\n",
              "    </tr>\n",
              "    <tr>\n",
              "      <th>12</th>\n",
              "      <td>improvement_surcharge</td>\n",
              "      <td>0.005</td>\n",
              "    </tr>\n",
              "    <tr>\n",
              "      <th>13</th>\n",
              "      <td>total_amount</td>\n",
              "      <td>0.005</td>\n",
              "    </tr>\n",
              "    <tr>\n",
              "      <th>14</th>\n",
              "      <td>congestion_surcharge</td>\n",
              "      <td>0.000</td>\n",
              "    </tr>\n",
              "    <tr>\n",
              "      <th>15</th>\n",
              "      <td>Airport_Fee_Combined</td>\n",
              "      <td>0.004</td>\n",
              "    </tr>\n",
              "  </tbody>\n",
              "</table>\n",
              "</div>\n",
              "    <div class=\"colab-df-buttons\">\n",
              "\n",
              "  <div class=\"colab-df-container\">\n",
              "    <button class=\"colab-df-convert\" onclick=\"convertToInteractive('df-1596bc9e-e2d0-4717-a6c3-c156718c615c')\"\n",
              "            title=\"Convert this dataframe to an interactive table.\"\n",
              "            style=\"display:none;\">\n",
              "\n",
              "  <svg xmlns=\"http://www.w3.org/2000/svg\" height=\"24px\" viewBox=\"0 -960 960 960\">\n",
              "    <path d=\"M120-120v-720h720v720H120Zm60-500h600v-160H180v160Zm220 220h160v-160H400v160Zm0 220h160v-160H400v160ZM180-400h160v-160H180v160Zm440 0h160v-160H620v160ZM180-180h160v-160H180v160Zm440 0h160v-160H620v160Z\"/>\n",
              "  </svg>\n",
              "    </button>\n",
              "\n",
              "  <style>\n",
              "    .colab-df-container {\n",
              "      display:flex;\n",
              "      gap: 12px;\n",
              "    }\n",
              "\n",
              "    .colab-df-convert {\n",
              "      background-color: #E8F0FE;\n",
              "      border: none;\n",
              "      border-radius: 50%;\n",
              "      cursor: pointer;\n",
              "      display: none;\n",
              "      fill: #1967D2;\n",
              "      height: 32px;\n",
              "      padding: 0 0 0 0;\n",
              "      width: 32px;\n",
              "    }\n",
              "\n",
              "    .colab-df-convert:hover {\n",
              "      background-color: #E2EBFA;\n",
              "      box-shadow: 0px 1px 2px rgba(60, 64, 67, 0.3), 0px 1px 3px 1px rgba(60, 64, 67, 0.15);\n",
              "      fill: #174EA6;\n",
              "    }\n",
              "\n",
              "    .colab-df-buttons div {\n",
              "      margin-bottom: 4px;\n",
              "    }\n",
              "\n",
              "    [theme=dark] .colab-df-convert {\n",
              "      background-color: #3B4455;\n",
              "      fill: #D2E3FC;\n",
              "    }\n",
              "\n",
              "    [theme=dark] .colab-df-convert:hover {\n",
              "      background-color: #434B5C;\n",
              "      box-shadow: 0px 1px 3px 1px rgba(0, 0, 0, 0.15);\n",
              "      filter: drop-shadow(0px 1px 2px rgba(0, 0, 0, 0.3));\n",
              "      fill: #FFFFFF;\n",
              "    }\n",
              "  </style>\n",
              "\n",
              "    <script>\n",
              "      const buttonEl =\n",
              "        document.querySelector('#df-1596bc9e-e2d0-4717-a6c3-c156718c615c button.colab-df-convert');\n",
              "      buttonEl.style.display =\n",
              "        google.colab.kernel.accessAllowed ? 'block' : 'none';\n",
              "\n",
              "      async function convertToInteractive(key) {\n",
              "        const element = document.querySelector('#df-1596bc9e-e2d0-4717-a6c3-c156718c615c');\n",
              "        const dataTable =\n",
              "          await google.colab.kernel.invokeFunction('convertToInteractive',\n",
              "                                                    [key], {});\n",
              "        if (!dataTable) return;\n",
              "\n",
              "        const docLinkHtml = 'Like what you see? Visit the ' +\n",
              "          '<a target=\"_blank\" href=https://colab.research.google.com/notebooks/data_table.ipynb>data table notebook</a>'\n",
              "          + ' to learn more about interactive tables.';\n",
              "        element.innerHTML = '';\n",
              "        dataTable['output_type'] = 'display_data';\n",
              "        await google.colab.output.renderOutput(dataTable, element);\n",
              "        const docLink = document.createElement('div');\n",
              "        docLink.innerHTML = docLinkHtml;\n",
              "        element.appendChild(docLink);\n",
              "      }\n",
              "    </script>\n",
              "  </div>\n",
              "\n",
              "\n",
              "<div id=\"df-266033f8-83f8-4af0-b4b4-433600ca5c1b\">\n",
              "  <button class=\"colab-df-quickchart\" onclick=\"quickchart('df-266033f8-83f8-4af0-b4b4-433600ca5c1b')\"\n",
              "            title=\"Suggest charts\"\n",
              "            style=\"display:none;\">\n",
              "\n",
              "<svg xmlns=\"http://www.w3.org/2000/svg\" height=\"24px\"viewBox=\"0 0 24 24\"\n",
              "     width=\"24px\">\n",
              "    <g>\n",
              "        <path d=\"M19 3H5c-1.1 0-2 .9-2 2v14c0 1.1.9 2 2 2h14c1.1 0 2-.9 2-2V5c0-1.1-.9-2-2-2zM9 17H7v-7h2v7zm4 0h-2V7h2v10zm4 0h-2v-4h2v4z\"/>\n",
              "    </g>\n",
              "</svg>\n",
              "  </button>\n",
              "\n",
              "<style>\n",
              "  .colab-df-quickchart {\n",
              "      --bg-color: #E8F0FE;\n",
              "      --fill-color: #1967D2;\n",
              "      --hover-bg-color: #E2EBFA;\n",
              "      --hover-fill-color: #174EA6;\n",
              "      --disabled-fill-color: #AAA;\n",
              "      --disabled-bg-color: #DDD;\n",
              "  }\n",
              "\n",
              "  [theme=dark] .colab-df-quickchart {\n",
              "      --bg-color: #3B4455;\n",
              "      --fill-color: #D2E3FC;\n",
              "      --hover-bg-color: #434B5C;\n",
              "      --hover-fill-color: #FFFFFF;\n",
              "      --disabled-bg-color: #3B4455;\n",
              "      --disabled-fill-color: #666;\n",
              "  }\n",
              "\n",
              "  .colab-df-quickchart {\n",
              "    background-color: var(--bg-color);\n",
              "    border: none;\n",
              "    border-radius: 50%;\n",
              "    cursor: pointer;\n",
              "    display: none;\n",
              "    fill: var(--fill-color);\n",
              "    height: 32px;\n",
              "    padding: 0;\n",
              "    width: 32px;\n",
              "  }\n",
              "\n",
              "  .colab-df-quickchart:hover {\n",
              "    background-color: var(--hover-bg-color);\n",
              "    box-shadow: 0 1px 2px rgba(60, 64, 67, 0.3), 0 1px 3px 1px rgba(60, 64, 67, 0.15);\n",
              "    fill: var(--button-hover-fill-color);\n",
              "  }\n",
              "\n",
              "  .colab-df-quickchart-complete:disabled,\n",
              "  .colab-df-quickchart-complete:disabled:hover {\n",
              "    background-color: var(--disabled-bg-color);\n",
              "    fill: var(--disabled-fill-color);\n",
              "    box-shadow: none;\n",
              "  }\n",
              "\n",
              "  .colab-df-spinner {\n",
              "    border: 2px solid var(--fill-color);\n",
              "    border-color: transparent;\n",
              "    border-bottom-color: var(--fill-color);\n",
              "    animation:\n",
              "      spin 1s steps(1) infinite;\n",
              "  }\n",
              "\n",
              "  @keyframes spin {\n",
              "    0% {\n",
              "      border-color: transparent;\n",
              "      border-bottom-color: var(--fill-color);\n",
              "      border-left-color: var(--fill-color);\n",
              "    }\n",
              "    20% {\n",
              "      border-color: transparent;\n",
              "      border-left-color: var(--fill-color);\n",
              "      border-top-color: var(--fill-color);\n",
              "    }\n",
              "    30% {\n",
              "      border-color: transparent;\n",
              "      border-left-color: var(--fill-color);\n",
              "      border-top-color: var(--fill-color);\n",
              "      border-right-color: var(--fill-color);\n",
              "    }\n",
              "    40% {\n",
              "      border-color: transparent;\n",
              "      border-right-color: var(--fill-color);\n",
              "      border-top-color: var(--fill-color);\n",
              "    }\n",
              "    60% {\n",
              "      border-color: transparent;\n",
              "      border-right-color: var(--fill-color);\n",
              "    }\n",
              "    80% {\n",
              "      border-color: transparent;\n",
              "      border-right-color: var(--fill-color);\n",
              "      border-bottom-color: var(--fill-color);\n",
              "    }\n",
              "    90% {\n",
              "      border-color: transparent;\n",
              "      border-bottom-color: var(--fill-color);\n",
              "    }\n",
              "  }\n",
              "</style>\n",
              "\n",
              "  <script>\n",
              "    async function quickchart(key) {\n",
              "      const quickchartButtonEl =\n",
              "        document.querySelector('#' + key + ' button');\n",
              "      quickchartButtonEl.disabled = true;  // To prevent multiple clicks.\n",
              "      quickchartButtonEl.classList.add('colab-df-spinner');\n",
              "      try {\n",
              "        const charts = await google.colab.kernel.invokeFunction(\n",
              "            'suggestCharts', [key], {});\n",
              "      } catch (error) {\n",
              "        console.error('Error during call to suggestCharts:', error);\n",
              "      }\n",
              "      quickchartButtonEl.classList.remove('colab-df-spinner');\n",
              "      quickchartButtonEl.classList.add('colab-df-quickchart-complete');\n",
              "    }\n",
              "    (() => {\n",
              "      let quickchartButtonEl =\n",
              "        document.querySelector('#df-266033f8-83f8-4af0-b4b4-433600ca5c1b button');\n",
              "      quickchartButtonEl.style.display =\n",
              "        google.colab.kernel.accessAllowed ? 'block' : 'none';\n",
              "    })();\n",
              "  </script>\n",
              "</div>\n",
              "\n",
              "    </div>\n",
              "  </div>\n"
            ],
            "application/vnd.google.colaboratory.intrinsic+json": {
              "type": "dataframe",
              "summary": "{\n  \"name\": \"})\",\n  \"rows\": 16,\n  \"fields\": [\n    {\n      \"column\": \"Column\",\n      \"properties\": {\n        \"dtype\": \"string\",\n        \"num_unique_values\": 16,\n        \"samples\": [\n          \"VendorID\",\n          \"tpep_pickup_datetime\",\n          \"RatecodeID\"\n        ],\n        \"semantic_type\": \"\",\n        \"description\": \"\"\n      }\n    },\n    {\n      \"column\": \"Negative-Value(%)\",\n      \"properties\": {\n        \"dtype\": \"number\",\n        \"std\": 0.0018929694486000913,\n        \"min\": 0.0,\n        \"max\": 0.005,\n        \"num_unique_values\": 3,\n        \"samples\": [\n          0.0,\n          0.005,\n          0.004\n        ],\n        \"semantic_type\": \"\",\n        \"description\": \"\"\n      }\n    }\n  ]\n}"
            }
          },
          "metadata": {},
          "execution_count": 27
        },
        {
          "output_type": "display_data",
          "data": {
            "text/plain": [
              "<google.colab._quickchart_helpers.SectionTitle at 0x7918cc0d3cd0>"
            ],
            "text/html": [
              "<h4 class=\"colab-quickchart-section-title\">Distributions</h4>\n",
              "<style>\n",
              "  .colab-quickchart-section-title {\n",
              "      clear: both;\n",
              "  }\n",
              "</style>"
            ]
          },
          "metadata": {}
        },
        {
          "output_type": "display_data",
          "data": {
            "text/plain": [
              "from matplotlib import pyplot as plt\n",
              "_df_0['Negative-Value(%)'].plot(kind='hist', bins=20, title='Negative-Value(%)')\n",
              "plt.gca().spines[['top', 'right',]].set_visible(False)"
            ],
            "text/html": [
              "      <div class=\"colab-quickchart-chart-with-code\" id=\"chart-ee5c427e-643f-4dbd-94f9-d1e41c18b660\">\n",
              "        <img style=\"width: 180px;\" src=\"data:image/png;base64,iVBORw0KGgoAAAANSUhEUgAAAicAAAGrCAYAAAAbyjfjAAAAOnRFWHRTb2Z0d2FyZQBNYXRwbG90\n",
              "bGliIHZlcnNpb24zLjEwLjAsIGh0dHBzOi8vbWF0cGxvdGxpYi5vcmcvlHJYcgAAAAlwSFlzAAAP\n",
              "YQAAD2EBqD+naQAAIuJJREFUeJzt3XlwFHXex/HPJMEBBHJySQiRK9wJCYQsIIKICB4JyOqiKIgI\n",
              "CyhYpESCWhyyhLUUuRYJR4EuihdBSxBwUVBUJHKIoGtCAiEgIAiSIEJIJv38QTkPY3BlYI4fyftV\n",
              "NVWmp+3+zq/c7Lt6OjM2y7IsAQAAGCLA3wMAAABcjDgBAABGIU4AAIBRiBMAAGAU4gQAABiFOAEA\n",
              "AEYhTgAAgFGIEwAAYBTiBAAAGIU4AXBFXnvtNcXExPh7jD+Un58vm82m3Nxcjx43Ly9PN954o375\n",
              "5ZcrPsbjjz+uyZMne24ooIIhTgCDde/eXTabTe+//77L9kGDBmnIkCE+neOZZ55x2fbAAw8oOzvb\n",
              "K+ebPXu26tatq/Pnz5d7bt26dapSpYp++OEHr5z7zzz55JMaO3asatSoIUnKyclRYmKiQkJCNGDA\n",
              "AP3666/OffPz89WkSRMdO3bM5RjPPvusZs2a5bfXAJiOOAEMFxERodTU1Ev+H3VFNXjwYP3yyy/K\n",
              "zMws99zLL7+su+++Ww0aNPD5XHl5eVq3bp0GDx7s3Pbkk09q4MCBOn78uEpKSpSRkSFJsixLDz/8\n",
              "sJ5//nnVqVPH5Th16tTRbbfdpvnz5/t0fuBaQZwAhhsyZIjKyso0Z86cSz5/7tw5TZw4UU2aNFFo\n",
              "aKi6deumnTt3Op8vKSlRamqq6tWrp9q1aystLU1du3Z1eVth+PDhio6OVo0aNXTjjTdq0qRJKisr\n",
              "kyT9/e9/1+bNm/X888+rRo0azisGy5YtU2RkpCTpww8/VK1atXTmzBmX2dq1a6eZM2de1pwXCwkJ\n",
              "0cCBA/Xyyy+7bD948KDWrFmjUaNGac+ePerZs6dq166t4OBgderUSR9//PEfruPkyZPVtWvXcms7\n",
              "aNAg58+nTp3SyJEj1ahRI4WHh6tv377at2+f8/lVq1YpISFBoaGhzm179+5V3759VaVKFfXp00d7\n",
              "9+6VJM2ZM0c33HCD7rnnnkvOc/vtt18yvgAQJ4Dx7Ha7XnjhBT333HPl3h6QLsRDVlaWPvnkEx0/\n",
              "flz33nuvevfurVOnTkmS0tPT9e677+qTTz7RoUOHZLfbtXXrVpdjJCYmauvWrTp9+rRWrFihefPm\n",
              "adGiRZKkBQsW6KabbtL48eP1yy+/XPJei1tvvVVhYWF6++23ndu2bt2q7OxsPfTQQ5c15++NGjVK\n",
              "n376qb777jvntkWLFqlp06bq2bOnJGnChAkqKCjQsWPH1KdPH/Xr1++Sa3Q5LMtSv379VFRUpJ07\n",
              "d+rw4cNq27at7rzzTpWUlEiStm3bpjZt2rj8e7GxsXr//fdVXFystWvXKi4uTjk5OZo3b57mzZv3\n",
              "h+dr166dvv/++6u6dwWoqIgT4BqQkpKiDh06aOLEiS7bT5w4oVdeeUX/+te/FBkZqaCgID322GMK\n",
              "Dg7W6tWrJUmvvvqqUlNTFRMTI7vdrmeffVZhYWEuxxk2bJjq1q0rm82mpKQkDRo0SB9++OFlzxcQ\n",
              "EKChQ4dq8eLFzm2LFy9WcnKyIiIiLmvO34uPj1enTp20YMECSVJpaakWL16skSNHSpLatGmjXr16\n",
              "qVq1arLb7Zo8ebJsNlu58LpcO3fu1Oeff66MjAyFhYXJbrdr+vTp2r9/v/OYJ0+eVHBwsMu/9+KL\n",
              "L+rLL79Uhw4d1LhxYz300EMaMmSIZs+erZycHPXq1Uvdu3fXK6+84vLv/XackydPXtG8QEUW5O8B\n",
              "AFye2bNnKyEhQaNHj3Zu++0vUTp16uSy7/nz53Xo0CFJ0g8//KBGjRo5nwsMDFTDhg2dP1uWpenT\n",
              "p+v111/X4cOHZVmWzp07p44dO7o139ChQzV16lRlZ2crMjJSb775pt55553LmrOgoECtWrVybs/I\n",
              "yNADDzygkSNH6oknntCMGTO0du1aFRYWOu/3KCgo0Pjx4/XFF1/o1KlTCggIUFFR0RVfOdm7d69K\n",
              "S0udb1Vd7ODBg5KksLAwFRYWujx3ww03OF+nJM2YMUOtWrVSnz59FB0drfXr1ysyMlLx8fH6y1/+\n",
              "oubNm0uS8zi/D0UAxAlwzWjTpo2GDRumsWPHKioqSpJUr149SdI333zj3PZ7DRo00IEDB5w/l5WV\n",
              "OcNFkt544w3NmjVL69atU1xcnAIDAzV27Fht377duU9AwJ9fZI2MjNRtt92mxYsXq0WLFgoLC9Ot\n",
              "t9562XNe6u2N++67T6mpqVqxYoVWrFihgQMHKiQkRJL06KOPKjg4WF999ZXq1q0ry7IUGhoqy7Iu\n",
              "efyaNWuWuyfm8OHDzptV69Wrp+uuu07Hjx9XlSpVLnmMhISEcn85dbE9e/Zo6dKl2rZtm44fP67z\n",
              "58+rRYsWki5cCdq1a5czTnbv3q2YmBjnPTwA/h9v6wDXkKlTp2rPnj1av369JKlRo0ZKSUnR6NGj\n",
              "nQFy+vRprV27VkeOHJEkPfjgg3rppZeUk5Oj8+fPa9q0aTpx4oTzmIWFhQoKClKdOnVks9m0ceNG\n",
              "LV++3OW89erVU05Ozp/ON2zYML366qvKyMjQ0KFDnVFzOXNeStWqVfXwww/rH//4hz7++GONGjXK\n",
              "Ze4aNWooNDRUZ86cUVpa2v+8f6NDhw7avXu3PvvsMzkcDr399tv69NNPnc937dpVbdq00ciRI51X\n",
              "X37++WetXLnS+efBKSkp2rZt2yXvkykpKdHgwYO1YMEC1axZU+Hh4SopKVFWVpZ++uknbdmyRU2b\n",
              "NnXuv27dOvXr1+9P1xSojIgT4BoSHh6uyZMn66effnJue/3115WQkKBevXqpZs2aiomJ0aJFi5xX\n",
              "ENLS0nTHHXfopptuUoMGDXT27Fm1b99eVatWlXThL1Z69uyptm3bKiIiQgsWLHD5CxZJSk1NVXZ2\n",
              "tkJDQ51XLi7lrrvuks1m0/bt2zV06FCX5/5szj8ycuRI5efnKzExUfHx8c7tc+bM0a5duxQaGqpW\n",
              "rVqpQYMGl3xL5jc333yzJk6cqP79+6t27dratGmTy1/SBAYG6j//+Y+qV6+uTp06qWbNmoqNjdWq\n",
              "Vatks9kkSc2aNdNtt92mZcuWlTv+tGnT1KVLF/Xo0cN5vKVLl+qvf/2rWrRooaFDh6p9+/aSpOPH\n",
              "j2v9+vUub9EB+H82689+MwCoUEpLS1W/fn3NmTNHAwcO9Pc415y8vDz17NlTe/bsueK3ZMaMGaPQ\n",
              "0FBNmTLFw9MBFQNxAlRwp0+f1qZNm9S7d2+dP39ekyZN0rJly5SXl/c/r4IAgL/wtg5QwZWVlem5\n",
              "555TRESEGjRooKysLH3wwQeECQBjceUEAAAYhSsnAADAKMQJAAAwCnECAACMQpwAAACjXJNxMnv2\n",
              "bH+PAAAAvOSajJOLvycEAABULNdknAAAgIqLOAEAAEYhTgAAgFGIEwAAYBTiBAAAGIU4AQAARiFO\n",
              "AACAUYgTAABgFOIEAAAYhTgBAABGIU4AAIBRiBMAAGAU4gQAABiFOAEAAEYhTgAAgFGC/D2AaaIn\n",
              "rPHKcfNn3OGV4wIAUNFw5QQAABiFOAEAAEYhTgAAgFGIEwAAYBTiBAAAGIU4AQAARiFOAACAUYgT\n",
              "AABgFOIEAAAYhTgBAABGIU4AAIBRiBMAAGAU4gQAABiFOAEAAEYhTgAAgFGIEwAAYBTiBAAAGIU4\n",
              "AQAARiFOAACAUYgTAABgFOIEAAAYhTgBAABGIU4AAIBRvBonY8aMUXR0tGw2m77++mtJ0rlz55SS\n",
              "kqLmzZsrNjZWvXr1Um5urjfHAAAA1xCvxsmAAQP02WefqVGjRi7bhw8fruzsbO3atUvJyckaNmyY\n",
              "N8cAAADXEK/GSbdu3RQZGemyrWrVqurbt69sNpskKSkpSfn5+X94jOLiYhUVFbk8HA6HN8cGAAB+\n",
              "5Pd7TmbPnq3k5OQ/fD49PV3BwcEuj6ysLB9OCAAAfMmvcTJ9+nTl5uYqPT39D/dJS0tTYWGhyyMx\n",
              "MdGHUwIAAF8K8teJX3jhBWVmZmrDhg2qXr36H+5nt9tlt9tdtgUGBnp7PAAA4Cd+iZOZM2dqxYoV\n",
              "2rBhg0JCQvwxAgAAMJRX39YZMWKEIiMjdejQIfXu3VtNmzbVoUOHlJqaqlOnTqlHjx6Ki4tTp06d\n",
              "vDkGAAC4hnj1yklGRsYlt1uW5c3TAgCAa5jf/1oHAADgYsQJAAAwCnECAACMQpwAAACjECcAAMAo\n",
              "xAkAADAKcQIAAIxCnAAAAKMQJwAAwCjECQAAMApxAgAAjEKcAAAAoxAnAADAKMQJAAAwCnECAACM\n",
              "QpwAAACjECcAAMAoxAkAADAKcQIAAIxCnAAAAKMQJwAAwCjECQAAMApxAgAAjEKcAAAAoxAnAADA\n",
              "KMQJAAAwCnECAACMQpwAAACjECcAAMAoxAkAADAKcQIAAIxCnAAAAKMQJwAAwCjECQAAMApxAgAA\n",
              "jEKcAAAAoxAnAADAKMQJAAAwCnECAACMQpwAAACjECcAAMAoxAkAADAKcQIAAIxCnAAAAKMQJwAA\n",
              "wChejZMxY8YoOjpaNptNX3/9tXP73r171blzZzVv3lwdO3bUt99+680xAADANcSrcTJgwAB99tln\n",
              "atSokcv2ESNGaPjw4crJydFTTz2lIUOGeHMMAABwDfFqnHTr1k2RkZEu244dO6Zt27Zp0KBBkqR7\n",
              "7rlHBw8eVG5urjdHAQAA14ggX5/w4MGDql+/voKCLpzaZrMpKipKBQUFatq0abn9i4uLVVxc7LLN\n",
              "4XD4ZFYAAOB7xt8Qm56eruDgYJdHVlaWv8cCAABe4vM4adiwoY4cOaLS0lJJkmVZKigoUFRU1CX3\n",
              "T0tLU2FhocsjMTHRlyMDAAAf8nmc1KlTR/Hx8Vq+fLkkaeXKlYqMjLzkWzqSZLfbVatWLZdHYGCg\n",
              "L0cGAAA+5NU4GTFihCIjI3Xo0CH17t3bGSAZGRnKyMhQ8+bNNWPGDC1dutSbYwAAgGuIV2+IzcjI\n",
              "uOT2mJgYbdmyxZunBgAA1yjjb4gFAACVC3ECAACMQpwAAACjECcAAMAoxAkAADAKcQIAAIxCnAAA\n",
              "AKMQJwAAwCjECQAAMApxAgAAjEKcAAAAoxAnAADAKMQJAAAwCnECAACMQpwAAACjECcAAMAoxAkA\n",
              "ADAKcQIAAIxCnAAAAKMQJwAAwCjECQAAMApxAgAAjEKcAAAAoxAnAADAKMQJAAAwCnECAACMQpwA\n",
              "AACjECcAAMAoxAkAADAKcQIAAIxCnAAAAKMQJwAAwCjECQAAMApxAgAAjEKcAAAAoxAnAADAKMQJ\n",
              "AAAwCnECAACMQpwAAACjECcAAMAoxAkAADAKcQIAAIxCnAAAAKMQJwAAwCjECQAAMIrf4uSDDz5Q\n",
              "fHy84uLi1KZNG73yyiv+GgUAABgkyB8ntSxLgwYN0qZNm9SuXTvl5+erRYsW6t+/v2rWrOmPkQAA\n",
              "gCH8duXEZrPp1KlTkqSioiKFh4fLbrf7axwAAGAIv1w5sdlsevPNN9W/f39df/31+vnnn5WZmanr\n",
              "rruu3L7FxcUqLi522eZwOHw1KgAA8DG/XDkpLS3VtGnTlJmZqQMHDuijjz7Sgw8+qJ9++qncvunp\n",
              "6QoODnZ5ZGVl+WFqAADgC36Jk6+//lqHDx9Wt27dJEkdO3ZUZGSkdu7cWW7ftLQ0FRYWujwSExN9\n",
              "PTIAAPARv7yt07BhQx05ckT//e9/1bJlS+Xm5iovL08xMTHl9rXb7eXuRQkMDPTVqAAAwMf8Eid1\n",
              "69bVwoULde+99yogIEBlZWWaN2+eoqKi/DEOAAAwiF/iRJIGDhyogQMH+uv0AADAUHxCLAAAMIrb\n",
              "cbJ+/XpvzAEAACDpCuJk6tSpiomJ0ezZs1VUVOSNmQAAQCXmdpx8/vnneuONN7Rnzx41b95co0aN\n",
              "0nfffeeN2QAAQCV0RfectG/fXosWLdK6deu0evVqtWvXTr169dLu3bs9PR8AAKhkrihONmzYoOTk\n",
              "ZPXv31+jR4/W0aNHNWLECPXr18/T8wEAgErG7T8lbtmypSIiIjRmzBj179/f+YFoAwYM0JIlSzw+\n",
              "IAAAqFzcjpPly5crISHhks+tXbv2qgcCAACVm9tv62zfvl0nT550/nzixAktWrTIo0MBAIDKy+04\n",
              "mT9/vsLCwpw/h4eHa/78+R4dCgAAVF5ux4llWeW2ORwOjwwDAADgdpzUr19fb731lvPnN998U/Xr\n",
              "1/foUAAAoPJy+4bYWbNmKTk5WePHj5ckVa9eXe+9957HBwMAAJWT23HSokULfffdd8rOzpYkxcTE\n",
              "OP+cGAAA4Gq5HSeSZLPZFBISotLSUv3www+SpKioKI8OBgAAKie342TZsmUaM2aMqlSpooCAC7es\n",
              "2Gw2HTt2zOPDAQCAysftOHnuuef01VdfKSYmxhvzAACASs7tv9aJiIggTAAAgNe4HScpKSmaNWuW\n",
              "jh07pqKiIucDAADAE9x+W+fpp5+WJI0bN042m02WZclms/FBbAAAwCPcjpOysjJvzAEAACDpCt7W\n",
              "kS58+d+///1vSdKpU6d05MgRjw4FAAAqryv64r+hQ4dq8uTJki58K/H999/v6bkAAEAl5XacLFy4\n",
              "UF9++aVq1aolSWrSpImOHz/u8cEAAEDl5Hac2O12VatWzWVbUNAVfdAsAABAOW7HSe3atZWTkyOb\n",
              "zSbpwifG8tH1AADAU67oW4kHDhyo77//Xg0bNlStWrW0evVqb8wGAAAqIbfjpGnTptq6dauys7Nl\n",
              "WRbfSgwAADzK7TgpKCiQJF1//fWSxLcSAwAAj3I7ThISEpyfDHvu3Dn9+uuvCg8P51uJAQCAR7gd\n",
              "J7//s+HMzEzt2rXLYwMBAIDK7Yo+IfZi/fv315o1azwxCwAAgPtXTi7+BmKHw6GtW7fyrcQAAMBj\n",
              "3I6TkJAQ5z0ngYGBatasmebMmeON2QAAQCXEtxIDAACjXPU9JwAAAJ7k9pWTgIAA50fXX8yyLNls\n",
              "NjkcDo8MBgAAKie342Tq1Kk6e/asRo4cKUlasGCBqlWrpieeeMLTswEAgErI7ThZtWqVtm/f7vx5\n",
              "2rRpSkhI0NNPP+3RwQAAQOXk9j0np0+fdvk02GPHjun06dMeHQoAAFRebl85SU1NVWxsrPr27StJ\n",
              "WrdunSZPnuzpuQAAQCXldpyMGDFCXbp00caNGyVJ48aNU+vWrT0+GAAAqJzcjhNJCg8PV9u2bdW9\n",
              "e3eVlpbq/Pnzuu666zw9GwAAqITcvufknXfeUVJSkh5++GFJ0rfffquUlBRPzwUAACopt+MkPT1d\n",
              "O3bsUEhIiCQpNjZWBw4c8PRcAACgknI7TgIDAxUeHu6y7Ure0ikuLtZjjz2mZs2aqW3btho0aJDb\n",
              "xwAAABWP2/ec1KxZUz/++KPzU2I/+ugjhYWFuX3iCRMmyGazKScnRzabTUePHnX7GAAAoOJxO07+\n",
              "+c9/qk+fPtq3b5+6du2q/fv3a82aNW4d48yZM1qyZIkOHTrkjJx69eq5OwoAAKiA3IqTsrIyORwO\n",
              "bdy4UV988YUsy1Lnzp2d959crry8PIWFhWn69OnasGGDqlWrpsmTJ6tnz57l9i0uLlZxcbHLNr6/\n",
              "BwCAisute04CAgI0fPhwBQcHq0+fPurbt6/bYSJJpaWlOnDggFq1aqVt27Zpzpw5uu+++/Tjjz+W\n",
              "2zc9PV3BwcEuj6ysLLfPCQAArg1u3xDbrFkz5ebmXtVJo6KiFBAQoAceeECS1L59e914443avXt3\n",
              "uX3T0tJUWFjo8khMTLyq8wMAAHO5fc/JyZMnFRcXp86dO6tGjRrO7ZmZmZd9jIiICPXs2VPr169X\n",
              "3759tX//fu3fv18tW7Yst6/dbpfdbnfZFhgY6O7YAADgGnHZcTJ8+HAtXLhQgwcP1t13363Q0NCr\n",
              "OvGCBQv0yCOP6KmnnlJAQIAyMjLUoEGDqzomAAC49l12nGzbtk2SNHjwYMXHx2vHjh1XdeLGjRs7\n",
              "v58HAADgN27fcyJJlmV5eg4AAABJblw5OXv2rHbv3i3LsnTu3DnnP/+mXbt2XhkQAABULm7Fyd13\n",
              "3+38+eJ/ttls2rdvn2cnAwAAldJlx0l+fr4XxwAAALjgiu45AQAA8BbiBAAAGIU4AQAARiFOAACA\n",
              "UYgTAABgFOIEAAAYhTgBAABGIU4AAIBRiBMAAGAU4gQAABiFOAEAAEYhTgAAgFGIEwAAYBTiBAAA\n",
              "GIU4AQAARiFOAACAUYgTAABgFOIEAAAYhTgBAABGIU4AAIBRiBMAAGAU4gQAABiFOAEAAEYhTgAA\n",
              "gFGIEwAAYBTiBAAAGIU4AQAARiFOAACAUYgTAABgFOIEAAAYhTgBAABGIU4AAIBRiBMAAGAU4gQA\n",
              "ABiFOAEAAEYhTgAAgFGIEwAAYBTiBAAAGIU4AQAARiFOAACAUYgTAABgFOIEAAAYxe9xsnTpUtls\n",
              "Nr377rv+HgUAABjAr3GSn5+vRYsWKSkpyZ9jAAAAg/gtTsrKyjRs2DDNnTtXdrv9D/crLi5WUVGR\n",
              "y8PhcPhwUgAA4Et+i5OZM2eqS5cuSkhI+J/7paenKzg42OWRlZXloykBAICv+SVO9uzZo5UrV+qZ\n",
              "Z575033T0tJUWFjo8khMTPTBlAAAwB+C/HHSzZs3Kz8/X82aNZMkHT16VMOHD9eRI0c0cuRIl33t\n",
              "dnu5t30CAwN9NisAAPAtv1w5GTlypI4cOaL8/Hzl5+crKSlJCxcuLBcmAACg8vH7nxIDAABczC9v\n",
              "6/zepk2b/D0CAAAwBFdOAACAUYgTAABgFOIEAAAYhTgBAABGIU4AAIBRiBMAAGAU4gQAABiFOAEA\n",
              "AEYhTgAAgFGIEwAAYBTiBAAAGIU4AQAARiFOAACAUYgTAABgFOIEAAAYhTgBAABGIU4AAIBRiBMA\n",
              "AGAU4gQAABiFOAEAAEYhTgAAgFGIEwAAYBTiBAAAGIU4AQAARiFOAACAUYgTAABgFOIEAAAYhTgB\n",
              "AABGIU4AAIBRiBMAAGAU4gQAABiFOAEAAEYhTgAAgFGIEwAAYBTiBAAAGIU4AQAARiFOAACAUYgT\n",
              "AABgFOIEAAAYhTgBAABGIU4AAIBRiBMAAGAU4gQAABiFOAEAAEYhTgAAgFH8Eifnzp1TSkqKmjdv\n",
              "rtjYWPXq1Uu5ubn+GAUAABjGb1dOhg8fruzsbO3atUvJyckaNmyYv0YBAAAG8UucVK1aVX379pXN\n",
              "ZpMkJSUlKT8//5L7FhcXq6ioyOXhcDh8OC0AAPClIH8PIEmzZ89WcnLyJZ9LT0/XlClTXLYlJSX5\n",
              "YiwAAIwVPWGN146dP+MOrx37cvj9htjp06crNzdX6enpl3w+LS1NhYWFLo/ExEQfTwkAAHzFr1dO\n",
              "XnjhBWVmZmrDhg2qXr36Jfex2+2y2+0u2wIDA30xHgAA8AO/xcnMmTO1YsUKbdiwQSEhIf4aAwAA\n",
              "GMYvcXLo0CGlpqaqcePG6tGjh6QLV0i2bt3qj3EAAIBB/BInkZGRsizLH6cGAACG8/sNsQAAABcj\n",
              "TgAAgFGIEwAAYBTiBAAAGIU4AQAARiFOAACAUYgTAABgFOIEAAAYhTgBAABGIU4AAIBRiBMAAGAU\n",
              "4gQAABiFOAEAAEYhTgAAgFGIEwAAYBTiBAAAGIU4AQAARiFOAACAUYgTAABgFOIEAAAYhTgBAABG\n",
              "CfL3AAAAXK7oCWu8ctz8GXd45bi4Mlw5AQAARiFOAACAUYgTAABgFOIEAAAYhTgBAABGIU4AAIBR\n",
              "iBMAAGAU4gQAABiFOAEAAEYhTgAAgFGIEwAAYBTiBAAAGIU4AQAARiFOAACAUYgTAABgFOIEAAAY\n",
              "hTgBAABGIU4AAIBRiBMAAGAU4gQAABiFOAEAAEYhTgAAgFGIEwAAYBS/xcnevXvVuXNnNW/eXB07\n",
              "dtS3337rr1EAAIBB/BYnI0aM0PDhw5WTk6OnnnpKQ4YM8dcoAADAIH6Jk2PHjmnbtm0aNGiQJOme\n",
              "e+7RwYMHlZubW27f4uJiFRUVuTwcDoevRwYAAD4S5I+THjx4UPXr11dQ0IXT22w2RUVFqaCgQE2b\n",
              "NnXZNz09XVOmTHHZ1qJFC40bN87jczkcDtXPylJiYqICAwM9euxx4z7y6PGuZQ6HQ1leWmf8P9bZ\n",
              "N1hn3+F3tKv+Xjquw+HQX/4yzSvr3KhRI40dO/ZP97NZlmV59MyXYfv27br//vuVnZ3t3JaYmKgZ\n",
              "M2bolltucdm3uLhYxcXFLtvsdrvsdrvH5yoqKlJwcLAKCwtVq1Ytjx8fF7DOvsE6+wbr7DustW+Y\n",
              "sM5+uXLSsGFDHTlyRKWlpQoKCpJlWSooKFBUVFS5fb0VIgAAwEx+ueekTp06io+P1/LlyyVJK1eu\n",
              "VGRkZLm3dAAAQOXjlysnkpSRkaEhQ4Zo+vTpqlWrlpYuXeqvUQAAgEH8FicxMTHasmWLv05/SXa7\n",
              "XZMmTeJtJC9jnX2DdfYN1tl3WGvfMGGd/XJDLAAAwB/h4+sBAIBRiBMAAGAU4gQAABiFOAEAAEap\n",
              "sHFyud96vGTJEjVr1kxNmjTRo48+qpKSkqt+rjLx5jrn5+ere/fuCg4OVlxcnC9ejrG8uc4ff/yx\n",
              "EhMT1apVK7Vu3Vrjx49XWVmZT16Xaby5zlu2bFFcXJzi4uLUunVrjRgxotynX1cW3v79LEmWZemW\n",
              "W25RSEiIN1+K8by51ps2bVK1atWc/13HxcXp7NmznhncqqB69OhhLV261LIsy3r77betDh06lNtn\n",
              "3759Vv369a0jR45YZWVl1l133WXNmzfvqp6rbLy5zidOnLA2b95srV692oqNjfXVSzKSN9d5x44d\n",
              "Vl5enmVZlnX27FmrS5cuznNVNt5c5zNnzljnz5+3LMuyHA6HlZKSYs2cOdM3L8ww3lzn37z44ovW\n",
              "sGHDrODgYG+/HKN5c603btzotd/NFTJOfvzxR6tmzZpWSUmJZVmWVVZWZtWtW9fau3evy37PP/+8\n",
              "NWLECOfPa9assbp06XJVz1Um3l7n33jzfwDXAl+t829Gjx5tTZo0ycOvwny+XOezZ89avXv3tl56\n",
              "6SUvvBKz+WKd9+zZY910001Wbm5upY4Tb6+1N383V8i3df7Xtx5frKCgQI0aNXL+HB0d7dznSp+r\n",
              "TLy9zrjAl+t89OhRvfPOO7rzzju98VKM5ot1zs/PV2xsrCIiIhQcHKxRo0Z58yUZydvrXFJSokcf\n",
              "fVQZGRmV/luiffHfdF5enuLj49WxY0fNnz/fY7NXyDgB4L6ioiLdddddGj9+vDp06ODvcSqk6Oho\n",
              "7dq1S0ePHlVxcbEyMzP9PVKFM2XKFPXv318tW7b09ygVXnx8vA4dOqQdO3Zo1apVWrBggd566y2P\n",
              "HLtCxsnF33os6Q+/9TgqKkoHDhxw/pyfn+/c50qfq0y8vc64wBfrfPr0ad1+++1KTk7WuHHjvPly\n",
              "jOXL/55r1Kihv/3tb3rttde88VKM5u11/uSTTzR37lxFR0era9euKioqUnR0tI4fP+7tl2Ycb691\n",
              "rVq1FBwcLEmKjIzUwIEDtXnzZs8M75U3iwxw8803u9wElJCQUG6fvLy8cjf6zJ0796qeq2y8uc6/\n",
              "qez3nFiWd9f59OnTVufOna0pU6b47PWYypvrvHfvXucNscXFxda9995rTZw40TcvzDC++L1hWZa1\n",
              "f//+Sn3PiWV5d60PHz5sORwOy7Isq6ioyOrcubO1ZMkSj8xdYePk+++/t5KSkqxmzZpZCQkJ1jff\n",
              "fGNZlmU98sgj1nvvvefcb+HChVbjxo2txo0bW0OHDnX+8ria5yoTb67zmTNnrAYNGlgRERFWlSpV\n",
              "rAYNGlgTJkzw7Qs0hDfXedq0aVZQUJAVGxvrfEybNs23L9AQ3lznjIwMq3Xr1la7du2sVq1aWY8/\n",
              "/rh19uxZ375AQ3j79/NviBPvrvXcuXOtVq1aOf+bnjRpklVWVuaRufniPwAAYJQKec8JAAC4dhEn\n",
              "AADAKMQJAAAwCnECAACMQpwAAACjECcAAMAoxAkAADAKcQIAAIxCnAAAAKMQJwAAwCj/B6b2r9ke\n",
              "VYeFAAAAAElFTkSuQmCC\n",
              "\">\n",
              "      </div>\n",
              "      <script type=\"text/javascript\">\n",
              "        (() => {\n",
              "          const chartElement = document.getElementById(\"chart-ee5c427e-643f-4dbd-94f9-d1e41c18b660\");\n",
              "          async function getCodeForChartHandler(event) {\n",
              "            const chartCodeResponse =  await google.colab.kernel.invokeFunction(\n",
              "                'getCodeForChart', [\"chart-ee5c427e-643f-4dbd-94f9-d1e41c18b660\"], {});\n",
              "            const responseJson = chartCodeResponse.data['application/json'];\n",
              "            await google.colab.notebook.addCell(responseJson.code, 'code');\n",
              "          }\n",
              "          chartElement.onclick = getCodeForChartHandler;\n",
              "        })();\n",
              "      </script>\n",
              "      <style>\n",
              "        .colab-quickchart-chart-with-code  {\n",
              "            display: block;\n",
              "            float: left;\n",
              "            border: 1px solid transparent;\n",
              "        }\n",
              "\n",
              "        .colab-quickchart-chart-with-code:hover {\n",
              "            cursor: pointer;\n",
              "            border: 1px solid #aaa;\n",
              "        }\n",
              "      </style>"
            ]
          },
          "metadata": {}
        },
        {
          "output_type": "display_data",
          "data": {
            "text/plain": [
              "<google.colab._quickchart_helpers.SectionTitle at 0x7918eb64dd90>"
            ],
            "text/html": [
              "<h4 class=\"colab-quickchart-section-title\">Values</h4>\n",
              "<style>\n",
              "  .colab-quickchart-section-title {\n",
              "      clear: both;\n",
              "  }\n",
              "</style>"
            ]
          },
          "metadata": {}
        },
        {
          "output_type": "display_data",
          "data": {
            "text/plain": [
              "from matplotlib import pyplot as plt\n",
              "_df_1['Negative-Value(%)'].plot(kind='line', figsize=(8, 4), title='Negative-Value(%)')\n",
              "plt.gca().spines[['top', 'right']].set_visible(False)"
            ],
            "text/html": [
              "      <div class=\"colab-quickchart-chart-with-code\" id=\"chart-cc05af8b-3a8e-4501-87ca-024e0f86b9ab\">\n",
              "        <img style=\"width: 180px;\" src=\"data:image/png;base64,iVBORw0KGgoAAAANSUhEUgAAAqkAAAFuCAYAAACiI4FWAAAAOnRFWHRTb2Z0d2FyZQBNYXRwbG90\n",
              "bGliIHZlcnNpb24zLjEwLjAsIGh0dHBzOi8vbWF0cGxvdGxpYi5vcmcvlHJYcgAAAAlwSFlzAAAP\n",
              "YQAAD2EBqD+naQAAPQBJREFUeJzt3X14VHed///XmZlkkpB7SLhLJikkQWsrlBbKAna7W6u1u9Ja\n",
              "1KUrq7QCgepav/RnK16ygraFy8tFW10ltFy0Xij6FapfrLbVr90qrrWI37bb4toklGTCbcJdCCGZ\n",
              "zM35/ZGcSVJCkgkh55yZ5+O68kfmnEw+M9Dpi8/78/58DNM0TQEAAAAO4rF7AAAAAMA7EVIBAADg\n",
              "OIRUAAAAOA4hFQAAAI5DSAUAAIDjEFIBAADgOIRUAAAAOA4hFQAAAI5DSAUAAIDjEFIBYJT84Ac/\n",
              "0IwZM+wexiU1NDTIMAzV19eP6vMePHhQV111lc6fPz/i5/jXf/1XrV+/fvQGBcD1CKkAXOXmm2+W\n",
              "YRj6+c9/3u/xpUuXatmyZWM6ji9/+cv9HvvEJz6ht95664r8vscee0wTJ05UV1fXRdeef/55paWl\n",
              "6ciRI1fkdw/lC1/4gu6//35lZ2dLkmprazV37lzl5+frox/9qC5cuBC/t6GhQdOnT1dzc3O/51i3\n",
              "bp2+9a1v2fYaADgPIRWA60yYMEEPPPDAgIEtWX3qU5/S+fPn9cwzz1x07Xvf+54WLVqkqVOnjvm4\n",
              "Dh48qOeff16f+tSn4o994Qtf0N13362WlhaFw2HV1NRIkkzT1D333KOvf/3rKi4u7vc8xcXF+sAH\n",
              "PqDvfve7Yzp+AM5FSAXgOsuWLVMsFtPjjz8+4PXOzk596Utf0vTp01VQUKCbbrpJr776avx6OBzW\n",
              "Aw88oEmTJqmoqEhr167VwoUL+5WbV65cqfLycmVnZ+uqq67SV77yFcViMUnSqlWrtHfvXn39619X\n",
              "dnZ2fAbxqaeeUklJiSTpV7/6lXJzc9Xe3t5vbO9973u1efPmYY2zr/z8fN1999363ve+1+/xpqYm\n",
              "/eIXv9B9992nN998U7fccouKioqUl5enG2+8US+++OIl38f169dr4cKFF723S5cujX9/9uxZrV69\n",
              "WmVlZRo/frxuv/12vf322/HrP/3pT3X99deroKAg/lhdXZ1uv/12paWl6UMf+pDq6uokSY8//rim\n",
              "TJmixYsXDzie2267bcAQDiA1EVIBuI7f79c3vvENfe1rX7uobCx1h8h9+/bpt7/9rVpaWvTxj39c\n",
              "H/zgB3X27FlJ0saNG/Wzn/1Mv/3tb3X48GH5/X698sor/Z5j7ty5euWVV9TW1qadO3fqO9/5jp54\n",
              "4glJ0pYtW/S+971PDz74oM6fPz/gWsz3v//9Kiws1E9+8pP4Y6+88oreeustffKTnxzWON/pvvvu\n",
              "0+9+9zv95S9/iT/2xBNPqKKiQrfccosk6Ytf/KKCwaCam5v1oQ99SB/5yEcGfI+GwzRNfeQjH9G5\n",
              "c+f06quv6ujRo7r22mv1j//4jwqHw5Kk/fv365prrun3czNnztTPf/5zhUIhPffcc5o1a5Zqa2v1\n",
              "ne98R9/5zncu+fve+9736q9//etlrW0FkDwIqQBc6c4779QNN9ygL33pS/0eP3XqlJ5++mn9x3/8\n",
              "h0pKSuTz+fTZz35WeXl5evbZZyVJ3//+9/XAAw9oxowZ8vv9WrdunQoLC/s9z/LlyzVx4kQZhqF5\n",
              "8+Zp6dKl+tWvfjXs8Xk8Ht1777168skn4489+eSTuuOOOzRhwoRhjfOdZs+erRtvvFFbtmyRJEUi\n",
              "ET355JNavXq1JOmaa67RrbfeqszMTPn9fq1fv16GYVwUwIfr1Vdf1X/913+ppqZGhYWF8vv9evTR\n",
              "R3Xo0KH4c54+fVp5eXn9fu7f//3f9cc//lE33HCDpk2bpk9+8pNatmyZHnvsMdXW1urWW2/VzTff\n",
              "rKeffrrfz1nPc/r06RGNF0By8dk9AAAYqccee0zXX3+9PvOZz8QfszrXb7zxxn73dnV16fDhw5Kk\n",
              "I0eOqKysLH7N6/WqtLQ0/r1pmnr00Uf1wx/+UEePHpVpmurs7NScOXMSGt+9996rr371q3rrrbdU\n",
              "UlKiH//4x9q1a9ewxhkMBnX11VfHH6+pqdEnPvEJrV69Wp///Oe1adMmPffcc2ptbY2vBw0Gg3rw\n",
              "wQf1hz/8QWfPnpXH49G5c+dGPJNaV1enSCQSX8LQV1NTkySpsLBQra2t/a5NmTIl/joladOmTbr6\n",
              "6qv1oQ99SOXl5XrhhRdUUlKi2bNn62/+5m9UVVUlSfHneec/GACkJkIqANe65pprtHz5ct1///0K\n",
              "BAKSpEmTJkmS/vu//zv+2DtNnTpVjY2N8e9jsVg8wErSj370I33rW9/S888/r1mzZsnr9er+++/X\n",
              "n//85/g9Hs/QhaiSkhJ94AMf0JNPPql3vetdKiws1Pvf//5hj3Ogsvc//dM/6YEHHtDOnTu1c+dO\n",
              "3X333crPz5ckrVixQnl5efrTn/6kiRMnyjRNFRQUyDTNAZ8/JyfnojWzR48ejTc1TZo0Senp6Wpp\n",
              "aVFaWtqAz3H99ddftNNCX2+++aa2b9+u/fv3q6WlRV1dXXrXu94lqXtm+PXXX4+H1DfeeEMzZsyI\n",
              "r/EFkNoo9wNwta9+9at688039cILL0iSysrKdOedd+ozn/lMPIi2tbXpueee07FjxyRJ//Iv/6Jv\n",
              "fvObqq2tVVdXlx5++GGdOnUq/pytra3y+XwqLi6WYRj6z//8T+3YsaPf7500aZJqa2uHHN/y5cv1\n",
              "/e9/XzU1Nbr33nvj4XY44xxIRkaG7rnnHj3yyCN68cUXdd999/Ubd3Z2tgoKCtTe3q61a9cOur7z\n",
              "hhtu0BtvvKHf//73ikaj+slPfqLf/e538esLFy7UNddco9WrV8dnY8+cOaPdu3fHt5W68847tX//\n",
              "/gHX0YbDYX3qU5/Sli1blJOTo/HjxyscDmvfvn06efKkXn75ZVVUVMTvf/755/WRj3xkyPcUQGog\n",
              "pAJwtfHjx2v9+vU6efJk/LEf/vCHuv7663XrrbcqJydHM2bM0BNPPBGfUVy7dq3+4R/+Qe973/s0\n",
              "depUdXR06LrrrlNGRoak7g73W265Rddee60mTJigLVu29Ot4l6QHHnhAb731lgoKCuIzmQP58Ic/\n",
              "LMMw9Oc//1n33ntvv2tDjfNSVq9erYaGBs2dO1ezZ8+OP/7444/r9ddfV0FBga6++mpNnTp1wFK9\n",
              "5W//9m/1pS99SXfddZeKior00ksv9eu893q9+vWvf62srCzdeOONysnJ0cyZM/XTn/5UhmFIkior\n",
              "K/WBD3xATz311EXP//DDD2vBggX6u7/7u/jzbd++XR/72Mf0rne9S/fee6+uu+46SVJLS4teeOGF\n",
              "fks3AKQ2wxzq0xAAklwkEtHkyZP1+OOP6+6777Z7OK5z8OBB3XLLLXrzzTdHXKr/3Oc+p4KCAm3Y\n",
              "sGGURwfArQipAFJOW1ubXnrpJX3wgx9UV1eXvvKVr+ipp57SwYMHB50VBQCMHcr9AFJOLBbT1772\n",
              "NU2YMEFTp07Vvn379Mtf/pKACgAOwkwqAAAAHIeZVAAAADgOIRUAAACOQ0gFAACA4xBSAQAA4DhJ\n",
              "FVIfe+wxu4cAAACAUZBUIbXvWdwAAABwr6QKqQAAAEgOhFQAAAA4DiEVAAAAjkNIBQAAgOMQUgEA\n",
              "AOA4hFQAAAA4DiEVAAAAjkNIBQAAgOMkHFLr6uo0f/58VVVVac6cOTpw4MCA923btk2VlZWaPn26\n",
              "VqxYoXA4POS1l156SZmZmZo1a1b8q6OjY4QvDQAAAG6VcEitrq7WypUrVVtbq4ceekjLli276J5D\n",
              "hw5p3bp12rt3r+rr63XixAlt3bp1yGuSNGPGDL322mvxr8zMzJG/OgAAALhSQiG1ublZ+/fv19Kl\n",
              "SyVJixcvVlNTk+rr6/vdt2vXLi1atEiTJk2SYRhatWqVdu7cOeQ1AAAAQJJ8idzc1NSkyZMny+fr\n",
              "/jHDMBQIBBQMBlVRURG/LxgMqqysLP59eXm5gsHgkNck6eDBg5o9e7a8Xq/uuece3XfffQOOJRQK\n",
              "KRQK9XssGo0m8nIAAMBlaDzVrvV7DqitM2L3UC5SUZytRz5yrbwew+6hYIQSCqlX2uzZs3X48GHl\n",
              "5eXp8OHDuv322zVhwgR9/OMfv+jejRs3asOGDf0emzdv3lgNFQCAlPeT/Yf1n2+12D2MAe1vPKOP\n",
              "zynV7ECB3UPBCCUUUktLS3Xs2DFFIhH5fD6ZpqlgMKhAINDvvkAgoIMHD8a/b2hoiN8z2LXc3Nz4\n",
              "4yUlJbr77ru1d+/eAUPq2rVrtWbNmn6PrVu3LpGXAwAALkPj6QuSpI/fUKK/f1exzaPp9a3/W6e/\n",
              "Hm9T0+kLhFQXSyikFhcXa/bs2dqxY4eWLVum3bt3q6SkpF+pX+peq7pw4UKtX79eEydO1JYtW7Rk\n",
              "yZIhrx07dkwTJ06Ux+NRW1ubnn32WX36058ecCx+v19+v7/fY16vN5GXAwAALkPwVLsk6ZZ3T9QH\n",
              "3zPJ5tH0+s3/NOuvx9vUeOqC3UPBZUi4u7+mpkY1NTWqqqrSpk2btH37dknS8uXLtWfPHknStGnT\n",
              "tGHDBi1YsEAVFRUqKipSdXX1kNd2796ta6+9VjNnztS8efN066236p577hmt1woAAEZRsGcmNVCY\n",
              "ZfNI+rPGY40P7mSYpmnaPYjRsmbNGm3evNnuYQAAkPTOdYb13vW/kiQd2PBBjfM7p83l/7x2RPf/\n",
              "6DXNvapQ/7v6b+weDkaIE6cAAEDCgj2l9AnZ6Y4KqFKfmVTK/a5GSAUAAAlr6imllzqs1C/1htTj\n",
              "5zrVGWZ7SrcipAIAgIRZnf1lDgyphePSld0zu3v4DMeruxUhFQAAJMypTVNS92FDpfHmqXabR4OR\n",
              "IqQCAICEObncL0mBwkxJrEt1M0IqAABImLUHadn4cTaPZGDWuBrZhsq1CKkAACAhkWhMR852r/V0\n",
              "Yrlf6p3hbSKkuhYhFQAAJORYa6eiMVPpPo+Kc/xD/4AN2NDf/QipAAAgIVapP1CYJY/HsHk0Ayvr\n",
              "E1KT6NyilEJIBQAACXFyZ79lSn6mPIbUGY6ppS1k93AwAoRUAACQEDeE1HSfR5Pzejr8Kfm7EiEV\n",
              "AAAkxNp71MkhVZLKxnePr5FtqFyJkAoAABLihplUieYptyOkAgCAhATje6Q6PKSOZxsqNyOkAgCA\n",
              "YTt7oUvnOiOSpJICh4fUnplUNvR3J0IqAAAYNqt0XpzjV2a61+bRDI5yv7sRUgEAwLA1uqTUL0ll\n",
              "hd1Ho7a0hdTRFbV5NEgUIRUAAAybNStZ6vCmKUnKy0pTboZPErOpbkRIBQAAw9bkks5+i9U8RUh1\n",
              "H0IqAAAYNjeV+6Xekn/jqXabR4JEEVIBAMCwuWWPVIu1LIFtqNyHkAoAAIalKxLTsdYOSe5YkyrR\n",
              "4e9mhFQAADAsR852KGZKmWleFWX77R7OsMSPRiWkug4hFQAADEvfUr9hGDaPZnismdTDpzsUi5k2\n",
              "jwaJIKQCAIBhcdP2U5bJeRnyeQx1RWM60dZp93CQAEIqAAAYlmBPh7xbOvslyef1aGpBpqTenQng\n",
              "DoRUAAAwLG7r7LfQPOVOhFQAADAswdPdnf1uDalsQ+UuhFQAADAk0zTj5f6Ai8r9Um9IpdzvLoRU\n",
              "AAAwpNPtXWrvisowpJKeNZ5uQbnfnQipAABgSNY+o5NzM+T3eW0eTWKsmV/K/e5CSAUAAENqcuH2\n",
              "UxZrzKfau3Q+FLF5NBguQioAABhS8JQ7O/slKTcjTQVZaZJ6Xwecj5AKAACGZJX73bRHal+B8eMk\n",
              "sS7VTQipAABgSG48baqv3uapdptHguEipAIAgCE1uXQjf0ugsHtHAmZS3YOQCgAABtUZjur4ue5z\n",
              "78t6yuZuU1bYPW72SnUPQioAABjU4TMdMk0p2++LNyC5TSmnTrkOIRUAAAyq7/ZThmHYPJqRsfZK\n",
              "PXymQ9GYafNoMByEVAAAMKjGnuNQy1y6HlWSJuVmKN3rUSRm6ujZDruHg2EgpAIAgEEFT3eHuoBL\n",
              "t5+SJK/HiB/nSsnfHQipAABgUG7ffspihWw6/N2BkAoAAAZl7S3q5nK/1Lt9ViMh1RUIqQAA4JJM\n",
              "04zPPLp1j1RL74b+hFQ3IKQCAIBLamkLqTMck8eQpuRn2j2cyxJgGypXIaQCAIBLsmYdp+RnKt3n\n",
              "7thgrUllQ393cPffNgAAcEUlS6lfkkoLul9Da0dYrRfCNo8GQ0k4pNbV1Wn+/PmqqqrSnDlzdODA\n",
              "gQHv27ZtmyorKzV9+nStWLFC4XB4WNek7vUvf//3f6/8/PxEhwcAAEaRNetY5uLtpyzj/D5NyPZL\n",
              "kprOMJvqdAmH1Orqaq1cuVK1tbV66KGHtGzZsovuOXTokNatW6e9e/eqvr5eJ06c0NatW4e8Zvnm\n",
              "N7+p6dOnj+wVAQCAUdOUJNtPWQKF3etqKfk7X0Ihtbm5Wfv379fSpUslSYsXL1ZTU5Pq6+v73bdr\n",
              "1y4tWrRIkyZNkmEYWrVqlXbu3DnkNUk6cOCAfvazn+mLX/zi5b42AABwmZKp3C/R4e8mvkRubmpq\n",
              "0uTJk+Xzdf+YYRgKBAIKBoOqqKiI3xcMBlVWVhb/vry8XMFgcMhr4XBYK1as0LZt2+T1egcdSygU\n",
              "UigU6vdYNBpN5OUAAIAhWHuKlhWOs3kkoyMwvvt1EFK7rd9zQH89fk6rb67Q31YV2T2cfhzVOLVh\n",
              "wwbdddddeve73z3kvRs3blReXl6/r3379o3BKAEASA0dXVG1tHVPCCXfTGq7zSNxhn2HTuuPb59W\n",
              "KOy8ib6EQmppaamOHTumSCQiqWeD32BQgUCg332BQECNjY3x7xsaGuL3DHbtt7/9rb797W+rvLxc\n",
              "Cxcu1Llz51ReXq6WlpaLxrJ27Vq1trb2+5o7d24iLwcAAAzCai7KzfApLyvN5tGMDsr9vaIxUwdb\n",
              "zkuSqibm2DyaiyUUUouLizV79mzt2LFDkrR7926VlJT0K/VL3WtV9+zZo+PHj8s0TW3ZskVLliwZ\n",
              "8trevXvV2NiohoYG/f73v1dubq4aGhpUVHTx9LPf71dubm6/r6GWCAAAgOHr7exPjlK/1LtLwdGz\n",
              "nQpHYzaPxl7B0xcUisTk93kc2RiXcLm/pqZGNTU1qqqq0qZNm7R9+3ZJ0vLly7Vnzx5J0rRp07Rh\n",
              "wwYtWLBAFRUVKioqUnV19ZDXAACAcyRb05QkFWX75fd5FI2ZOnq2w+7h2Kr2RJskqaI4W16PYfNo\n",
              "LpZQ45QkzZgxQy+//PJFjz/55JP9vl+xYoVWrFgx4HMMds1SXl6us2fPJjo8AAAwSpJt+ylJ8ngM\n",
              "BQqzVNd8XsHTF5JqljhRdT0h1YmlfslhjVMAAMA5Gk91Nxclw0b+fVkzw6m+V2rtie71qJUTs20e\n",
              "ycAIqQAAYEDJWO6XemeGm1K8ecoq91cVM5MKAABcIhYz1XSme81msoVUa2Y4lTv8I9GY3m7pnimn\n",
              "3A8AAFzjRFunuiIx+TyGJudl2D2cUUW5v/uQhq5oTJlpXpUUZNo9nAERUgEAwEWCPQFuakGmfN7k\n",
              "iguBPuV+0zRtHo096vp09nsc2NkvEVIBAMAAGpN0ParUuya1LRTR2Qthm0djjzqHN01JhFQAADCA\n",
              "piQOqRlpXk3M9UvqDeOpprbZuSdNWQipAADgIsna2W9J9eNRe/dIZSYVAAC4SO+RqMkaUrs38U/F\n",
              "baj6dvZXOnT7KYmQCgAABpCMp0311dvh327zSMZew6nuzv6sdK+m5juzs18ipAIAgHc4H4roVHuX\n",
              "pCQu94/vDmepWO53Q2e/REgFAADvYG0/VTguXTkZaTaP5sroLfd32DySsRc/DtXBpX6JkAoAAN4h\n",
              "mOSlfql3hvhoa4dCkajNoxlbtc3Ob5qSCKkAAOAdknn7KcuE7HRlpXtlmtKRM6k1m9rb2c9MKgAA\n",
              "cJHG093NRGVJHFINw+htnkqhdanhaEyHTvZ09jOTCgAA3CTYs04zmWdSpd7lDKm0DVXDyXaFo6bG\n",
              "ObyzXyKkAgCAdwj2bMuUzGtSpd6ZYqtRLBVYTVMVE3NkGM7t7JcIqQAAoI9ozNThnjWaybqRvyUw\n",
              "PvXK/bXWetRiZ5f6JUIqAADo41hrhyIxU+lejybmZtg9nCsqFcv9dc3uaJqSCKkAAKAPq/RdUpAp\n",
              "r4M3eh8N8XL/6QsyTdPm0YyN+B6pDm+akgipAACgD2uP1ECSl/olaWpBpgxDutAV1cnzXXYP54rr\n",
              "isTU0NPZz0wqAABwlWAK7JFq8fu8mtyzpCEVjkc9dLJdkZipHL9Pk/Ocv5SDkAoAAOIaUyikSr0z\n",
              "xqmwLtVaj1oxMdvxnf0SIRUAAPSRCqdN9RXf0D8FtqGy1qNWFTu/1C8RUgEAQB+ptCZV6g2pqVDu\n",
              "t45DdUPTlERIBQAAPVo7wjp7ISwphWZSx4+TlBrl/vgeqS5ompIIqQAAoIcV1CZk+5WV7rN5NGMj\n",
              "Xu4/3W7zSK6sUCSqhp4lDYRUAADgKr2d/c4+0300WXulnjgXUmc4avNorpxDJ9sV7ensn5jrt3s4\n",
              "w0JIBQAAknqbh8p6SuCpID8rTTn+7lnjw2eSt+TfdxN/N3T2S4RUAADQw5pJLU2R9aiSZBhG/PUm\n",
              "c4d/ncvWo0qEVAAA0CPYsy4zVZqmLGXjk7/Dvzbe2U9IBQAALmOFtLIU2X7Kkgp7pdZZe6S6ZPsp\n",
              "iZAKAAAkhaMxHT3bKSn1ZlKtcn+ybkPVGY6q4VT3LDnlfgAA4CpHz3YoGjPl93lUlO2O7u/Rkuzl\n",
              "/rdb2hUzpdwMn4pz3PNnS0gFAAB9tp/Kksfjju7v0dL31KlYzLR5NKOvrrm3acotnf0SIRUAAKh/\n",
              "SE01U/Iz5fUYCkViajkfsns4o86NTVMSIRUAAEgKnkq97acsaV6PpuRnSErOkn+tC5umJEIqAABQ\n",
              "6nb2W5K5w9+Ne6RKhFQAAKDULvdL/delJpPOcFSNPa+pkplUAADgJqZpxsv9qRtSu4+CTbZtqA62\n",
              "nJdpdh//6rZdGwipAACkuLMXwmoLRSSl5ppUqW+5v93mkYyu+Cb+xe7q7JcIqQAApDyrHDwx16+M\n",
              "NK/No7FH716pHTaPZHT1dva7q9QvEVIBAEh58aapnpJ3KrJmkE+eD+lCV8Tm0Yye3s5+dzVNSYRU\n",
              "AABSnrUOM1VL/ZKUl5mmvMw0ScnVPGVt5M9MKgAAcB1rHWaqNk1Z4iX/JNmGqqMrGg/clcXMpAIA\n",
              "AJdJ9T1SLaVJtg2V1dlfkJWmCdnpdg8nYYRUAABSXFNPs1Aql/ul5Nsrte9xqG7r7JdGEFLr6uo0\n",
              "f/58VVVVac6cOTpw4MCA923btk2VlZWaPn26VqxYoXA4POS1l19+WbNmzdKsWbP0nve8R9XV1QqF\n",
              "ku8MXQAAnCIUiepoa3dITflyf9KFVHceh2pJOKRWV1dr5cqVqq2t1UMPPaRly5ZddM+hQ4e0bt06\n",
              "7d27V/X19Tpx4oS2bt065LWZM2fqT3/6k1577TW98cYbam5u1ne/+93Le4UAAOCSjpzpkGlKWele\n",
              "V5aER1N8JjVJ1qS69ThUS0Ihtbm5Wfv379fSpUslSYsXL1ZTU5Pq6+v73bdr1y4tWrRIkyZNkmEY\n",
              "WrVqlXbu3DnktaysLKWldXfWdXV1qaOjw5XT0wAAuEXf41BT/f+51nKHw2c6FI2ZNo/m8tVanf0u\n",
              "bJqSEgypTU1Nmjx5snw+nyTJMAwFAgEFg8F+9wWDQZWVlcW/Ly8vj98z2DVJamho0MyZMzVhwgTl\n",
              "5eXpvvvuG3AsoVBI586d6/cVjUYTeTkAAKS8INtPxU3Jz5TPY6grGtOJc512D+eyXOiKxNcap0y5\n",
              "/0orLy/X66+/ruPHjysUCumZZ54Z8L6NGzcqLy+v39e+ffvGeLQAALibVdouI6TK6zFUUpApSWp0\n",
              "ecm/vrl7Per4cekan+23eTQjk1BILS0t1bFjxxSJdJ/EYJqmgsGgAoFAv/sCgYAaGxvj3zc0NMTv\n",
              "GexaX9nZ2VqyZIl+8IMfDDiWtWvXqrW1td/X3LlzE3k5AACkvHi5P8W3n7JYM8pNLm+espqm3LiJ\n",
              "vyWhkFpcXKzZs2drx44dkqTdu3erpKREFRUV/e5bvHix9uzZo+PHj8s0TW3ZskVLliwZ8lp9fX28\n",
              "07+rq0s//elP9d73vnfAsfj9fuXm5vb78npT87xhAABGinJ/f/EN/V0eUt3eNCWNoNxfU1Ojmpoa\n",
              "VVVVadOmTdq+fbskafny5dqzZ48kadq0adqwYYMWLFigiooKFRUVqbq6eshrL774oq677jrNnDlT\n",
              "1113nSZOnKh169aN1msFAAB9mKbZu5E/IVVSb4d/o8tDat89Ut3KME3T/e1rPdasWaPNmzfbPQwA\n",
              "AFyhpS2kOY/8XxmG9Nev3Sa/j4rk828e16odf9bM0nz9n88ssHs4I7Zg04s6crZDP145TzdOG2/3\n",
              "cEbEcY1TAABgbFizqFPyMgmoPQJJsCa1PRTRkbNWZ797Z1IJqQAApKim+HrUTJtH4hxWA9np9i61\n",
              "dYaHuNuZrM7+Cdl+FYxz7wENhFQAAFKUtc1Sqh+H2le236fxPcHOrc1TtfGmKfd29kuEVAAAUla8\n",
              "aWr8OJtH4ixu34aqrmcm1c2lfomQCgBAympi+6kBxTv8Xbqhf29nPzOpAADAhRpPt0ui3P9Obt8r\n",
              "tc7ayL+YmVQAAOAyneGoTpwLSWKP1HeyZpbdGFLP9+vsZyYVAAC4zOEz3QEsx+9TflaazaNxloCL\n",
              "Q6p10lRRjl/5We7t7JcIqQAApCRrvWVpYZYMw7B5NM5ilfuPnOlQJBqzeTSJsUr9bp9FlQipAACk\n",
              "pN7Ofkr97zQxJ0PpXo8iMVPHWjvtHk5C4k1TLl+PKhFSAQBISVZIpWnqYh6PoZKeAw7cVvKvTZLt\n",
              "pyRCKgAAKSl4iu2nBlPm0nWpdUmykb9ESAUAICVR7h+cG/dKPdcZji9PqGQmFQAAuE0sZlLuH0Kg\n",
              "5xQuN506ZTVNTcz1Ky/T/Ts2EFIBAEgxLedDCkVi8noMTcnPtHs4juTGbah6S/3un0WVCKkAAKQc\n",
              "K3hNyc9QmpcoMJDecn+7zSMZvtokOWnKwt9MAABSjLXOklL/pVnvzbnOiFovhG0ezfDUNSdP05RE\n",
              "SAUAIOX0rkcdZ/NInCsz3auiHL8k95T843ukUu4HAABu1ETT1LDES/6nnV/yb+0I68S5kCSpkplU\n",
              "AADgRtY6S0Lq4Ny0V2p9T6l/cl6GcjPc39kvEVIBAEg5wdMdktgjdSjWQQdu2IYq3jSVJKV+iZAK\n",
              "AEBKudAV0cnz3WVhTpsanJs29LfWo1YVJ0epXyKkAgCQUqzSdV5mWlJs+H4lWTPNbij318VnUgmp\n",
              "AADAhYKnOA51uKyZ1KNnO9QVidk8msElW2e/REgFACClWLOClPqHVpTjV0aaRzGzO6g6VeuFsJrb\n",
              "ejr7KfcDAAA3CrL91LAZhuGK41Frezr7p+RlKCdJOvslQioAACnFCltlhNRh6d0r1cEhNQlL/RIh\n",
              "FQCAlBLkSNSEWKdyOXkbKqtpKlmOQ7UQUgEASBHRmKnDZ7rXVrImdXgChZmSesO9EzGTCgAAXO3E\n",
              "uU51RWPyeQxNyc+0eziuEBjvhnK/NZNKSAUAAC5kbUpfUpApr8eweTTu0Lfcb5qmzaO52Jn2rvjh\n",
              "DMnU2S8RUgEASBlNbD+VsJKC7hnn86GIzlwI2zyai1ml/qn5mRrn99k8mtFFSAUAIEXEO/vZyH/Y\n",
              "MtK8mpSbIUlqPNVu82guVtucnE1TEiEVAICU0cgeqSMScPDxqHU9M6nJth5VIqQCAJAyejfyH2fz\n",
              "SNzFCvVO3IYqWTv7JUIqAAApo4mZ1BGJb+jvwG2o6in3AwAAN2vrDOt0e5ek3vI1hqfMoeX+0+1d\n",
              "Onm++8+0Isk6+yVCKgAAKcEKWOPHpSs7ybrAr7RSh5b7rVJ/aWGmstKT78+UkAoAQApg+6mRs8r9\n",
              "x851KhSJ2jyaXvGmqeLkW48qEVIBAEgJ1npK1qMmbvy4dI1L98o0FT9W1gmsk6YqknA9qkRIBQAg\n",
              "JbBH6sgZhhGfgQ46qHmqlplUAADgdkHK/ZfFic1TdfHOfkIqAABwqSDbT10W631zSkg9eT6k0+1d\n",
              "Mozk7OyXCKkAACS9SDSmIz1rKSn3j4zT9kqNd/YXZCkz3WvzaK4MQioAAEnuWGunIjFT6V6PJuZk\n",
              "2D0cVwqM7z6lyynbUNWdSN5N/C2EVAAAkpxVoi4pzJTHY9g8GnfqW+43TdPm0ST3cagWQioAAEku\n",
              "3tnPetQRm5qfKY8hdYSjajkfsns4zKQOpK6uTvPnz1dVVZXmzJmjAwcODHjftm3bVFlZqenTp2vF\n",
              "ihUKh8NDXnvxxRc1d+5cXX311XrPe96jBx98ULFYbIQvDQAASOyROhrSfR5NzsuUZH/J3zRN1Tb3\n",
              "zKQm6fZT0ghCanV1tVauXKna2lo99NBDWrZs2UX3HDp0SOvWrdPevXtVX1+vEydOaOvWrUNeKygo\n",
              "0I9+9CP95S9/0Z///Gf94Q9/0Pe///3Le4UAAKQ4TpsaHU7p8G85H9LZC2F5krizX0owpDY3N2v/\n",
              "/v1aunSpJGnx4sVqampSfX19v/t27dqlRYsWadKkSTIMQ6tWrdLOnTuHvHbddddp2rRpkqSMjAzN\n",
              "mjVLDQ0Nl/saAQBIab0b+Y+zeSTu5pQOf6vUHyjMUkZacnb2S5IvkZubmpo0efJk+XzdP2YYhgKB\n",
              "gILBoCoqKuL3BYNBlZWVxb8vLy9XMBgc8lpfx48f165du/Tss88OOJZQKKRQqP+akGjUOefpAgDg\n",
              "FI2n2iVR7r9cAYds6J8KTVOSQxunzp07pw9/+MN68MEHdcMNNwx4z8aNG5WXl9fva9++fWM8UgAA\n",
              "nK31QljnOiOSCKmXy3r/7F6TWpsCTVNSgiG1tLRUx44dUyTS/ZfdNE0Fg0EFAoF+9wUCATU2Nsa/\n",
              "b2hoiN8z2DVJamtr02233aY77rhDa9asueRY1q5dq9bW1n5fc+fOTeTlAACQ9KxZv6Icf9Ju+j5W\n",
              "nFPu755JTdbjUC0JhdTi4mLNnj1bO3bskCTt3r1bJSUl/Ur9Uvda1T179uj48eMyTVNbtmzRkiVL\n",
              "hrx2/vx53Xbbbbrtttv05S9/edCx+P1+5ebm9vvyevmPDwCAvhpPU+ofLdZpXc1tIXV02bPE0DRN\n",
              "1TV3z6Qmc2e/NIJyf01NjWpqalRVVaVNmzZp+/btkqTly5drz549kqRp06Zpw4YNWrBggSoqKlRU\n",
              "VKTq6uohrz322GPat2+fnnnmGc2aNUuzZs3SI488MlqvFQCAlMMeqaMnLzNNORndfTmHz9gzm9rS\n",
              "FlJrR3dn/7Si5G6EM0wnHJswStasWaPNmzfbPQwAABzji7v/Wz/6U5Puv6VS/+vWKruH43r/+O29\n",
              "evPIOT35yRv0/qsnjvnv/33dSS3d9oqmTRinF/+/m8f8948lRzZOAQCA0WHNpFLuHx1275VqdfYn\n",
              "8/6oFkIqAABJrHePVELqaCi1OaTWNadG05RESAUAIGl1RWI6erZDEjOpo6WssHsdqH0zqT1NU0m+\n",
              "/ZRESAUAIGkdPduhmCllpHlUlOO3ezhJwc5yv2ma8XI/M6kAAMC1+q5HNQzD5tEkh74hNRYb297z\n",
              "E+dCauuMyOsxkr6zXyKkAgCQtBppmhp1U/Iz5PUY6orE1NwWGvoHRpE1i1o2Pkt+X/LvDU9IBQAg\n",
              "SVnHd5YSUkeNz+vR1PxMSWNf8o+X+pN8E38LIRUAgCQVPMVG/ldC7/Go7WP6e+t6mqaqUqBpSiKk\n",
              "AgCQtOLlfrafGlXW+9k01jOpPdtPVaZA05RESAUAICmZphkPUaxJHV12dPibpqn6+EwqIRUAALjU\n",
              "mQthnQ9FJEklBYTU0RQv949hSD3W2qm2UEQ+j6GrJiR/Z79ESAUAIClZ6yUn5WYoIy35O8HHkhVS\n",
              "x7LcbzVNlU8Yp3RfasS31HiVAACkmCDrUa8Y6z09eb5L7T2z1VdaqjVNSYRUAACSktXZz3rU0Zeb\n",
              "kaaCrDRJY7cu1ZpJrUyR7ackQioAAEkpSNPUFTXWzVN1zanVNCURUgEASEpWeCqj3H9FlI7hulTT\n",
              "NFXfTLkfAAAkgSCnTV1RVvhvPHXlQ+rR1k6d7+nsL0+Rzn6JkAoAQNLpDEd1/FynJMr9V8pYlvut\n",
              "9ahXTRinNG/qRLfUeaUAAKSII2c7ZJrSuHSvxo9Lt3s4Sal0DENqXU9ITaX1qBIhFQCApGN19pcW\n",
              "ZskwDJtHk5zKxneX3Q+fuaBozLyiv6u2Z/upyhRajyoRUgEASDp09l95k3IzlOY1FI6a8aUVVwoz\n",
              "qQAAICnQ2X/leT1G/LhZ63SvKyEWM/tsP8VMKgAAcLFGNvIfE2NxPOqRsx260BVVmteILzFIFYRU\n",
              "AACSTBPbT42Jsejwr2vuLvVPm5CdUp39EiEVAICkYppmn3J/as28jTUrpF7JvVJTtWlKIqQCAJBU\n",
              "Ws6H1BGOymNIU/Mz7R5OUguMv/Ll/toUbZqSCKkAACQVKzBNzstUuo//zV9JY1LuP5GaTVMSIRUA\n",
              "gKRC09TYsd7jMxfCOtcZHvXnj8VM1Tdb5X5mUgEAgIuxR+rYGef3aUJ294lewSuwLvXwmQ51hKNK\n",
              "93pUloJ/noRUAACSSDykskfqmCi9gttQWetRpxWNky/FOvslQioAAEklSLl/TFkznI1XIqQ2p27T\n",
              "lERIBQAgqVDuH1tXsnkqlZumJEIqAABJo6Mrqua2kCSORB0rV7Lcb23kn4pNUxIhFQCApNF0pjso\n",
              "5WT4lJeZZvNoUoN1YMJob+jft7Ofcj8AAHC1vutRDcOweTSpwSr3HznboUg0NmrP23TmgjrDMaX7\n",
              "PCm7dIOQCgBAkug9DjU1Q40dinP8Svd5FI2ZOnq2c9Se1zoOdXpRtrye1PwHByEVAIAkYYXU0hSd\n",
              "ebODx2Nckeap3uNQU7NpSiKkAgCQNOjst8eVCKl1J1J7+ymJkAoAQNKIl/sLx9k8ktQSiO+V2j5q\n",
              "z2mV+yuLmUkFAAAuFouZzKTaJDDK21BFY6YOtqR2Z79ESAUAICk0t4XUFYnJ6zE0OT/D7uGklNEu\n",
              "9wdPX1AoEpPf50np9cWEVAAAkkDjqe5S89T8TKWl4DnvdrJ2U2g8dUGmaV7281lNUxXFqdvZLxFS\n",
              "AQBICpT67VNS0P2et3VG1NoRvuzno2mqGyEVAIAkYK2HDLBH6pjLTPeqOMcvaXRK/vGmqRTefkoi\n",
              "pAIAkBQamUm1Vd+S/+WK75FazEwqAABwOcr99iodpeapSDSmt1u61xdT7gcAAK7XREi11WhtQ9V4\n",
              "+oK6ojFlpnlVUpA5GkNzrYRDal1dnebPn6+qqirNmTNHBw4cGPC+bdu2qbKyUtOnT9eKFSsUDoeH\n",
              "vNbQ0KCbb75ZeXl5mjVr1sheEQAAKeZ8KKKT57sksSbVLqNV7q/r09nvSeHOfmkEIbW6ulorV65U\n",
              "bW2tHnroIS1btuyiew4dOqR169Zp7969qq+v14kTJ7R169Yhr+Xm5urhhx/WD3/4w8t7VQAApBBr\n",
              "9i4/K025GWk2jyY1jdZeqTRN9UoopDY3N2v//v1aunSpJGnx4sVqampSfX19v/t27dqlRYsWadKk\n",
              "STIMQ6tWrdLOnTuHvFZYWKiFCxdq3DiOcwMAYLh6j0NlFtUu1prUY60d6orERvw8dc2cNGVJKKQ2\n",
              "NTVp8uTJ8vl8kiTDMBQIBBQMBvvdFwwGVVZWFv++vLw8fs9g1xIRCoV07ty5fl/RaDTh5wEAwO2C\n",
              "PSXmVD6dyG5F2X5lpnkVM6UjZztG/Dy9e6Qyk+raxqmNGzcqLy+v39e+ffvsHhYAAGOOzn77GYZx\n",
              "2SX/vp39lSm+/ZSUYEgtLS3VsWPHFIlEJEmmaSoYDCoQCPS7LxAIqLGxMf59Q0ND/J7BriVi7dq1\n",
              "am1t7fc1d+7chJ8HAAC3i5f7aZqyVXwbqp4jahPVcKq3s39qfmp39ksJhtTi4mLNnj1bO3bskCTt\n",
              "3r1bJSUlqqio6Hff4sWLtWfPHh0/flymaWrLli1asmTJkNcS4ff7lZub2+/L6/Um/DwAALidFVIp\n",
              "99vL+kfCSGdSrVJ/5UQ6+6URlPtrampUU1Ojqqoqbdq0Sdu3b5ckLV++XHv27JEkTZs2TRs2bNCC\n",
              "BQtUUVGhoqIiVVdXD3ntwoULKikp0cc+9jH95S9/UUlJidauXTtarxUAgKQTjZk6fIZyvxNcbrk/\n",
              "3tlPqV+S5Ev0B2bMmKGXX375oseffPLJft+vWLFCK1asGPA5LnUtKytLhw8fTnRIAACkrGOtHQpH\n",
              "TaV5DU3Oo0Rsp8Bl7pVa20zTVF+ubZwCAAC9s3YlBVnyUiK2Vd9Tp0zTTPjnezv7mUmVCKkAALha\n",
              "E+tRHaOkIFOGIbV3RXW6vSuhnw1HYzp0sqezn5lUSYRUAABczSots5G//fw+rybnZkiSGhNcl9pw\n",
              "sl3hqKlx6XT2WwipAAC4GHukOktpn5J/IqymqYqJOTIMlm1IhFQAAFzNCkMB9kh1hHiHf4LNU7XW\n",
              "etRiSv0WQioAAC7WyEyqo1h7pSZa7q9rpmnqnQipAAC4VGtHWGcvhCXROOUUpSPcKzW+RypNU3GE\n",
              "VAAAXMoq9U/ITle2P+Gtz3EFBEawJrUrElNDT2c/M6m9CKkAALgUx6E6T9n4cZKk4+c61RmODutn\n",
              "Dp1sVyRmKsfv0+S8jCs5PFchpAIA4FJ09jtPQVaasv0+maZ0+EzHsH7GapqqmJhNZ38fhFQAAFzK\n",
              "CqnskeochmH0WZfaPqyfqWvuXo9aVUypvy9CKgAALmVtc0S531nKEtyGyjoOlaap/gipAAC4FOV+\n",
              "Z7L2rA2eTqzcX0nTVD+EVAAAXCgcjenI2e4QZDXrwBkCCZT7Q5GoGnpmXKuYSe2HkAoAgAsdO9up\n",
              "aMxUus+j4hy/3cNBH4EE9ko9dLJd0Z7O/km5dPb3RUgFAMCF4ttPFWTK46Ej3En6hlTTNAe9t+8m\n",
              "/nT290dIBQDAhRp7SsmU+p1nakGmPIbUGY6ppS006L1W0xSb+F+MkAoAgAvRNOVcaV6PpuRnShq6\n",
              "5E/T1KURUgEAcKEmTptytOGuS63rKffTNHUxQioAAC7UeIqN/J2srGcbqsZB9krtDEfVcKp72Qbl\n",
              "/osRUgEAcBnTNOMbxVt7csJZrBnupkFmUt9uaVfMlHIzfOzQMABCKgAALtPaEVZbKCJJKi0gpDrR\n",
              "cMr9dc29TVN09l+MkAoAgMtYJeTiHL8y0702jwYDKSvs3nWhcZCQStPU4AipAAC4DJ39zmf92bS0\n",
              "hdTRFR3wnlqapgZFSAUAwGXiIZX1qI6Vl5Wm3AyfJKnpzMCzqeyROjhCKgAALhNvmmIm1dGsgxYG\n",
              "6vDvDEfjSwEqmUkdECEVAACXodzvDoM1T9U3n5dpSvlZaSrKprN/IIRUAABcxgo9ZZT7Hc1ajhHs\n",
              "2Qu1r3hnfzGd/ZdCSAUAwEW6IjEdbe2QxGlTTjfYTKp10hSl/ksjpAIA4CJHznbINKXMNC9lYocb\n",
              "LKRanf2VxYTUSyGkAgDgIo09peNAYRZlYoezQmrTmQ7FYma/a3038sfACKkAALiIdcwmpX7nm5yX\n",
              "IZ/HUFckphNtnfHHO7qi8dlVNvK/NEIqAAAuQme/e/i8Hk0tyJTUu22YJB1s6e7sL8hK04TsdLuG\n",
              "53iEVAAAXMTac5POfnew/jHR93jUvsehsmTj0gipAAC4CDOp7hJfl9ovpHIc6nAQUgEAcAnTNFmT\n",
              "6jIDdfhzHOrwEFIBAHCJU+1dau+KyjCkkp61jnA2a1lG36NRa3s6+yuLCamDIaQCAOAS1mzcpNwM\n",
              "ZaR5bR4NhqP0HeX+C10RNZ3uPoyBcv/gfHYPAAAADI/VIc56VPew/qxOtXfpfCiit1u616OOH5eu\n",
              "8RzGMChmUgEAcAmaptwnJyNNheO6t5kKnrrQe9IUs6hDIqQCAOAShFR3Ku3TPEXT1PARUgEAcIl4\n",
              "uZ89Ul2lrM+61L57pGJwhFQAAFyCmVR36t3Qv713j9Riyv1DIaQCAOACneGojp/rPv+dkOou1p/X\n",
              "X4+16chZq7OfmdShEFIBAHCBw2e6Z1Gz/b54Iw7cwVqe8f+CZyRJE7L9KuDPcEiEVAAAXCDY56Qp\n",
              "znt3F2smNWZ2f8/+qMNDSAUAwAV690jlpCm3mZiboXRvb+Si1D88CYfUuro6zZ8/X1VVVZozZ44O\n",
              "HDgw4H3btm1TZWWlpk+frhUrVigcDl/2NQAAUlVjz0xq2fhxNo8EifJ6DJX0+cdFBU1Tw5JwSK2u\n",
              "rtbKlStVW1urhx56SMuWLbvonkOHDmndunXau3ev6uvrdeLECW3duvWyrgEAkMqa+pT74T59m92Y\n",
              "SR2ehEJqc3Oz9u/fr6VLl0qSFi9erKamJtXX1/e7b9euXVq0aJEmTZokwzC0atUq7dy587KuAQCQ\n",
              "yth+yt36h1RmUofDl8jNTU1Nmjx5sny+7h8zDEOBQEDBYFAVFRXx+4LBoMrKyuLfl5eXKxgMXta1\n",
              "dwqFQgqFQv0ei0ajibycy/Kb/zmh7710cMx+HwAgtb3d0i6pd2N4uIsVUoty/MrPorN/OBIKqU6y\n",
              "ceNGbdiwod9j8+bNG7Pff/J8SPsbz4zZ7wMAoCArTVPyaZxyo2un5kmSbigrsHkk7pFQSC0tLdWx\n",
              "Y8cUiUTk8/lkmqaCwaACgUC/+wKBgA4e7J1lbGhoiN8z0mvvtHbtWq1Zs6bfY+vWrUvk5VyW+dMn\n",
              "aMvS2WP2+wAAeM+UPKX72JjHjeZeVaiffWaBphXR+DZcCYXU4uJizZ49Wzt27NCyZcu0e/dulZSU\n",
              "9Cv1S91rVRcuXKj169dr4sSJ2rJli5YsWXJZ197J7/fL7/f3e8zr9Sbyci5LaWEWi9cBAMCwGIah\n",
              "WaX5dg/DVRL+51hNTY1qampUVVWlTZs2afv27ZKk5cuXa8+ePZKkadOmacOGDVqwYIEqKipUVFSk\n",
              "6urqy7oGAACA1GGYpmnaPYjRsmbNGm3evNnuYQAAAOAysbAFAAAAjkNIBQAAgOMQUgEAAOA4hFQA\n",
              "AAA4DiEVAAAAjkNIBQAAgOMQUgEAAOA4hFQAAAA4DiEVAAAAjpNUJ07dddddKi8vH7PfF41GtW/f\n",
              "Ps2dO1der3fMfq8b8V4NH+/V8PFeDR/v1fDxXiWG92v4eK+6lZWV6f777x/yvqQKqWPt3LlzysvL\n",
              "U2trq3Jzc+0ejqPxXg0f79Xw8V4NH+/V8PFeJYb3a/h4rxJDuR8AAACOQ0gFAACA4xBSAQAA4DiE\n",
              "1Mvg9/v1la98RX6/3+6hOB7v1fDxXg0f79Xw8V4NH+9VYni/ho/3KjE0TgEAAMBxmEkFAACA4xBS\n",
              "AQAA4DiEVAAAADgOIXWE6urqNH/+fFVVVWnOnDk6cOCA3UNypM7OTt15552qqqrSzJkzdeutt6q+\n",
              "vt7uYTne9u3bZRiGfvazn9k9FMcKhUL67Gc/q8rKSl177bVaunSp3UNyrF/+8peaPXu2Zs2apWuu\n",
              "uUZPP/203UNylM997nMqLy+XYRh67bXX4o/zOX+xgd4rPucHdqm/VxY+54dGSB2h6upqrVy5UrW1\n",
              "tXrooYe0bNkyu4fkWCtXrtRbb72l119/XXfccYeWL19u95AcraGhQU888YTmzZtn91Ac7Ytf/KIM\n",
              "w1Btba3eeOMNfeMb37B7SI5kmqaWLl2qp556Sq+99pqeffZZVVdXq62tze6hOcZHP/pR/f73v1dZ\n",
              "WVm/x/mcv9il3is+5y92qfdK4nN+uAipI9Dc3Kz9+/fHZ24WL16spqYm/uU4gIyMDN1+++0yDEOS\n",
              "NG/ePDU0NNg7KAeLxWJavny5vv3tb7NFySDa29u1bds2PfLII/G/W5MmTbJ5VM5lGIbOnj0rqftY\n",
              "xvHjx/P3q4+bbrpJJSUl/R7jc35gA71XfM4PbKD3SuJzPhGE1BFoamrS5MmT5fP5JHX/DyAQCCgY\n",
              "DNo8Mud77LHHdMcdd9g9DMfavHmzFixYoOuvv97uoTjawYMHVVhYqEcffVQ33HCD3ve+9+k3v/mN\n",
              "3cNyJMMw9OMf/1h33XWXysrKtHDhQj399NNKT0+3e2iOxuf8yPE5Pzg+54fPZ/cAkDoeffRR1dfX\n",
              "EyYu4c0339Tu3bv1u9/9zu6hOF4kElFjY6Ouvvpqbdq0Sa+++qpuvfVWHThwQBMnTrR7eI4SiUT0\n",
              "8MMP65lnntFNN92kP/3pT1q0aJHeeOMNTZgwwe7hIcnwOT84PucTw0zqCJSWlurYsWOKRCKSutd8\n",
              "BYNBBQIBm0fmXN/4xjf0zDPP6LnnnlNWVpbdw3GkvXv3qqGhQZWVlSovL9cf//hHrVy5Ut/73vfs\n",
              "HprjBAIBeTwefeITn5AkXXfddbrqqqv0xhtv2Dwy53nttdd09OhR3XTTTZKkOXPmqKSkRK+++qrN\n",
              "I3M2PucTx+f80PicTwwhdQSKi4s1e/Zs7dixQ5K0e/dulZSUqKKiwuaROdPmzZu1c+dO/frXv1Z+\n",
              "fr7dw3Gs1atX69ixY2poaFBDQ4PmzZunrVu3avXq1XYPzXEmTJigW265RS+88IIk6dChQzp06JDe\n",
              "/e532zwy57HC1v/8z/9Ikurr63Xw4EHNmDHD5pE5G5/zieFzfnj4nE8Mx6KO0FtvvaVly5bp1KlT\n",
              "ys3N1fbt23XttdfaPSzHOXz4sEpLSzVt2jTl5ORI6j67+JVXXrF5ZM5388036/Of/7zuvPNOu4fi\n",
              "SG+//bY+/elP6+TJk/J4PPq3f/s3LV682O5hOdLOnTv16KOPyuPxKBaLae3atfrnf/5nu4flGNXV\n",
              "1frFL36h48ePa/z48crJyVF9fT2f8wMY6L166aWX+JwfwKX+XvXF5/zgCKkAAABwHMr9AAAAcBxC\n",
              "KgAAAByHkAoAAADHIaQCAADAcQipAAAAcBxCKgAAAByHkAoAAADHIaQCAADAcQipAAAAcBxCKgAA\n",
              "AByHkAoAAADH+f8BMEoxR9v4K+QAAAAASUVORK5CYII=\n",
              "\">\n",
              "      </div>\n",
              "      <script type=\"text/javascript\">\n",
              "        (() => {\n",
              "          const chartElement = document.getElementById(\"chart-cc05af8b-3a8e-4501-87ca-024e0f86b9ab\");\n",
              "          async function getCodeForChartHandler(event) {\n",
              "            const chartCodeResponse =  await google.colab.kernel.invokeFunction(\n",
              "                'getCodeForChart', [\"chart-cc05af8b-3a8e-4501-87ca-024e0f86b9ab\"], {});\n",
              "            const responseJson = chartCodeResponse.data['application/json'];\n",
              "            await google.colab.notebook.addCell(responseJson.code, 'code');\n",
              "          }\n",
              "          chartElement.onclick = getCodeForChartHandler;\n",
              "        })();\n",
              "      </script>\n",
              "      <style>\n",
              "        .colab-quickchart-chart-with-code  {\n",
              "            display: block;\n",
              "            float: left;\n",
              "            border: 1px solid transparent;\n",
              "        }\n",
              "\n",
              "        .colab-quickchart-chart-with-code:hover {\n",
              "            cursor: pointer;\n",
              "            border: 1px solid #aaa;\n",
              "        }\n",
              "      </style>"
            ]
          },
          "metadata": {}
        }
      ]
    },
    {
      "cell_type": "markdown",
      "metadata": {
        "id": "JNKpDtTh8awi"
      },
      "source": [
        "Did you notice something different in the `RatecodeID` column for above records?"
      ]
    },
    {
      "cell_type": "code",
      "execution_count": 26,
      "metadata": {
        "id": "9eVrrj7c3kjq",
        "colab": {
          "base_uri": "https://localhost:8080/",
          "height": 303
        },
        "outputId": "c5736e97-4f27-460a-e216-a3e7f0e821e5"
      },
      "outputs": [
        {
          "output_type": "execute_result",
          "data": {
            "text/plain": [
              "RatecodeID\n",
              "1.0     625512\n",
              "2.0      26917\n",
              "5.0       4921\n",
              "4.0       2093\n",
              "99.0       719\n",
              "3.0        551\n",
              "Name: count, dtype: int64"
            ],
            "text/html": [
              "<div>\n",
              "<style scoped>\n",
              "    .dataframe tbody tr th:only-of-type {\n",
              "        vertical-align: middle;\n",
              "    }\n",
              "\n",
              "    .dataframe tbody tr th {\n",
              "        vertical-align: top;\n",
              "    }\n",
              "\n",
              "    .dataframe thead th {\n",
              "        text-align: right;\n",
              "    }\n",
              "</style>\n",
              "<table border=\"1\" class=\"dataframe\">\n",
              "  <thead>\n",
              "    <tr style=\"text-align: right;\">\n",
              "      <th></th>\n",
              "      <th>count</th>\n",
              "    </tr>\n",
              "    <tr>\n",
              "      <th>RatecodeID</th>\n",
              "      <th></th>\n",
              "    </tr>\n",
              "  </thead>\n",
              "  <tbody>\n",
              "    <tr>\n",
              "      <th>1.0</th>\n",
              "      <td>625512</td>\n",
              "    </tr>\n",
              "    <tr>\n",
              "      <th>2.0</th>\n",
              "      <td>26917</td>\n",
              "    </tr>\n",
              "    <tr>\n",
              "      <th>5.0</th>\n",
              "      <td>4921</td>\n",
              "    </tr>\n",
              "    <tr>\n",
              "      <th>4.0</th>\n",
              "      <td>2093</td>\n",
              "    </tr>\n",
              "    <tr>\n",
              "      <th>99.0</th>\n",
              "      <td>719</td>\n",
              "    </tr>\n",
              "    <tr>\n",
              "      <th>3.0</th>\n",
              "      <td>551</td>\n",
              "    </tr>\n",
              "  </tbody>\n",
              "</table>\n",
              "</div><br><label><b>dtype:</b> int64</label>"
            ]
          },
          "metadata": {},
          "execution_count": 26
        }
      ],
      "source": [
        "# Analyse RatecodeID for the negative fare amounts\n",
        "df.RatecodeID.value_counts()\n"
      ]
    },
    {
      "cell_type": "code",
      "execution_count": 36,
      "metadata": {
        "id": "Ruyh2vaCRNxr",
        "colab": {
          "base_uri": "https://localhost:8080/",
          "height": 551
        },
        "outputId": "75c150c9-f055-4740-8fb4-949a3ed684c9"
      },
      "outputs": [
        {
          "output_type": "execute_result",
          "data": {
            "text/plain": [
              "                   Column  Negative-Values\n",
              "0                VendorID             1.00\n",
              "1    tpep_pickup_datetime             0.00\n",
              "2   tpep_dropoff_datetime             0.00\n",
              "3         passenger_count             0.00\n",
              "4           trip_distance             0.00\n",
              "5              RatecodeID             1.00\n",
              "6            PULocationID             1.00\n",
              "7            DOLocationID             1.00\n",
              "8            payment_type             0.00\n",
              "9             fare_amount             0.00\n",
              "10                  extra             0.00\n",
              "11             tip_amount             0.00\n",
              "12  improvement_surcharge            -1.00\n",
              "13           total_amount            -3.25\n",
              "14   congestion_surcharge             0.00\n",
              "15   Airport_Fee_Combined            -1.75"
            ],
            "text/html": [
              "\n",
              "  <div id=\"df-8019f250-4599-436e-bca3-54cfd982cb5e\" class=\"colab-df-container\">\n",
              "    <div>\n",
              "<style scoped>\n",
              "    .dataframe tbody tr th:only-of-type {\n",
              "        vertical-align: middle;\n",
              "    }\n",
              "\n",
              "    .dataframe tbody tr th {\n",
              "        vertical-align: top;\n",
              "    }\n",
              "\n",
              "    .dataframe thead th {\n",
              "        text-align: right;\n",
              "    }\n",
              "</style>\n",
              "<table border=\"1\" class=\"dataframe\">\n",
              "  <thead>\n",
              "    <tr style=\"text-align: right;\">\n",
              "      <th></th>\n",
              "      <th>Column</th>\n",
              "      <th>Negative-Values</th>\n",
              "    </tr>\n",
              "  </thead>\n",
              "  <tbody>\n",
              "    <tr>\n",
              "      <th>0</th>\n",
              "      <td>VendorID</td>\n",
              "      <td>1.00</td>\n",
              "    </tr>\n",
              "    <tr>\n",
              "      <th>1</th>\n",
              "      <td>tpep_pickup_datetime</td>\n",
              "      <td>0.00</td>\n",
              "    </tr>\n",
              "    <tr>\n",
              "      <th>2</th>\n",
              "      <td>tpep_dropoff_datetime</td>\n",
              "      <td>0.00</td>\n",
              "    </tr>\n",
              "    <tr>\n",
              "      <th>3</th>\n",
              "      <td>passenger_count</td>\n",
              "      <td>0.00</td>\n",
              "    </tr>\n",
              "    <tr>\n",
              "      <th>4</th>\n",
              "      <td>trip_distance</td>\n",
              "      <td>0.00</td>\n",
              "    </tr>\n",
              "    <tr>\n",
              "      <th>5</th>\n",
              "      <td>RatecodeID</td>\n",
              "      <td>1.00</td>\n",
              "    </tr>\n",
              "    <tr>\n",
              "      <th>6</th>\n",
              "      <td>PULocationID</td>\n",
              "      <td>1.00</td>\n",
              "    </tr>\n",
              "    <tr>\n",
              "      <th>7</th>\n",
              "      <td>DOLocationID</td>\n",
              "      <td>1.00</td>\n",
              "    </tr>\n",
              "    <tr>\n",
              "      <th>8</th>\n",
              "      <td>payment_type</td>\n",
              "      <td>0.00</td>\n",
              "    </tr>\n",
              "    <tr>\n",
              "      <th>9</th>\n",
              "      <td>fare_amount</td>\n",
              "      <td>0.00</td>\n",
              "    </tr>\n",
              "    <tr>\n",
              "      <th>10</th>\n",
              "      <td>extra</td>\n",
              "      <td>0.00</td>\n",
              "    </tr>\n",
              "    <tr>\n",
              "      <th>11</th>\n",
              "      <td>tip_amount</td>\n",
              "      <td>0.00</td>\n",
              "    </tr>\n",
              "    <tr>\n",
              "      <th>12</th>\n",
              "      <td>improvement_surcharge</td>\n",
              "      <td>-1.00</td>\n",
              "    </tr>\n",
              "    <tr>\n",
              "      <th>13</th>\n",
              "      <td>total_amount</td>\n",
              "      <td>-3.25</td>\n",
              "    </tr>\n",
              "    <tr>\n",
              "      <th>14</th>\n",
              "      <td>congestion_surcharge</td>\n",
              "      <td>0.00</td>\n",
              "    </tr>\n",
              "    <tr>\n",
              "      <th>15</th>\n",
              "      <td>Airport_Fee_Combined</td>\n",
              "      <td>-1.75</td>\n",
              "    </tr>\n",
              "  </tbody>\n",
              "</table>\n",
              "</div>\n",
              "    <div class=\"colab-df-buttons\">\n",
              "\n",
              "  <div class=\"colab-df-container\">\n",
              "    <button class=\"colab-df-convert\" onclick=\"convertToInteractive('df-8019f250-4599-436e-bca3-54cfd982cb5e')\"\n",
              "            title=\"Convert this dataframe to an interactive table.\"\n",
              "            style=\"display:none;\">\n",
              "\n",
              "  <svg xmlns=\"http://www.w3.org/2000/svg\" height=\"24px\" viewBox=\"0 -960 960 960\">\n",
              "    <path d=\"M120-120v-720h720v720H120Zm60-500h600v-160H180v160Zm220 220h160v-160H400v160Zm0 220h160v-160H400v160ZM180-400h160v-160H180v160Zm440 0h160v-160H620v160ZM180-180h160v-160H180v160Zm440 0h160v-160H620v160Z\"/>\n",
              "  </svg>\n",
              "    </button>\n",
              "\n",
              "  <style>\n",
              "    .colab-df-container {\n",
              "      display:flex;\n",
              "      gap: 12px;\n",
              "    }\n",
              "\n",
              "    .colab-df-convert {\n",
              "      background-color: #E8F0FE;\n",
              "      border: none;\n",
              "      border-radius: 50%;\n",
              "      cursor: pointer;\n",
              "      display: none;\n",
              "      fill: #1967D2;\n",
              "      height: 32px;\n",
              "      padding: 0 0 0 0;\n",
              "      width: 32px;\n",
              "    }\n",
              "\n",
              "    .colab-df-convert:hover {\n",
              "      background-color: #E2EBFA;\n",
              "      box-shadow: 0px 1px 2px rgba(60, 64, 67, 0.3), 0px 1px 3px 1px rgba(60, 64, 67, 0.15);\n",
              "      fill: #174EA6;\n",
              "    }\n",
              "\n",
              "    .colab-df-buttons div {\n",
              "      margin-bottom: 4px;\n",
              "    }\n",
              "\n",
              "    [theme=dark] .colab-df-convert {\n",
              "      background-color: #3B4455;\n",
              "      fill: #D2E3FC;\n",
              "    }\n",
              "\n",
              "    [theme=dark] .colab-df-convert:hover {\n",
              "      background-color: #434B5C;\n",
              "      box-shadow: 0px 1px 3px 1px rgba(0, 0, 0, 0.15);\n",
              "      filter: drop-shadow(0px 1px 2px rgba(0, 0, 0, 0.3));\n",
              "      fill: #FFFFFF;\n",
              "    }\n",
              "  </style>\n",
              "\n",
              "    <script>\n",
              "      const buttonEl =\n",
              "        document.querySelector('#df-8019f250-4599-436e-bca3-54cfd982cb5e button.colab-df-convert');\n",
              "      buttonEl.style.display =\n",
              "        google.colab.kernel.accessAllowed ? 'block' : 'none';\n",
              "\n",
              "      async function convertToInteractive(key) {\n",
              "        const element = document.querySelector('#df-8019f250-4599-436e-bca3-54cfd982cb5e');\n",
              "        const dataTable =\n",
              "          await google.colab.kernel.invokeFunction('convertToInteractive',\n",
              "                                                    [key], {});\n",
              "        if (!dataTable) return;\n",
              "\n",
              "        const docLinkHtml = 'Like what you see? Visit the ' +\n",
              "          '<a target=\"_blank\" href=https://colab.research.google.com/notebooks/data_table.ipynb>data table notebook</a>'\n",
              "          + ' to learn more about interactive tables.';\n",
              "        element.innerHTML = '';\n",
              "        dataTable['output_type'] = 'display_data';\n",
              "        await google.colab.output.renderOutput(dataTable, element);\n",
              "        const docLink = document.createElement('div');\n",
              "        docLink.innerHTML = docLinkHtml;\n",
              "        element.appendChild(docLink);\n",
              "      }\n",
              "    </script>\n",
              "  </div>\n",
              "\n",
              "\n",
              "<div id=\"df-0bf29e92-e85a-4258-9aa1-9f16710f9d37\">\n",
              "  <button class=\"colab-df-quickchart\" onclick=\"quickchart('df-0bf29e92-e85a-4258-9aa1-9f16710f9d37')\"\n",
              "            title=\"Suggest charts\"\n",
              "            style=\"display:none;\">\n",
              "\n",
              "<svg xmlns=\"http://www.w3.org/2000/svg\" height=\"24px\"viewBox=\"0 0 24 24\"\n",
              "     width=\"24px\">\n",
              "    <g>\n",
              "        <path d=\"M19 3H5c-1.1 0-2 .9-2 2v14c0 1.1.9 2 2 2h14c1.1 0 2-.9 2-2V5c0-1.1-.9-2-2-2zM9 17H7v-7h2v7zm4 0h-2V7h2v10zm4 0h-2v-4h2v4z\"/>\n",
              "    </g>\n",
              "</svg>\n",
              "  </button>\n",
              "\n",
              "<style>\n",
              "  .colab-df-quickchart {\n",
              "      --bg-color: #E8F0FE;\n",
              "      --fill-color: #1967D2;\n",
              "      --hover-bg-color: #E2EBFA;\n",
              "      --hover-fill-color: #174EA6;\n",
              "      --disabled-fill-color: #AAA;\n",
              "      --disabled-bg-color: #DDD;\n",
              "  }\n",
              "\n",
              "  [theme=dark] .colab-df-quickchart {\n",
              "      --bg-color: #3B4455;\n",
              "      --fill-color: #D2E3FC;\n",
              "      --hover-bg-color: #434B5C;\n",
              "      --hover-fill-color: #FFFFFF;\n",
              "      --disabled-bg-color: #3B4455;\n",
              "      --disabled-fill-color: #666;\n",
              "  }\n",
              "\n",
              "  .colab-df-quickchart {\n",
              "    background-color: var(--bg-color);\n",
              "    border: none;\n",
              "    border-radius: 50%;\n",
              "    cursor: pointer;\n",
              "    display: none;\n",
              "    fill: var(--fill-color);\n",
              "    height: 32px;\n",
              "    padding: 0;\n",
              "    width: 32px;\n",
              "  }\n",
              "\n",
              "  .colab-df-quickchart:hover {\n",
              "    background-color: var(--hover-bg-color);\n",
              "    box-shadow: 0 1px 2px rgba(60, 64, 67, 0.3), 0 1px 3px 1px rgba(60, 64, 67, 0.15);\n",
              "    fill: var(--button-hover-fill-color);\n",
              "  }\n",
              "\n",
              "  .colab-df-quickchart-complete:disabled,\n",
              "  .colab-df-quickchart-complete:disabled:hover {\n",
              "    background-color: var(--disabled-bg-color);\n",
              "    fill: var(--disabled-fill-color);\n",
              "    box-shadow: none;\n",
              "  }\n",
              "\n",
              "  .colab-df-spinner {\n",
              "    border: 2px solid var(--fill-color);\n",
              "    border-color: transparent;\n",
              "    border-bottom-color: var(--fill-color);\n",
              "    animation:\n",
              "      spin 1s steps(1) infinite;\n",
              "  }\n",
              "\n",
              "  @keyframes spin {\n",
              "    0% {\n",
              "      border-color: transparent;\n",
              "      border-bottom-color: var(--fill-color);\n",
              "      border-left-color: var(--fill-color);\n",
              "    }\n",
              "    20% {\n",
              "      border-color: transparent;\n",
              "      border-left-color: var(--fill-color);\n",
              "      border-top-color: var(--fill-color);\n",
              "    }\n",
              "    30% {\n",
              "      border-color: transparent;\n",
              "      border-left-color: var(--fill-color);\n",
              "      border-top-color: var(--fill-color);\n",
              "      border-right-color: var(--fill-color);\n",
              "    }\n",
              "    40% {\n",
              "      border-color: transparent;\n",
              "      border-right-color: var(--fill-color);\n",
              "      border-top-color: var(--fill-color);\n",
              "    }\n",
              "    60% {\n",
              "      border-color: transparent;\n",
              "      border-right-color: var(--fill-color);\n",
              "    }\n",
              "    80% {\n",
              "      border-color: transparent;\n",
              "      border-right-color: var(--fill-color);\n",
              "      border-bottom-color: var(--fill-color);\n",
              "    }\n",
              "    90% {\n",
              "      border-color: transparent;\n",
              "      border-bottom-color: var(--fill-color);\n",
              "    }\n",
              "  }\n",
              "</style>\n",
              "\n",
              "  <script>\n",
              "    async function quickchart(key) {\n",
              "      const quickchartButtonEl =\n",
              "        document.querySelector('#' + key + ' button');\n",
              "      quickchartButtonEl.disabled = true;  // To prevent multiple clicks.\n",
              "      quickchartButtonEl.classList.add('colab-df-spinner');\n",
              "      try {\n",
              "        const charts = await google.colab.kernel.invokeFunction(\n",
              "            'suggestCharts', [key], {});\n",
              "      } catch (error) {\n",
              "        console.error('Error during call to suggestCharts:', error);\n",
              "      }\n",
              "      quickchartButtonEl.classList.remove('colab-df-spinner');\n",
              "      quickchartButtonEl.classList.add('colab-df-quickchart-complete');\n",
              "    }\n",
              "    (() => {\n",
              "      let quickchartButtonEl =\n",
              "        document.querySelector('#df-0bf29e92-e85a-4258-9aa1-9f16710f9d37 button');\n",
              "      quickchartButtonEl.style.display =\n",
              "        google.colab.kernel.accessAllowed ? 'block' : 'none';\n",
              "    })();\n",
              "  </script>\n",
              "</div>\n",
              "\n",
              "    </div>\n",
              "  </div>\n"
            ],
            "application/vnd.google.colaboratory.intrinsic+json": {
              "type": "dataframe",
              "summary": "{\n  \"name\": \"})\",\n  \"rows\": 16,\n  \"fields\": [\n    {\n      \"column\": \"Column\",\n      \"properties\": {\n        \"dtype\": \"string\",\n        \"num_unique_values\": 16,\n        \"samples\": [\n          \"VendorID\",\n          \"tpep_pickup_datetime\",\n          \"RatecodeID\"\n        ],\n        \"semantic_type\": \"\",\n        \"description\": \"\"\n      }\n    },\n    {\n      \"column\": \"Negative-Values\",\n      \"properties\": {\n        \"dtype\": \"number\",\n        \"std\": 1.1067971810589328,\n        \"min\": -3.25,\n        \"max\": 1.0,\n        \"num_unique_values\": 5,\n        \"samples\": [\n          0.0,\n          -1.75,\n          -1.0\n        ],\n        \"semantic_type\": \"\",\n        \"description\": \"\"\n      }\n    }\n  ]\n}"
            }
          },
          "metadata": {},
          "execution_count": 36
        }
      ],
      "source": [
        "# Find which columns have negative values\n",
        "pd.DataFrame({\n",
        "    'Column': df.columns.values,\n",
        "    'Negative-Values': [df[col].min() if col in df.select_dtypes(include=[np.number]).columns else 0 for col in df.columns]\n",
        "})\n"
      ]
    },
    {
      "cell_type": "code",
      "execution_count": null,
      "metadata": {
        "id": "mPehZ6PJg3_J"
      },
      "outputs": [],
      "source": [
        "# fix these negative values\n",
        "\n"
      ]
    },
    {
      "cell_type": "markdown",
      "metadata": {
        "id": "x2hakCCy6wXI"
      },
      "source": [
        "### **2.2** Handling Missing Values\n",
        "<font color = red>[10 marks]</font> <br>"
      ]
    },
    {
      "cell_type": "markdown",
      "metadata": {
        "id": "-K-QNPDVVhzR"
      },
      "source": [
        "**2.2.1**  <font color = red>[2 marks]</font> <br>\n",
        "Find the proportion of missing values in each column\n",
        "\n",
        "\n"
      ]
    },
    {
      "cell_type": "code",
      "execution_count": null,
      "metadata": {
        "id": "tfTa9cct6Gec"
      },
      "outputs": [],
      "source": [
        "# Find the proportion of missing values in each column\n",
        "\n"
      ]
    },
    {
      "cell_type": "markdown",
      "metadata": {
        "id": "-UdUl6AL_-E_"
      },
      "source": [
        "**2.2.2**  <font color = red>[3 marks]</font> <br>\n",
        "Handling missing values in `passenger_count`"
      ]
    },
    {
      "cell_type": "code",
      "execution_count": null,
      "metadata": {
        "id": "JmNmhr4q8Xys"
      },
      "outputs": [],
      "source": [
        "# Display the rows with null values\n",
        "# Impute NaN values in 'passenger_count'\n"
      ]
    },
    {
      "cell_type": "markdown",
      "metadata": {
        "id": "hIPCyR6UCw0c"
      },
      "source": [
        "Did you find zeroes in passenger_count? Handle these."
      ]
    },
    {
      "cell_type": "markdown",
      "metadata": {
        "id": "IUr4fwkjBUTQ"
      },
      "source": [
        "**2.2.3**  <font color = red>[2 marks]</font> <br>\n",
        "Handle missing values in `RatecodeID`"
      ]
    },
    {
      "cell_type": "code",
      "execution_count": null,
      "metadata": {
        "id": "qEgFxytzBkrB"
      },
      "outputs": [],
      "source": [
        "# Fix missing values in 'RatecodeID'\n"
      ]
    },
    {
      "cell_type": "markdown",
      "metadata": {
        "id": "0TjHXzuODCUW"
      },
      "source": [
        "**2.2.4**  <font color = red>[3 marks]</font> <br>\n",
        "Impute NaN in `congestion_surcharge`"
      ]
    },
    {
      "cell_type": "code",
      "execution_count": null,
      "metadata": {
        "id": "HqnabUGC3xOA"
      },
      "outputs": [],
      "source": [
        "# handle null values in congestion_surcharge\n",
        "\n",
        "\n"
      ]
    },
    {
      "cell_type": "markdown",
      "metadata": {
        "id": "4FZEdgAgUbPl"
      },
      "source": [
        "Are there missing values in other columns? Did you find NaN values in some other set of columns? Handle those missing values below."
      ]
    },
    {
      "cell_type": "code",
      "execution_count": null,
      "metadata": {
        "id": "iDLpyqCRXa3K"
      },
      "outputs": [],
      "source": [
        "# Handle any remaining missing values\n",
        "\n"
      ]
    },
    {
      "cell_type": "markdown",
      "metadata": {
        "id": "2jyQyYIpCztl"
      },
      "source": [
        "### **2.3** Handling Outliers\n",
        "<font color = red>[10 marks]</font> <br>"
      ]
    },
    {
      "cell_type": "markdown",
      "metadata": {
        "id": "ZoVwZzuEMTHB"
      },
      "source": [
        "Before we start fixing outliers, let's perform outlier analysis."
      ]
    },
    {
      "cell_type": "code",
      "execution_count": null,
      "metadata": {
        "id": "zHK5K6uV8XpU"
      },
      "outputs": [],
      "source": [
        "# Describe the data and check if there are any potential outliers present\n",
        "# Check for potential out of place values in various columns\n",
        "\n"
      ]
    },
    {
      "cell_type": "markdown",
      "metadata": {
        "id": "4XDuLkufyJ2g"
      },
      "source": [
        "**2.3.1**  <font color = red>[10 marks]</font> <br>\n",
        "Based on the above analysis, it seems that some of the outliers are present due to errors in registering the trips. Fix the outliers.\n",
        "\n",
        "Some points you can look for:\n",
        "- Entries where `trip_distance` is nearly 0 and `fare_amount` is more than 300\n",
        "- Entries where `trip_distance` and `fare_amount` are 0 but the pickup and dropoff zones are different (both distance and fare should not be zero for different zones)\n",
        "- Entries where `trip_distance` is more than 250  miles.\n",
        "- Entries where `payment_type` is 0 (there is no payment_type 0 defined in the data dictionary)\n",
        "\n",
        "These are just some suggestions. You can handle outliers in any way you wish, using the insights from above outlier analysis."
      ]
    },
    {
      "cell_type": "markdown",
      "metadata": {
        "id": "u-YNHI8tea9c"
      },
      "source": [
        "How will you fix each of these values? Which ones will you drop and which ones will you replace?"
      ]
    },
    {
      "cell_type": "markdown",
      "metadata": {
        "id": "Ap4IfwXO4yZe"
      },
      "source": [
        "First, let us remove 7+ passenger counts as there are very less instances."
      ]
    },
    {
      "cell_type": "code",
      "execution_count": null,
      "metadata": {
        "id": "XfsOFY5y9-fA"
      },
      "outputs": [],
      "source": [
        "# remove passenger_count > 6\n"
      ]
    },
    {
      "cell_type": "code",
      "execution_count": null,
      "metadata": {
        "id": "FCUNe3tu8bie"
      },
      "outputs": [],
      "source": [
        "# Continue with outlier handling\n",
        "\n"
      ]
    },
    {
      "cell_type": "code",
      "execution_count": null,
      "metadata": {
        "id": "PuzQXfuT8YKV"
      },
      "outputs": [],
      "source": [
        "# Do any columns need standardising?\n",
        "\n"
      ]
    },
    {
      "cell_type": "markdown",
      "metadata": {
        "id": "gPpJyFFNffcL"
      },
      "source": [
        "## **3** Exploratory Data Analysis\n",
        "<font color = red>[90 marks]</font> <br>"
      ]
    },
    {
      "cell_type": "code",
      "execution_count": null,
      "metadata": {
        "id": "cl-0PcYTfkqh"
      },
      "outputs": [],
      "source": [
        "df.columns.tolist()"
      ]
    },
    {
      "cell_type": "markdown",
      "metadata": {
        "id": "a4N3PvkSTwcN"
      },
      "source": [
        "#### **3.1** General EDA: Finding Patterns and Trends\n",
        "<font color = red>[40 marks]</font> <br>"
      ]
    },
    {
      "cell_type": "markdown",
      "metadata": {
        "id": "9hwonDfZTJO6"
      },
      "source": [
        "**3.1.1** <font color = red>[3 marks]</font> <br>\n",
        "Categorise the varaibles into Numerical or Categorical.\n",
        "* `VendorID`:\n",
        "* `tpep_pickup_datetime`:\n",
        "* `tpep_dropoff_datetime`:\n",
        "* `passenger_count`:\n",
        "* `trip_distance`:\n",
        "* `RatecodeID`:\n",
        "* `PULocationID`:\n",
        "* `DOLocationID`:\n",
        "* `payment_type`:\n",
        "* `pickup_hour`:\n",
        "* `trip_duration`:\n",
        "\n",
        "\n",
        "The following monetary parameters belong in the same category, is it categorical or numerical?\n",
        "\n",
        "\n",
        "* `fare_amount`\n",
        "* `extra`\n",
        "* `mta_tax`\n",
        "* `tip_amount`\n",
        "* `tolls_amount`\n",
        "* `improvement_surcharge`\n",
        "* `total_amount`\n",
        "* `congestion_surcharge`\n",
        "* `airport_fee`"
      ]
    },
    {
      "cell_type": "markdown",
      "metadata": {
        "id": "MbGMjArkiXjL"
      },
      "source": [
        "##### Temporal Analysis"
      ]
    },
    {
      "cell_type": "markdown",
      "metadata": {
        "id": "ZCCbmQ49s2qj"
      },
      "source": [
        "**3.1.2** <font color = red>[5 marks]</font> <br>\n",
        "Analyse the distribution of taxi pickups by hours, days of the week, and months."
      ]
    },
    {
      "cell_type": "code",
      "execution_count": null,
      "metadata": {
        "id": "RwgWN_MWg0Au"
      },
      "outputs": [],
      "source": [
        "# Find and show the hourly trends in taxi pickups\n",
        "\n"
      ]
    },
    {
      "cell_type": "code",
      "execution_count": null,
      "metadata": {
        "id": "R64b8zfkG5OK"
      },
      "outputs": [],
      "source": [
        "# Find and show the daily trends in taxi pickups (days of the week)\n",
        "\n"
      ]
    },
    {
      "cell_type": "code",
      "execution_count": null,
      "metadata": {
        "id": "H7V-jmRQG5hJ"
      },
      "outputs": [],
      "source": [
        "# Show the monthly trends in pickups\n",
        "\n"
      ]
    },
    {
      "cell_type": "markdown",
      "metadata": {
        "id": "23IqsgNjHNpJ"
      },
      "source": [
        "##### Financial Analysis"
      ]
    },
    {
      "cell_type": "markdown",
      "metadata": {
        "id": "fRaO-3NqHSM6"
      },
      "source": [
        "Take a look at the financial parameters like `fare_amount`, `tip_amount`, `total_amount`, and also `trip_distance`. Do these contain zero/negative values?"
      ]
    },
    {
      "cell_type": "code",
      "execution_count": null,
      "metadata": {
        "id": "Z7JUnPeRHRqF"
      },
      "outputs": [],
      "source": [
        "# Analyse the above parameters\n",
        "\n"
      ]
    },
    {
      "cell_type": "markdown",
      "metadata": {
        "id": "dbOS_-GDJTyv"
      },
      "source": [
        "Do you think it is beneficial to create a copy DataFrame leaving out the zero values from these?"
      ]
    },
    {
      "cell_type": "markdown",
      "metadata": {
        "id": "YDN14J63o9gV"
      },
      "source": [
        "**3.1.3** <font color = red>[2 marks]</font> <br>\n",
        "Filter out the zero values from the above columns.\n",
        "\n",
        "**Note:** The distance might be 0 in cases where pickup and drop is in the same zone. Do you think it is suitable to drop such cases of zero distance?"
      ]
    },
    {
      "cell_type": "code",
      "execution_count": null,
      "metadata": {
        "id": "5mk7Yp41JqJd"
      },
      "outputs": [],
      "source": [
        "# Create a df with non zero entries for the selected parameters.\n",
        "\n"
      ]
    },
    {
      "cell_type": "markdown",
      "metadata": {
        "id": "kJcgwyrtKivH"
      },
      "source": [
        "**3.1.4** <font color = red>[3 marks]</font> <br>\n",
        "Analyse the monthly revenue (`total_amount`) trend"
      ]
    },
    {
      "cell_type": "code",
      "execution_count": null,
      "metadata": {
        "id": "U_gl8rBD6ZH0"
      },
      "outputs": [],
      "source": [
        "# Group data by month and analyse monthly revenue\n",
        "\n"
      ]
    },
    {
      "cell_type": "markdown",
      "metadata": {
        "id": "3vQHosTZLalB"
      },
      "source": [
        "**3.1.5** <font color = red>[3 marks]</font> <br>\n",
        "Show the proportion of each quarter of the year in the revenue"
      ]
    },
    {
      "cell_type": "code",
      "execution_count": null,
      "metadata": {
        "id": "foV9BpFbVTbu"
      },
      "outputs": [],
      "source": [
        "# Calculate proportion of each quarter\n",
        "\n"
      ]
    },
    {
      "cell_type": "markdown",
      "metadata": {
        "id": "JncXEPjBLyHp"
      },
      "source": [
        "**3.1.6** <font color = red>[3 marks]</font> <br>\n",
        "Visualise the relationship between `trip_distance` and `fare_amount`. Also find the correlation value for these two.\n",
        "\n",
        "**Hint:** You can leave out the trips with trip_distance = 0"
      ]
    },
    {
      "cell_type": "code",
      "execution_count": null,
      "metadata": {
        "id": "-z8Fegh_P5At"
      },
      "outputs": [],
      "source": [
        "# Show how trip fare is affected by distance\n",
        "\n"
      ]
    },
    {
      "cell_type": "markdown",
      "metadata": {
        "id": "-OGNFTX4QdeS"
      },
      "source": [
        "**3.1.7** <font color = red>[5 marks]</font> <br>\n",
        "Find and visualise the correlation between:\n",
        "1. `fare_amount` and trip duration (pickup time to dropoff time)\n",
        "2. `fare_amount` and `passenger_count`\n",
        "3. `tip_amount` and `trip_distance`"
      ]
    },
    {
      "cell_type": "code",
      "execution_count": null,
      "metadata": {
        "id": "EtSNqFw19TB3"
      },
      "outputs": [],
      "source": [
        "# Show relationship between fare and trip duration\n",
        "\n"
      ]
    },
    {
      "cell_type": "code",
      "execution_count": null,
      "metadata": {
        "id": "oTrlXiBm9TB3"
      },
      "outputs": [],
      "source": [
        "# Show relationship between fare and number of passengers\n",
        "\n"
      ]
    },
    {
      "cell_type": "code",
      "execution_count": null,
      "metadata": {
        "id": "Lph7rakc9TB3"
      },
      "outputs": [],
      "source": [
        "# Show relationship between tip and trip distance\n",
        "\n"
      ]
    },
    {
      "cell_type": "markdown",
      "metadata": {
        "id": "3EL5CU47QJ5u"
      },
      "source": [
        "**3.1.8** <font color = red>[3 marks]</font> <br>\n",
        "Analyse the distribution of different payment types (`payment_type`)"
      ]
    },
    {
      "cell_type": "code",
      "execution_count": null,
      "metadata": {
        "id": "pknOiYLp9Wnd"
      },
      "outputs": [],
      "source": [
        "# Analyse the distribution of different payment types (payment_type).\n",
        "\n",
        "\n"
      ]
    },
    {
      "cell_type": "markdown",
      "metadata": {
        "id": "PxxbUmSZ9Wne"
      },
      "source": [
        "- 1= Credit card\n",
        "- 2= Cash\n",
        "- 3= No charge\n",
        "- 4= Dispute\n",
        "\n"
      ]
    },
    {
      "cell_type": "markdown",
      "metadata": {
        "id": "CVXxcSYHj9sh"
      },
      "source": [
        "##### Geographical Analysis"
      ]
    },
    {
      "cell_type": "markdown",
      "metadata": {
        "id": "tvBXuYW7kEyS"
      },
      "source": [
        "For this, you have to use the *taxi_zones.shp* file from the *taxi_zones* folder.\n",
        "\n",
        "There would be multiple files inside the folder (such as *.shx, .sbx, .sbn* etc). You do not need to import/read any of the files other than the shapefile, *taxi_zones.shp*.\n",
        "\n",
        "Do not change any folder structure - all the files need to be present inside the folder for it to work.\n",
        "\n",
        "The folder structure should look like this:\n",
        "```\n",
        "Taxi Zones\n",
        "|- taxi_zones.shp.xml\n",
        "|- taxi_zones.prj\n",
        "|- taxi_zones.sbn\n",
        "|- taxi_zones.shp\n",
        "|- taxi_zones.dbf\n",
        "|- taxi_zones.shx\n",
        "|- taxi_zones.sbx\n",
        "\n",
        " ```\n",
        "\n",
        " You only need to read the `taxi_zones.shp` file. The *shp* file will utilise the other files by itself."
      ]
    },
    {
      "cell_type": "markdown",
      "metadata": {
        "id": "hR8f8ypXUtxJ"
      },
      "source": [
        "We will use the *GeoPandas* library for geopgraphical analysis\n",
        "```\n",
        "import geopandas as gpd\n",
        "```\n",
        "\n",
        "More about geopandas and shapefiles: [About](https://geopandas.org/en/stable/about.html)\n",
        "\n",
        "\n",
        "Reading the shapefile is very similar to *Pandas*. Use `gpd.read_file()` function to load the data (*taxi_zones.shp*) as a GeoDataFrame. Documentation: [Reading and Writing Files](https://geopandas.org/en/stable/docs/user_guide/io.html)"
      ]
    },
    {
      "cell_type": "code",
      "execution_count": null,
      "metadata": {
        "id": "FJ76QD9IXNz8"
      },
      "outputs": [],
      "source": [
        "# !pip install geopandas"
      ]
    },
    {
      "cell_type": "markdown",
      "metadata": {
        "id": "q_QpZLl_WU-b"
      },
      "source": [
        "**3.1.9** <font color = red>[2 marks]</font> <br>\n",
        "Load the shapefile and display it."
      ]
    },
    {
      "cell_type": "code",
      "execution_count": null,
      "metadata": {
        "id": "hLyVd3TQkCdG"
      },
      "outputs": [],
      "source": [
        "# import geopandas as gpd\n",
        "\n",
        "\n",
        "# Read the shapefile using geopandas\n",
        "zones = # read the .shp file using gpd\n",
        "zones.head()"
      ]
    },
    {
      "cell_type": "markdown",
      "metadata": {
        "id": "8YXJMzRoWxeg"
      },
      "source": [
        "Now, if you look at the DataFrame created, you will see columns like: `OBJECTID`,`Shape_Leng`, `Shape_Area`, `zone`, `LocationID`, `borough`, `geometry`.\n",
        "<br><br>\n",
        "\n",
        "Now, the `locationID` here is also what we are using to mark pickup and drop zones in the trip records.\n",
        "\n",
        "The geometric parameters like shape length, shape area and geometry are used to plot the zones on a map.\n",
        "\n",
        "This can be easily done using the `plot()` method."
      ]
    },
    {
      "cell_type": "code",
      "execution_count": null,
      "metadata": {
        "id": "lTqdZChLYE6H"
      },
      "outputs": [],
      "source": [
        "# print(zones.info())\n",
        "# zones.plot()"
      ]
    },
    {
      "cell_type": "markdown",
      "metadata": {
        "id": "fBkWokLIY_BH"
      },
      "source": [
        "Now, you have to merge the trip records and zones data using the location IDs.\n",
        "\n"
      ]
    },
    {
      "cell_type": "markdown",
      "metadata": {
        "id": "YzUMLUjqaJLN"
      },
      "source": [
        "**3.1.10** <font color = red>[3 marks]</font> <br>\n",
        "Merge the zones data into trip data using the `locationID` and `PULocationID` columns."
      ]
    },
    {
      "cell_type": "code",
      "execution_count": null,
      "metadata": {
        "id": "A2L8hWMQaYkX"
      },
      "outputs": [],
      "source": [
        "# Merge zones and trip records using locationID and PULocationID\n",
        "\n"
      ]
    },
    {
      "cell_type": "markdown",
      "metadata": {
        "id": "9CYc36Weai5-"
      },
      "source": [
        "**3.1.11** <font color = red>[3 marks]</font> <br>\n",
        "Group data by location IDs to find the total number of trips per location ID"
      ]
    },
    {
      "cell_type": "code",
      "execution_count": null,
      "metadata": {
        "id": "XpTIaPSSbwZZ"
      },
      "outputs": [],
      "source": [
        "# Group data by location and calculate the number of trips\n",
        "\n"
      ]
    },
    {
      "cell_type": "markdown",
      "metadata": {
        "id": "As0dVJpdcK2_"
      },
      "source": [
        "**3.1.12** <font color = red>[2 marks]</font> <br>\n",
        "Now, use the grouped data to add number of trips to the GeoDataFrame.\n",
        "\n",
        "We will use this to plot a map of zones showing total trips per zone."
      ]
    },
    {
      "cell_type": "code",
      "execution_count": null,
      "metadata": {
        "id": "H9Sheg7vdZ6q"
      },
      "outputs": [],
      "source": [
        "# Merge trip counts back to the zones GeoDataFrame\n",
        "\n",
        "\n"
      ]
    },
    {
      "cell_type": "markdown",
      "metadata": {
        "id": "DsfomL6Od0_R"
      },
      "source": [
        "The next step is creating a color map (choropleth map) showing zones by the number of trips taken.\n",
        "\n",
        "Again, you can use the `zones.plot()` method for this. [Plot Method GPD](https://geopandas.org/en/stable/docs/reference/api/geopandas.GeoDataFrame.plot.html#geopandas.GeoDataFrame.plot)\n",
        "\n",
        "But first, you need to define the figure and axis for the plot.\n",
        "\n",
        "`fig, ax = plt.subplots(1, 1, figsize = (12, 10))`\n",
        "\n",
        "This function creates a figure (fig) and a single subplot (ax)\n",
        "\n",
        "---"
      ]
    },
    {
      "cell_type": "markdown",
      "metadata": {
        "id": "QgDcw8gUejVk"
      },
      "source": [
        "After setting up the figure and axis, we can proceed to plot the GeoDataFrame on this axis. This is done in the next step where we use the plot method of the GeoDataFrame.\n",
        "\n",
        "You can define the following parameters in the `zones.plot()` method:\n",
        "```\n",
        "column = '',\n",
        "ax = ax,\n",
        "legend = True,\n",
        "legend_kwds = {'label': \"label\", 'orientation': \"<horizontal/vertical>\"}\n",
        "```\n",
        "\n",
        "To display the plot, use `plt.show()`."
      ]
    },
    {
      "cell_type": "markdown",
      "metadata": {
        "id": "xFQmkJipfU1P"
      },
      "source": [
        "**3.1.13** <font color = red>[3 marks]</font> <br>\n",
        "Plot a color-coded map showing zone-wise trips"
      ]
    },
    {
      "cell_type": "code",
      "execution_count": null,
      "metadata": {
        "id": "i506kVTgefM5"
      },
      "outputs": [],
      "source": [
        "# Define figure and axis\n",
        "\n",
        "\n",
        "# Plot the map and display it\n",
        "\n"
      ]
    },
    {
      "cell_type": "code",
      "execution_count": null,
      "metadata": {
        "id": "gwDs7OaBSopP"
      },
      "outputs": [],
      "source": [
        "# can you try displaying the zones DF sorted by the number of trips?\n",
        "\n"
      ]
    },
    {
      "cell_type": "markdown",
      "metadata": {
        "id": "T1bE7-QbgSrZ"
      },
      "source": [
        "Here we have completed the temporal, financial and geographical analysis on the trip records.\n",
        "\n",
        "**Compile your findings from general analysis below:**"
      ]
    },
    {
      "cell_type": "markdown",
      "metadata": {
        "id": "7YiVFIX3gcL3"
      },
      "source": [
        "You can consider the following points:\n",
        "\n",
        "* Busiest hours, days and months\n",
        "* Trends in revenue collected\n",
        "* Trends in quarterly revenue\n",
        "* How fare depends on trip distance, trip duration and passenger counts\n",
        "* How tip amount depends on trip distance\n",
        "* Busiest zones\n"
      ]
    },
    {
      "cell_type": "markdown",
      "metadata": {
        "id": "Rv0oYLcbhOTU"
      },
      "source": [
        "#### **3.2** Detailed EDA: Insights and Strategies\n",
        "<font color = red>[50 marks]</font> <br>"
      ]
    },
    {
      "cell_type": "markdown",
      "metadata": {
        "id": "xWJk-CGihnU1"
      },
      "source": [
        "Having performed basic analyses for finding trends and patterns, we will now move on to some detailed analysis focussed on operational efficiency, pricing strategies, and customer experience."
      ]
    },
    {
      "cell_type": "markdown",
      "metadata": {
        "id": "XBY2Y4Jrz9IQ"
      },
      "source": [
        "##### Operational Efficiency"
      ]
    },
    {
      "cell_type": "markdown",
      "metadata": {
        "id": "BXU8Q3sGjGnE"
      },
      "source": [
        "Analyze variations by time of day and location to identify bottlenecks or inefficiencies in routes"
      ]
    },
    {
      "cell_type": "markdown",
      "metadata": {
        "id": "H97VPqVdq7Lz"
      },
      "source": [
        "**3.2.1** <font color = red>[3 marks]</font> <br>\n",
        "Identify slow routes by calculating the average time taken by cabs to get from one zone to another at different hours of the day."
      ]
    },
    {
      "cell_type": "markdown",
      "metadata": {
        "id": "NzTRZyw2q9IR"
      },
      "source": [
        "Speed on a route *X* for hour *Y* = (*distance of the route X / average trip duration for hour Y*)"
      ]
    },
    {
      "cell_type": "code",
      "execution_count": null,
      "metadata": {
        "id": "Ovf-1vIyhk7E"
      },
      "outputs": [],
      "source": [
        "# Find routes which have the slowest speeds at different times of the day\n",
        "\n"
      ]
    },
    {
      "cell_type": "markdown",
      "metadata": {
        "id": "NmRPbH3rm2Ub"
      },
      "source": [
        "How does identifying high-traffic, high-demand routes help us?"
      ]
    },
    {
      "cell_type": "markdown",
      "metadata": {
        "id": "7-w-OCB_nLmb"
      },
      "source": [
        "**3.2.2** <font color = red>[3 marks]</font> <br>\n",
        "Calculate the number of trips at each hour of the day and visualise them. Find the busiest hour and show the number of trips for that hour."
      ]
    },
    {
      "cell_type": "code",
      "execution_count": null,
      "metadata": {
        "id": "BEbRCT31nLUw"
      },
      "outputs": [],
      "source": [
        "# Visualise the number of trips per hour and find the busiest hour\n",
        "\n"
      ]
    },
    {
      "cell_type": "markdown",
      "metadata": {
        "id": "8FuSAA0zn3F4"
      },
      "source": [
        "Remember, we took a fraction of trips. To find the actual number, you have to scale the number up by the sampling ratio."
      ]
    },
    {
      "cell_type": "markdown",
      "metadata": {
        "id": "bapn075QrKaz"
      },
      "source": [
        "**3.2.3** <font color = red>[2 mark]</font> <br>\n",
        "Find the actual number of trips in the five busiest hours"
      ]
    },
    {
      "cell_type": "code",
      "execution_count": null,
      "metadata": {
        "id": "79Hy-YWOoapQ"
      },
      "outputs": [],
      "source": [
        "# Scale up the number of trips\n",
        "\n",
        "# Fill in the value of your sampling fraction and use that to scale up the numbers\n",
        "sample_fraction =\n",
        "\n"
      ]
    },
    {
      "cell_type": "markdown",
      "metadata": {
        "id": "74fhoLxEoaTP"
      },
      "source": [
        "**3.2.4** <font color = red>[3 marks]</font> <br>\n",
        "Compare hourly traffic pattern on weekdays. Also compare for weekend."
      ]
    },
    {
      "cell_type": "code",
      "execution_count": null,
      "metadata": {
        "id": "sYMmCQHwpFRY"
      },
      "outputs": [],
      "source": [
        "# Compare traffic trends for the week days and weekends\n",
        "\n"
      ]
    },
    {
      "cell_type": "markdown",
      "metadata": {
        "id": "tWeuAulNpSOL"
      },
      "source": [
        "What can you infer from the above patterns? How will finding busy and quiet hours for each day help us?"
      ]
    },
    {
      "cell_type": "markdown",
      "metadata": {
        "id": "-S90VG94rGUm"
      },
      "source": [
        "**3.2.5** <font color = red>[3 marks]</font> <br>\n",
        "Identify top 10 zones with high hourly pickups. Do the same for hourly dropoffs. Show pickup and dropoff trends in these zones."
      ]
    },
    {
      "cell_type": "code",
      "execution_count": null,
      "metadata": {
        "id": "-nJGifJFrslP"
      },
      "outputs": [],
      "source": [
        "# Find top 10 pickup and dropoff zones\n",
        "\n"
      ]
    },
    {
      "cell_type": "markdown",
      "metadata": {
        "id": "okkQ17VssMqP"
      },
      "source": [
        "**3.2.6** <font color = red>[3 marks]</font> <br>\n",
        "Find the ratio of pickups and dropoffs in each zone. Display the 10 highest (pickup/drop) and 10 lowest (pickup/drop) ratios."
      ]
    },
    {
      "cell_type": "code",
      "execution_count": null,
      "metadata": {
        "id": "Qbuc8y-KgeDR"
      },
      "outputs": [],
      "source": [
        "# Find the top 10 and bottom 10 pickup/dropoff ratios\n",
        "\n"
      ]
    },
    {
      "cell_type": "markdown",
      "metadata": {
        "id": "2j1ukv-rrxny"
      },
      "source": [
        "**3.2.7** <font color = red>[3 marks]</font> <br>\n",
        "Identify zones with high pickup and dropoff traffic during night hours (11PM to 5AM)"
      ]
    },
    {
      "cell_type": "code",
      "execution_count": null,
      "metadata": {
        "id": "ve65f0GltyE_"
      },
      "outputs": [],
      "source": [
        "# During night hours (11pm to 5am) find the top 10 pickup and dropoff zones\n",
        "# Note that the top zones should be of night hours and not the overall top zones\n",
        "\n"
      ]
    },
    {
      "cell_type": "markdown",
      "metadata": {
        "id": "OtPTHyhTNnNL"
      },
      "source": [
        "Now, let us find the revenue share for the night time hours and the day time hours. After this, we will move to deciding a pricing strategy.\n",
        "\n",
        "**3.2.8** <font color = red>[2 marks]</font> <br>\n",
        "Find the revenue share for nighttime and daytime hours."
      ]
    },
    {
      "cell_type": "code",
      "execution_count": null,
      "metadata": {
        "id": "0ohk4curNl3g"
      },
      "outputs": [],
      "source": [
        "# Filter for night hours (11 PM to 5 AM)\n",
        "\n"
      ]
    },
    {
      "cell_type": "markdown",
      "metadata": {
        "id": "nG77smP4tyWu"
      },
      "source": [
        "##### Pricing Strategy"
      ]
    },
    {
      "cell_type": "markdown",
      "metadata": {
        "id": "ciF6eThit5IH"
      },
      "source": [
        "**3.2.9** <font color = red>[2 marks]</font> <br>\n",
        "For the different passenger counts, find the average fare per mile per passenger.\n",
        "\n",
        "For instance, suppose the average fare per mile for trips with 3 passengers is 3 USD/mile, then the fare per mile per passenger will be 1 USD/mile."
      ]
    },
    {
      "cell_type": "code",
      "execution_count": null,
      "metadata": {
        "id": "AO7MIuXd9C16"
      },
      "outputs": [],
      "source": [
        "# Analyse the fare per mile per passenger for different passenger counts\n",
        "\n",
        "\n"
      ]
    },
    {
      "cell_type": "markdown",
      "metadata": {
        "id": "WZrN-cxR9DIb"
      },
      "source": [
        "**3.2.10** <font color = red>[3 marks]</font> <br>\n",
        "Find the average fare per mile by hours of the day and by days of the week"
      ]
    },
    {
      "cell_type": "code",
      "execution_count": null,
      "metadata": {
        "id": "hUzCJm2y9SOq"
      },
      "outputs": [],
      "source": [
        "# Compare the average fare per mile for different days and for different times of the day\n",
        "\n"
      ]
    },
    {
      "cell_type": "markdown",
      "metadata": {
        "id": "211WFkhHDUMG"
      },
      "source": [
        "**3.2.11** <font color = red>[3 marks]</font> <br>\n",
        "Analyse the average fare per mile for the different vendors for different hours of the day"
      ]
    },
    {
      "cell_type": "code",
      "execution_count": null,
      "metadata": {
        "id": "my3cGHL1DU04"
      },
      "outputs": [],
      "source": [
        "# Compare fare per mile for different vendors\n",
        "\n"
      ]
    },
    {
      "cell_type": "markdown",
      "metadata": {
        "id": "FH9YJdodtDk4"
      },
      "source": [
        "**3.2.12** <font color = red>[5 marks]</font> <br>\n",
        "Compare the fare rates of the different vendors in a tiered fashion. Analyse the average fare per mile for distances upto 2 miles. Analyse the fare per mile for distances from 2 to 5 miles. And then for distances more than 5 miles.\n"
      ]
    },
    {
      "cell_type": "code",
      "execution_count": null,
      "metadata": {
        "id": "TFRPgO7mgEeT"
      },
      "outputs": [],
      "source": [
        "# Defining distance tiers\n",
        "\n"
      ]
    },
    {
      "cell_type": "markdown",
      "metadata": {
        "id": "M2o6xY0Yh6Gv"
      },
      "source": [
        "##### Customer Experience and Other Factors"
      ]
    },
    {
      "cell_type": "markdown",
      "metadata": {
        "id": "VSneN-rCh6Gw"
      },
      "source": [
        "**3.2.13** <font color = red>[5 marks]</font> <br>\n",
        "Analyse average tip percentages based on trip distances, passenger counts and time of pickup. What factors lead to low tip percentages?"
      ]
    },
    {
      "cell_type": "code",
      "execution_count": null,
      "metadata": {
        "id": "LO5WazK8h6Gx"
      },
      "outputs": [],
      "source": [
        "#  Analyze tip percentages based on distances, passenger counts and pickup times\n",
        "\n"
      ]
    },
    {
      "cell_type": "markdown",
      "metadata": {
        "id": "wQAIQsrcLm6X"
      },
      "source": [
        "Additional analysis [optional]: Let's try comparing cases of low tips with cases of high tips to find out if we find a clear aspect that drives up the tipping behaviours"
      ]
    },
    {
      "cell_type": "code",
      "execution_count": null,
      "metadata": {
        "collapsed": true,
        "id": "QYoUed6Dn6YW"
      },
      "outputs": [],
      "source": [
        "# Compare trips with tip percentage < 10% to trips with tip percentage > 25%\n",
        "\n"
      ]
    },
    {
      "cell_type": "markdown",
      "metadata": {
        "id": "0UjvGTRKh6Gx"
      },
      "source": [
        "**3.2.14** <font color = red>[3 marks]</font> <br>\n",
        "Analyse the variation of passenger count across hours and days of the week."
      ]
    },
    {
      "cell_type": "code",
      "execution_count": null,
      "metadata": {
        "id": "rFP0DNRvh6Gx"
      },
      "outputs": [],
      "source": [
        "# See how passenger count varies across hours and days\n",
        "\n",
        "\n"
      ]
    },
    {
      "cell_type": "markdown",
      "metadata": {
        "id": "zWKLLlb7h6Gy"
      },
      "source": [
        "**3.2.15** <font color = red>[2 marks]</font> <br>\n",
        "Analyse the variation of passenger counts across zones"
      ]
    },
    {
      "cell_type": "code",
      "execution_count": null,
      "metadata": {
        "id": "30h27Uz2h6Gy"
      },
      "outputs": [],
      "source": [
        "# How does passenger count vary across zones\n",
        "\n"
      ]
    },
    {
      "cell_type": "code",
      "execution_count": null,
      "metadata": {
        "id": "C3I0AfOkvBWA"
      },
      "outputs": [],
      "source": [
        "# For a more detailed analysis, we can use the zones_with_trips GeoDataFrame\n",
        "# Create a new column for the average passenger count in each zone.\n",
        "\n"
      ]
    },
    {
      "cell_type": "markdown",
      "metadata": {
        "id": "rw0j5Z-1h6Gz"
      },
      "source": [
        "Find out how often surcharges/extra charges are applied to understand their prevalance"
      ]
    },
    {
      "cell_type": "markdown",
      "metadata": {
        "id": "x9IHjHFBx6Ye"
      },
      "source": [
        "**3.2.16** <font color = red>[5 marks]</font> <br>\n",
        "Analyse the pickup/dropoff zones or times when extra charges are applied more frequently"
      ]
    },
    {
      "cell_type": "code",
      "execution_count": null,
      "metadata": {
        "id": "nKbXwZJwh6Gz"
      },
      "outputs": [],
      "source": [
        "# How often is each surcharge applied?\n",
        "\n"
      ]
    },
    {
      "cell_type": "markdown",
      "metadata": {
        "id": "bkyc9q40Cts-"
      },
      "source": [
        "## **4** Conclusion\n",
        "<font color = red>[15 marks]</font> <br>"
      ]
    },
    {
      "cell_type": "markdown",
      "metadata": {
        "id": "Z5yCODI-C6yR"
      },
      "source": [
        "### **4.1** Final Insights and Recommendations\n",
        "<font color = red>[15 marks]</font> <br>\n",
        "\n",
        "Conclude your analyses here. Include all the outcomes you found based on the analysis.\n",
        "\n",
        "Based on the insights, frame a concluding story explaining suitable parameters such as location, time of the day, day of the week etc. to be kept in mind while devising a strategy to meet customer demand and optimise supply."
      ]
    },
    {
      "cell_type": "markdown",
      "metadata": {
        "id": "0dy8J-C8jJjk"
      },
      "source": [
        "**4.1.1** <font color = red>[5 marks]</font> <br>\n",
        "Recommendations to optimize routing and dispatching based on demand patterns and operational inefficiencies"
      ]
    },
    {
      "cell_type": "code",
      "execution_count": null,
      "metadata": {
        "id": "J03px17x_rD9"
      },
      "outputs": [],
      "source": []
    },
    {
      "cell_type": "markdown",
      "metadata": {
        "id": "AaLgTWxpjt7h"
      },
      "source": [
        "**4.1.2** <font color = red>[5 marks]</font> <br>\n",
        "\n",
        "Suggestions on strategically positioning cabs across different zones to make best use of insights uncovered by analysing trip trends across time, days and months."
      ]
    },
    {
      "cell_type": "code",
      "execution_count": null,
      "metadata": {
        "id": "c8ZbTIF7_rsN"
      },
      "outputs": [],
      "source": []
    },
    {
      "cell_type": "markdown",
      "metadata": {
        "id": "mUU4mn50jMZy"
      },
      "source": [
        "**4.1.3** <font color = red>[5 marks]</font> <br>\n",
        "Propose data-driven adjustments to the pricing strategy to maximize revenue while maintaining competitive rates with other vendors."
      ]
    },
    {
      "cell_type": "code",
      "execution_count": null,
      "metadata": {
        "id": "SXErHFjx_sGN"
      },
      "outputs": [],
      "source": []
    }
  ],
  "metadata": {
    "colab": {
      "collapsed_sections": [
        "x2hakCCy6wXI",
        "2jyQyYIpCztl",
        "gPpJyFFNffcL",
        "a4N3PvkSTwcN",
        "MbGMjArkiXjL",
        "23IqsgNjHNpJ",
        "CVXxcSYHj9sh",
        "Rv0oYLcbhOTU",
        "XBY2Y4Jrz9IQ",
        "nG77smP4tyWu",
        "M2o6xY0Yh6Gv",
        "bkyc9q40Cts-",
        "Z5yCODI-C6yR"
      ],
      "provenance": [],
      "include_colab_link": true
    },
    "kernelspec": {
      "display_name": "Python 3",
      "name": "python3"
    },
    "language_info": {
      "name": "python"
    }
  },
  "nbformat": 4,
  "nbformat_minor": 0
}